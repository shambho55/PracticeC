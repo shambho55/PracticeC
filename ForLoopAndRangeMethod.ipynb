{
 "cells": [
  {
   "cell_type": "code",
   "execution_count": 2,
   "id": "fc174ea9",
   "metadata": {},
   "outputs": [
    {
     "name": "stdout",
     "output_type": "stream",
     "text": [
      "a\n",
      "b\n",
      "c\n",
      "d\n"
     ]
    }
   ],
   "source": [
    "s = 'abcd'\n",
    "for i in s:\n",
    "    print(i)"
   ]
  },
  {
   "cell_type": "code",
   "execution_count": 4,
   "id": "ea2a14f8",
   "metadata": {
    "scrolled": true
   },
   "outputs": [
    {
     "name": "stdout",
     "output_type": "stream",
     "text": [
      "4\n",
      "0\n",
      "1\n",
      "2\n",
      "3\n"
     ]
    }
   ],
   "source": [
    "# range function takes first start which number to start at and then stop where to end but it print a number less than which u entered in stop and then step which is gap between each number \n",
    "n = int(input())\n",
    "for i in range(0,n,1):\n",
    "    print(i)"
   ]
  },
  {
   "cell_type": "code",
   "execution_count": 9,
   "id": "899e9212",
   "metadata": {},
   "outputs": [
    {
     "name": "stdout",
     "output_type": "stream",
     "text": [
      "5\n",
      "0\n",
      "1\n",
      "2\n",
      "3\n",
      "4\n",
      "5\n"
     ]
    }
   ],
   "source": [
    "# if only one argument is entered in then it's treated as stop which number loop should end , By Default start and step are taken as 1\n",
    "n = int(input())\n",
    "for i in range(n + 1):\n",
    "    print(i)"
   ]
  },
  {
   "cell_type": "code",
   "execution_count": 12,
   "id": "595bf635",
   "metadata": {},
   "outputs": [
    {
     "name": "stdout",
     "output_type": "stream",
     "text": [
      "5\n"
     ]
    }
   ],
   "source": [
    "# if two arguments are entered in range then they are treated as start and stop , AND step is taken to be 1 by default\n",
    "n =  int(input())\n",
    "for i in range(n,1):\n",
    "    print(i)\n",
    "    #it will not print anything as we are stating to print from n to 1 with an increment of 1 which is not possible"
   ]
  },
  {
   "cell_type": "code",
   "execution_count": 13,
   "id": "315c4f87",
   "metadata": {},
   "outputs": [
    {
     "name": "stdout",
     "output_type": "stream",
     "text": [
      "5\n",
      "5\n",
      "4\n",
      "3\n",
      "2\n",
      "1\n"
     ]
    }
   ],
   "source": [
    "n = int(input())\n",
    "for i in range(n ,0 , -1):\n",
    "    print(i)"
   ]
  },
  {
   "cell_type": "code",
   "execution_count": 15,
   "id": "b6fbbe9c",
   "metadata": {},
   "outputs": [
    {
     "name": "stdout",
     "output_type": "stream",
     "text": [
      "1\n",
      "10\n",
      "3\n",
      "6\n",
      "9\n"
     ]
    }
   ],
   "source": [
    "# a < b not a good method since the loop is iterating for every digit\n",
    "a = int(input())\n",
    "b = int(input())\n",
    "\n",
    "for i in range(a, b + 1, 1):\n",
    "    if i % 3 == 0:\n",
    "        print(i)"
   ]
  },
  {
   "cell_type": "code",
   "execution_count": 19,
   "id": "bcabd0d7",
   "metadata": {},
   "outputs": [
    {
     "name": "stdout",
     "output_type": "stream",
     "text": [
      "4\n",
      "6\n",
      "6\n"
     ]
    }
   ],
   "source": [
    "# a < b\n",
    "a = int(input())\n",
    "b = int(input())\n",
    "\n",
    "if a % 3 == 0:\n",
    "    s = a\n",
    "elif a % 3 == 1:\n",
    "    s = a + 2\n",
    "else :\n",
    "    s = a + 1\n",
    "for i in range(s, b + 1,3):\n",
    "    print(i)"
   ]
  },
  {
   "cell_type": "code",
   "execution_count": 25,
   "id": "ffbbfeb7",
   "metadata": {},
   "outputs": [
    {
     "name": "stdout",
     "output_type": "stream",
     "text": [
      "11\n",
      "prime\n"
     ]
    }
   ],
   "source": [
    "#check whether a number is prime or not using for loops\n",
    "n = int(input())\n",
    "flag = False\n",
    "for d in range(2, n, 1):\n",
    "    if n % d == 0:\n",
    "        flag = True\n",
    "if flag: \n",
    "    print('not prime')\n",
    "else :\n",
    "    print('prime')"
   ]
  },
  {
   "cell_type": "code",
   "execution_count": 29,
   "id": "8dbc17a7",
   "metadata": {},
   "outputs": [
    {
     "name": "stdout",
     "output_type": "stream",
     "text": [
      "4\n",
      "   1\n",
      "  232\n",
      " 34543\n",
      "4567654\n"
     ]
    }
   ],
   "source": [
    "# pattern using for loops\n",
    "n = int(input())\n",
    "for i in range(1, n + 1):\n",
    "    for s in range(n - i):\n",
    "        print(' ', end = '')\n",
    "    for j in range(i, 2 * i):\n",
    "        print(j, end = '')\n",
    "    for j in range(2 * i - 2, i - 1, -1):\n",
    "        print(j, end = '')\n",
    "    print()"
   ]
  },
  {
   "cell_type": "markdown",
   "id": "ea0bd168",
   "metadata": {},
   "source": [
    "### Break Keyword"
   ]
  },
  {
   "cell_type": "code",
   "execution_count": 4,
   "id": "81b2285c",
   "metadata": {},
   "outputs": [
    {
     "name": "stdout",
     "output_type": "stream",
     "text": [
      "89454612\n",
      "not prime\n"
     ]
    }
   ],
   "source": [
    "n = int(input())\n",
    "d = 2\n",
    "flag = False\n",
    "while d < n:\n",
    "    if n % d == 0:\n",
    "        flag = True\n",
    "        break\n",
    "    d = d + 1\n",
    "if flag :\n",
    "    print('not prime')\n",
    "else :\n",
    "    print('prime')\n",
    "        "
   ]
  },
  {
   "cell_type": "code",
   "execution_count": 3,
   "id": "9e8ae573",
   "metadata": {},
   "outputs": [
    {
     "name": "stdout",
     "output_type": "stream",
     "text": [
      "4\n",
      "2\n",
      "3\n"
     ]
    }
   ],
   "source": [
    "n = int(input())\n",
    "k = 2\n",
    "while k < n:\n",
    "    d = 2\n",
    "    flag = False\n",
    "    while d < k:\n",
    "        if k % d == 0:\n",
    "            flag = True\n",
    "            break\n",
    "        d = d + 1\n",
    "    if not(flag):\n",
    "        print(k)\n",
    "    k = k + 1"
   ]
  },
  {
   "cell_type": "code",
   "execution_count": 12,
   "id": "3a70effd",
   "metadata": {},
   "outputs": [
    {
     "name": "stdout",
     "output_type": "stream",
     "text": [
      "4\n",
      "2\n",
      "3\n"
     ]
    }
   ],
   "source": [
    "n = int(input())\n",
    "for d in range(2 , n):\n",
    "    flag = False\n",
    "    for k in range(2 , d):\n",
    "        if d % k == 0:\n",
    "            flag = True\n",
    "            break\n",
    "    if not(flag):\n",
    "        print(d)\n",
    "        "
   ]
  },
  {
   "cell_type": "markdown",
   "id": "7df36f4a",
   "metadata": {},
   "source": [
    "### Else Keyword With LOOPs only in Python"
   ]
  },
  {
   "cell_type": "code",
   "execution_count": 14,
   "id": "f046973a",
   "metadata": {},
   "outputs": [
    {
     "name": "stdout",
     "output_type": "stream",
     "text": [
      "1\n",
      "2\n",
      "3\n",
      "4\n",
      "5\n",
      "6\n",
      "7\n",
      "8\n",
      "9\n",
      "This will be executed once at the end\n"
     ]
    }
   ],
   "source": [
    "for i in range(1 , 10):\n",
    "    print(i)\n",
    "else :\n",
    "    print('This will be executed once at the end')"
   ]
  },
  {
   "cell_type": "code",
   "execution_count": 16,
   "id": "033381e8",
   "metadata": {},
   "outputs": [
    {
     "name": "stdout",
     "output_type": "stream",
     "text": [
      "1\n",
      "2\n",
      "3\n",
      "4\n"
     ]
    }
   ],
   "source": [
    "# if we use break keyword in loops then else code will not be executed\n",
    "for i in range(1 , 10):\n",
    "    if i == 5:\n",
    "        break\n",
    "    print(i)\n",
    "else :\n",
    "    print('This will not be executed at the end')"
   ]
  },
  {
   "cell_type": "code",
   "execution_count": 24,
   "id": "b58f2f5e",
   "metadata": {},
   "outputs": [
    {
     "name": "stdout",
     "output_type": "stream",
     "text": [
      "12345\n",
      "prime\n"
     ]
    }
   ],
   "source": [
    "n = int(input())\n",
    "for k in range(2 , n):\n",
    "    for d in range(2 , k):\n",
    "        if k % d == 0 :\n",
    "            break \n",
    "    else :\n",
    "        print(k)"
   ]
  },
  {
   "cell_type": "markdown",
   "id": "b764b19a",
   "metadata": {},
   "source": [
    "### Continue Keyword"
   ]
  },
  {
   "cell_type": "code",
   "execution_count": 27,
   "id": "6c120994",
   "metadata": {},
   "outputs": [
    {
     "name": "stdout",
     "output_type": "stream",
     "text": [
      "45\n",
      "2\n",
      "4\n",
      "6\n",
      "8\n",
      "10\n",
      "12\n",
      "16\n",
      "18\n",
      "20\n",
      "22\n",
      "24\n",
      "26\n",
      "30\n",
      "32\n",
      "34\n",
      "36\n",
      "38\n",
      "40\n",
      "44\n"
     ]
    }
   ],
   "source": [
    "# by using Continue Keyword skipping the i-th iteration\n",
    "n = int(input())\n",
    "for i in range(2, n + 1 , 2):\n",
    "    if i % 7 == 0 :\n",
    "        continue\n",
    "    print(i)\n"
   ]
  },
  {
   "cell_type": "code",
   "execution_count": 33,
   "id": "26789e6b",
   "metadata": {},
   "outputs": [
    {
     "name": "stdout",
     "output_type": "stream",
     "text": [
      "1\n"
     ]
    }
   ],
   "source": [
    "# while loops with continue problem becoming careful while incrementing\n",
    "n = int(input())\n",
    "i = 0\n",
    "while i <= n:\n",
    "    if i % 7 == 0:\n",
    "        #imp \n",
    "        i = i + 2\n",
    "        continue\n",
    "    print(i)\n",
    "    i = i + 2\n",
    "    "
   ]
  },
  {
   "cell_type": "markdown",
   "id": "c0d9600b",
   "metadata": {},
   "source": [
    "### Print Number Pyramid"
   ]
  },
  {
   "cell_type": "code",
   "execution_count": 31,
   "id": "acad320c",
   "metadata": {},
   "outputs": [
    {
     "name": "stdout",
     "output_type": "stream",
     "text": [
      "6\n",
      "123456\n",
      " 23456\n",
      "  3456\n",
      "   456\n",
      "    56\n",
      "     6\n",
      "    56\n",
      "   456\n",
      "  3456\n",
      " 23456\n",
      "123456\n"
     ]
    }
   ],
   "source": [
    "n = int(input())\n",
    "for i in range(1, n ):\n",
    "    p = i\n",
    "    k = n\n",
    "    for spaces in range(1, i):\n",
    "        print(' ', end = '')\n",
    "    for j in range(1 , n - i + 2):\n",
    "        print(p, end = '')\n",
    "        p = p + 1\n",
    "    print()\n",
    "for i in range(1 , n + 1):\n",
    "    for blank in range(1, n - i + 1):\n",
    "        print(' ', end = '')\n",
    "    l = n - i + 1\n",
    "    for num in range(1 , i + 1 ):\n",
    "        print(l, end = '')\n",
    "        l = l + 1\n",
    "    print()"
   ]
  },
  {
   "cell_type": "markdown",
   "id": "2989cc08",
   "metadata": {},
   "source": [
    "### Diamond of Stars Using For Loops"
   ]
  },
  {
   "cell_type": "code",
   "execution_count": 41,
   "id": "30345f33",
   "metadata": {},
   "outputs": [
    {
     "name": "stdout",
     "output_type": "stream",
     "text": [
      "5\n",
      "  *\n",
      " ***\n",
      "*****\n",
      " ***\n",
      "  *\n"
     ]
    }
   ],
   "source": [
    "n = int(input())\n",
    "l = n // 2\n",
    "m = n - l\n",
    "for i in range(1 , m + 1):\n",
    "    for spaces in range(1 , m - i + 1):\n",
    "        print(' ', end = '')\n",
    "    for stars in range(1 , 2 * i):\n",
    "        print('*', end = '')\n",
    "    print()\n",
    "for i in range(l ,0 , -1):\n",
    "    for blank in range(1 , l - i + 2):\n",
    "        print(' ', end = '')\n",
    "    for st in range(1 , 2 * i ):\n",
    "        print('*', end = '')\n",
    "    print()"
   ]
  },
  {
   "cell_type": "markdown",
   "id": "d42a1e06",
   "metadata": {},
   "source": [
    "### Pattern"
   ]
  },
  {
   "cell_type": "code",
   "execution_count": 12,
   "id": "4001fed7",
   "metadata": {},
   "outputs": [
    {
     "name": "stdout",
     "output_type": "stream",
     "text": [
      "5\n",
      "1 2 3 4 5 \n",
      "\n",
      "\n",
      "\n",
      "\n"
     ]
    }
   ],
   "source": [
    "n = int(input())\n",
    "i = 1\n",
    "p = 1\n",
    "k = n\n",
    "l = n - 1\n",
    "while i <= n:\n",
    "    j = 1\n",
    "    while j <= n:\n",
    "            if k - i == l:\n",
    "                print(p, end = ' ')\n",
    "            p = p + 1\n",
    "            j = j + 1\n",
    "    k = k - 1\n",
    "    l = l - 1\n",
    "    i = i + 1\n",
    "    print()"
   ]
  },
  {
   "cell_type": "markdown",
   "id": "eb428a64",
   "metadata": {},
   "source": [
    "### Rectangular Pattern"
   ]
  },
  {
   "cell_type": "code",
   "execution_count": 61,
   "id": "e7bef742",
   "metadata": {},
   "outputs": [
    {
     "name": "stdout",
     "output_type": "stream",
     "text": [
      "4\n",
      "4\n",
      "43\n",
      "432\n",
      "4321\n"
     ]
    }
   ],
   "source": [
    "n = int(input())\n",
    "for i in range(1 , n + 1):\n",
    "    p = n\n",
    "    for j in range(1 , i + 1):\n",
    "        print(p, end = '')\n",
    "        p = p - 1\n",
    "    print()"
   ]
  },
  {
   "cell_type": "raw",
   "id": "ecaaba10",
   "metadata": {},
   "source": [
    "4444444 \n",
    "4333334\n",
    "4322234\n",
    "4321234\n",
    "4322234\n",
    "4333334  \n",
    "4444444"
   ]
  },
  {
   "cell_type": "raw",
   "id": "011759f7",
   "metadata": {},
   "source": [
    "555555555\n",
    "544444445\n",
    "543333345\n",
    "543222345\n",
    "543212345\n",
    "543222345\n",
    "543333345\n",
    "544444445\n",
    "555555555\n"
   ]
  },
  {
   "cell_type": "raw",
   "id": "397ff843",
   "metadata": {},
   "source": [
    "222\n",
    "212\n",
    "222"
   ]
  },
  {
   "cell_type": "code",
   "execution_count": 215,
   "id": "aafb38fd",
   "metadata": {},
   "outputs": [
    {
     "name": "stdout",
     "output_type": "stream",
     "text": [
      "2\n",
      "222\n",
      "212\n",
      "222\n"
     ]
    }
   ],
   "source": [
    "n = int(input())\n",
    "for i in range(n):\n",
    "    for j in range(i + 1):\n",
    "        print(n - j, end = '')\n",
    "    for j in range(i + 1, 2 * n - i - 2):\n",
    "        print(n - i, end = '')\n",
    "    for j in range(2 * n - i - 2,2 * n - 1):\n",
    "        if i == j:\n",
    "            print('', end = '')\n",
    "        else:\n",
    "            print(j - n + 2, end = '')\n",
    "    print()\n",
    "for i in range(n - 1):\n",
    "    for j in range(n - i - 1):\n",
    "        print(n - j, end = '')\n",
    "    for j in range(n - i - 1, n + i):\n",
    "        print(i + 2 , end = '')\n",
    "    for j in range(n + i, 2 * n - 1):\n",
    "        print(j - n + 2,end = '')\n",
    "    print()"
   ]
  },
  {
   "cell_type": "code",
   "execution_count": null,
   "id": "7be722ed",
   "metadata": {},
   "outputs": [],
   "source": []
  }
 ],
 "metadata": {
  "kernelspec": {
   "display_name": "Python 3",
   "language": "python",
   "name": "python3"
  },
  "language_info": {
   "codemirror_mode": {
    "name": "ipython",
    "version": 3
   },
   "file_extension": ".py",
   "mimetype": "text/x-python",
   "name": "python",
   "nbconvert_exporter": "python",
   "pygments_lexer": "ipython3",
   "version": "3.8.8"
  }
 },
 "nbformat": 4,
 "nbformat_minor": 5
}
