{
 "cells": [
  {
   "cell_type": "code",
   "execution_count": 5,
   "id": "a1e007e0",
   "metadata": {},
   "outputs": [],
   "source": [
    "class BinaryTreeNode:\n",
    "    def __init__(self,data):\n",
    "        self.data = data\n",
    "        self.left = None\n",
    "        self.right = None"
   ]
  },
  {
   "cell_type": "code",
   "execution_count": 6,
   "id": "137f63fb",
   "metadata": {},
   "outputs": [],
   "source": [
    "def printTree(root):\n",
    "    if root is None:\n",
    "        return\n",
    "    print(root.data)\n",
    "    printTree(root.left)\n",
    "    printTree(root.right)"
   ]
  },
  {
   "cell_type": "code",
   "execution_count": 7,
   "id": "0f2b7268",
   "metadata": {},
   "outputs": [],
   "source": [
    "def printTreeDetailed(root):\n",
    "    if root is None:\n",
    "        return\n",
    "    print(root.data,end = ':')\n",
    "    if root.left is not None:\n",
    "        print(\"L\",root.left.data,end = ',')\n",
    "    if root.right is not None:\n",
    "        print(\"R\",root.right.data, end = '')\n",
    "    print()\n",
    "    printTreeDetailed(root.left)\n",
    "    printTreeDetailed(root.right)"
   ]
  },
  {
   "cell_type": "code",
   "execution_count": 8,
   "id": "579e71e1",
   "metadata": {},
   "outputs": [],
   "source": [
    "def preOrderDetailed(root):\n",
    "    if root is None:\n",
    "        return\n",
    "    print(root.data,end = ':')\n",
    "    if root.left is not None:\n",
    "        print('L',root.left.data,end = ',')\n",
    "    if root.right is not None:\n",
    "        print('R',root.right.data,end = '')\n",
    "    print()\n",
    "    preOrderDetailed(root.left)\n",
    "    preOrderDetailed(root.right)"
   ]
  },
  {
   "cell_type": "code",
   "execution_count": 9,
   "id": "a95eb9ec",
   "metadata": {},
   "outputs": [],
   "source": [
    "def postOrderDetailed(root):\n",
    "    if root is None:\n",
    "        return\n",
    "    postOrderDetailed(root.left)\n",
    "    postOrderDetailed(root.right)\n",
    "    print(root.data, end = ':')\n",
    "    if root.left is not None:\n",
    "        print('L',root.left.data,end = ',')\n",
    "    if root.right is not None:\n",
    "        print('R',root.right.data,end = '')\n",
    "    print()"
   ]
  },
  {
   "cell_type": "code",
   "execution_count": 10,
   "id": "1f6644b2",
   "metadata": {},
   "outputs": [],
   "source": [
    "def inOrderDetailed(root):\n",
    "    if root is None:\n",
    "        return\n",
    "    inOrderDetailed(root.left)\n",
    "    print(root.data,end = ':')\n",
    "    if root.left is not None:\n",
    "        print('L',root.left.data,end = ',')\n",
    "    if root.right is not None:\n",
    "        print('R',root.right.data,end = ' ')\n",
    "    print()\n",
    "    inOrderDetailed(root.right)\n",
    "    "
   ]
  },
  {
   "cell_type": "code",
   "execution_count": 11,
   "id": "bd4dc58b",
   "metadata": {},
   "outputs": [],
   "source": [
    "def treeInput():\n",
    "    rootData = int(input())\n",
    "    if rootData == -1:\n",
    "        return None\n",
    "    root = BinaryTreeNode(rootData)\n",
    "    leftTree = treeInput()\n",
    "    rightTree = treeInput()\n",
    "    root.left = leftTree\n",
    "    root.right = rightTree\n",
    "    return root\n",
    "    \n",
    "    "
   ]
  },
  {
   "cell_type": "code",
   "execution_count": 12,
   "id": "abf5706f",
   "metadata": {},
   "outputs": [],
   "source": [
    "def numNodes(root):\n",
    "    if root is None:\n",
    "        return 0\n",
    "    leftCount = numNodes(root.left)\n",
    "    rightCount = numNodes(root.right)\n",
    "    return 1 + leftCount + rightCount"
   ]
  },
  {
   "cell_type": "code",
   "execution_count": 13,
   "id": "cc1aba4b",
   "metadata": {},
   "outputs": [],
   "source": [
    "def getSum(root):\n",
    "    if root is None:\n",
    "        return 0\n",
    "    leftSum = getSum(root.left)\n",
    "    rightSum = getSum(root.right)\n",
    "    return root.data + leftSum + rightSum"
   ]
  },
  {
   "cell_type": "code",
   "execution_count": 14,
   "id": "dfc46841",
   "metadata": {},
   "outputs": [],
   "source": [
    "def largestData(root):\n",
    "    if root is None:\n",
    "        return -1  #ideally would have written -infinity\n",
    "    leftLargest = largestData(root.left)\n",
    "    rightLargest = largestData(root.right)\n",
    "#     ans = root.data\n",
    "#     if ans > leftLargest and ans > rightLargest:\n",
    "#         return ans\n",
    "#     elif leftLargest > rightLargest and leftLargest > ans:\n",
    "#         return leftLargest\n",
    "#     else:\n",
    "#         return rightLargest\n",
    "    largest = max(leftLargest,rightLargest,root.data)\n",
    "    return largest"
   ]
  },
  {
   "cell_type": "code",
   "execution_count": 15,
   "id": "87788d98",
   "metadata": {},
   "outputs": [],
   "source": [
    "def countNodeGreaterThanX(root,x):\n",
    "    if root is None:\n",
    "        return 0\n",
    "    leftGreaterThanX = countNodeGreaterThanX(root.left,x)\n",
    "    rightGreaterThanX = countNodeGreaterThanX(root.right,x)\n",
    "    if root.data > x:\n",
    "        return 1 + leftGreaterThanX + rightGreaterThanX\n",
    "    return leftGreaterThanX + rightGreaterThanX"
   ]
  },
  {
   "cell_type": "code",
   "execution_count": 16,
   "id": "6bba3f9b",
   "metadata": {},
   "outputs": [],
   "source": [
    "def height(root):\n",
    "    if root is None:\n",
    "        return 0\n",
    "    leftheight = height(root.left)\n",
    "    rightheight = height(root.right)\n",
    "    if leftheight > rightheight:\n",
    "        return 1 + leftheight\n",
    "    return 1 + rightheight"
   ]
  },
  {
   "cell_type": "code",
   "execution_count": 17,
   "id": "e7d2bdc6",
   "metadata": {},
   "outputs": [],
   "source": [
    "def numLeafNodes(root):\n",
    "    if root is None:\n",
    "        return 0\n",
    "    if root.left is None and root.right is None:\n",
    "        return 1\n",
    "    leftLeafNodes = numLeafNodes(root.left)\n",
    "    rightLeafNodes = numLeafNodes(root.right)\n",
    "    return leftLeafNodes + rightLeafNodes"
   ]
  },
  {
   "cell_type": "code",
   "execution_count": 18,
   "id": "c178a8af",
   "metadata": {},
   "outputs": [],
   "source": [
    "def printAtDepthK(root,k):\n",
    "    if root is None:\n",
    "        return\n",
    "    if k == 0:\n",
    "        print(root.data, end = ' ')\n",
    "        return\n",
    "    printAtDepthK(root.left,k - 1)\n",
    "    printAtDepthK(root.right,k - 1)"
   ]
  },
  {
   "cell_type": "code",
   "execution_count": 19,
   "id": "02cb75c8",
   "metadata": {},
   "outputs": [],
   "source": [
    "def printAtDepthKV2(root,k,d = 0):\n",
    "    if root is None:\n",
    "        return\n",
    "    if k == d:\n",
    "        print(root.data,end = ' ')\n",
    "        return\n",
    "    printAtDepthKV2(root.left,k,d + 1)\n",
    "    printAtDepthKV2(root.right,k,d + 1)"
   ]
  },
  {
   "cell_type": "code",
   "execution_count": 20,
   "id": "c2b5ab7d",
   "metadata": {},
   "outputs": [],
   "source": [
    "def changeToDepthTree(root,k = 0):\n",
    "    if root is None:\n",
    "        return\n",
    "    root.data = k\n",
    "    changeToDepthTree(root.left,k + 1)\n",
    "    changeToDepthTree(root.right,k + 1)"
   ]
  },
  {
   "cell_type": "code",
   "execution_count": 21,
   "id": "78119c91",
   "metadata": {},
   "outputs": [],
   "source": [
    "def removeLeafNodes(root):\n",
    "    if root is None:\n",
    "        return None\n",
    "    if root.left is None and root.right is None:\n",
    "        return None\n",
    "    root.left = removeLeafNodes(root.left)\n",
    "    root.right = removeLeafNodes(root.right)\n",
    "    return root"
   ]
  },
  {
   "cell_type": "code",
   "execution_count": 22,
   "id": "6109cd42",
   "metadata": {},
   "outputs": [],
   "source": [
    "def heightImproved(root):\n",
    "    if root is None:\n",
    "        return 0\n",
    "    return 1 + max(height(root.left),height(root.right))"
   ]
  },
  {
   "cell_type": "code",
   "execution_count": 23,
   "id": "77bf07b7",
   "metadata": {},
   "outputs": [],
   "source": [
    "def isBalanced(root):\n",
    "    if root is None:\n",
    "        return True\n",
    "    lh = height(root.left)\n",
    "    rh = height(root.right)\n",
    "    if lh - rh > 1 or rh - lh > 1:\n",
    "        return False\n",
    "    isLeftBalanced = isBalanced(root.left)\n",
    "    isRightBalanced = isBalanced(root.right)\n",
    "    if isLeftBalanced and isRightBalanced:\n",
    "        return True\n",
    "    else:\n",
    "        return False\n",
    "    "
   ]
  },
  {
   "cell_type": "code",
   "execution_count": 24,
   "id": "7d55939c",
   "metadata": {},
   "outputs": [],
   "source": [
    "def getHeightAndCheckBalanced(root):\n",
    "    if root is None:\n",
    "        return 0,True\n",
    "    lh,isLeftBalanced = getHeightAndCheckBalanced(root.left)\n",
    "    rh,isRightBalanced = getHeightAndCheckBalanced(root.right)\n",
    "    h = 1 + max(lh,rh)\n",
    "    if lh - rh > 1 or rh - lh > 1:\n",
    "        return h,False\n",
    "    if isLeftBalanced and isRightBalanced:\n",
    "        return h,True\n",
    "    else:\n",
    "        return h,False"
   ]
  },
  {
   "cell_type": "code",
   "execution_count": 25,
   "id": "fe922d5a",
   "metadata": {},
   "outputs": [],
   "source": [
    "import queue\n",
    "def takeLevelWiseTreeInput():\n",
    "    q = queue.Queue()\n",
    "    print(\"Enter root : \")\n",
    "    rootData = int(input())\n",
    "    if rootData == -1:\n",
    "        return None\n",
    "    root = BinaryTreeNode(rootData)\n",
    "    q.put(root)\n",
    "    while (not q.empty()):\n",
    "        current_node = q.get()\n",
    "        print(\"Enter left child of \",current_node.data)\n",
    "        leftChildData = int(input())\n",
    "        if leftChildData != -1:\n",
    "            leftChild = BinaryTreeNode(leftChildData)\n",
    "            current_node.left = leftChild\n",
    "            q.put(leftChild)\n",
    "        print(\"Enter right child of \",current_node.data)\n",
    "        rightChildData = int(input())\n",
    "        if rightChildData != -1:\n",
    "            rightChild = BinaryTreeNode(rightChildData)\n",
    "            current_node.right = rightChild\n",
    "            q.put(rightChild)\n",
    "    return root"
   ]
  },
  {
   "cell_type": "code",
   "execution_count": 26,
   "id": "73cba0e7",
   "metadata": {},
   "outputs": [],
   "source": [
    "import queue\n",
    "def printLevelWiseTreeDetailed(root):\n",
    "    if root is None:\n",
    "        print(-1)\n",
    "    q = queue.Queue()\n",
    "    q.put(root)\n",
    "    while (not q.empty()):\n",
    "        current_node = q.get()\n",
    "        if current_node.left != None and current_node.right != None:\n",
    "            print(current_node.data,':','L',current_node.left.data,',','R',current_node.right.data)\n",
    "            q.put(current_node.left)\n",
    "            q.put(current_node.right)\n",
    "        elif current_node.left == None and current_node.right != None:\n",
    "            print(current_node.data,':','L','-1',',','R',current_node.right.data)\n",
    "            q.put(current_node.right)\n",
    "        elif current_node.left != None and current_node.right == None:\n",
    "            print(current_node.data,':','L',current_node.left.data,',','R','-1')\n",
    "            q.put(current_node.left)\n",
    "        else:\n",
    "            print(current_node.data,':','L','-1',',','R','-1')\n",
    "            "
   ]
  },
  {
   "cell_type": "code",
   "execution_count": 27,
   "id": "ab7089bd",
   "metadata": {},
   "outputs": [],
   "source": [
    "def nodeToRootPath(root,s):\n",
    "    if root is None:\n",
    "        return None\n",
    "    if root.data == s:\n",
    "        l = list()\n",
    "        l.append(root.data)\n",
    "        return l\n",
    "    leftOutput = nodeToRootPath(root.left,s)\n",
    "    if leftOutput != None:\n",
    "        leftOutput.append(root.data)\n",
    "        return leftOutput\n",
    "    rightOutput = nodeToRootPath(root.right,s)\n",
    "    if rightOutput != None:\n",
    "        rightOutput.append(root.data)\n",
    "        return rightOutput\n",
    "    else:\n",
    "        return None"
   ]
  },
  {
   "cell_type": "code",
   "execution_count": 28,
   "id": "d795a966",
   "metadata": {},
   "outputs": [],
   "source": [
    "btn1 = BinaryTreeNode(1)\n",
    "btn2 = BinaryTreeNode(2)\n",
    "btn3 = BinaryTreeNode(3)\n",
    "btn4 = BinaryTreeNode(4)\n",
    "btn5 = BinaryTreeNode(5)"
   ]
  },
  {
   "cell_type": "code",
   "execution_count": 29,
   "id": "82850c81",
   "metadata": {},
   "outputs": [],
   "source": [
    "btn1.left = btn2\n",
    "btn1.right = btn3\n",
    "btn2.left = btn4\n",
    "btn2.right = btn5"
   ]
  },
  {
   "cell_type": "code",
   "execution_count": 30,
   "id": "ee08bb9a",
   "metadata": {},
   "outputs": [
    {
     "name": "stdout",
     "output_type": "stream",
     "text": [
      "1:L 2,R 3\n",
      "2:L 4,R 5\n",
      "4:\n",
      "5:\n",
      "3:\n",
      "1:L 2,\n",
      "2:\n"
     ]
    }
   ],
   "source": [
    "printTreeDetailed(btn1)\n",
    "#print(numNodes(btn1))\n",
    "#print(getSum(btn1))\n",
    "#preOrderDetailed(btn1)\n",
    "#postOrderDetailed(btn1)\n",
    "#print(inOrderDetailed(btn1))\n",
    "#print(largestData(btn1)\n",
    "root = removeLeafNodes(btn1)\n",
    "printTreeDetailed(root)\n"
   ]
  },
  {
   "cell_type": "code",
   "execution_count": 33,
   "id": "bb2670d0",
   "metadata": {
    "scrolled": true
   },
   "outputs": [
    {
     "name": "stdout",
     "output_type": "stream",
     "text": [
      "Enter root : \n",
      "8\n",
      "Enter left child of  8\n",
      "5\n",
      "Enter right child of  8\n",
      "10\n",
      "Enter left child of  5\n",
      "2\n",
      "Enter right child of  5\n",
      "6\n",
      "Enter left child of  10\n",
      "-1\n",
      "Enter right child of  10\n",
      "-1\n",
      "Enter left child of  2\n",
      "-1\n",
      "Enter right child of  2\n",
      "-1\n",
      "Enter left child of  6\n",
      "-1\n",
      "Enter right child of  6\n",
      "7\n",
      "Enter left child of  7\n",
      "-1\n",
      "Enter right child of  7\n",
      "-1\n",
      "8 : L 5 , R 10\n",
      "5 : L 2 , R 6\n",
      "10 : L -1 , R -1\n",
      "2 : L -1 , R -1\n",
      "6 : L -1 , R 7\n",
      "7 : L -1 , R -1\n",
      "[2, 5, 8]\n"
     ]
    }
   ],
   "source": [
    "#root = treeInput()\n",
    "root = takeLevelWiseTreeInput()\n",
    "#printTreeDetailed(root)\n",
    "printLevelWiseTreeDetailed(root)\n",
    "#print(numNodes(root))\n",
    "#print(getSum(root))\n",
    "# print(largestData(root))\n",
    "# print(countNodeGreaterThanX(root,4))\n",
    "# print(height(root))\n",
    "# print(numLeafNodes(root))\n",
    "#printAtDepthK(root,2)\n",
    "#printAtDepthKV2(root,2)\n",
    "#changeToDepthTree(root)\n",
    "#inOrderDetailed(root)\n",
    "# print(height(root))\n",
    "# print(isBalanced(root))\n",
    "# print(getHeightAndCheckBalanced(root))\n",
    "print(nodeToRootPath(root,2))"
   ]
  },
  {
   "cell_type": "markdown",
   "id": "50773b2e",
   "metadata": {},
   "source": [
    "### Check is BST"
   ]
  },
  {
   "cell_type": "code",
   "execution_count": 41,
   "id": "7160f5a6",
   "metadata": {},
   "outputs": [],
   "source": [
    "def minTree(root):\n",
    "    if root == None:\n",
    "        return 100000\n",
    "    leftMin = minTree(root.left)\n",
    "    rightMin = minTree(root.right)\n",
    "    return min(leftMin,rightMin,root.data)"
   ]
  },
  {
   "cell_type": "code",
   "execution_count": 42,
   "id": "54215b72",
   "metadata": {},
   "outputs": [],
   "source": [
    "def maxTree(root):\n",
    "    if root == None:\n",
    "        return -100000\n",
    "    leftMax = maxTree(root.left)\n",
    "    rightMax = maxTree(root.right)\n",
    "    return max(leftMax,rightMax,root.data)"
   ]
  },
  {
   "cell_type": "code",
   "execution_count": 49,
   "id": "a1f8e3a1",
   "metadata": {},
   "outputs": [],
   "source": [
    "def isBST(root):\n",
    "    if root == None:\n",
    "        return True\n",
    "    leftMax = maxTree(root.left)\n",
    "    rightMin = minTree(root.right)\n",
    "    if root.data > rightMin or root.data <= leftMax :\n",
    "        return False\n",
    "    \n",
    "    isLeftBST = isBST(root.left)\n",
    "    isRightBST = isBST(root.right)\n",
    "    return isLeftBST and isRightBST"
   ]
  },
  {
   "cell_type": "markdown",
   "id": "fae097b6",
   "metadata": {},
   "source": [
    "#### Better Solution for BST"
   ]
  },
  {
   "cell_type": "code",
   "execution_count": 64,
   "id": "fe380e54",
   "metadata": {},
   "outputs": [],
   "source": [
    "def isBST2(root):\n",
    "    if root == None:\n",
    "        return 10000,-10000,True\n",
    "    \n",
    "    leftMin,leftMax,isLeftBST = isBST2(root.left)\n",
    "    rightMin,rightMax,isRightBST = isBST2(root.right)\n",
    "    \n",
    "    minimum = min(leftMin,rightMin,root.data)\n",
    "    maximum = max(leftMax,rightMax,root.data)\n",
    "    isTreeBST = True\n",
    "    if root.data <= leftMax or root.data > rightMin:\n",
    "        isTreeBST = False\n",
    "    if not(isLeftBST) or not(isRightBST):\n",
    "        isTreeBST = False\n",
    "    \n",
    "    return minimum,maximum,isTreeBST"
   ]
  },
  {
   "cell_type": "markdown",
   "id": "9256c5cb",
   "metadata": {},
   "source": [
    "#### Another Solution for BST"
   ]
  },
  {
   "cell_type": "code",
   "execution_count": 67,
   "id": "01e4a75e",
   "metadata": {},
   "outputs": [],
   "source": [
    "def isBST3(root,min_range,max_range):\n",
    "    if root == None:\n",
    "        return True\n",
    "    if root.data < min_range or root.data > max_range:\n",
    "        return False\n",
    "    isLeftWithinConstraints = isBST3(root.left,min_range,root.data - 1)\n",
    "    isRightWithinConstraints = isBST3(root.right,root.data,max_range)\n",
    "    return isLeftWithinConstraints and isRightWithinConstraints"
   ]
  },
  {
   "cell_type": "code",
   "execution_count": 70,
   "id": "9b5874fa",
   "metadata": {},
   "outputs": [
    {
     "name": "stdout",
     "output_type": "stream",
     "text": [
      "Enter root : \n",
      "4\n",
      "Enter left child of  4\n",
      "2\n",
      "Enter right child of  4\n",
      "6\n",
      "Enter left child of  2\n",
      "1\n",
      "Enter right child of  2\n",
      "3\n",
      "Enter left child of  6\n",
      "5\n",
      "Enter right child of  6\n",
      "7\n",
      "Enter left child of  1\n",
      "-1\n",
      "Enter right child of  1\n",
      "-1\n",
      "Enter left child of  3\n",
      "-1\n",
      "Enter right child of  3\n",
      "-1\n",
      "Enter left child of  5\n",
      "-1\n",
      "Enter right child of  5\n",
      "-1\n",
      "Enter left child of  7\n",
      "-1\n",
      "Enter right child of  7\n",
      "-1\n",
      "4 : L 2 , R 6\n",
      "2 : L 1 , R 3\n",
      "6 : L 5 , R 7\n",
      "1 : L -1 , R -1\n",
      "3 : L -1 , R -1\n",
      "5 : L -1 , R -1\n",
      "7 : L -1 , R -1\n"
     ]
    },
    {
     "data": {
      "text/plain": [
       "True"
      ]
     },
     "execution_count": 70,
     "metadata": {},
     "output_type": "execute_result"
    }
   ],
   "source": [
    "root = takeLevelWiseTreeInput()\n",
    "printLevelWiseTreeDetailed(root)\n",
    "#isBST(root)\n",
    "#isBST2(root)\n",
    "isBST3(root,-10000,10000)"
   ]
  }
 ],
 "metadata": {
  "kernelspec": {
   "display_name": "Python 3",
   "language": "python",
   "name": "python3"
  },
  "language_info": {
   "codemirror_mode": {
    "name": "ipython",
    "version": 3
   },
   "file_extension": ".py",
   "mimetype": "text/x-python",
   "name": "python",
   "nbconvert_exporter": "python",
   "pygments_lexer": "ipython3",
   "version": "3.8.8"
  }
 },
 "nbformat": 4,
 "nbformat_minor": 5
}
