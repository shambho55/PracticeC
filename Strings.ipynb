{
 "cells": [
  {
   "cell_type": "code",
   "execution_count": 2,
   "id": "8380c683",
   "metadata": {},
   "outputs": [],
   "source": [
    "s = 'shambho '"
   ]
  },
  {
   "cell_type": "code",
   "execution_count": 4,
   "id": "ebad64e2",
   "metadata": {},
   "outputs": [
    {
     "data": {
      "text/plain": [
       "'shambho '"
      ]
     },
     "execution_count": 4,
     "metadata": {},
     "output_type": "execute_result"
    }
   ],
   "source": [
    "s"
   ]
  },
  {
   "cell_type": "code",
   "execution_count": 6,
   "id": "5bf8b04f",
   "metadata": {},
   "outputs": [
    {
     "data": {
      "text/plain": [
       "' '"
      ]
     },
     "execution_count": 6,
     "metadata": {},
     "output_type": "execute_result"
    }
   ],
   "source": [
    "s[7]"
   ]
  },
  {
   "cell_type": "code",
   "execution_count": 8,
   "id": "0ffa61a4",
   "metadata": {},
   "outputs": [],
   "source": [
    "s = \"sham+bho\""
   ]
  },
  {
   "cell_type": "code",
   "execution_count": 10,
   "id": "a33e5773",
   "metadata": {},
   "outputs": [
    {
     "data": {
      "text/plain": [
       "'+'"
      ]
     },
     "execution_count": 10,
     "metadata": {},
     "output_type": "execute_result"
    }
   ],
   "source": [
    "s[4]"
   ]
  },
  {
   "cell_type": "code",
   "execution_count": 11,
   "id": "aa4115e1",
   "metadata": {},
   "outputs": [],
   "source": [
    "s = '''gorgeous patterns\n",
    "around\n",
    "look at\n",
    "your surroundings\n",
    "'''"
   ]
  },
  {
   "cell_type": "code",
   "execution_count": 13,
   "id": "ac04cbd2",
   "metadata": {},
   "outputs": [
    {
     "data": {
      "text/plain": [
       "'gorgeous patterns\\naround\\nlook at\\nyour surroundings\\n'"
      ]
     },
     "execution_count": 13,
     "metadata": {},
     "output_type": "execute_result"
    }
   ],
   "source": [
    "s"
   ]
  },
  {
   "cell_type": "code",
   "execution_count": 15,
   "id": "ea8561b6",
   "metadata": {},
   "outputs": [
    {
     "data": {
      "text/plain": [
       "' '"
      ]
     },
     "execution_count": 15,
     "metadata": {},
     "output_type": "execute_result"
    }
   ],
   "source": [
    "s[8]"
   ]
  },
  {
   "cell_type": "code",
   "execution_count": 18,
   "id": "492805e4",
   "metadata": {},
   "outputs": [
    {
     "data": {
      "text/plain": [
       "'u'"
      ]
     },
     "execution_count": 18,
     "metadata": {},
     "output_type": "execute_result"
    }
   ],
   "source": [
    "s[-12]"
   ]
  },
  {
   "cell_type": "code",
   "execution_count": 20,
   "id": "b8163f58",
   "metadata": {},
   "outputs": [
    {
     "data": {
      "text/plain": [
       "'\\n'"
      ]
     },
     "execution_count": 20,
     "metadata": {},
     "output_type": "execute_result"
    }
   ],
   "source": [
    "s[-1]"
   ]
  },
  {
   "cell_type": "code",
   "execution_count": 25,
   "id": "9b98f6a2",
   "metadata": {},
   "outputs": [
    {
     "ename": "SyntaxError",
     "evalue": "EOL while scanning string literal (<ipython-input-25-b8e8a31c82b6>, line 1)",
     "output_type": "error",
     "traceback": [
      "\u001b[1;36m  File \u001b[1;32m\"<ipython-input-25-b8e8a31c82b6>\"\u001b[1;36m, line \u001b[1;32m1\u001b[0m\n\u001b[1;33m    s = \" you\u001b[0m\n\u001b[1;37m              ^\u001b[0m\n\u001b[1;31mSyntaxError\u001b[0m\u001b[1;31m:\u001b[0m EOL while scanning string literal\n"
     ]
    }
   ],
   "source": [
    "s = \" you \n",
    "can't use multiple-\n",
    "lines \n",
    "using \n",
    "double and \n",
    "single- quotes\"\n",
    "s"
   ]
  },
  {
   "cell_type": "code",
   "execution_count": 26,
   "id": "33ebe863",
   "metadata": {},
   "outputs": [
    {
     "data": {
      "text/plain": [
       "'gorgeous patterns\\naround\\nlook at\\nyour surroundings\\n'"
      ]
     },
     "execution_count": 26,
     "metadata": {},
     "output_type": "execute_result"
    }
   ],
   "source": [
    "s"
   ]
  },
  {
   "cell_type": "code",
   "execution_count": 28,
   "id": "31ce94d6",
   "metadata": {},
   "outputs": [
    {
     "name": "stdout",
     "output_type": "stream",
     "text": [
      "2126992866608\n",
      "2126992866608\n"
     ]
    }
   ],
   "source": [
    "s = 'shiv'\n",
    "a = s\n",
    "print(id(a))\n",
    "print(id(s))\n"
   ]
  },
  {
   "cell_type": "markdown",
   "id": "f724e1c4",
   "metadata": {},
   "source": [
    "### String are immutable in python"
   ]
  },
  {
   "cell_type": "code",
   "execution_count": 31,
   "id": "b5851181",
   "metadata": {},
   "outputs": [
    {
     "ename": "TypeError",
     "evalue": "'str' object does not support item assignment",
     "output_type": "error",
     "traceback": [
      "\u001b[1;31m---------------------------------------------------------------------------\u001b[0m",
      "\u001b[1;31mTypeError\u001b[0m                                 Traceback (most recent call last)",
      "\u001b[1;32m<ipython-input-31-3d1398f7aa10>\u001b[0m in \u001b[0;36m<module>\u001b[1;34m\u001b[0m\n\u001b[0;32m      1\u001b[0m \u001b[0ms\u001b[0m \u001b[1;33m=\u001b[0m \u001b[1;34m'shambho'\u001b[0m\u001b[1;33m\u001b[0m\u001b[1;33m\u001b[0m\u001b[0m\n\u001b[1;32m----> 2\u001b[1;33m \u001b[0ms\u001b[0m\u001b[1;33m[\u001b[0m\u001b[1;36m0\u001b[0m\u001b[1;33m]\u001b[0m \u001b[1;33m=\u001b[0m \u001b[1;34m'b'\u001b[0m\u001b[1;33m\u001b[0m\u001b[1;33m\u001b[0m\u001b[0m\n\u001b[0m\u001b[0;32m      3\u001b[0m \u001b[0ms\u001b[0m\u001b[1;33m\u001b[0m\u001b[1;33m\u001b[0m\u001b[0m\n",
      "\u001b[1;31mTypeError\u001b[0m: 'str' object does not support item assignment"
     ]
    }
   ],
   "source": [
    "s = 'shambho'\n",
    "s[0] = 'b'\n",
    "s"
   ]
  },
  {
   "cell_type": "code",
   "execution_count": 22,
   "id": "cb1f56fe",
   "metadata": {},
   "outputs": [
    {
     "data": {
      "text/plain": [
       "'jAi shAmbho kAAli'"
      ]
     },
     "execution_count": 22,
     "metadata": {},
     "output_type": "execute_result"
    }
   ],
   "source": [
    "def replace(string,char1,char2):\n",
    "    newStr = ''\n",
    "    for char in string :\n",
    "        if char == char1:\n",
    "            newStr += char2\n",
    "        else :\n",
    "            newStr += char\n",
    "    return newStr\n",
    "\n",
    "string = 'jai shambho kaali'\n",
    "string = replace(str,'a','A')\n",
    "string\n"
   ]
  },
  {
   "cell_type": "code",
   "execution_count": 31,
   "id": "e627ab6d",
   "metadata": {},
   "outputs": [
    {
     "name": "stdout",
     "output_type": "stream",
     "text": [
      "h\n",
      "e\n",
      "l\n",
      "l\n",
      "o\n"
     ]
    },
    {
     "data": {
      "text/plain": [
       "'o'"
      ]
     },
     "execution_count": 31,
     "metadata": {},
     "output_type": "execute_result"
    }
   ],
   "source": [
    "string = 'hello'\n",
    "for str in string :\n",
    "    print(str)\n",
    "chr(111)"
   ]
  },
  {
   "cell_type": "code",
   "execution_count": 34,
   "id": "e5059c4d",
   "metadata": {},
   "outputs": [
    {
     "data": {
      "text/plain": [
       "'ajebb'"
      ]
     },
     "execution_count": 34,
     "metadata": {},
     "output_type": "execute_result"
    }
   ],
   "source": [
    "def sorted(string):\n",
    "    newStr = ''\n",
    "    for i in range(len(string)-1):\n",
    "        if string[i] < string[i + 1]:\n",
    "            newStr += string[i]\n",
    "    return newStr\n",
    "\n",
    "str = 'akjnefbfbf'\n",
    "str = sorted(str)\n",
    "str"
   ]
  },
  {
   "cell_type": "markdown",
   "id": "35eb1e73",
   "metadata": {},
   "source": [
    "### Check Permutation"
   ]
  },
  {
   "cell_type": "code",
   "execution_count": 35,
   "id": "84e96d0b",
   "metadata": {},
   "outputs": [
    {
     "ename": "NameError",
     "evalue": "name 'str1' is not defined",
     "output_type": "error",
     "traceback": [
      "\u001b[1;31m---------------------------------------------------------------------------\u001b[0m",
      "\u001b[1;31mNameError\u001b[0m                                 Traceback (most recent call last)",
      "\u001b[1;32m<ipython-input-35-d8b612554851>\u001b[0m in \u001b[0;36m<module>\u001b[1;34m\u001b[0m\n\u001b[1;32m----> 1\u001b[1;33m \u001b[0mlen1\u001b[0m \u001b[1;33m=\u001b[0m \u001b[0mlen\u001b[0m\u001b[1;33m(\u001b[0m\u001b[0mstr1\u001b[0m\u001b[1;33m)\u001b[0m\u001b[1;33m\u001b[0m\u001b[1;33m\u001b[0m\u001b[0m\n\u001b[0m\u001b[0;32m      2\u001b[0m \u001b[0mlen2\u001b[0m \u001b[1;33m=\u001b[0m \u001b[0mlen\u001b[0m\u001b[1;33m(\u001b[0m\u001b[0mstr2\u001b[0m\u001b[1;33m)\u001b[0m\u001b[1;33m\u001b[0m\u001b[1;33m\u001b[0m\u001b[0m\n\u001b[0;32m      3\u001b[0m \u001b[1;32mif\u001b[0m \u001b[0mlen1\u001b[0m \u001b[1;33m!=\u001b[0m \u001b[0mlen2\u001b[0m\u001b[1;33m:\u001b[0m\u001b[1;33m\u001b[0m\u001b[1;33m\u001b[0m\u001b[0m\n\u001b[0;32m      4\u001b[0m     \u001b[1;32mreturn\u001b[0m \u001b[1;32mFalse\u001b[0m\u001b[1;33m\u001b[0m\u001b[1;33m\u001b[0m\u001b[0m\n\u001b[0;32m      5\u001b[0m \u001b[0marr\u001b[0m \u001b[1;33m=\u001b[0m \u001b[1;33m[\u001b[0m\u001b[1;36m0\u001b[0m\u001b[1;33m]\u001b[0m \u001b[1;33m*\u001b[0m \u001b[0mNo_of_char\u001b[0m\u001b[1;33m\u001b[0m\u001b[1;33m\u001b[0m\u001b[0m\n",
      "\u001b[1;31mNameError\u001b[0m: name 'str1' is not defined"
     ]
    }
   ],
   "source": [
    "    len1 = len(str1)\n",
    "    len2 = len(str2)\n",
    "    if len1 != len2:\n",
    "        return False\n",
    "    arr = [0] * No_of_char\n",
    "    for i in str1:\n",
    "        arr[ord(i)]+=1\n",
    "    for i in str2:\n",
    "        arr[ord(i)]-=1\n",
    "    for i in arr:\n",
    "        if i != 0:\n",
    "            return False\n",
    "    return True\n",
    "\n"
   ]
  },
  {
   "cell_type": "code",
   "execution_count": 39,
   "id": "f6ff5b65",
   "metadata": {},
   "outputs": [
    {
     "data": {
      "text/plain": [
       "51"
      ]
     },
     "execution_count": 39,
     "metadata": {},
     "output_type": "execute_result"
    }
   ],
   "source": [
    "string = 'the second test case is a collection of palindromes'\n",
    "str = string[0:5]\n",
    "m = len(string)\n",
    "m"
   ]
  },
  {
   "cell_type": "code",
   "execution_count": 41,
   "id": "451f74ce",
   "metadata": {},
   "outputs": [
    {
     "data": {
      "text/plain": [
       "'a'"
      ]
     },
     "execution_count": 41,
     "metadata": {},
     "output_type": "execute_result"
    }
   ],
   "source": [
    "chr(97)"
   ]
  },
  {
   "cell_type": "code",
   "execution_count": 43,
   "id": "ce008942",
   "metadata": {},
   "outputs": [
    {
     "data": {
      "text/plain": [
       "'b'"
      ]
     },
     "execution_count": 43,
     "metadata": {},
     "output_type": "execute_result"
    }
   ],
   "source": [
    "i = 98\n",
    "chr(i)"
   ]
  },
  {
   "cell_type": "code",
   "execution_count": 72,
   "id": "a2a420e5",
   "metadata": {},
   "outputs": [
    {
     "name": "stdout",
     "output_type": "stream",
     "text": [
      "None\n"
     ]
    }
   ],
   "source": [
    "def removeConsecutiveDuplicates(string):\n",
    "    arr = [0] * 256\n",
    "    for i in string:\n",
    "        arr[ord(i)] += 1\n",
    "    for i in arr :\n",
    "        if arr[i] > 1:\n",
    "            arr[i] -= 1\n",
    "    newStr = ''\n",
    "    for i in string:\n",
    "        if arr[ord(i)] == 1:\n",
    "            newStr += i\n",
    "            return newStr\n",
    "string = 'aabbccc'\n",
    "print(removeConsecutiveDuplicates(string))"
   ]
  },
  {
   "cell_type": "code",
   "execution_count": 80,
   "id": "f0d972d1",
   "metadata": {},
   "outputs": [
    {
     "data": {
      "text/plain": [
       "'xab'"
      ]
     },
     "execution_count": 80,
     "metadata": {},
     "output_type": "execute_result"
    }
   ],
   "source": [
    "def removeConsecutiveDuplicates(string):\n",
    "    newStr = ''\n",
    "    i = 0\n",
    "    while i < len(string) - 1:\n",
    "        if string[i] != string[i+1]:\n",
    "            newStr += string[i]\n",
    "        i = i + 1\n",
    "    return newStr\n",
    "\n",
    "string = 'xxxxaaabbbbxxx'\n",
    "removeConsecutiveDuplicates(string)"
   ]
  },
  {
   "cell_type": "code",
   "execution_count": 87,
   "id": "8ceafa4e",
   "metadata": {},
   "outputs": [
    {
     "name": "stdout",
     "output_type": "stream",
     "text": [
      "1\n",
      "2\n",
      "35\n",
      "6\n",
      "58\n",
      "56\n",
      "5\n"
     ]
    }
   ],
   "source": [
    "arr = [1,2,35,6,58,56,5]\n",
    "for i in range(len(arr)):\n",
    "    print(arr[i])"
   ]
  },
  {
   "cell_type": "raw",
   "id": "35697951",
   "metadata": {},
   "source": [
    "#MISTAKE WAALA CODE\n",
    "def reverseString(string):\n",
    "    output = ''\n",
    "    j = 0\n",
    "    for i in range(len(string)):\n",
    "        if string[i] == ' ':\n",
    "            output = output + string[i - 1:j:-1] + ' '\n",
    "            j = i \n",
    "    output = output + string[len(string) - 1:j - 1:-1]\n",
    "    return output\n",
    "reverseString('the second test case is a palindrome')"
   ]
  },
  {
   "cell_type": "code",
   "execution_count": 6,
   "id": "7cff9a6f",
   "metadata": {},
   "outputs": [
    {
     "data": {
      "text/plain": [
       "'gnidoC sajniN'"
      ]
     },
     "execution_count": 6,
     "metadata": {},
     "output_type": "execute_result"
    }
   ],
   "source": [
    "def reverseString(string):\n",
    "    output = ''\n",
    "    i = 0 \n",
    "    j = 0\n",
    "    while i < len(string):\n",
    "        if string[i] == ' ':\n",
    "            output = output + string[i - 1::-1]\n",
    "            j = i\n",
    "            break\n",
    "        i = i + 1\n",
    "    for i in range(j,len(string)):\n",
    "        if string[i] == ' ':\n",
    "            output = output + string[i - 1:j:-1] + ' '\n",
    "            j = i\n",
    "    output = output + string[len(string) - 1:j:-1]\n",
    "    return output\n",
    "reverseString('Coding Ninjas')"
   ]
  },
  {
   "cell_type": "code",
   "execution_count": 57,
   "id": "8cf7d57d",
   "metadata": {},
   "outputs": [
    {
     "data": {
      "text/plain": [
       "'a3b2cd2e4'"
      ]
     },
     "execution_count": 57,
     "metadata": {},
     "output_type": "execute_result"
    }
   ],
   "source": [
    "def getCompressedString(string):\n",
    "    newStr = ''\n",
    "    count = 1\n",
    "    for i in range(len(string) - 1):\n",
    "        if string[i] == string[i + 1]:\n",
    "            count += 1\n",
    "        else :\n",
    "            if count > 1:\n",
    "                newStr = newStr + string[i] + str(count)\n",
    "                count = 1\n",
    "            else :\n",
    "                newStr = newStr + string[i]\n",
    "    if count > 1:\n",
    "        newStr = newStr + string[len(string) - 1] + str(count) \n",
    "    else:\n",
    "        newStr = newStr + string[len(string) - 1]\n",
    "    return newStr\n",
    "getCompressedString('aaabbcddeeee')\n",
    "            "
   ]
  },
  {
   "cell_type": "code",
   "execution_count": 9,
   "id": "3c801d68",
   "metadata": {},
   "outputs": [
    {
     "data": {
      "text/plain": [
       "110"
      ]
     },
     "execution_count": 9,
     "metadata": {},
     "output_type": "execute_result"
    }
   ],
   "source": []
  }
 ],
 "metadata": {
  "kernelspec": {
   "display_name": "Python 3",
   "language": "python",
   "name": "python3"
  },
  "language_info": {
   "codemirror_mode": {
    "name": "ipython",
    "version": 3
   },
   "file_extension": ".py",
   "mimetype": "text/x-python",
   "name": "python",
   "nbconvert_exporter": "python",
   "pygments_lexer": "ipython3",
   "version": "3.8.8"
  }
 },
 "nbformat": 4,
 "nbformat_minor": 5
}
