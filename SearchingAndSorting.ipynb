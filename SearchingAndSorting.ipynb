{
 "cells": [
  {
   "cell_type": "code",
   "execution_count": 3,
   "id": "78ef7579",
   "metadata": {},
   "outputs": [
    {
     "ename": "ValueError",
     "evalue": "invalid literal for int() with base 10: ''",
     "output_type": "error",
     "traceback": [
      "\u001b[1;31m---------------------------------------------------------------------------\u001b[0m",
      "\u001b[1;31mValueError\u001b[0m                                Traceback (most recent call last)",
      "\u001b[1;32m<ipython-input-3-3a84785d37b8>\u001b[0m in \u001b[0;36m<module>\u001b[1;34m\u001b[0m\n\u001b[0;32m     32\u001b[0m \u001b[1;33m\u001b[0m\u001b[0m\n\u001b[0;32m     33\u001b[0m \u001b[1;31m#main\u001b[0m\u001b[1;33m\u001b[0m\u001b[1;33m\u001b[0m\u001b[1;33m\u001b[0m\u001b[0m\n\u001b[1;32m---> 34\u001b[1;33m \u001b[0marr\u001b[0m\u001b[1;33m,\u001b[0m \u001b[0mn\u001b[0m \u001b[1;33m=\u001b[0m \u001b[0mtakeInput\u001b[0m\u001b[1;33m(\u001b[0m\u001b[1;33m)\u001b[0m\u001b[1;33m\u001b[0m\u001b[1;33m\u001b[0m\u001b[0m\n\u001b[0m\u001b[0;32m     35\u001b[0m \u001b[0mt\u001b[0m \u001b[1;33m=\u001b[0m \u001b[0mint\u001b[0m\u001b[1;33m(\u001b[0m\u001b[0mstdin\u001b[0m\u001b[1;33m.\u001b[0m\u001b[0mreadline\u001b[0m\u001b[1;33m(\u001b[0m\u001b[1;33m)\u001b[0m\u001b[1;33m.\u001b[0m\u001b[0mstrip\u001b[0m\u001b[1;33m(\u001b[0m\u001b[1;33m)\u001b[0m\u001b[1;33m)\u001b[0m\u001b[1;33m\u001b[0m\u001b[1;33m\u001b[0m\u001b[0m\n\u001b[0;32m     36\u001b[0m \u001b[1;33m\u001b[0m\u001b[0m\n",
      "\u001b[1;32m<ipython-input-3-3a84785d37b8>\u001b[0m in \u001b[0;36mtakeInput\u001b[1;34m()\u001b[0m\n\u001b[0;32m     22\u001b[0m \u001b[1;31m#Taking Input Using Fast I/O\u001b[0m\u001b[1;33m\u001b[0m\u001b[1;33m\u001b[0m\u001b[1;33m\u001b[0m\u001b[0m\n\u001b[0;32m     23\u001b[0m \u001b[1;32mdef\u001b[0m \u001b[0mtakeInput\u001b[0m\u001b[1;33m(\u001b[0m\u001b[1;33m)\u001b[0m \u001b[1;33m:\u001b[0m\u001b[1;33m\u001b[0m\u001b[1;33m\u001b[0m\u001b[0m\n\u001b[1;32m---> 24\u001b[1;33m     \u001b[0mn\u001b[0m \u001b[1;33m=\u001b[0m \u001b[0mint\u001b[0m\u001b[1;33m(\u001b[0m\u001b[0mstdin\u001b[0m\u001b[1;33m.\u001b[0m\u001b[0mreadline\u001b[0m\u001b[1;33m(\u001b[0m\u001b[1;33m)\u001b[0m\u001b[1;33m.\u001b[0m\u001b[0mstrip\u001b[0m\u001b[1;33m(\u001b[0m\u001b[1;33m)\u001b[0m\u001b[1;33m)\u001b[0m\u001b[1;33m\u001b[0m\u001b[1;33m\u001b[0m\u001b[0m\n\u001b[0m\u001b[0;32m     25\u001b[0m \u001b[1;33m\u001b[0m\u001b[0m\n\u001b[0;32m     26\u001b[0m     \u001b[1;32mif\u001b[0m \u001b[0mn\u001b[0m \u001b[1;33m==\u001b[0m \u001b[1;36m0\u001b[0m \u001b[1;33m:\u001b[0m\u001b[1;33m\u001b[0m\u001b[1;33m\u001b[0m\u001b[0m\n",
      "\u001b[1;31mValueError\u001b[0m: invalid literal for int() with base 10: ''"
     ]
    }
   ],
   "source": [
    "\n",
    "from sys import stdin\n",
    "\n",
    "\n",
    "def binarySearch(arr, n, x) :\n",
    "    #Your code goes here\n",
    "    for i in range(len(arr)):\n",
    "        lower_bound = 0\n",
    "        upper_bound = len(arr) - 1\n",
    "        mid = (upper_bound + lower_bound) // 2\n",
    "        for mid in range(len(arr)):\n",
    "            if arr[mid] == x :\n",
    "                return mid\n",
    "            elif arr[mid] < x :\n",
    "                lower_bound = mid + 1\n",
    "            else :\n",
    "                upper_bound = mid - 1\n",
    "        else :\n",
    "            return -1\n",
    "\n",
    "\n",
    "\n",
    "#Taking Input Using Fast I/O\n",
    "def takeInput() :\n",
    "    n = int(stdin.readline().strip())\n",
    "    \n",
    "    if n == 0 :\n",
    "        return list(), 0\n",
    "\n",
    "    arr = list(map(int, stdin.readline().strip().split(\" \")))\n",
    "    return arr, n\n",
    "\n",
    "\n",
    "#main\n",
    "arr, n = takeInput()\n",
    "t = int(stdin.readline().strip())\n",
    "\n",
    "while t > 0 :\n",
    "    \n",
    "    x = int(input().strip())    \n",
    "    print(binarySearch(arr, n, x))\n",
    "\n",
    "    t -= 1"
   ]
  },
  {
   "cell_type": "code",
   "execution_count": 7,
   "id": "722e91f6",
   "metadata": {},
   "outputs": [
    {
     "data": {
      "text/plain": [
       "[1, 2, 1, 4, 5, 4, 0, 0, 0, 0, 0, 0]"
      ]
     },
     "execution_count": 7,
     "metadata": {},
     "output_type": "execute_result"
    }
   ],
   "source": [
    "def pushZerosToEnd(arr):\n",
    "    for i in range(len(arr)):\n",
    "        if arr[i] == 0:\n",
    "            arr.append(arr[i])\n",
    "            arr.remove(arr[i])\n",
    "    return arr\n",
    "\n",
    "li = [1,2,1,0,0,0,0,4,5,4,0,0]\n",
    "pushZerosToEnd(li)\n",
    "    "
   ]
  },
  {
   "cell_type": "code",
   "execution_count": 1,
   "id": "2a736c47",
   "metadata": {},
   "outputs": [
    {
     "data": {
      "text/plain": [
       "[2, 4, 0, 1, 2, 3, 1, 3, 6, 13, 28]"
      ]
     },
     "execution_count": 1,
     "metadata": {},
     "output_type": "execute_result"
    }
   ],
   "source": [
    "def selectionSort(arr):\n",
    "    for i in range(1,len(arr)):\n",
    "        min = arr[i]\n",
    "        if arr[i] < arr[i - 1]:\n",
    "            arr[i],arr[i-1] = arr[i-1],arr[i]\n",
    "            min = arr[i+1]\n",
    "    return li\n",
    "            \n",
    "li = [2,13,4,0,1,2,3,1,3,6,28]\n",
    "selectionSort(li)\n"
   ]
  },
  {
   "cell_type": "code",
   "execution_count": 5,
   "id": "b648e536",
   "metadata": {},
   "outputs": [
    {
     "ename": "NameError",
     "evalue": "name 'a' is not defined",
     "output_type": "error",
     "traceback": [
      "\u001b[1;31m---------------------------------------------------------------------------\u001b[0m",
      "\u001b[1;31mNameError\u001b[0m                                 Traceback (most recent call last)",
      "\u001b[1;32m<ipython-input-5-1ead6c5811f3>\u001b[0m in \u001b[0;36m<module>\u001b[1;34m\u001b[0m\n\u001b[0;32m      1\u001b[0m \u001b[1;32mdef\u001b[0m \u001b[0mfu\u001b[0m\u001b[1;33m(\u001b[0m\u001b[1;33m)\u001b[0m\u001b[1;33m:\u001b[0m\u001b[1;33m\u001b[0m\u001b[1;33m\u001b[0m\u001b[0m\n\u001b[0;32m      2\u001b[0m     \u001b[0mprint\u001b[0m\u001b[1;33m(\u001b[0m\u001b[0ma\u001b[0m\u001b[1;33m)\u001b[0m\u001b[1;33m\u001b[0m\u001b[1;33m\u001b[0m\u001b[0m\n\u001b[1;32m----> 3\u001b[1;33m \u001b[0mfu\u001b[0m\u001b[1;33m(\u001b[0m\u001b[1;33m)\u001b[0m\u001b[1;33m\u001b[0m\u001b[1;33m\u001b[0m\u001b[0m\n\u001b[0m\u001b[0;32m      4\u001b[0m \u001b[0ma\u001b[0m\u001b[1;33m=\u001b[0m\u001b[1;36m10\u001b[0m\u001b[1;33m\u001b[0m\u001b[1;33m\u001b[0m\u001b[0m\n",
      "\u001b[1;32m<ipython-input-5-1ead6c5811f3>\u001b[0m in \u001b[0;36mfu\u001b[1;34m()\u001b[0m\n\u001b[0;32m      1\u001b[0m \u001b[1;32mdef\u001b[0m \u001b[0mfu\u001b[0m\u001b[1;33m(\u001b[0m\u001b[1;33m)\u001b[0m\u001b[1;33m:\u001b[0m\u001b[1;33m\u001b[0m\u001b[1;33m\u001b[0m\u001b[0m\n\u001b[1;32m----> 2\u001b[1;33m     \u001b[0mprint\u001b[0m\u001b[1;33m(\u001b[0m\u001b[0ma\u001b[0m\u001b[1;33m)\u001b[0m\u001b[1;33m\u001b[0m\u001b[1;33m\u001b[0m\u001b[0m\n\u001b[0m\u001b[0;32m      3\u001b[0m \u001b[0mfu\u001b[0m\u001b[1;33m(\u001b[0m\u001b[1;33m)\u001b[0m\u001b[1;33m\u001b[0m\u001b[1;33m\u001b[0m\u001b[0m\n\u001b[0;32m      4\u001b[0m \u001b[0ma\u001b[0m\u001b[1;33m=\u001b[0m\u001b[1;36m10\u001b[0m\u001b[1;33m\u001b[0m\u001b[1;33m\u001b[0m\u001b[0m\n",
      "\u001b[1;31mNameError\u001b[0m: name 'a' is not defined"
     ]
    }
   ],
   "source": [
    "\n",
    "def fu():\n",
    "    print(a)\n",
    "fu()\n",
    "a=10"
   ]
  },
  {
   "cell_type": "code",
   "execution_count": 11,
   "id": "75929d40",
   "metadata": {},
   "outputs": [
    {
     "data": {
      "text/plain": [
       "56874"
      ]
     },
     "execution_count": 11,
     "metadata": {},
     "output_type": "execute_result"
    }
   ],
   "source": [
    "def secondLargestElement(arr, n):\n",
    "    #Your code goes here\n",
    "\tlarg = 0\n",
    "\ti = 0\n",
    "\tp = 0\n",
    "\tsecond_larg = -2147483648\n",
    "\twhile i < n :\n",
    "\t\tif larg < arr[i] :\n",
    "\t\t\tlarg = arr[i]\n",
    "\t\tif second_larg < arr[i] and second_larg != larg:\n",
    "\t\t\tsecond_larg = arr[p]\n",
    "\t\t\tp = p + 1\n",
    "\t\ti = i + 1\n",
    "\treturn second_larg\n",
    "\n",
    "li = [1,2,4,6565,1,31,56874,65,51,53,555]\n",
    "secondLargestElement(li,11)"
   ]
  },
  {
   "cell_type": "code",
   "execution_count": 25,
   "id": "c26764a0",
   "metadata": {},
   "outputs": [
    {
     "name": "stdout",
     "output_type": "stream",
     "text": [
      "[5, 8, 7, 0, 1, 0]\n"
     ]
    },
    {
     "data": {
      "text/plain": [
       "[0, 1, 0, 7, 8, 5]"
      ]
     },
     "execution_count": 25,
     "metadata": {},
     "output_type": "execute_result"
    }
   ],
   "source": [
    "def push(arr):\n",
    "    for i in range(len(arr)):\n",
    "        if arr[i] == 0:\n",
    "            arr.append(arr[i])\n",
    "            arr.pop(i)\n",
    "\t\n",
    "\n",
    "li = [5,8,7,0,0,1]\n",
    "push(li)\n",
    "print(li)\n",
    "arr = li[::-1]\n",
    "li = arr\n",
    "li\n"
   ]
  },
  {
   "cell_type": "markdown",
   "id": "46537740",
   "metadata": {},
   "source": [
    "### Sorting 0 , 1 and 2"
   ]
  },
  {
   "cell_type": "code",
   "execution_count": 1,
   "id": "d18876b1",
   "metadata": {},
   "outputs": [
    {
     "ename": "SyntaxError",
     "evalue": "invalid syntax (<ipython-input-1-d9d465eacf9c>, line 3)",
     "output_type": "error",
     "traceback": [
      "\u001b[1;36m  File \u001b[1;32m\"<ipython-input-1-d9d465eacf9c>\"\u001b[1;36m, line \u001b[1;32m3\u001b[0m\n\u001b[1;33m    if arr\u001b[0m\n\u001b[1;37m          ^\u001b[0m\n\u001b[1;31mSyntaxError\u001b[0m\u001b[1;31m:\u001b[0m invalid syntax\n"
     ]
    }
   ],
   "source": [
    "def sort012(arr,n):\n",
    "    for i in range(n):\n",
    "        if arr"
   ]
  },
  {
   "cell_type": "code",
   "execution_count": 1,
   "id": "875cec26",
   "metadata": {},
   "outputs": [
    {
     "data": {
      "text/plain": [
       "[1, 2, 3, 4, 5, 6, 7, 8, 9, 10]"
      ]
     },
     "execution_count": 1,
     "metadata": {},
     "output_type": "execute_result"
    }
   ],
   "source": [
    "li = [1,2,3,4,5,6,7,8,9]\n",
    "li.append(10)\n",
    "li"
   ]
  },
  {
   "cell_type": "markdown",
   "id": "3949681d",
   "metadata": {},
   "source": [
    "### sum of two arrays"
   ]
  },
  {
   "cell_type": "code",
   "execution_count": 54,
   "id": "1cc59703",
   "metadata": {},
   "outputs": [
    {
     "data": {
      "text/plain": [
       "[0, 7, 6, 8, 6, 5, 0]"
      ]
     },
     "execution_count": 54,
     "metadata": {},
     "output_type": "execute_result"
    }
   ],
   "source": [
    "def sumOfTwoArrays(arr1,n,arr2,m,output):\n",
    "    i = n - 1\n",
    "    j = m - 1\n",
    "    carry = 0\n",
    "    if n > m:\n",
    "        while i > -1:\n",
    "            if j > -1:\n",
    "                num = arr1[i] + arr2[j] + carry\n",
    "                carry = num // 10\n",
    "                ans = num % 10\n",
    "                if num > 9:\n",
    "                    output[i + 1] = ans\n",
    "                else:\n",
    "                    output[i + 1] = num\n",
    "            else:\n",
    "                num = arr1[i] + 0 + carry\n",
    "                carry = num // 10\n",
    "                ans = num % 10\n",
    "                if num > 9:\n",
    "                    output[i + 1] = ans\n",
    "                else:\n",
    "                    output[i + 1] = num\n",
    "            i = i - 1\n",
    "            j = j - 1\n",
    "    elif m > n:\n",
    "        while j > -1:\n",
    "            if i > -1:\n",
    "                num = arr1[i] + arr2[j] + carry\n",
    "                carry = num // 10\n",
    "                ans = num % 10\n",
    "                if num > 9:\n",
    "                    output[j + 1] = ans\n",
    "                else:\n",
    "                    output[j + 1] = num\n",
    "            else:\n",
    "                num = 0 + arr2[j] + carry\n",
    "                carry = num // 10\n",
    "                ans = num % 10\n",
    "                if num > 9:\n",
    "                    output[j + 1] = ans\n",
    "                else:\n",
    "                    output[j + 1] = num\n",
    "            i = i - 1\n",
    "            j = j - 1\n",
    "    else:\n",
    "        while i > -1 and j > -1:\n",
    "            num = arr1[i] + arr2[j] + carry\n",
    "            carry = num // 10\n",
    "            ans = num % 10\n",
    "            if num > 9:\n",
    "                output[i + 1] = ans\n",
    "            else:\n",
    "                output[i + 1] = num\n",
    "            i = i - 1\n",
    "            j = j - 1\n",
    "    if carry != 0 :\n",
    "        output[0] = carry\n",
    "   \n",
    "    return output\n",
    "sumOfTwoArrays([1,0,2],3,[7,6,8,5,4,8],6,[0,0,0,0,0,0,0])\n",
    "            "
   ]
  }
 ],
 "metadata": {
  "kernelspec": {
   "display_name": "Python 3",
   "language": "python",
   "name": "python3"
  },
  "language_info": {
   "codemirror_mode": {
    "name": "ipython",
    "version": 3
   },
   "file_extension": ".py",
   "mimetype": "text/x-python",
   "name": "python",
   "nbconvert_exporter": "python",
   "pygments_lexer": "ipython3",
   "version": "3.8.8"
  }
 },
 "nbformat": 4,
 "nbformat_minor": 5
}
