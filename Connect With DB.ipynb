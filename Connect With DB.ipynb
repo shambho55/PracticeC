{
 "cells": [
  {
   "cell_type": "code",
   "execution_count": 243,
   "id": "45c12fc5",
   "metadata": {},
   "outputs": [
    {
     "data": {
      "text/plain": [
       "<sqlite3.Connection at 0x25f8eb69a80>"
      ]
     },
     "execution_count": 243,
     "metadata": {},
     "output_type": "execute_result"
    }
   ],
   "source": [
    "import sqlite3\n",
    "\n",
    "db = sqlite3.connect('IMDB.sqlite')\n",
    "db"
   ]
  },
  {
   "cell_type": "code",
   "execution_count": 244,
   "id": "337e17e6",
   "metadata": {},
   "outputs": [
    {
     "data": {
      "text/plain": [
       "<sqlite3.Connection at 0x25f8eb69c60>"
      ]
     },
     "execution_count": 244,
     "metadata": {},
     "output_type": "execute_result"
    }
   ],
   "source": [
    "db = sqlite3.connect(\"IMDB_1.sqlite\")\n",
    "db"
   ]
  },
  {
   "cell_type": "code",
   "execution_count": 245,
   "id": "7c72afb1",
   "metadata": {},
   "outputs": [
    {
     "data": {
      "text/plain": [
       "<sqlite3.Connection at 0x25f8eb69b70>"
      ]
     },
     "execution_count": 245,
     "metadata": {},
     "output_type": "execute_result"
    }
   ],
   "source": [
    "db = sqlite3.connect('School_1.sqlite')\n",
    "db"
   ]
  },
  {
   "cell_type": "code",
   "execution_count": 246,
   "id": "0d6fd4ab",
   "metadata": {},
   "outputs": [
    {
     "data": {
      "text/plain": [
       "<sqlite3.Cursor at 0x25f8f107420>"
      ]
     },
     "execution_count": 246,
     "metadata": {},
     "output_type": "execute_result"
    }
   ],
   "source": [
    "cur = db.cursor()\n",
    "cur"
   ]
  },
  {
   "cell_type": "code",
   "execution_count": 247,
   "id": "2383937a",
   "metadata": {},
   "outputs": [
    {
     "ename": "OperationalError",
     "evalue": "table student already exists",
     "output_type": "error",
     "traceback": [
      "\u001b[1;31m---------------------------------------------------------------------------\u001b[0m",
      "\u001b[1;31mOperationalError\u001b[0m                          Traceback (most recent call last)",
      "\u001b[1;32m<ipython-input-247-f6700e1f240a>\u001b[0m in \u001b[0;36m<module>\u001b[1;34m\u001b[0m\n\u001b[0;32m      1\u001b[0m \u001b[0msql_query\u001b[0m \u001b[1;33m=\u001b[0m \u001b[1;34m'create table student(RollNumber int primary key,Name Text,Age int)'\u001b[0m\u001b[1;33m\u001b[0m\u001b[1;33m\u001b[0m\u001b[0m\n\u001b[1;32m----> 2\u001b[1;33m \u001b[0mcur\u001b[0m\u001b[1;33m.\u001b[0m\u001b[0mexecute\u001b[0m\u001b[1;33m(\u001b[0m\u001b[0msql_query\u001b[0m\u001b[1;33m)\u001b[0m\u001b[1;33m\u001b[0m\u001b[1;33m\u001b[0m\u001b[0m\n\u001b[0m",
      "\u001b[1;31mOperationalError\u001b[0m: table student already exists"
     ]
    }
   ],
   "source": [
    "sql_query = 'create table student(RollNumber int primary key,Name Text,Age int)'\n",
    "cur.execute(sql_query)"
   ]
  },
  {
   "cell_type": "code",
   "execution_count": null,
   "id": "f62947cf",
   "metadata": {},
   "outputs": [],
   "source": [
    "cur.execute(\"insert into student values (101,'Aman',20)\")"
   ]
  },
  {
   "cell_type": "code",
   "execution_count": null,
   "id": "002d9888",
   "metadata": {},
   "outputs": [],
   "source": [
    "db.commit()"
   ]
  },
  {
   "cell_type": "code",
   "execution_count": null,
   "id": "9838ae64",
   "metadata": {},
   "outputs": [],
   "source": [
    "cur.execute(\"insert into student values(102,'Amit',21)\")"
   ]
  },
  {
   "cell_type": "code",
   "execution_count": null,
   "id": "cc40f16a",
   "metadata": {},
   "outputs": [],
   "source": [
    "db.commit()"
   ]
  },
  {
   "cell_type": "code",
   "execution_count": null,
   "id": "3492adf7",
   "metadata": {},
   "outputs": [],
   "source": [
    "db.close()"
   ]
  },
  {
   "cell_type": "code",
   "execution_count": null,
   "id": "f8ea4598",
   "metadata": {},
   "outputs": [],
   "source": [
    "cur.execute(\"insert into student values(103,'Soma',22)\")"
   ]
  },
  {
   "cell_type": "code",
   "execution_count": null,
   "id": "fd0af52d",
   "metadata": {},
   "outputs": [],
   "source": [
    "db1 = sqlite3.connect(\"employee.sqlite\")\n",
    "db1"
   ]
  },
  {
   "cell_type": "code",
   "execution_count": null,
   "id": "ce580c82",
   "metadata": {},
   "outputs": [],
   "source": [
    "cur1 = db1.cursor()\n",
    "cur1"
   ]
  },
  {
   "cell_type": "code",
   "execution_count": null,
   "id": "2e447d6c",
   "metadata": {},
   "outputs": [],
   "source": [
    "sql_query1 = cur1.execute(\"create table EmployeeDetail(employeeid int primary key,Name Text,Age int,Department Text,salary int)\")\n",
    "sql_query1"
   ]
  },
  {
   "cell_type": "code",
   "execution_count": null,
   "id": "f5629655",
   "metadata": {},
   "outputs": [],
   "source": [
    "cur1.execute(\"insert into employeeDetail values(100,'Rishav',25,'Marketing',50000)\")"
   ]
  },
  {
   "cell_type": "code",
   "execution_count": null,
   "id": "a2b2ba50",
   "metadata": {},
   "outputs": [],
   "source": [
    "cur1.execute(\"insert into employeeDetail values(101,'Abhishek',26,'Operations',60000)\")"
   ]
  },
  {
   "cell_type": "code",
   "execution_count": null,
   "id": "51bc9d9a",
   "metadata": {},
   "outputs": [],
   "source": [
    "cur1.execute(\"insert into employeeDetail values(102,'Aman',24,'Human Resource',75000)\")"
   ]
  },
  {
   "cell_type": "code",
   "execution_count": null,
   "id": "b8f81556",
   "metadata": {},
   "outputs": [],
   "source": [
    "db1.commit()"
   ]
  },
  {
   "cell_type": "code",
   "execution_count": null,
   "id": "fc9d775a",
   "metadata": {},
   "outputs": [],
   "source": [
    "db = sqlite3.connect('school_1.sqlite')\n",
    "db"
   ]
  },
  {
   "cell_type": "code",
   "execution_count": null,
   "id": "e283508f",
   "metadata": {},
   "outputs": [],
   "source": [
    "cur = db.cursor()\n",
    "cur"
   ]
  },
  {
   "cell_type": "code",
   "execution_count": null,
   "id": "23cc2eba",
   "metadata": {},
   "outputs": [],
   "source": [
    "cur.execute('insert into student values(103,\"Mohit\",24)')\n"
   ]
  },
  {
   "cell_type": "code",
   "execution_count": null,
   "id": "0245fa27",
   "metadata": {},
   "outputs": [],
   "source": [
    "rollNumber = 104\n",
    "Name = 'Nikhil'\n",
    "age = 34\n",
    "# Here ? is used as a placeholder\n",
    "cur.execute(\"insert into student values(?,?,?)\",(rollNumber,Name,age))"
   ]
  },
  {
   "cell_type": "code",
   "execution_count": null,
   "id": "a7a15968",
   "metadata": {},
   "outputs": [],
   "source": [
    "db.commit()"
   ]
  },
  {
   "cell_type": "code",
   "execution_count": null,
   "id": "3ffb51f9",
   "metadata": {},
   "outputs": [],
   "source": [
    "values = [(105,'Nidhi',20),(106,'Manisha',21),(107,'Ankush',22)]\n",
    "cur.executemany(\"insert into student values(?,?,?)\",values)"
   ]
  },
  {
   "cell_type": "code",
   "execution_count": null,
   "id": "0b3fc67f",
   "metadata": {},
   "outputs": [],
   "source": [
    "db.commit()"
   ]
  },
  {
   "cell_type": "code",
   "execution_count": null,
   "id": "e2bb2ab4",
   "metadata": {},
   "outputs": [],
   "source": [
    "cur.execute('update student set age = 30')"
   ]
  },
  {
   "cell_type": "code",
   "execution_count": null,
   "id": "fd4516b8",
   "metadata": {},
   "outputs": [],
   "source": [
    "db.commit()"
   ]
  },
  {
   "cell_type": "code",
   "execution_count": null,
   "id": "ba25a332",
   "metadata": {},
   "outputs": [],
   "source": [
    "cur.execute('update student set age = 20 where rollNumber = 102')"
   ]
  },
  {
   "cell_type": "code",
   "execution_count": null,
   "id": "65d1cc27",
   "metadata": {},
   "outputs": [],
   "source": [
    "db.commit()"
   ]
  },
  {
   "cell_type": "code",
   "execution_count": null,
   "id": "42c6d45d",
   "metadata": {},
   "outputs": [],
   "source": [
    "new_age = 50\n",
    "cur.execute('update student set age = ? where rollNumber = 103',(new_age,))"
   ]
  },
  {
   "cell_type": "code",
   "execution_count": null,
   "id": "8cb4db1d",
   "metadata": {},
   "outputs": [],
   "source": [
    "db.commit()"
   ]
  },
  {
   "cell_type": "code",
   "execution_count": null,
   "id": "c65427e2",
   "metadata": {},
   "outputs": [],
   "source": [
    "cur1.execute('delete from employeeDetail where employeeid = 101')"
   ]
  },
  {
   "cell_type": "code",
   "execution_count": null,
   "id": "acdb9738",
   "metadata": {},
   "outputs": [],
   "source": [
    "db1.commit()"
   ]
  },
  {
   "cell_type": "code",
   "execution_count": null,
   "id": "d2bb301f",
   "metadata": {},
   "outputs": [],
   "source": [
    "employeeid = 102\n",
    "cur1.execute('delete from employeeDetail where employeeid = ?',(employeeid,))"
   ]
  },
  {
   "cell_type": "code",
   "execution_count": null,
   "id": "7492bfb0",
   "metadata": {},
   "outputs": [],
   "source": [
    "db1.commit()"
   ]
  },
  {
   "cell_type": "code",
   "execution_count": null,
   "id": "3eff848d",
   "metadata": {},
   "outputs": [],
   "source": [
    "## Open and read data file as specified in the question\n",
    "## Print the required output in given format\n",
    "employee_id=[101,102,103,104,105,106,107,108,109,110,111,112]\n",
    "name=['Aadarsh','Aarti','Siddharth','Aman','Amit','Shivansh','Vaibhav','Himanshu','Raman','Kunal','Adhira','Tanya']\n",
    "age=[25,27,25,24,30,26,23,26,25,26,29,24]\n",
    "department=['Marketing','Operations','Finance','Human Resource','Marketing','IT','Finance','IT','Operations','Marketing','Human Resource','Marketing']\n",
    "salary=[50000,60000,85000,75000,50000,90000,85000,90000,60000,50000,75000,50000]\n",
    "values = [(employee_id,name,age,department,salary)]\n",
    "for i in range(1,len(employee_id)):\n",
    "    cur1.execute(\"insert into employeeDetail values(?,?,?,?,?)\",(employee_id[i],name[i],age[i],department[i],salary[i]))"
   ]
  },
  {
   "cell_type": "code",
   "execution_count": null,
   "id": "4017af34",
   "metadata": {},
   "outputs": [],
   "source": [
    "db1.commit()"
   ]
  },
  {
   "cell_type": "code",
   "execution_count": null,
   "id": "b9c50935",
   "metadata": {},
   "outputs": [],
   "source": [
    "db2 = sqlite3.connect(\"school.sqlite\")\n",
    "db2"
   ]
  },
  {
   "cell_type": "code",
   "execution_count": null,
   "id": "39269063",
   "metadata": {},
   "outputs": [],
   "source": [
    "cur2 = db2.cursor()"
   ]
  },
  {
   "cell_type": "code",
   "execution_count": null,
   "id": "438f4501",
   "metadata": {},
   "outputs": [],
   "source": [
    "cur2.execute('select * from student')"
   ]
  },
  {
   "cell_type": "code",
   "execution_count": null,
   "id": "46f327f0",
   "metadata": {},
   "outputs": [],
   "source": [
    "for row in cur2:\n",
    "    print(row)"
   ]
  },
  {
   "cell_type": "code",
   "execution_count": null,
   "id": "73bad46f",
   "metadata": {},
   "outputs": [],
   "source": [
    "cur2.execute('select * from student')\n",
    "print(cur2.fetchone())\n",
    "print(cur2.fetchone())"
   ]
  },
  {
   "cell_type": "code",
   "execution_count": null,
   "id": "894c3bc2",
   "metadata": {},
   "outputs": [],
   "source": [
    "cur2.execute('select * from student')\n",
    "print(cur2.fetchmany(3))\n",
    "print(cur2.fetchmany())"
   ]
  },
  {
   "cell_type": "code",
   "execution_count": null,
   "id": "e75d6fbb",
   "metadata": {},
   "outputs": [],
   "source": [
    "cur2.execute('select * from student')\n",
    "ans = cur2.fetchall()\n",
    "ans"
   ]
  },
  {
   "cell_type": "code",
   "execution_count": null,
   "id": "bf48cd15",
   "metadata": {},
   "outputs": [],
   "source": [
    "cur2.execute('select * from student where rollNumber > 103')\n",
    "print(cur2.fetchall())"
   ]
  },
  {
   "cell_type": "code",
   "execution_count": null,
   "id": "70d8b925",
   "metadata": {},
   "outputs": [],
   "source": [
    "cur2.execute('select * from student where name like \"A%\"')\n",
    "cur2.fetchall()"
   ]
  },
  {
   "cell_type": "code",
   "execution_count": null,
   "id": "5cbbb68a",
   "metadata": {},
   "outputs": [],
   "source": [
    "cur1.execute('select * from employeedetail where department = \"Finance\"')\n",
    "cur1.fetchall()"
   ]
  },
  {
   "cell_type": "code",
   "execution_count": null,
   "id": "82b078dc",
   "metadata": {},
   "outputs": [],
   "source": [
    "\n",
    "cur1.execute(\"select distinct department,count(distinct department) from employeedetail\")\n"
   ]
  },
  {
   "cell_type": "code",
   "execution_count": null,
   "id": "be08a66f",
   "metadata": {},
   "outputs": [],
   "source": [
    "import pandas as pd\n",
    "import sqlite3"
   ]
  },
  {
   "cell_type": "code",
   "execution_count": null,
   "id": "1f5ceea2",
   "metadata": {},
   "outputs": [],
   "source": [
    "db = sqlite3.connect('school.sqlite')"
   ]
  },
  {
   "cell_type": "code",
   "execution_count": null,
   "id": "9b7576de",
   "metadata": {},
   "outputs": [],
   "source": [
    "data = pd.read_sql_query(\"select * from student\",db)\n",
    "data"
   ]
  },
  {
   "cell_type": "code",
   "execution_count": null,
   "id": "b03d4640",
   "metadata": {},
   "outputs": [],
   "source": [
    "data[data['Age'] == 30]"
   ]
  },
  {
   "cell_type": "code",
   "execution_count": null,
   "id": "cf0c58e1",
   "metadata": {},
   "outputs": [],
   "source": [
    "data = pd.DataFrame([[201,'Aman','English',20000],[202,'Komal','Maths',22000],[203,'Mahesh','Science',23000]]\n",
    "                   ,columns = ['ID','Name','Course','Salary'])\n",
    "data"
   ]
  },
  {
   "cell_type": "code",
   "execution_count": null,
   "id": "aaa44805",
   "metadata": {},
   "outputs": [],
   "source": [
    "data.to_sql('Faculty_1',db)"
   ]
  },
  {
   "cell_type": "code",
   "execution_count": 248,
   "id": "8d5d6076",
   "metadata": {},
   "outputs": [
    {
     "ename": "OperationalError",
     "evalue": "table \"Student\" already exists",
     "output_type": "error",
     "traceback": [
      "\u001b[1;31m---------------------------------------------------------------------------\u001b[0m",
      "\u001b[1;31mOperationalError\u001b[0m                          Traceback (most recent call last)",
      "\u001b[1;32m<ipython-input-248-295265e8677f>\u001b[0m in \u001b[0;36m<module>\u001b[1;34m\u001b[0m\n\u001b[0;32m      1\u001b[0m \u001b[0mdata\u001b[0m \u001b[1;33m=\u001b[0m \u001b[0mpd\u001b[0m\u001b[1;33m.\u001b[0m\u001b[0mread_sql_query\u001b[0m\u001b[1;33m(\u001b[0m\u001b[1;34m'select * from student'\u001b[0m\u001b[1;33m,\u001b[0m\u001b[0mdb\u001b[0m\u001b[1;33m)\u001b[0m\u001b[1;33m\u001b[0m\u001b[1;33m\u001b[0m\u001b[0m\n\u001b[0;32m      2\u001b[0m \u001b[0mdata\u001b[0m\u001b[1;33m[\u001b[0m\u001b[1;34m'Marks'\u001b[0m\u001b[1;33m]\u001b[0m \u001b[1;33m=\u001b[0m \u001b[1;36m80\u001b[0m\u001b[1;33m\u001b[0m\u001b[1;33m\u001b[0m\u001b[0m\n\u001b[1;32m----> 3\u001b[1;33m \u001b[0mdata\u001b[0m\u001b[1;33m.\u001b[0m\u001b[0mto_sql\u001b[0m\u001b[1;33m(\u001b[0m\u001b[1;34m'Student'\u001b[0m\u001b[1;33m,\u001b[0m\u001b[0mdb\u001b[0m\u001b[1;33m,\u001b[0m\u001b[0mif_exists\u001b[0m \u001b[1;33m=\u001b[0m \u001b[1;34m'replace'\u001b[0m\u001b[1;33m)\u001b[0m\u001b[1;33m\u001b[0m\u001b[1;33m\u001b[0m\u001b[0m\n\u001b[0m",
      "\u001b[1;32mF:\\anaconda\\lib\\site-packages\\pandas\\core\\generic.py\u001b[0m in \u001b[0;36mto_sql\u001b[1;34m(self, name, con, schema, if_exists, index, index_label, chunksize, dtype, method)\u001b[0m\n\u001b[0;32m   2777\u001b[0m         \u001b[1;32mfrom\u001b[0m \u001b[0mpandas\u001b[0m\u001b[1;33m.\u001b[0m\u001b[0mio\u001b[0m \u001b[1;32mimport\u001b[0m \u001b[0msql\u001b[0m\u001b[1;33m\u001b[0m\u001b[1;33m\u001b[0m\u001b[0m\n\u001b[0;32m   2778\u001b[0m \u001b[1;33m\u001b[0m\u001b[0m\n\u001b[1;32m-> 2779\u001b[1;33m         sql.to_sql(\n\u001b[0m\u001b[0;32m   2780\u001b[0m             \u001b[0mself\u001b[0m\u001b[1;33m,\u001b[0m\u001b[1;33m\u001b[0m\u001b[1;33m\u001b[0m\u001b[0m\n\u001b[0;32m   2781\u001b[0m             \u001b[0mname\u001b[0m\u001b[1;33m,\u001b[0m\u001b[1;33m\u001b[0m\u001b[1;33m\u001b[0m\u001b[0m\n",
      "\u001b[1;32mF:\\anaconda\\lib\\site-packages\\pandas\\io\\sql.py\u001b[0m in \u001b[0;36mto_sql\u001b[1;34m(frame, name, con, schema, if_exists, index, index_label, chunksize, dtype, method)\u001b[0m\n\u001b[0;32m    599\u001b[0m         )\n\u001b[0;32m    600\u001b[0m \u001b[1;33m\u001b[0m\u001b[0m\n\u001b[1;32m--> 601\u001b[1;33m     pandas_sql.to_sql(\n\u001b[0m\u001b[0;32m    602\u001b[0m         \u001b[0mframe\u001b[0m\u001b[1;33m,\u001b[0m\u001b[1;33m\u001b[0m\u001b[1;33m\u001b[0m\u001b[0m\n\u001b[0;32m    603\u001b[0m         \u001b[0mname\u001b[0m\u001b[1;33m,\u001b[0m\u001b[1;33m\u001b[0m\u001b[1;33m\u001b[0m\u001b[0m\n",
      "\u001b[1;32mF:\\anaconda\\lib\\site-packages\\pandas\\io\\sql.py\u001b[0m in \u001b[0;36mto_sql\u001b[1;34m(self, frame, name, if_exists, index, index_label, schema, chunksize, dtype, method)\u001b[0m\n\u001b[0;32m   1869\u001b[0m             \u001b[0mdtype\u001b[0m\u001b[1;33m=\u001b[0m\u001b[0mdtype\u001b[0m\u001b[1;33m,\u001b[0m\u001b[1;33m\u001b[0m\u001b[1;33m\u001b[0m\u001b[0m\n\u001b[0;32m   1870\u001b[0m         )\n\u001b[1;32m-> 1871\u001b[1;33m         \u001b[0mtable\u001b[0m\u001b[1;33m.\u001b[0m\u001b[0mcreate\u001b[0m\u001b[1;33m(\u001b[0m\u001b[1;33m)\u001b[0m\u001b[1;33m\u001b[0m\u001b[1;33m\u001b[0m\u001b[0m\n\u001b[0m\u001b[0;32m   1872\u001b[0m         \u001b[0mtable\u001b[0m\u001b[1;33m.\u001b[0m\u001b[0minsert\u001b[0m\u001b[1;33m(\u001b[0m\u001b[0mchunksize\u001b[0m\u001b[1;33m,\u001b[0m \u001b[0mmethod\u001b[0m\u001b[1;33m)\u001b[0m\u001b[1;33m\u001b[0m\u001b[1;33m\u001b[0m\u001b[0m\n\u001b[0;32m   1873\u001b[0m \u001b[1;33m\u001b[0m\u001b[0m\n",
      "\u001b[1;32mF:\\anaconda\\lib\\site-packages\\pandas\\io\\sql.py\u001b[0m in \u001b[0;36mcreate\u001b[1;34m(self)\u001b[0m\n\u001b[0;32m    745\u001b[0m                 \u001b[1;32mraise\u001b[0m \u001b[0mValueError\u001b[0m\u001b[1;33m(\u001b[0m\u001b[1;34mf\"'{self.if_exists}' is not valid for if_exists\"\u001b[0m\u001b[1;33m)\u001b[0m\u001b[1;33m\u001b[0m\u001b[1;33m\u001b[0m\u001b[0m\n\u001b[0;32m    746\u001b[0m         \u001b[1;32melse\u001b[0m\u001b[1;33m:\u001b[0m\u001b[1;33m\u001b[0m\u001b[1;33m\u001b[0m\u001b[0m\n\u001b[1;32m--> 747\u001b[1;33m             \u001b[0mself\u001b[0m\u001b[1;33m.\u001b[0m\u001b[0m_execute_create\u001b[0m\u001b[1;33m(\u001b[0m\u001b[1;33m)\u001b[0m\u001b[1;33m\u001b[0m\u001b[1;33m\u001b[0m\u001b[0m\n\u001b[0m\u001b[0;32m    748\u001b[0m \u001b[1;33m\u001b[0m\u001b[0m\n\u001b[0;32m    749\u001b[0m     \u001b[1;32mdef\u001b[0m \u001b[0m_execute_insert\u001b[0m\u001b[1;33m(\u001b[0m\u001b[0mself\u001b[0m\u001b[1;33m,\u001b[0m \u001b[0mconn\u001b[0m\u001b[1;33m,\u001b[0m \u001b[0mkeys\u001b[0m\u001b[1;33m,\u001b[0m \u001b[0mdata_iter\u001b[0m\u001b[1;33m)\u001b[0m\u001b[1;33m:\u001b[0m\u001b[1;33m\u001b[0m\u001b[1;33m\u001b[0m\u001b[0m\n",
      "\u001b[1;32mF:\\anaconda\\lib\\site-packages\\pandas\\io\\sql.py\u001b[0m in \u001b[0;36m_execute_create\u001b[1;34m(self)\u001b[0m\n\u001b[0;32m   1570\u001b[0m         \u001b[1;32mwith\u001b[0m \u001b[0mself\u001b[0m\u001b[1;33m.\u001b[0m\u001b[0mpd_sql\u001b[0m\u001b[1;33m.\u001b[0m\u001b[0mrun_transaction\u001b[0m\u001b[1;33m(\u001b[0m\u001b[1;33m)\u001b[0m \u001b[1;32mas\u001b[0m \u001b[0mconn\u001b[0m\u001b[1;33m:\u001b[0m\u001b[1;33m\u001b[0m\u001b[1;33m\u001b[0m\u001b[0m\n\u001b[0;32m   1571\u001b[0m             \u001b[1;32mfor\u001b[0m \u001b[0mstmt\u001b[0m \u001b[1;32min\u001b[0m \u001b[0mself\u001b[0m\u001b[1;33m.\u001b[0m\u001b[0mtable\u001b[0m\u001b[1;33m:\u001b[0m\u001b[1;33m\u001b[0m\u001b[1;33m\u001b[0m\u001b[0m\n\u001b[1;32m-> 1572\u001b[1;33m                 \u001b[0mconn\u001b[0m\u001b[1;33m.\u001b[0m\u001b[0mexecute\u001b[0m\u001b[1;33m(\u001b[0m\u001b[0mstmt\u001b[0m\u001b[1;33m)\u001b[0m\u001b[1;33m\u001b[0m\u001b[1;33m\u001b[0m\u001b[0m\n\u001b[0m\u001b[0;32m   1573\u001b[0m \u001b[1;33m\u001b[0m\u001b[0m\n\u001b[0;32m   1574\u001b[0m     \u001b[1;32mdef\u001b[0m \u001b[0minsert_statement\u001b[0m\u001b[1;33m(\u001b[0m\u001b[0mself\u001b[0m\u001b[1;33m,\u001b[0m \u001b[1;33m*\u001b[0m\u001b[1;33m,\u001b[0m \u001b[0mnum_rows\u001b[0m\u001b[1;33m)\u001b[0m\u001b[1;33m:\u001b[0m\u001b[1;33m\u001b[0m\u001b[1;33m\u001b[0m\u001b[0m\n",
      "\u001b[1;31mOperationalError\u001b[0m: table \"Student\" already exists"
     ]
    }
   ],
   "source": [
    "data = pd.read_sql_query('select * from student',db)\n",
    "data['Marks'] = 80\n",
    "data.to_sql('Student',db,if_exists = 'replace')"
   ]
  },
  {
   "cell_type": "code",
   "execution_count": null,
   "id": "996813c6",
   "metadata": {},
   "outputs": [],
   "source": [
    "db.commit()"
   ]
  },
  {
   "cell_type": "code",
   "execution_count": null,
   "id": "975af856",
   "metadata": {},
   "outputs": [],
   "source": [
    "db3 = sqlite3.connect(\"IMDB.sqlite\")\n",
    "db3"
   ]
  },
  {
   "cell_type": "code",
   "execution_count": null,
   "id": "630fc206",
   "metadata": {},
   "outputs": [],
   "source": [
    "cur3 = db3.cursor()"
   ]
  },
  {
   "cell_type": "code",
   "execution_count": null,
   "id": "c0f1ee3f",
   "metadata": {},
   "outputs": [],
   "source": [
    "data = pd.read_sql_query('select *,count(genre) from genre group by genre',db3)\n",
    "data"
   ]
  },
  {
   "cell_type": "code",
   "execution_count": null,
   "id": "abaeebcf",
   "metadata": {},
   "outputs": [],
   "source": [
    "ans = cur3.execute('select genre,count(genre) from genre group by genre')\n",
    "for i in cur3:\n",
    "    print(i[0],i[1])"
   ]
  },
  {
   "cell_type": "code",
   "execution_count": 251,
   "id": "8db09594",
   "metadata": {},
   "outputs": [
    {
     "data": {
      "text/html": [
       "<div>\n",
       "<style scoped>\n",
       "    .dataframe tbody tr th:only-of-type {\n",
       "        vertical-align: middle;\n",
       "    }\n",
       "\n",
       "    .dataframe tbody tr th {\n",
       "        vertical-align: top;\n",
       "    }\n",
       "\n",
       "    .dataframe thead th {\n",
       "        text-align: right;\n",
       "    }\n",
       "</style>\n",
       "<table border=\"1\" class=\"dataframe\">\n",
       "  <thead>\n",
       "    <tr style=\"text-align: right;\">\n",
       "      <th></th>\n",
       "      <th>index</th>\n",
       "      <th>Movie_id</th>\n",
       "      <th>Domestic</th>\n",
       "      <th>Worldwide</th>\n",
       "      <th>total</th>\n",
       "    </tr>\n",
       "  </thead>\n",
       "  <tbody>\n",
       "    <tr>\n",
       "      <th>0</th>\n",
       "      <td>0</td>\n",
       "      <td>36809</td>\n",
       "      <td>56671993</td>\n",
       "      <td>1.877332e+08</td>\n",
       "      <td>2.444052e+08</td>\n",
       "    </tr>\n",
       "    <tr>\n",
       "      <th>1</th>\n",
       "      <td>1</td>\n",
       "      <td>30114</td>\n",
       "      <td>18335230</td>\n",
       "      <td>6.073880e+07</td>\n",
       "      <td>7.907403e+07</td>\n",
       "    </tr>\n",
       "    <tr>\n",
       "      <th>2</th>\n",
       "      <td>2</td>\n",
       "      <td>37367</td>\n",
       "      <td>35014192</td>\n",
       "      <td>3.918778e+07</td>\n",
       "      <td>7.420198e+07</td>\n",
       "    </tr>\n",
       "    <tr>\n",
       "      <th>3</th>\n",
       "      <td>3</td>\n",
       "      <td>49473</td>\n",
       "      <td>15322921</td>\n",
       "      <td>8.710045e+07</td>\n",
       "      <td>1.024234e+08</td>\n",
       "    </tr>\n",
       "    <tr>\n",
       "      <th>4</th>\n",
       "      <td>4</td>\n",
       "      <td>14867</td>\n",
       "      <td>6739492</td>\n",
       "      <td>1.983949e+07</td>\n",
       "      <td>2.657898e+07</td>\n",
       "    </tr>\n",
       "    <tr>\n",
       "      <th>...</th>\n",
       "      <td>...</td>\n",
       "      <td>...</td>\n",
       "      <td>...</td>\n",
       "      <td>...</td>\n",
       "      <td>...</td>\n",
       "    </tr>\n",
       "    <tr>\n",
       "      <th>112</th>\n",
       "      <td>112</td>\n",
       "      <td>38262</td>\n",
       "      <td>13092000</td>\n",
       "      <td>4.898204e+07</td>\n",
       "      <td>6.207404e+07</td>\n",
       "    </tr>\n",
       "    <tr>\n",
       "      <th>113</th>\n",
       "      <td>113</td>\n",
       "      <td>10023</td>\n",
       "      <td>189422889</td>\n",
       "      <td>4.712229e+08</td>\n",
       "      <td>6.606458e+08</td>\n",
       "    </tr>\n",
       "    <tr>\n",
       "      <th>114</th>\n",
       "      <td>114</td>\n",
       "      <td>27783</td>\n",
       "      <td>233921534</td>\n",
       "      <td>7.478628e+08</td>\n",
       "      <td>9.817843e+08</td>\n",
       "    </tr>\n",
       "    <tr>\n",
       "      <th>115</th>\n",
       "      <td>115</td>\n",
       "      <td>42294</td>\n",
       "      <td>146408305</td>\n",
       "      <td>3.536241e+08</td>\n",
       "      <td>5.000324e+08</td>\n",
       "    </tr>\n",
       "    <tr>\n",
       "      <th>116</th>\n",
       "      <td>116</td>\n",
       "      <td>32217</td>\n",
       "      <td>341268248</td>\n",
       "      <td>1.023784e+09</td>\n",
       "      <td>1.365052e+09</td>\n",
       "    </tr>\n",
       "  </tbody>\n",
       "</table>\n",
       "<p>117 rows × 5 columns</p>\n",
       "</div>"
      ],
      "text/plain": [
       "     index Movie_id   Domestic     Worldwide         total\n",
       "0        0    36809   56671993  1.877332e+08  2.444052e+08\n",
       "1        1    30114   18335230  6.073880e+07  7.907403e+07\n",
       "2        2    37367   35014192  3.918778e+07  7.420198e+07\n",
       "3        3    49473   15322921  8.710045e+07  1.024234e+08\n",
       "4        4    14867    6739492  1.983949e+07  2.657898e+07\n",
       "..     ...      ...        ...           ...           ...\n",
       "112    112    38262   13092000  4.898204e+07  6.207404e+07\n",
       "113    113    10023  189422889  4.712229e+08  6.606458e+08\n",
       "114    114    27783  233921534  7.478628e+08  9.817843e+08\n",
       "115    115    42294  146408305  3.536241e+08  5.000324e+08\n",
       "116    116    32217  341268248  1.023784e+09  1.365052e+09\n",
       "\n",
       "[117 rows x 5 columns]"
      ]
     },
     "execution_count": 251,
     "metadata": {},
     "output_type": "execute_result"
    }
   ],
   "source": [
    "data = pd.read_sql_query('select * from earning',db3)\n",
    "data['total'] = data['Domestic'] + data['Worldwide'] \n",
    "data.to_sql('earning',db3,if_exists = 'replace')\n",
    "data"
   ]
  },
  {
   "cell_type": "code",
   "execution_count": 254,
   "id": "fa9ea301",
   "metadata": {},
   "outputs": [
    {
     "data": {
      "text/html": [
       "<div>\n",
       "<style scoped>\n",
       "    .dataframe tbody tr th:only-of-type {\n",
       "        vertical-align: middle;\n",
       "    }\n",
       "\n",
       "    .dataframe tbody tr th {\n",
       "        vertical-align: top;\n",
       "    }\n",
       "\n",
       "    .dataframe thead th {\n",
       "        text-align: right;\n",
       "    }\n",
       "</style>\n",
       "<table border=\"1\" class=\"dataframe\">\n",
       "  <thead>\n",
       "    <tr style=\"text-align: right;\">\n",
       "      <th></th>\n",
       "      <th>Rating</th>\n",
       "      <th>max(total)</th>\n",
       "    </tr>\n",
       "  </thead>\n",
       "  <tbody>\n",
       "    <tr>\n",
       "      <th>0</th>\n",
       "      <td>7.5</td>\n",
       "      <td>2.798985e+08</td>\n",
       "    </tr>\n",
       "    <tr>\n",
       "      <th>1</th>\n",
       "      <td>7.6</td>\n",
       "      <td>1.289680e+09</td>\n",
       "    </tr>\n",
       "    <tr>\n",
       "      <th>2</th>\n",
       "      <td>7.7</td>\n",
       "      <td>1.256267e+09</td>\n",
       "    </tr>\n",
       "    <tr>\n",
       "      <th>3</th>\n",
       "      <td>7.8</td>\n",
       "      <td>1.412921e+09</td>\n",
       "    </tr>\n",
       "    <tr>\n",
       "      <th>4</th>\n",
       "      <td>7.9</td>\n",
       "      <td>1.588235e+09</td>\n",
       "    </tr>\n",
       "    <tr>\n",
       "      <th>5</th>\n",
       "      <td>8.0</td>\n",
       "      <td>1.146184e+09</td>\n",
       "    </tr>\n",
       "    <tr>\n",
       "      <th>6</th>\n",
       "      <td>8.1</td>\n",
       "      <td>3.004886e+09</td>\n",
       "    </tr>\n",
       "    <tr>\n",
       "      <th>7</th>\n",
       "      <td>8.2</td>\n",
       "      <td>1.214073e+09</td>\n",
       "    </tr>\n",
       "    <tr>\n",
       "      <th>8</th>\n",
       "      <td>8.3</td>\n",
       "      <td>1.481975e+09</td>\n",
       "    </tr>\n",
       "    <tr>\n",
       "      <th>9</th>\n",
       "      <td>8.4</td>\n",
       "      <td>1.533078e+09</td>\n",
       "    </tr>\n",
       "    <tr>\n",
       "      <th>10</th>\n",
       "      <td>8.5</td>\n",
       "      <td>6.207404e+07</td>\n",
       "    </tr>\n",
       "    <tr>\n",
       "      <th>11</th>\n",
       "      <td>8.6</td>\n",
       "      <td>8.631400e+08</td>\n",
       "    </tr>\n",
       "    <tr>\n",
       "      <th>12</th>\n",
       "      <td>8.8</td>\n",
       "      <td>1.118109e+09</td>\n",
       "    </tr>\n",
       "  </tbody>\n",
       "</table>\n",
       "</div>"
      ],
      "text/plain": [
       "    Rating    max(total)\n",
       "0      7.5  2.798985e+08\n",
       "1      7.6  1.289680e+09\n",
       "2      7.7  1.256267e+09\n",
       "3      7.8  1.412921e+09\n",
       "4      7.9  1.588235e+09\n",
       "5      8.0  1.146184e+09\n",
       "6      8.1  3.004886e+09\n",
       "7      8.2  1.214073e+09\n",
       "8      8.3  1.481975e+09\n",
       "9      8.4  1.533078e+09\n",
       "10     8.5  6.207404e+07\n",
       "11     8.6  8.631400e+08\n",
       "12     8.8  1.118109e+09"
      ]
     },
     "execution_count": 254,
     "metadata": {},
     "output_type": "execute_result"
    }
   ],
   "source": [
    "data = pd.read_sql_query('select rating,max(total) from IMDB join earning on IMDB.movie_id = earning.movie_id group by rating',db3)\n",
    "data"
   ]
  },
  {
   "cell_type": "code",
   "execution_count": 281,
   "id": "17840153",
   "metadata": {},
   "outputs": [
    {
     "name": "stdout",
     "output_type": "stream",
     "text": [
      "8.1\n"
     ]
    }
   ],
   "source": [
    "cur3.execute('select rating,max(total) from IMDB join earning on IMDB.movie_id = earning.movie_id')\n",
    "for i in cur3:\n",
    "    print(i[0])"
   ]
  },
  {
   "cell_type": "code",
   "execution_count": 273,
   "id": "0a116380",
   "metadata": {},
   "outputs": [
    {
     "data": {
      "text/html": [
       "<div>\n",
       "<style scoped>\n",
       "    .dataframe tbody tr th:only-of-type {\n",
       "        vertical-align: middle;\n",
       "    }\n",
       "\n",
       "    .dataframe tbody tr th {\n",
       "        vertical-align: top;\n",
       "    }\n",
       "\n",
       "    .dataframe thead th {\n",
       "        text-align: right;\n",
       "    }\n",
       "</style>\n",
       "<table border=\"1\" class=\"dataframe\">\n",
       "  <thead>\n",
       "    <tr style=\"text-align: right;\">\n",
       "      <th></th>\n",
       "      <th>employeeid</th>\n",
       "      <th>Name</th>\n",
       "      <th>Age</th>\n",
       "      <th>Department</th>\n",
       "      <th>salary</th>\n",
       "    </tr>\n",
       "  </thead>\n",
       "  <tbody>\n",
       "    <tr>\n",
       "      <th>0</th>\n",
       "      <td>100</td>\n",
       "      <td>Rishav</td>\n",
       "      <td>25</td>\n",
       "      <td>Marketing</td>\n",
       "      <td>50000</td>\n",
       "    </tr>\n",
       "    <tr>\n",
       "      <th>1</th>\n",
       "      <td>101</td>\n",
       "      <td>Aadarsh</td>\n",
       "      <td>25</td>\n",
       "      <td>Marketing</td>\n",
       "      <td>50000</td>\n",
       "    </tr>\n",
       "    <tr>\n",
       "      <th>2</th>\n",
       "      <td>102</td>\n",
       "      <td>Aarti</td>\n",
       "      <td>27</td>\n",
       "      <td>Operations</td>\n",
       "      <td>60000</td>\n",
       "    </tr>\n",
       "    <tr>\n",
       "      <th>3</th>\n",
       "      <td>103</td>\n",
       "      <td>Siddharth</td>\n",
       "      <td>25</td>\n",
       "      <td>Finance</td>\n",
       "      <td>85000</td>\n",
       "    </tr>\n",
       "    <tr>\n",
       "      <th>4</th>\n",
       "      <td>104</td>\n",
       "      <td>Aman</td>\n",
       "      <td>24</td>\n",
       "      <td>Human Resource</td>\n",
       "      <td>75000</td>\n",
       "    </tr>\n",
       "    <tr>\n",
       "      <th>5</th>\n",
       "      <td>105</td>\n",
       "      <td>Amit</td>\n",
       "      <td>30</td>\n",
       "      <td>Marketing</td>\n",
       "      <td>50000</td>\n",
       "    </tr>\n",
       "    <tr>\n",
       "      <th>6</th>\n",
       "      <td>106</td>\n",
       "      <td>Shivansh</td>\n",
       "      <td>26</td>\n",
       "      <td>IT</td>\n",
       "      <td>90000</td>\n",
       "    </tr>\n",
       "    <tr>\n",
       "      <th>7</th>\n",
       "      <td>107</td>\n",
       "      <td>Vaibhav</td>\n",
       "      <td>23</td>\n",
       "      <td>Finance</td>\n",
       "      <td>85000</td>\n",
       "    </tr>\n",
       "    <tr>\n",
       "      <th>8</th>\n",
       "      <td>108</td>\n",
       "      <td>Himanshu</td>\n",
       "      <td>26</td>\n",
       "      <td>IT</td>\n",
       "      <td>90000</td>\n",
       "    </tr>\n",
       "    <tr>\n",
       "      <th>9</th>\n",
       "      <td>109</td>\n",
       "      <td>Raman</td>\n",
       "      <td>25</td>\n",
       "      <td>Operations</td>\n",
       "      <td>60000</td>\n",
       "    </tr>\n",
       "    <tr>\n",
       "      <th>10</th>\n",
       "      <td>110</td>\n",
       "      <td>Kunal</td>\n",
       "      <td>26</td>\n",
       "      <td>Marketing</td>\n",
       "      <td>50000</td>\n",
       "    </tr>\n",
       "    <tr>\n",
       "      <th>11</th>\n",
       "      <td>111</td>\n",
       "      <td>Adhira</td>\n",
       "      <td>29</td>\n",
       "      <td>Human Resource</td>\n",
       "      <td>75000</td>\n",
       "    </tr>\n",
       "    <tr>\n",
       "      <th>12</th>\n",
       "      <td>112</td>\n",
       "      <td>Tanya</td>\n",
       "      <td>24</td>\n",
       "      <td>Marketing</td>\n",
       "      <td>50000</td>\n",
       "    </tr>\n",
       "  </tbody>\n",
       "</table>\n",
       "</div>"
      ],
      "text/plain": [
       "    employeeid       Name  Age      Department  salary\n",
       "0          100     Rishav   25       Marketing   50000\n",
       "1          101    Aadarsh   25       Marketing   50000\n",
       "2          102      Aarti   27      Operations   60000\n",
       "3          103  Siddharth   25         Finance   85000\n",
       "4          104       Aman   24  Human Resource   75000\n",
       "5          105       Amit   30       Marketing   50000\n",
       "6          106   Shivansh   26              IT   90000\n",
       "7          107    Vaibhav   23         Finance   85000\n",
       "8          108   Himanshu   26              IT   90000\n",
       "9          109      Raman   25      Operations   60000\n",
       "10         110      Kunal   26       Marketing   50000\n",
       "11         111     Adhira   29  Human Resource   75000\n",
       "12         112      Tanya   24       Marketing   50000"
      ]
     },
     "execution_count": 273,
     "metadata": {},
     "output_type": "execute_result"
    }
   ],
   "source": [
    "data = pd.read_sql_query('select * from employeedetail',db1)\n",
    "data"
   ]
  },
  {
   "cell_type": "code",
   "execution_count": 280,
   "id": "7666a134",
   "metadata": {},
   "outputs": [
    {
     "name": "stdout",
     "output_type": "stream",
     "text": [
      "Marketing 5\n",
      "Operations 2\n",
      "IT 2\n",
      "Human Resource 2\n",
      "Finance 2\n"
     ]
    }
   ],
   "source": [
    "cur1.execute('select department,count(department) from employeedetail group by department order by count(department) desc')\n",
    "for i in cur1:\n",
    "    print(i[0],i[1])"
   ]
  },
  {
   "cell_type": "code",
   "execution_count": 282,
   "id": "ba985f07",
   "metadata": {},
   "outputs": [],
   "source": [
    "# Marketing 4\n",
    "# Operations 2\n",
    "# Finance 2\n",
    "# Human Resource 2\n",
    "# IT 2"
   ]
  },
  {
   "cell_type": "code",
   "execution_count": 298,
   "id": "143c6be2",
   "metadata": {},
   "outputs": [
    {
     "data": {
      "text/html": [
       "<div>\n",
       "<style scoped>\n",
       "    .dataframe tbody tr th:only-of-type {\n",
       "        vertical-align: middle;\n",
       "    }\n",
       "\n",
       "    .dataframe tbody tr th {\n",
       "        vertical-align: top;\n",
       "    }\n",
       "\n",
       "    .dataframe thead th {\n",
       "        text-align: right;\n",
       "    }\n",
       "</style>\n",
       "<table border=\"1\" class=\"dataframe\">\n",
       "  <thead>\n",
       "    <tr style=\"text-align: right;\">\n",
       "      <th></th>\n",
       "      <th>Title</th>\n",
       "      <th>max(totalVotes)</th>\n",
       "      <th>Rating</th>\n",
       "    </tr>\n",
       "  </thead>\n",
       "  <tbody>\n",
       "    <tr>\n",
       "      <th>0</th>\n",
       "      <td>Tyrannosaur (2011)</td>\n",
       "      <td>26016</td>\n",
       "      <td>7.6</td>\n",
       "    </tr>\n",
       "    <tr>\n",
       "      <th>1</th>\n",
       "      <td>I, Daniel Blake (2016)</td>\n",
       "      <td>28350</td>\n",
       "      <td>7.9</td>\n",
       "    </tr>\n",
       "    <tr>\n",
       "      <th>2</th>\n",
       "      <td>Pride (2014)</td>\n",
       "      <td>40577</td>\n",
       "      <td>7.8</td>\n",
       "    </tr>\n",
       "    <tr>\n",
       "      <th>3</th>\n",
       "      <td>The Little Prince (2015)</td>\n",
       "      <td>40777</td>\n",
       "      <td>7.8</td>\n",
       "    </tr>\n",
       "    <tr>\n",
       "      <th>4</th>\n",
       "      <td>Sing Street (2016)</td>\n",
       "      <td>56066</td>\n",
       "      <td>8.0</td>\n",
       "    </tr>\n",
       "    <tr>\n",
       "      <th>...</th>\n",
       "      <td>...</td>\n",
       "      <td>...</td>\n",
       "      <td>...</td>\n",
       "    </tr>\n",
       "    <tr>\n",
       "      <th>112</th>\n",
       "      <td>The Avengers (2012)</td>\n",
       "      <td>1056773</td>\n",
       "      <td>8.1</td>\n",
       "    </tr>\n",
       "    <tr>\n",
       "      <th>113</th>\n",
       "      <td>Django Unchained (2012)</td>\n",
       "      <td>1056822</td>\n",
       "      <td>8.4</td>\n",
       "    </tr>\n",
       "    <tr>\n",
       "      <th>114</th>\n",
       "      <td>Interstellar (2014)</td>\n",
       "      <td>1075163</td>\n",
       "      <td>8.6</td>\n",
       "    </tr>\n",
       "    <tr>\n",
       "      <th>115</th>\n",
       "      <td>The Dark Knight Rises (2012)</td>\n",
       "      <td>1240780</td>\n",
       "      <td>8.4</td>\n",
       "    </tr>\n",
       "    <tr>\n",
       "      <th>116</th>\n",
       "      <td>Inception (2010)</td>\n",
       "      <td>1609713</td>\n",
       "      <td>8.8</td>\n",
       "    </tr>\n",
       "  </tbody>\n",
       "</table>\n",
       "<p>117 rows × 3 columns</p>\n",
       "</div>"
      ],
      "text/plain": [
       "                            Title  max(totalVotes)  Rating\n",
       "0              Tyrannosaur (2011)            26016     7.6\n",
       "1          I, Daniel Blake (2016)            28350     7.9\n",
       "2                    Pride (2014)            40577     7.8\n",
       "3        The Little Prince (2015)            40777     7.8\n",
       "4              Sing Street (2016)            56066     8.0\n",
       "..                            ...              ...     ...\n",
       "112           The Avengers (2012)          1056773     8.1\n",
       "113       Django Unchained (2012)          1056822     8.4\n",
       "114           Interstellar (2014)          1075163     8.6\n",
       "115  The Dark Knight Rises (2012)          1240780     8.4\n",
       "116              Inception (2010)          1609713     8.8\n",
       "\n",
       "[117 rows x 3 columns]"
      ]
     },
     "execution_count": 298,
     "metadata": {},
     "output_type": "execute_result"
    }
   ],
   "source": [
    "data = pd.read_sql_query('select title,max(totalVotes),rating from IMDB group by totalVotes',db3)\n",
    "data"
   ]
  },
  {
   "cell_type": "code",
   "execution_count": 302,
   "id": "fc15d3cb",
   "metadata": {},
   "outputs": [
    {
     "name": "stdout",
     "output_type": "stream",
     "text": [
      "Inception (2010) 8.8\n"
     ]
    }
   ],
   "source": [
    "cur3.execute('select title,max(totalVotes),rating from IMDB')\n",
    "for i in cur3:\n",
    "    print(i[0],i[2])"
   ]
  },
  {
   "cell_type": "code",
   "execution_count": 62,
   "id": "b525307d",
   "metadata": {},
   "outputs": [
    {
     "ename": "OperationalError",
     "evalue": "near \"modify\": syntax error",
     "output_type": "error",
     "traceback": [
      "\u001b[1;31m---------------------------------------------------------------------------\u001b[0m",
      "\u001b[1;31mOperationalError\u001b[0m                          Traceback (most recent call last)",
      "\u001b[1;32m<ipython-input-62-71239d4551f3>\u001b[0m in \u001b[0;36m<module>\u001b[1;34m\u001b[0m\n\u001b[1;32m----> 1\u001b[1;33m \u001b[0mcur3\u001b[0m\u001b[1;33m.\u001b[0m\u001b[0mexecute\u001b[0m\u001b[1;33m(\u001b[0m\u001b[1;34m'alter table imdb modify Runtime int;'\u001b[0m\u001b[1;33m)\u001b[0m\u001b[1;33m\u001b[0m\u001b[1;33m\u001b[0m\u001b[0m\n\u001b[0m\u001b[0;32m      2\u001b[0m \u001b[0mdata\u001b[0m \u001b[1;33m=\u001b[0m \u001b[0mpd\u001b[0m\u001b[1;33m.\u001b[0m\u001b[0mread_sql_query\u001b[0m\u001b[1;33m(\u001b[0m\u001b[1;34m'select max(runtime),title from IMDB group by runtime'\u001b[0m\u001b[1;33m,\u001b[0m\u001b[0mdb3\u001b[0m\u001b[1;33m)\u001b[0m\u001b[1;33m\u001b[0m\u001b[1;33m\u001b[0m\u001b[0m\n\u001b[0;32m      3\u001b[0m \u001b[0mdata\u001b[0m\u001b[1;33m\u001b[0m\u001b[1;33m\u001b[0m\u001b[0m\n",
      "\u001b[1;31mOperationalError\u001b[0m: near \"modify\": syntax error"
     ]
    }
   ],
   "source": [
    "cur3.execute('alter table imdb modify Runtime int;')\n",
    "data = pd.read_sql_query('select max(runtime),title from IMDB group by runtime',db3)\n",
    "data"
   ]
  },
  {
   "cell_type": "code",
   "execution_count": 309,
   "id": "3af62486",
   "metadata": {},
   "outputs": [
    {
     "name": "stdout",
     "output_type": "stream",
     "text": [
      "The Grand Budapest Hotel (2014) 99 \n"
     ]
    }
   ],
   "source": [
    "cur3.execute('select title,max(Runtime) from IMDB')\n",
    "for i in cur3:\n",
    "    print(i[0],i[1][0:3])"
   ]
  },
  {
   "cell_type": "code",
   "execution_count": 74,
   "id": "a7827d99",
   "metadata": {},
   "outputs": [
    {
     "ename": "OperationalError",
     "evalue": "database is locked",
     "output_type": "error",
     "traceback": [
      "\u001b[1;31m---------------------------------------------------------------------------\u001b[0m",
      "\u001b[1;31mOperationalError\u001b[0m                          Traceback (most recent call last)",
      "\u001b[1;32m<ipython-input-74-bce2a8bb3166>\u001b[0m in \u001b[0;36m<module>\u001b[1;34m\u001b[0m\n\u001b[0;32m      4\u001b[0m \u001b[0mcur3\u001b[0m \u001b[1;33m=\u001b[0m \u001b[0mdb3\u001b[0m\u001b[1;33m.\u001b[0m\u001b[0mcursor\u001b[0m\u001b[1;33m(\u001b[0m\u001b[1;33m)\u001b[0m\u001b[1;33m\u001b[0m\u001b[1;33m\u001b[0m\u001b[0m\n\u001b[0;32m      5\u001b[0m \u001b[0mcur3\u001b[0m\u001b[1;33m.\u001b[0m\u001b[0mexecute\u001b[0m\u001b[1;33m(\u001b[0m\u001b[1;34m'select title,total from IMDB join earning on IMDB.movie_id = earning.movie_id'\u001b[0m\u001b[1;33m)\u001b[0m\u001b[1;33m\u001b[0m\u001b[1;33m\u001b[0m\u001b[0m\n\u001b[1;32m----> 6\u001b[1;33m \u001b[0mcur3\u001b[0m\u001b[1;33m.\u001b[0m\u001b[0mexecute\u001b[0m\u001b[1;33m(\u001b[0m\u001b[1;34m'alter table IMDB add total real'\u001b[0m\u001b[1;33m)\u001b[0m\u001b[1;33m\u001b[0m\u001b[1;33m\u001b[0m\u001b[0m\n\u001b[0m",
      "\u001b[1;31mOperationalError\u001b[0m: database is locked"
     ]
    }
   ],
   "source": [
    "import pandas as pd\n",
    "import sqlite3\n",
    "db3 = sqlite3.connect('IMDB.sqlite')\n",
    "cur3 = db3.cursor()\n",
    "cur3.execute('select title,total from IMDB join earning on IMDB.movie_id = earning.movie_id')\n",
    "cur3.execute('alter table IMDB add total real')\n"
   ]
  },
  {
   "cell_type": "code",
   "execution_count": 44,
   "id": "a1a3c7aa",
   "metadata": {},
   "outputs": [
    {
     "data": {
      "text/html": [
       "<div>\n",
       "<style scoped>\n",
       "    .dataframe tbody tr th:only-of-type {\n",
       "        vertical-align: middle;\n",
       "    }\n",
       "\n",
       "    .dataframe tbody tr th {\n",
       "        vertical-align: top;\n",
       "    }\n",
       "\n",
       "    .dataframe thead th {\n",
       "        text-align: right;\n",
       "    }\n",
       "</style>\n",
       "<table border=\"1\" class=\"dataframe\">\n",
       "  <thead>\n",
       "    <tr style=\"text-align: right;\">\n",
       "      <th></th>\n",
       "      <th>level_0</th>\n",
       "      <th>index</th>\n",
       "      <th>Movie_id</th>\n",
       "      <th>Domestic</th>\n",
       "      <th>Worldwide</th>\n",
       "      <th>total</th>\n",
       "    </tr>\n",
       "  </thead>\n",
       "  <tbody>\n",
       "    <tr>\n",
       "      <th>0</th>\n",
       "      <td>0</td>\n",
       "      <td>0</td>\n",
       "      <td>36809</td>\n",
       "      <td>56671993</td>\n",
       "      <td>1.877332e+08</td>\n",
       "      <td>2.444052e+08</td>\n",
       "    </tr>\n",
       "    <tr>\n",
       "      <th>1</th>\n",
       "      <td>1</td>\n",
       "      <td>1</td>\n",
       "      <td>30114</td>\n",
       "      <td>18335230</td>\n",
       "      <td>6.073880e+07</td>\n",
       "      <td>7.907403e+07</td>\n",
       "    </tr>\n",
       "    <tr>\n",
       "      <th>2</th>\n",
       "      <td>2</td>\n",
       "      <td>2</td>\n",
       "      <td>37367</td>\n",
       "      <td>35014192</td>\n",
       "      <td>3.918778e+07</td>\n",
       "      <td>7.420198e+07</td>\n",
       "    </tr>\n",
       "    <tr>\n",
       "      <th>3</th>\n",
       "      <td>3</td>\n",
       "      <td>3</td>\n",
       "      <td>49473</td>\n",
       "      <td>15322921</td>\n",
       "      <td>8.710045e+07</td>\n",
       "      <td>1.024234e+08</td>\n",
       "    </tr>\n",
       "    <tr>\n",
       "      <th>4</th>\n",
       "      <td>4</td>\n",
       "      <td>4</td>\n",
       "      <td>14867</td>\n",
       "      <td>6739492</td>\n",
       "      <td>1.983949e+07</td>\n",
       "      <td>2.657898e+07</td>\n",
       "    </tr>\n",
       "    <tr>\n",
       "      <th>...</th>\n",
       "      <td>...</td>\n",
       "      <td>...</td>\n",
       "      <td>...</td>\n",
       "      <td>...</td>\n",
       "      <td>...</td>\n",
       "      <td>...</td>\n",
       "    </tr>\n",
       "    <tr>\n",
       "      <th>112</th>\n",
       "      <td>112</td>\n",
       "      <td>112</td>\n",
       "      <td>38262</td>\n",
       "      <td>13092000</td>\n",
       "      <td>4.898204e+07</td>\n",
       "      <td>6.207404e+07</td>\n",
       "    </tr>\n",
       "    <tr>\n",
       "      <th>113</th>\n",
       "      <td>113</td>\n",
       "      <td>113</td>\n",
       "      <td>10023</td>\n",
       "      <td>189422889</td>\n",
       "      <td>4.712229e+08</td>\n",
       "      <td>6.606458e+08</td>\n",
       "    </tr>\n",
       "    <tr>\n",
       "      <th>114</th>\n",
       "      <td>114</td>\n",
       "      <td>114</td>\n",
       "      <td>27783</td>\n",
       "      <td>233921534</td>\n",
       "      <td>7.478628e+08</td>\n",
       "      <td>9.817843e+08</td>\n",
       "    </tr>\n",
       "    <tr>\n",
       "      <th>115</th>\n",
       "      <td>115</td>\n",
       "      <td>115</td>\n",
       "      <td>42294</td>\n",
       "      <td>146408305</td>\n",
       "      <td>3.536241e+08</td>\n",
       "      <td>5.000324e+08</td>\n",
       "    </tr>\n",
       "    <tr>\n",
       "      <th>116</th>\n",
       "      <td>116</td>\n",
       "      <td>116</td>\n",
       "      <td>32217</td>\n",
       "      <td>341268248</td>\n",
       "      <td>1.023784e+09</td>\n",
       "      <td>1.365052e+09</td>\n",
       "    </tr>\n",
       "  </tbody>\n",
       "</table>\n",
       "<p>117 rows × 6 columns</p>\n",
       "</div>"
      ],
      "text/plain": [
       "     level_0  index Movie_id   Domestic     Worldwide         total\n",
       "0          0      0    36809   56671993  1.877332e+08  2.444052e+08\n",
       "1          1      1    30114   18335230  6.073880e+07  7.907403e+07\n",
       "2          2      2    37367   35014192  3.918778e+07  7.420198e+07\n",
       "3          3      3    49473   15322921  8.710045e+07  1.024234e+08\n",
       "4          4      4    14867    6739492  1.983949e+07  2.657898e+07\n",
       "..       ...    ...      ...        ...           ...           ...\n",
       "112      112    112    38262   13092000  4.898204e+07  6.207404e+07\n",
       "113      113    113    10023  189422889  4.712229e+08  6.606458e+08\n",
       "114      114    114    27783  233921534  7.478628e+08  9.817843e+08\n",
       "115      115    115    42294  146408305  3.536241e+08  5.000324e+08\n",
       "116      116    116    32217  341268248  1.023784e+09  1.365052e+09\n",
       "\n",
       "[117 rows x 6 columns]"
      ]
     },
     "execution_count": 44,
     "metadata": {},
     "output_type": "execute_result"
    }
   ],
   "source": [
    "data = pd.read_sql_query('select * from earning',db3)\n",
    "data"
   ]
  },
  {
   "cell_type": "code",
   "execution_count": 114,
   "id": "85205fd0",
   "metadata": {},
   "outputs": [
    {
     "ename": "TypeError",
     "evalue": "unsupported operand type(s) for -: 'float' and 'str'",
     "output_type": "error",
     "traceback": [
      "\u001b[1;31m---------------------------------------------------------------------------\u001b[0m",
      "\u001b[1;31mTypeError\u001b[0m                                 Traceback (most recent call last)",
      "\u001b[1;32mF:\\anaconda\\lib\\site-packages\\pandas\\core\\ops\\array_ops.py\u001b[0m in \u001b[0;36m_na_arithmetic_op\u001b[1;34m(left, right, op, is_cmp)\u001b[0m\n\u001b[0;32m    141\u001b[0m     \u001b[1;32mtry\u001b[0m\u001b[1;33m:\u001b[0m\u001b[1;33m\u001b[0m\u001b[1;33m\u001b[0m\u001b[0m\n\u001b[1;32m--> 142\u001b[1;33m         \u001b[0mresult\u001b[0m \u001b[1;33m=\u001b[0m \u001b[0mexpressions\u001b[0m\u001b[1;33m.\u001b[0m\u001b[0mevaluate\u001b[0m\u001b[1;33m(\u001b[0m\u001b[0mop\u001b[0m\u001b[1;33m,\u001b[0m \u001b[0mleft\u001b[0m\u001b[1;33m,\u001b[0m \u001b[0mright\u001b[0m\u001b[1;33m)\u001b[0m\u001b[1;33m\u001b[0m\u001b[1;33m\u001b[0m\u001b[0m\n\u001b[0m\u001b[0;32m    143\u001b[0m     \u001b[1;32mexcept\u001b[0m \u001b[0mTypeError\u001b[0m\u001b[1;33m:\u001b[0m\u001b[1;33m\u001b[0m\u001b[1;33m\u001b[0m\u001b[0m\n",
      "\u001b[1;32mF:\\anaconda\\lib\\site-packages\\pandas\\core\\computation\\expressions.py\u001b[0m in \u001b[0;36mevaluate\u001b[1;34m(op, a, b, use_numexpr)\u001b[0m\n\u001b[0;32m    234\u001b[0m             \u001b[1;31m# error: \"None\" not callable\u001b[0m\u001b[1;33m\u001b[0m\u001b[1;33m\u001b[0m\u001b[1;33m\u001b[0m\u001b[0m\n\u001b[1;32m--> 235\u001b[1;33m             \u001b[1;32mreturn\u001b[0m \u001b[0m_evaluate\u001b[0m\u001b[1;33m(\u001b[0m\u001b[0mop\u001b[0m\u001b[1;33m,\u001b[0m \u001b[0mop_str\u001b[0m\u001b[1;33m,\u001b[0m \u001b[0ma\u001b[0m\u001b[1;33m,\u001b[0m \u001b[0mb\u001b[0m\u001b[1;33m)\u001b[0m  \u001b[1;31m# type: ignore[misc]\u001b[0m\u001b[1;33m\u001b[0m\u001b[1;33m\u001b[0m\u001b[0m\n\u001b[0m\u001b[0;32m    236\u001b[0m     \u001b[1;32mreturn\u001b[0m \u001b[0m_evaluate_standard\u001b[0m\u001b[1;33m(\u001b[0m\u001b[0mop\u001b[0m\u001b[1;33m,\u001b[0m \u001b[0mop_str\u001b[0m\u001b[1;33m,\u001b[0m \u001b[0ma\u001b[0m\u001b[1;33m,\u001b[0m \u001b[0mb\u001b[0m\u001b[1;33m)\u001b[0m\u001b[1;33m\u001b[0m\u001b[1;33m\u001b[0m\u001b[0m\n",
      "\u001b[1;32mF:\\anaconda\\lib\\site-packages\\pandas\\core\\computation\\expressions.py\u001b[0m in \u001b[0;36m_evaluate_numexpr\u001b[1;34m(op, op_str, a, b)\u001b[0m\n\u001b[0;32m    119\u001b[0m     \u001b[1;32mif\u001b[0m \u001b[0mresult\u001b[0m \u001b[1;32mis\u001b[0m \u001b[1;32mNone\u001b[0m\u001b[1;33m:\u001b[0m\u001b[1;33m\u001b[0m\u001b[1;33m\u001b[0m\u001b[0m\n\u001b[1;32m--> 120\u001b[1;33m         \u001b[0mresult\u001b[0m \u001b[1;33m=\u001b[0m \u001b[0m_evaluate_standard\u001b[0m\u001b[1;33m(\u001b[0m\u001b[0mop\u001b[0m\u001b[1;33m,\u001b[0m \u001b[0mop_str\u001b[0m\u001b[1;33m,\u001b[0m \u001b[0ma\u001b[0m\u001b[1;33m,\u001b[0m \u001b[0mb\u001b[0m\u001b[1;33m)\u001b[0m\u001b[1;33m\u001b[0m\u001b[1;33m\u001b[0m\u001b[0m\n\u001b[0m\u001b[0;32m    121\u001b[0m \u001b[1;33m\u001b[0m\u001b[0m\n",
      "\u001b[1;32mF:\\anaconda\\lib\\site-packages\\pandas\\core\\computation\\expressions.py\u001b[0m in \u001b[0;36m_evaluate_standard\u001b[1;34m(op, op_str, a, b)\u001b[0m\n\u001b[0;32m     68\u001b[0m     \u001b[1;32mwith\u001b[0m \u001b[0mnp\u001b[0m\u001b[1;33m.\u001b[0m\u001b[0merrstate\u001b[0m\u001b[1;33m(\u001b[0m\u001b[0mall\u001b[0m\u001b[1;33m=\u001b[0m\u001b[1;34m\"ignore\"\u001b[0m\u001b[1;33m)\u001b[0m\u001b[1;33m:\u001b[0m\u001b[1;33m\u001b[0m\u001b[1;33m\u001b[0m\u001b[0m\n\u001b[1;32m---> 69\u001b[1;33m         \u001b[1;32mreturn\u001b[0m \u001b[0mop\u001b[0m\u001b[1;33m(\u001b[0m\u001b[0ma\u001b[0m\u001b[1;33m,\u001b[0m \u001b[0mb\u001b[0m\u001b[1;33m)\u001b[0m\u001b[1;33m\u001b[0m\u001b[1;33m\u001b[0m\u001b[0m\n\u001b[0m\u001b[0;32m     70\u001b[0m \u001b[1;33m\u001b[0m\u001b[0m\n",
      "\u001b[1;31mTypeError\u001b[0m: unsupported operand type(s) for -: 'float' and 'str'",
      "\nDuring handling of the above exception, another exception occurred:\n",
      "\u001b[1;31mTypeError\u001b[0m                                 Traceback (most recent call last)",
      "\u001b[1;32m<ipython-input-114-3666e06c8ed4>\u001b[0m in \u001b[0;36m<module>\u001b[1;34m\u001b[0m\n\u001b[0;32m      6\u001b[0m \u001b[0mcurr\u001b[0m\u001b[1;33m.\u001b[0m\u001b[0mexecute\u001b[0m\u001b[1;33m(\u001b[0m\u001b[1;34m'select total,budget,title from IMDB join earning on IMDB.movie_id = earning.movie_id'\u001b[0m\u001b[1;33m)\u001b[0m\u001b[1;33m\u001b[0m\u001b[1;33m\u001b[0m\u001b[0m\n\u001b[0;32m      7\u001b[0m \u001b[1;31m#curr.execute('alter table earning modify total double')\u001b[0m\u001b[1;33m\u001b[0m\u001b[1;33m\u001b[0m\u001b[1;33m\u001b[0m\u001b[0m\n\u001b[1;32m----> 8\u001b[1;33m \u001b[0mdata\u001b[0m\u001b[1;33m[\u001b[0m\u001b[1;34m'net_profit'\u001b[0m\u001b[1;33m]\u001b[0m \u001b[1;33m=\u001b[0m \u001b[0mdata\u001b[0m\u001b[1;33m[\u001b[0m\u001b[1;34m'Domestic'\u001b[0m\u001b[1;33m]\u001b[0m \u001b[1;33m+\u001b[0m \u001b[0mdata\u001b[0m\u001b[1;33m[\u001b[0m\u001b[1;34m'Worldwide'\u001b[0m\u001b[1;33m]\u001b[0m \u001b[1;33m-\u001b[0m \u001b[0mdata\u001b[0m\u001b[1;33m[\u001b[0m\u001b[1;34m'Budget'\u001b[0m\u001b[1;33m]\u001b[0m\u001b[1;33m\u001b[0m\u001b[1;33m\u001b[0m\u001b[0m\n\u001b[0m\u001b[0;32m      9\u001b[0m \u001b[0mdata\u001b[0m\u001b[1;33m\u001b[0m\u001b[1;33m\u001b[0m\u001b[0m\n",
      "\u001b[1;32mF:\\anaconda\\lib\\site-packages\\pandas\\core\\ops\\common.py\u001b[0m in \u001b[0;36mnew_method\u001b[1;34m(self, other)\u001b[0m\n\u001b[0;32m     63\u001b[0m         \u001b[0mother\u001b[0m \u001b[1;33m=\u001b[0m \u001b[0mitem_from_zerodim\u001b[0m\u001b[1;33m(\u001b[0m\u001b[0mother\u001b[0m\u001b[1;33m)\u001b[0m\u001b[1;33m\u001b[0m\u001b[1;33m\u001b[0m\u001b[0m\n\u001b[0;32m     64\u001b[0m \u001b[1;33m\u001b[0m\u001b[0m\n\u001b[1;32m---> 65\u001b[1;33m         \u001b[1;32mreturn\u001b[0m \u001b[0mmethod\u001b[0m\u001b[1;33m(\u001b[0m\u001b[0mself\u001b[0m\u001b[1;33m,\u001b[0m \u001b[0mother\u001b[0m\u001b[1;33m)\u001b[0m\u001b[1;33m\u001b[0m\u001b[1;33m\u001b[0m\u001b[0m\n\u001b[0m\u001b[0;32m     66\u001b[0m \u001b[1;33m\u001b[0m\u001b[0m\n\u001b[0;32m     67\u001b[0m     \u001b[1;32mreturn\u001b[0m \u001b[0mnew_method\u001b[0m\u001b[1;33m\u001b[0m\u001b[1;33m\u001b[0m\u001b[0m\n",
      "\u001b[1;32mF:\\anaconda\\lib\\site-packages\\pandas\\core\\arraylike.py\u001b[0m in \u001b[0;36m__sub__\u001b[1;34m(self, other)\u001b[0m\n\u001b[0;32m     95\u001b[0m     \u001b[1;33m@\u001b[0m\u001b[0munpack_zerodim_and_defer\u001b[0m\u001b[1;33m(\u001b[0m\u001b[1;34m\"__sub__\"\u001b[0m\u001b[1;33m)\u001b[0m\u001b[1;33m\u001b[0m\u001b[1;33m\u001b[0m\u001b[0m\n\u001b[0;32m     96\u001b[0m     \u001b[1;32mdef\u001b[0m \u001b[0m__sub__\u001b[0m\u001b[1;33m(\u001b[0m\u001b[0mself\u001b[0m\u001b[1;33m,\u001b[0m \u001b[0mother\u001b[0m\u001b[1;33m)\u001b[0m\u001b[1;33m:\u001b[0m\u001b[1;33m\u001b[0m\u001b[1;33m\u001b[0m\u001b[0m\n\u001b[1;32m---> 97\u001b[1;33m         \u001b[1;32mreturn\u001b[0m \u001b[0mself\u001b[0m\u001b[1;33m.\u001b[0m\u001b[0m_arith_method\u001b[0m\u001b[1;33m(\u001b[0m\u001b[0mother\u001b[0m\u001b[1;33m,\u001b[0m \u001b[0moperator\u001b[0m\u001b[1;33m.\u001b[0m\u001b[0msub\u001b[0m\u001b[1;33m)\u001b[0m\u001b[1;33m\u001b[0m\u001b[1;33m\u001b[0m\u001b[0m\n\u001b[0m\u001b[0;32m     98\u001b[0m \u001b[1;33m\u001b[0m\u001b[0m\n\u001b[0;32m     99\u001b[0m     \u001b[1;33m@\u001b[0m\u001b[0munpack_zerodim_and_defer\u001b[0m\u001b[1;33m(\u001b[0m\u001b[1;34m\"__rsub__\"\u001b[0m\u001b[1;33m)\u001b[0m\u001b[1;33m\u001b[0m\u001b[1;33m\u001b[0m\u001b[0m\n",
      "\u001b[1;32mF:\\anaconda\\lib\\site-packages\\pandas\\core\\series.py\u001b[0m in \u001b[0;36m_arith_method\u001b[1;34m(self, other, op)\u001b[0m\n\u001b[0;32m   4996\u001b[0m         \u001b[0mlvalues\u001b[0m \u001b[1;33m=\u001b[0m \u001b[0mextract_array\u001b[0m\u001b[1;33m(\u001b[0m\u001b[0mself\u001b[0m\u001b[1;33m,\u001b[0m \u001b[0mextract_numpy\u001b[0m\u001b[1;33m=\u001b[0m\u001b[1;32mTrue\u001b[0m\u001b[1;33m)\u001b[0m\u001b[1;33m\u001b[0m\u001b[1;33m\u001b[0m\u001b[0m\n\u001b[0;32m   4997\u001b[0m         \u001b[0mrvalues\u001b[0m \u001b[1;33m=\u001b[0m \u001b[0mextract_array\u001b[0m\u001b[1;33m(\u001b[0m\u001b[0mother\u001b[0m\u001b[1;33m,\u001b[0m \u001b[0mextract_numpy\u001b[0m\u001b[1;33m=\u001b[0m\u001b[1;32mTrue\u001b[0m\u001b[1;33m)\u001b[0m\u001b[1;33m\u001b[0m\u001b[1;33m\u001b[0m\u001b[0m\n\u001b[1;32m-> 4998\u001b[1;33m         \u001b[0mresult\u001b[0m \u001b[1;33m=\u001b[0m \u001b[0mops\u001b[0m\u001b[1;33m.\u001b[0m\u001b[0marithmetic_op\u001b[0m\u001b[1;33m(\u001b[0m\u001b[0mlvalues\u001b[0m\u001b[1;33m,\u001b[0m \u001b[0mrvalues\u001b[0m\u001b[1;33m,\u001b[0m \u001b[0mop\u001b[0m\u001b[1;33m)\u001b[0m\u001b[1;33m\u001b[0m\u001b[1;33m\u001b[0m\u001b[0m\n\u001b[0m\u001b[0;32m   4999\u001b[0m \u001b[1;33m\u001b[0m\u001b[0m\n\u001b[0;32m   5000\u001b[0m         \u001b[1;32mreturn\u001b[0m \u001b[0mself\u001b[0m\u001b[1;33m.\u001b[0m\u001b[0m_construct_result\u001b[0m\u001b[1;33m(\u001b[0m\u001b[0mresult\u001b[0m\u001b[1;33m,\u001b[0m \u001b[0mname\u001b[0m\u001b[1;33m=\u001b[0m\u001b[0mres_name\u001b[0m\u001b[1;33m)\u001b[0m\u001b[1;33m\u001b[0m\u001b[1;33m\u001b[0m\u001b[0m\n",
      "\u001b[1;32mF:\\anaconda\\lib\\site-packages\\pandas\\core\\ops\\array_ops.py\u001b[0m in \u001b[0;36marithmetic_op\u001b[1;34m(left, right, op)\u001b[0m\n\u001b[0;32m    187\u001b[0m     \u001b[1;32melse\u001b[0m\u001b[1;33m:\u001b[0m\u001b[1;33m\u001b[0m\u001b[1;33m\u001b[0m\u001b[0m\n\u001b[0;32m    188\u001b[0m         \u001b[1;32mwith\u001b[0m \u001b[0mnp\u001b[0m\u001b[1;33m.\u001b[0m\u001b[0merrstate\u001b[0m\u001b[1;33m(\u001b[0m\u001b[0mall\u001b[0m\u001b[1;33m=\u001b[0m\u001b[1;34m\"ignore\"\u001b[0m\u001b[1;33m)\u001b[0m\u001b[1;33m:\u001b[0m\u001b[1;33m\u001b[0m\u001b[1;33m\u001b[0m\u001b[0m\n\u001b[1;32m--> 189\u001b[1;33m             \u001b[0mres_values\u001b[0m \u001b[1;33m=\u001b[0m \u001b[0m_na_arithmetic_op\u001b[0m\u001b[1;33m(\u001b[0m\u001b[0mlvalues\u001b[0m\u001b[1;33m,\u001b[0m \u001b[0mrvalues\u001b[0m\u001b[1;33m,\u001b[0m \u001b[0mop\u001b[0m\u001b[1;33m)\u001b[0m\u001b[1;33m\u001b[0m\u001b[1;33m\u001b[0m\u001b[0m\n\u001b[0m\u001b[0;32m    190\u001b[0m \u001b[1;33m\u001b[0m\u001b[0m\n\u001b[0;32m    191\u001b[0m     \u001b[1;32mreturn\u001b[0m \u001b[0mres_values\u001b[0m\u001b[1;33m\u001b[0m\u001b[1;33m\u001b[0m\u001b[0m\n",
      "\u001b[1;32mF:\\anaconda\\lib\\site-packages\\pandas\\core\\ops\\array_ops.py\u001b[0m in \u001b[0;36m_na_arithmetic_op\u001b[1;34m(left, right, op, is_cmp)\u001b[0m\n\u001b[0;32m    147\u001b[0m             \u001b[1;31m#  will handle complex numbers incorrectly, see GH#32047\u001b[0m\u001b[1;33m\u001b[0m\u001b[1;33m\u001b[0m\u001b[1;33m\u001b[0m\u001b[0m\n\u001b[0;32m    148\u001b[0m             \u001b[1;32mraise\u001b[0m\u001b[1;33m\u001b[0m\u001b[1;33m\u001b[0m\u001b[0m\n\u001b[1;32m--> 149\u001b[1;33m         \u001b[0mresult\u001b[0m \u001b[1;33m=\u001b[0m \u001b[0m_masked_arith_op\u001b[0m\u001b[1;33m(\u001b[0m\u001b[0mleft\u001b[0m\u001b[1;33m,\u001b[0m \u001b[0mright\u001b[0m\u001b[1;33m,\u001b[0m \u001b[0mop\u001b[0m\u001b[1;33m)\u001b[0m\u001b[1;33m\u001b[0m\u001b[1;33m\u001b[0m\u001b[0m\n\u001b[0m\u001b[0;32m    150\u001b[0m \u001b[1;33m\u001b[0m\u001b[0m\n\u001b[0;32m    151\u001b[0m     \u001b[1;32mif\u001b[0m \u001b[0mis_cmp\u001b[0m \u001b[1;32mand\u001b[0m \u001b[1;33m(\u001b[0m\u001b[0mis_scalar\u001b[0m\u001b[1;33m(\u001b[0m\u001b[0mresult\u001b[0m\u001b[1;33m)\u001b[0m \u001b[1;32mor\u001b[0m \u001b[0mresult\u001b[0m \u001b[1;32mis\u001b[0m \u001b[0mNotImplemented\u001b[0m\u001b[1;33m)\u001b[0m\u001b[1;33m:\u001b[0m\u001b[1;33m\u001b[0m\u001b[1;33m\u001b[0m\u001b[0m\n",
      "\u001b[1;32mF:\\anaconda\\lib\\site-packages\\pandas\\core\\ops\\array_ops.py\u001b[0m in \u001b[0;36m_masked_arith_op\u001b[1;34m(x, y, op)\u001b[0m\n\u001b[0;32m     89\u001b[0m         \u001b[1;32mif\u001b[0m \u001b[0mmask\u001b[0m\u001b[1;33m.\u001b[0m\u001b[0many\u001b[0m\u001b[1;33m(\u001b[0m\u001b[1;33m)\u001b[0m\u001b[1;33m:\u001b[0m\u001b[1;33m\u001b[0m\u001b[1;33m\u001b[0m\u001b[0m\n\u001b[0;32m     90\u001b[0m             \u001b[1;32mwith\u001b[0m \u001b[0mnp\u001b[0m\u001b[1;33m.\u001b[0m\u001b[0merrstate\u001b[0m\u001b[1;33m(\u001b[0m\u001b[0mall\u001b[0m\u001b[1;33m=\u001b[0m\u001b[1;34m\"ignore\"\u001b[0m\u001b[1;33m)\u001b[0m\u001b[1;33m:\u001b[0m\u001b[1;33m\u001b[0m\u001b[1;33m\u001b[0m\u001b[0m\n\u001b[1;32m---> 91\u001b[1;33m                 \u001b[0mresult\u001b[0m\u001b[1;33m[\u001b[0m\u001b[0mmask\u001b[0m\u001b[1;33m]\u001b[0m \u001b[1;33m=\u001b[0m \u001b[0mop\u001b[0m\u001b[1;33m(\u001b[0m\u001b[0mxrav\u001b[0m\u001b[1;33m[\u001b[0m\u001b[0mmask\u001b[0m\u001b[1;33m]\u001b[0m\u001b[1;33m,\u001b[0m \u001b[0myrav\u001b[0m\u001b[1;33m[\u001b[0m\u001b[0mmask\u001b[0m\u001b[1;33m]\u001b[0m\u001b[1;33m)\u001b[0m\u001b[1;33m\u001b[0m\u001b[1;33m\u001b[0m\u001b[0m\n\u001b[0m\u001b[0;32m     92\u001b[0m \u001b[1;33m\u001b[0m\u001b[0m\n\u001b[0;32m     93\u001b[0m     \u001b[1;32melse\u001b[0m\u001b[1;33m:\u001b[0m\u001b[1;33m\u001b[0m\u001b[1;33m\u001b[0m\u001b[0m\n",
      "\u001b[1;31mTypeError\u001b[0m: unsupported operand type(s) for -: 'float' and 'str'"
     ]
    }
   ],
   "source": [
    "import sqlite3\n",
    "import pandas as pd\n",
    "dab = sqlite3.connect('IMDB.sqlite')\n",
    "data = pd.read_sql_query('select domestic,worldwide,budget,title from IMDB join earning on IMDB.movie_id = earning.movie_id',dab)\n",
    "curr = dab.cursor()\n",
    "curr.execute('select total,budget,title from IMDB join earning on IMDB.movie_id = earning.movie_id')\n",
    "#curr.execute('alter table earning modify total double')\n",
    "data['net_profit'] = data['Domestic'] + data['Worldwide'] - data['Budget']\n",
    "data"
   ]
  },
  {
   "cell_type": "code",
   "execution_count": 115,
   "id": "352810d6",
   "metadata": {},
   "outputs": [
    {
     "data": {
      "text/plain": [
       "[('36809', 'Biography'),\n",
       " ('30114', 'Adventure'),\n",
       " ('37367', 'Comedy'),\n",
       " ('49473', 'Comedy'),\n",
       " ('14867', 'Drama'),\n",
       " ('33832', 'Action'),\n",
       " ('31722', 'Drama'),\n",
       " ('25398', 'Drama'),\n",
       " ('10099', 'Animation'),\n",
       " ('25281', 'Comedy'),\n",
       " ('43358', 'Drama'),\n",
       " ('36798', 'Drama'),\n",
       " ('10617', 'Drama'),\n",
       " ('49590', 'Action'),\n",
       " ('12560', 'Action'),\n",
       " ('31370', 'Comedy'),\n",
       " ('48626', 'Biography'),\n",
       " ('38131', 'Drama'),\n",
       " ('34191', 'Biography'),\n",
       " ('20341', 'Action'),\n",
       " ('18506', 'Action'),\n",
       " ('38960', 'Animation'),\n",
       " ('43526', 'Drama'),\n",
       " ('10015', 'Drama'),\n",
       " ('11971', 'Drama'),\n",
       " ('31332', 'Action'),\n",
       " ('22607', 'Crime'),\n",
       " ('33884', 'Action'),\n",
       " ('21508', 'Crime'),\n",
       " ('30161', 'Drama'),\n",
       " ('49518', 'Comedy'),\n",
       " ('12164', 'Action'),\n",
       " ('13277', 'Crime'),\n",
       " ('30401', 'Drama'),\n",
       " ('11289', 'Action'),\n",
       " ('47403', 'Biography'),\n",
       " ('21411', 'Adventure'),\n",
       " ('44738', 'Crime'),\n",
       " ('21768', 'Drama'),\n",
       " ('11173', 'Biography'),\n",
       " ('37652', 'Animation'),\n",
       " ('48102', 'Animation'),\n",
       " ('23450', 'Adventure'),\n",
       " ('23963', 'Adventure'),\n",
       " ('29611', 'Drama'),\n",
       " ('46824', 'Action'),\n",
       " ('42732', 'Animation'),\n",
       " ('46900', 'Adventure'),\n",
       " ('45231', 'Action'),\n",
       " ('47579', 'Action'),\n",
       " ('26118', 'Animation'),\n",
       " ('31069', 'Comedy'),\n",
       " ('41512', 'Drama'),\n",
       " ('47616', 'Biography'),\n",
       " ('18458', 'Action'),\n",
       " ('36478', 'Action'),\n",
       " ('22767', 'Drama'),\n",
       " ('30146', 'Comedy'),\n",
       " ('13316', 'Comedy'),\n",
       " ('13310', 'Animation'),\n",
       " ('48554', 'Biography'),\n",
       " ('29635', 'Adventure'),\n",
       " ('43350', 'Adventure'),\n",
       " ('34073', 'Crime'),\n",
       " ('23417', 'Biography'),\n",
       " ('12744', 'Biography'),\n",
       " ('37979', 'Crime'),\n",
       " ('41592', 'Action'),\n",
       " ('44253', 'Action'),\n",
       " ('11928', 'Action'),\n",
       " ('26438', 'Action'),\n",
       " ('30154', 'Drama'),\n",
       " ('36011', 'Mystery'),\n",
       " ('13627', 'Action'),\n",
       " ('17294', 'Comedy'),\n",
       " ('41048', 'Comedy'),\n",
       " ('47323', 'Action'),\n",
       " ('28910', 'Crime'),\n",
       " ('28919', 'Action'),\n",
       " ('38626', 'Action'),\n",
       " ('14813', 'Biography'),\n",
       " ('42419', 'Animation'),\n",
       " ('34386', 'Comedy'),\n",
       " ('10454', 'Action'),\n",
       " ('21538', 'Biography'),\n",
       " ('39777', 'Drama'),\n",
       " ('29419', 'Action'),\n",
       " ('42727', 'Drama'),\n",
       " ('44160', 'Action'),\n",
       " ('28130', 'Crime'),\n",
       " ('22401', 'Adventure'),\n",
       " ('34429', 'Drama'),\n",
       " ('41835', 'Adventure'),\n",
       " ('30250', 'Adventure'),\n",
       " ('41963', 'Action'),\n",
       " ('45458', 'Biography'),\n",
       " ('35832', 'Biography'),\n",
       " ('47074', 'Animation'),\n",
       " ('40310', 'Animation'),\n",
       " ('24887', 'Adventure'),\n",
       " ('31592', 'Drama'),\n",
       " ('29441', 'Adventure'),\n",
       " ('39456', 'Biography'),\n",
       " ('40287', 'Biography'),\n",
       " ('32701', 'Crime'),\n",
       " ('35004', 'Biography'),\n",
       " ('40832', 'Animation'),\n",
       " ('44316', 'Adventure'),\n",
       " ('20420', 'Comedy'),\n",
       " ('20709', 'Drama'),\n",
       " ('17545', 'Action'),\n",
       " ('35939', 'Comedy'),\n",
       " ('38262', 'Drama'),\n",
       " ('10023', 'Animation'),\n",
       " ('27783', 'Action'),\n",
       " ('42294', 'Action'),\n",
       " ('32217', 'Animation'),\n",
       " ('36809', 'Drama'),\n",
       " ('30114', 'Biography'),\n",
       " ('37367', 'Drama'),\n",
       " ('49473', 'Drama'),\n",
       " ('14867', 'Romance'),\n",
       " ('33832', 'Biography'),\n",
       " ('31722', 'Mystery'),\n",
       " ('25398', 'Romance'),\n",
       " ('10099', 'Action'),\n",
       " ('25281', 'Drama'),\n",
       " ('43358', 'Thriller'),\n",
       " ('36798', ''),\n",
       " ('10617', 'History'),\n",
       " ('49590', 'Adventure'),\n",
       " ('12560', 'Adventure'),\n",
       " ('31370', 'Drama'),\n",
       " ('48626', 'Drama'),\n",
       " ('38131', 'Sport'),\n",
       " ('34191', 'Drama'),\n",
       " ('20341', 'Adventure'),\n",
       " ('18506', 'Adventure'),\n",
       " ('38960', 'Adventure'),\n",
       " ('43526', ''),\n",
       " ('10015', 'Thriller'),\n",
       " ('11971', 'Western'),\n",
       " ('31332', 'Adventure'),\n",
       " ('22607', 'Drama'),\n",
       " ('33884', 'Adventure'),\n",
       " ('21508', 'Drama'),\n",
       " ('30161', 'Mystery'),\n",
       " ('49518', 'Drama'),\n",
       " ('12164', 'Drama'),\n",
       " ('13277', 'Drama'),\n",
       " ('30401', 'Sci-Fi'),\n",
       " ('11289', 'Adventure'),\n",
       " ('47403', 'Drama'),\n",
       " ('21411', 'Family'),\n",
       " ('44738', 'Drama'),\n",
       " ('21768', 'Romance'),\n",
       " ('11173', 'Drama'),\n",
       " ('37652', 'Action'),\n",
       " ('48102', 'Action'),\n",
       " ('23450', 'Drama'),\n",
       " ('23963', 'Comedy'),\n",
       " ('29611', ''),\n",
       " ('46824', 'Adventure'),\n",
       " ('42732', 'Adventure'),\n",
       " ('46900', 'Drama'),\n",
       " ('45231', 'Comedy'),\n",
       " ('47579', 'Adventure'),\n",
       " ('26118', 'Adventure'),\n",
       " ('31069', 'Drama'),\n",
       " ('41512', 'Musical'),\n",
       " ('47616', 'Drama'),\n",
       " ('18458', 'Biography'),\n",
       " ('36478', 'Adventure'),\n",
       " ('22767', ''),\n",
       " ('30146', 'Drama'),\n",
       " ('13316', 'Fantasy'),\n",
       " ('13310', 'Adventure'),\n",
       " ('48554', 'Drama'),\n",
       " ('29635', 'Comedy'),\n",
       " ('43350', 'Comedy'),\n",
       " ('34073', 'Drama'),\n",
       " ('23417', 'Drama'),\n",
       " ('12744', 'Comedy'),\n",
       " ('37979', 'Drama'),\n",
       " ('41592', 'Drama'),\n",
       " ('44253', 'Adventure'),\n",
       " ('11928', 'Biography'),\n",
       " ('26438', 'Comedy'),\n",
       " ('30154', ''),\n",
       " ('36011', 'Thriller'),\n",
       " ('13627', 'Crime'),\n",
       " ('17294', 'Drama'),\n",
       " ('41048', 'Drama'),\n",
       " ('47323', 'Adventure'),\n",
       " ('28910', 'Drama'),\n",
       " ('28919', 'Adventure'),\n",
       " ('38626', 'Adventure'),\n",
       " ('14813', 'Drama'),\n",
       " ('42419', 'Adventure'),\n",
       " ('34386', 'Drama'),\n",
       " ('10454', 'Sci-Fi'),\n",
       " ('21538', 'Comedy'),\n",
       " ('39777', 'War'),\n",
       " ('29419', 'Thriller'),\n",
       " ('42727', 'Romance'),\n",
       " ('44160', 'Biography'),\n",
       " ('28130', 'Drama'),\n",
       " ('22401', 'Comedy'),\n",
       " ('34429', ''),\n",
       " ('41835', 'Fantasy'),\n",
       " ('30250', 'Fantasy'),\n",
       " ('41963', 'Adventure'),\n",
       " ('45458', 'Drama'),\n",
       " ('35832', 'Drama'),\n",
       " ('47074', 'Action'),\n",
       " ('40310', 'Adventure'),\n",
       " ('24887', 'Drama'),\n",
       " ('31592', 'Romance'),\n",
       " ('29441', 'Drama'),\n",
       " ('39456', 'Drama'),\n",
       " ('40287', 'Drama'),\n",
       " ('32701', 'Drama'),\n",
       " ('35004', 'Comedy'),\n",
       " ('40832', 'Adventure'),\n",
       " ('44316', 'Drama'),\n",
       " ('20420', 'Horror'),\n",
       " ('20709', ''),\n",
       " ('17545', 'Drama'),\n",
       " ('35939', 'Horror'),\n",
       " ('38262', 'Music'),\n",
       " ('10023', 'Adventure'),\n",
       " ('27783', 'Adventure'),\n",
       " ('42294', 'Adventure'),\n",
       " ('32217', 'Adventure'),\n",
       " ('36809', 'History'),\n",
       " ('30114', 'Drama'),\n",
       " ('37367', 'Romance'),\n",
       " ('49473', 'Fantasy'),\n",
       " ('14867', ''),\n",
       " ('33832', 'Drama'),\n",
       " ('31722', 'Sci-Fi'),\n",
       " ('25398', ''),\n",
       " ('10099', 'Adventure'),\n",
       " ('25281', ''),\n",
       " ('43358', ''),\n",
       " ('36798', ''),\n",
       " ('10617', 'Thriller'),\n",
       " ('49590', 'Sci-Fi'),\n",
       " ('12560', 'Sci-Fi'),\n",
       " ('31370', ''),\n",
       " ('48626', 'Thriller'),\n",
       " ('38131', ''),\n",
       " ('34191', ''),\n",
       " ('20341', 'Drama'),\n",
       " ('18506', 'Comedy'),\n",
       " ('38960', 'Comedy'),\n",
       " ('43526', ''),\n",
       " ('10015', ''),\n",
       " ('11971', ''),\n",
       " ('31332', 'Fantasy'),\n",
       " ('22607', ''),\n",
       " ('33884', 'Sci-Fi'),\n",
       " ('21508', 'Thriller'),\n",
       " ('30161', 'Sci-Fi'),\n",
       " ('49518', 'Romance'),\n",
       " ('12164', 'War'),\n",
       " ('13277', 'Mystery'),\n",
       " ('30401', 'Thriller'),\n",
       " ('11289', 'Sci-Fi'),\n",
       " ('47403', 'History'),\n",
       " ('21411', 'Fantasy'),\n",
       " ('44738', 'Thriller'),\n",
       " ('21768', 'Sci-Fi'),\n",
       " ('11173', 'History'),\n",
       " ('37652', 'Adventure'),\n",
       " ('48102', 'Adventure'),\n",
       " ('23450', 'Family'),\n",
       " ('23963', 'Drama'),\n",
       " ('29611', ''),\n",
       " ('46824', 'Sci-Fi'),\n",
       " ('42732', 'Comedy'),\n",
       " ('46900', 'Sci-Fi'),\n",
       " ('45231', ''),\n",
       " ('47579', 'Comedy'),\n",
       " ('26118', 'Family'),\n",
       " ('31069', 'Music'),\n",
       " ('41512', 'Romance'),\n",
       " ('47616', ''),\n",
       " ('18458', 'Drama'),\n",
       " ('36478', 'Sci-Fi'),\n",
       " ('22767', ''),\n",
       " ('30146', ''),\n",
       " ('13316', 'Romance'),\n",
       " ('13310', 'Comedy'),\n",
       " ('48554', 'Sport'),\n",
       " ('29635', 'Drama'),\n",
       " ('43350', 'Drama'),\n",
       " ('34073', 'Thriller'),\n",
       " ('23417', ''),\n",
       " ('12744', 'Drama'),\n",
       " ('37979', 'Mystery'),\n",
       " ('41592', 'Sci-Fi'),\n",
       " ('44253', 'Sci-Fi'),\n",
       " ('11928', 'Drama'),\n",
       " ('26438', 'Romance'),\n",
       " ('30154', ''),\n",
       " ('36011', ''),\n",
       " ('13627', 'Drama'),\n",
       " ('17294', 'Romance'),\n",
       " ('41048', 'Music'),\n",
       " ('47323', 'Thriller'),\n",
       " ('28910', 'History'),\n",
       " ('28919', 'Sci-Fi'),\n",
       " ('38626', 'Fantasy'),\n",
       " ('14813', 'History'),\n",
       " ('42419', 'Comedy'),\n",
       " ('34386', 'Romance'),\n",
       " ('10454', ''),\n",
       " ('21538', 'Drama'),\n",
       " ('39777', ''),\n",
       " ('29419', ''),\n",
       " ('42727', ''),\n",
       " ('44160', 'Drama'),\n",
       " ('28130', 'Mystery'),\n",
       " ('22401', 'Drama'),\n",
       " ('34429', ''),\n",
       " ('41835', ''),\n",
       " ('30250', ''),\n",
       " ('41963', 'Mystery'),\n",
       " ('45458', 'Thriller'),\n",
       " ('35832', ''),\n",
       " ('47074', 'Adventure'),\n",
       " ('40310', 'Drama'),\n",
       " ('24887', 'Sci-Fi'),\n",
       " ('31592', ''),\n",
       " ('29441', 'Thriller'),\n",
       " ('39456', ''),\n",
       " ('40287', 'Romance'),\n",
       " ('32701', 'Thriller'),\n",
       " ('35004', 'Crime'),\n",
       " ('40832', 'Comedy'),\n",
       " ('44316', 'Western'),\n",
       " ('20420', ''),\n",
       " ('20709', ''),\n",
       " ('17545', 'Sport'),\n",
       " ('35939', ''),\n",
       " ('38262', ''),\n",
       " ('10023', 'Comedy'),\n",
       " ('27783', 'Sci-Fi'),\n",
       " ('42294', 'Sci-Fi'),\n",
       " ('32217', 'Comedy')]"
      ]
     },
     "execution_count": 115,
     "metadata": {},
     "output_type": "execute_result"
    }
   ],
   "source": [
    "curr.execute('select * from genre')\n",
    "curr.fetchall()"
   ]
  },
  {
   "cell_type": "code",
   "execution_count": 135,
   "id": "dab9d45c",
   "metadata": {},
   "outputs": [
    {
     "name": "stdout",
     "output_type": "stream",
     "text": [
      "Arrival (2016) 8 Mystery\n",
      "Arrival (2016) 8 Sci-Fi\n",
      "Gone Girl (2014) 8.1 Mystery\n",
      "Guardians of the Galaxy (2014) 8.1 Sci-Fi\n",
      "Her (2013) 8 Sci-Fi\n",
      "Inception (2010) 8.8 Sci-Fi\n",
      "Interstellar (2014) 8.6 Sci-Fi\n",
      "Mad Max: Fury Road (2015) 8.1 Sci-Fi\n",
      "Prisoners (2013) 8.1 Mystery\n",
      "Shutter Island (2010) 8.1 Mystery\n",
      "The Avengers (2012) 8.1 Sci-Fi\n",
      "The Martian (2015) 8 Sci-Fi\n",
      "X-Men: Days of Future Past (2014) 8 Sci-Fi\n"
     ]
    }
   ],
   "source": [
    "curr.execute('select title,rating,genre from IMDB join genre on IMDB.movie_id = genre.movie_id where rating >= 8 and genre in (\"Sci-Fi\",\"Mystery\")')\n",
    "for i in curr:\n",
    "    print(i[0],i[1],i[2])"
   ]
  },
  {
   "cell_type": "code",
   "execution_count": 166,
   "id": "2a6e7c01",
   "metadata": {},
   "outputs": [
    {
     "name": "stdout",
     "output_type": "stream",
     "text": [
      "['', 'Action', 'Adventure', 'Animation', 'Biography', 'Comedy', 'Crime', 'Drama', 'Family', 'Fantasy', 'History', 'Horror', 'Music', 'Musical', 'Mystery', 'Romance', 'Sci-Fi', 'Sport', 'Thriller', 'War', 'Western']\n"
     ]
    }
   ],
   "source": [
    "curr.execute('select distinct genre,sum(total) from genre join earning on genre.movie_id = earning.movie_id group by genre')\n",
    "#curr.fetchall()\n",
    "genre = []\n",
    "total = []\n",
    "for i in curr:\n",
    "    genre.append(i[0])\n",
    "    total.append(i[1])\n",
    "print(genre)"
   ]
  },
  {
   "cell_type": "code",
   "execution_count": 171,
   "id": "9512a899",
   "metadata": {},
   "outputs": [
    {
     "data": {
      "image/png": "[encoded data removed]",
      "text/plain": [
       "<Figure size 432x288 with 1 Axes>"
      ]
     },
     "metadata": {},
     "output_type": "display_data"
    },
    {
     "name": "stdout",
     "output_type": "stream",
     "text": [
      " 6.90\n",
      "Action 16.68\n",
      "Adventure 21.94\n",
      "Animation 6.30\n",
      "Biography 3.18\n",
      "Comedy 7.16\n",
      "Crime 1.44\n",
      "Drama 11.13\n",
      "Family 0.98\n",
      "Fantasy 4.80\n",
      "History 0.97\n",
      "Horror 0.01\n",
      "Music 0.40\n",
      "Musical 0.35\n",
      "Mystery 1.87\n",
      "Romance 1.35\n",
      "Sci-Fi 9.26\n",
      "Sport 0.30\n",
      "Thriller 4.12\n",
      "War 0.24\n",
      "Western 0.61\n",
      "99.99999999999999\n"
     ]
    }
   ],
   "source": [
    "import numpy as np\n",
    "import matplotlib.pyplot as plt\n",
    "total = np.array(total)\n",
    "plt.pie(total,labels = genre,autopct = '%.2f')\n",
    "plt.axis('equal')\n",
    "plt.show()\n",
    "ans = np.true_divide(total,total.sum(axis = 0,keepdims = True))*100\n",
    "for i in range(len(genre)):\n",
    "    print(genre[i],format(ans[i],'.2f'))\n",
    "print(sum(ans))"
   ]
  },
  {
   "cell_type": "code",
   "execution_count": 172,
   "id": "c7bbfa37",
   "metadata": {},
   "outputs": [
    {
     "ename": "DatabaseError",
     "evalue": "Execution failed on sql 'DROP TABLE \"earning\"': database is locked",
     "output_type": "error",
     "traceback": [
      "\u001b[1;31m---------------------------------------------------------------------------\u001b[0m",
      "\u001b[1;31mOperationalError\u001b[0m                          Traceback (most recent call last)",
      "\u001b[1;32mF:\\anaconda\\lib\\site-packages\\pandas\\io\\sql.py\u001b[0m in \u001b[0;36mexecute\u001b[1;34m(self, *args, **kwargs)\u001b[0m\n\u001b[0;32m   1724\u001b[0m         \u001b[1;32mtry\u001b[0m\u001b[1;33m:\u001b[0m\u001b[1;33m\u001b[0m\u001b[1;33m\u001b[0m\u001b[0m\n\u001b[1;32m-> 1725\u001b[1;33m             \u001b[0mcur\u001b[0m\u001b[1;33m.\u001b[0m\u001b[0mexecute\u001b[0m\u001b[1;33m(\u001b[0m\u001b[1;33m*\u001b[0m\u001b[0margs\u001b[0m\u001b[1;33m,\u001b[0m \u001b[1;33m**\u001b[0m\u001b[0mkwargs\u001b[0m\u001b[1;33m)\u001b[0m\u001b[1;33m\u001b[0m\u001b[1;33m\u001b[0m\u001b[0m\n\u001b[0m\u001b[0;32m   1726\u001b[0m             \u001b[1;32mreturn\u001b[0m \u001b[0mcur\u001b[0m\u001b[1;33m\u001b[0m\u001b[1;33m\u001b[0m\u001b[0m\n",
      "\u001b[1;31mOperationalError\u001b[0m: database is locked",
      "\nThe above exception was the direct cause of the following exception:\n",
      "\u001b[1;31mDatabaseError\u001b[0m                             Traceback (most recent call last)",
      "\u001b[1;32m<ipython-input-172-e76c1e9b84f1>\u001b[0m in \u001b[0;36m<module>\u001b[1;34m\u001b[0m\n\u001b[0;32m      9\u001b[0m \u001b[0mdata\u001b[0m \u001b[1;33m=\u001b[0m \u001b[0mpd\u001b[0m\u001b[1;33m.\u001b[0m\u001b[0mread_sql_query\u001b[0m\u001b[1;33m(\u001b[0m\u001b[1;34m'select * from earning'\u001b[0m\u001b[1;33m,\u001b[0m\u001b[0mdb\u001b[0m\u001b[1;33m)\u001b[0m\u001b[1;33m\u001b[0m\u001b[1;33m\u001b[0m\u001b[0m\n\u001b[0;32m     10\u001b[0m \u001b[0mdata\u001b[0m\u001b[1;33m[\u001b[0m\u001b[1;34m'total'\u001b[0m\u001b[1;33m]\u001b[0m \u001b[1;33m=\u001b[0m \u001b[0mdata\u001b[0m\u001b[1;33m[\u001b[0m\u001b[1;34m'Domestic'\u001b[0m\u001b[1;33m]\u001b[0m \u001b[1;33m+\u001b[0m \u001b[0mdata\u001b[0m\u001b[1;33m[\u001b[0m\u001b[1;34m'Worldwide'\u001b[0m\u001b[1;33m]\u001b[0m\u001b[1;33m\u001b[0m\u001b[1;33m\u001b[0m\u001b[0m\n\u001b[1;32m---> 11\u001b[1;33m \u001b[0mdata\u001b[0m\u001b[1;33m.\u001b[0m\u001b[0mto_sql\u001b[0m\u001b[1;33m(\u001b[0m\u001b[1;34m'earning'\u001b[0m\u001b[1;33m,\u001b[0m\u001b[0mdb\u001b[0m\u001b[1;33m,\u001b[0m\u001b[0mif_exists\u001b[0m \u001b[1;33m=\u001b[0m \u001b[1;34m'replace'\u001b[0m\u001b[1;33m)\u001b[0m\u001b[1;33m\u001b[0m\u001b[1;33m\u001b[0m\u001b[0m\n\u001b[0m\u001b[0;32m     12\u001b[0m \u001b[0mcur\u001b[0m\u001b[1;33m.\u001b[0m\u001b[0mexecute\u001b[0m\u001b[1;33m(\u001b[0m\u001b[1;34m'select distinct genre,sum(total) from genre join earning on genre.movie_id = earning.movie_id group by genre'\u001b[0m\u001b[1;33m)\u001b[0m\u001b[1;33m\u001b[0m\u001b[1;33m\u001b[0m\u001b[0m\n\u001b[0;32m     13\u001b[0m \u001b[0mgenre\u001b[0m \u001b[1;33m=\u001b[0m \u001b[1;33m[\u001b[0m\u001b[1;33m]\u001b[0m\u001b[1;33m\u001b[0m\u001b[1;33m\u001b[0m\u001b[0m\n",
      "\u001b[1;32mF:\\anaconda\\lib\\site-packages\\pandas\\core\\generic.py\u001b[0m in \u001b[0;36mto_sql\u001b[1;34m(self, name, con, schema, if_exists, index, index_label, chunksize, dtype, method)\u001b[0m\n\u001b[0;32m   2777\u001b[0m         \u001b[1;32mfrom\u001b[0m \u001b[0mpandas\u001b[0m\u001b[1;33m.\u001b[0m\u001b[0mio\u001b[0m \u001b[1;32mimport\u001b[0m \u001b[0msql\u001b[0m\u001b[1;33m\u001b[0m\u001b[1;33m\u001b[0m\u001b[0m\n\u001b[0;32m   2778\u001b[0m \u001b[1;33m\u001b[0m\u001b[0m\n\u001b[1;32m-> 2779\u001b[1;33m         sql.to_sql(\n\u001b[0m\u001b[0;32m   2780\u001b[0m             \u001b[0mself\u001b[0m\u001b[1;33m,\u001b[0m\u001b[1;33m\u001b[0m\u001b[1;33m\u001b[0m\u001b[0m\n\u001b[0;32m   2781\u001b[0m             \u001b[0mname\u001b[0m\u001b[1;33m,\u001b[0m\u001b[1;33m\u001b[0m\u001b[1;33m\u001b[0m\u001b[0m\n",
      "\u001b[1;32mF:\\anaconda\\lib\\site-packages\\pandas\\io\\sql.py\u001b[0m in \u001b[0;36mto_sql\u001b[1;34m(frame, name, con, schema, if_exists, index, index_label, chunksize, dtype, method)\u001b[0m\n\u001b[0;32m    599\u001b[0m         )\n\u001b[0;32m    600\u001b[0m \u001b[1;33m\u001b[0m\u001b[0m\n\u001b[1;32m--> 601\u001b[1;33m     pandas_sql.to_sql(\n\u001b[0m\u001b[0;32m    602\u001b[0m         \u001b[0mframe\u001b[0m\u001b[1;33m,\u001b[0m\u001b[1;33m\u001b[0m\u001b[1;33m\u001b[0m\u001b[0m\n\u001b[0;32m    603\u001b[0m         \u001b[0mname\u001b[0m\u001b[1;33m,\u001b[0m\u001b[1;33m\u001b[0m\u001b[1;33m\u001b[0m\u001b[0m\n",
      "\u001b[1;32mF:\\anaconda\\lib\\site-packages\\pandas\\io\\sql.py\u001b[0m in \u001b[0;36mto_sql\u001b[1;34m(self, frame, name, if_exists, index, index_label, schema, chunksize, dtype, method)\u001b[0m\n\u001b[0;32m   1869\u001b[0m             \u001b[0mdtype\u001b[0m\u001b[1;33m=\u001b[0m\u001b[0mdtype\u001b[0m\u001b[1;33m,\u001b[0m\u001b[1;33m\u001b[0m\u001b[1;33m\u001b[0m\u001b[0m\n\u001b[0;32m   1870\u001b[0m         )\n\u001b[1;32m-> 1871\u001b[1;33m         \u001b[0mtable\u001b[0m\u001b[1;33m.\u001b[0m\u001b[0mcreate\u001b[0m\u001b[1;33m(\u001b[0m\u001b[1;33m)\u001b[0m\u001b[1;33m\u001b[0m\u001b[1;33m\u001b[0m\u001b[0m\n\u001b[0m\u001b[0;32m   1872\u001b[0m         \u001b[0mtable\u001b[0m\u001b[1;33m.\u001b[0m\u001b[0minsert\u001b[0m\u001b[1;33m(\u001b[0m\u001b[0mchunksize\u001b[0m\u001b[1;33m,\u001b[0m \u001b[0mmethod\u001b[0m\u001b[1;33m)\u001b[0m\u001b[1;33m\u001b[0m\u001b[1;33m\u001b[0m\u001b[0m\n\u001b[0;32m   1873\u001b[0m \u001b[1;33m\u001b[0m\u001b[0m\n",
      "\u001b[1;32mF:\\anaconda\\lib\\site-packages\\pandas\\io\\sql.py\u001b[0m in \u001b[0;36mcreate\u001b[1;34m(self)\u001b[0m\n\u001b[0;32m    738\u001b[0m                 \u001b[1;32mraise\u001b[0m \u001b[0mValueError\u001b[0m\u001b[1;33m(\u001b[0m\u001b[1;34mf\"Table '{self.name}' already exists.\"\u001b[0m\u001b[1;33m)\u001b[0m\u001b[1;33m\u001b[0m\u001b[1;33m\u001b[0m\u001b[0m\n\u001b[0;32m    739\u001b[0m             \u001b[1;32melif\u001b[0m \u001b[0mself\u001b[0m\u001b[1;33m.\u001b[0m\u001b[0mif_exists\u001b[0m \u001b[1;33m==\u001b[0m \u001b[1;34m\"replace\"\u001b[0m\u001b[1;33m:\u001b[0m\u001b[1;33m\u001b[0m\u001b[1;33m\u001b[0m\u001b[0m\n\u001b[1;32m--> 740\u001b[1;33m                 \u001b[0mself\u001b[0m\u001b[1;33m.\u001b[0m\u001b[0mpd_sql\u001b[0m\u001b[1;33m.\u001b[0m\u001b[0mdrop_table\u001b[0m\u001b[1;33m(\u001b[0m\u001b[0mself\u001b[0m\u001b[1;33m.\u001b[0m\u001b[0mname\u001b[0m\u001b[1;33m,\u001b[0m \u001b[0mself\u001b[0m\u001b[1;33m.\u001b[0m\u001b[0mschema\u001b[0m\u001b[1;33m)\u001b[0m\u001b[1;33m\u001b[0m\u001b[1;33m\u001b[0m\u001b[0m\n\u001b[0m\u001b[0;32m    741\u001b[0m                 \u001b[0mself\u001b[0m\u001b[1;33m.\u001b[0m\u001b[0m_execute_create\u001b[0m\u001b[1;33m(\u001b[0m\u001b[1;33m)\u001b[0m\u001b[1;33m\u001b[0m\u001b[1;33m\u001b[0m\u001b[0m\n\u001b[0;32m    742\u001b[0m             \u001b[1;32melif\u001b[0m \u001b[0mself\u001b[0m\u001b[1;33m.\u001b[0m\u001b[0mif_exists\u001b[0m \u001b[1;33m==\u001b[0m \u001b[1;34m\"append\"\u001b[0m\u001b[1;33m:\u001b[0m\u001b[1;33m\u001b[0m\u001b[1;33m\u001b[0m\u001b[0m\n",
      "\u001b[1;32mF:\\anaconda\\lib\\site-packages\\pandas\\io\\sql.py\u001b[0m in \u001b[0;36mdrop_table\u001b[1;34m(self, name, schema)\u001b[0m\n\u001b[0;32m   1887\u001b[0m     \u001b[1;32mdef\u001b[0m \u001b[0mdrop_table\u001b[0m\u001b[1;33m(\u001b[0m\u001b[0mself\u001b[0m\u001b[1;33m,\u001b[0m \u001b[0mname\u001b[0m\u001b[1;33m,\u001b[0m \u001b[0mschema\u001b[0m\u001b[1;33m=\u001b[0m\u001b[1;32mNone\u001b[0m\u001b[1;33m)\u001b[0m\u001b[1;33m:\u001b[0m\u001b[1;33m\u001b[0m\u001b[1;33m\u001b[0m\u001b[0m\n\u001b[0;32m   1888\u001b[0m         \u001b[0mdrop_sql\u001b[0m \u001b[1;33m=\u001b[0m \u001b[1;34mf\"DROP TABLE {_get_valid_sqlite_name(name)}\"\u001b[0m\u001b[1;33m\u001b[0m\u001b[1;33m\u001b[0m\u001b[0m\n\u001b[1;32m-> 1889\u001b[1;33m         \u001b[0mself\u001b[0m\u001b[1;33m.\u001b[0m\u001b[0mexecute\u001b[0m\u001b[1;33m(\u001b[0m\u001b[0mdrop_sql\u001b[0m\u001b[1;33m)\u001b[0m\u001b[1;33m\u001b[0m\u001b[1;33m\u001b[0m\u001b[0m\n\u001b[0m\u001b[0;32m   1890\u001b[0m \u001b[1;33m\u001b[0m\u001b[0m\n\u001b[0;32m   1891\u001b[0m     \u001b[1;32mdef\u001b[0m \u001b[0m_create_sql_schema\u001b[0m\u001b[1;33m(\u001b[0m\u001b[0mself\u001b[0m\u001b[1;33m,\u001b[0m \u001b[0mframe\u001b[0m\u001b[1;33m,\u001b[0m \u001b[0mtable_name\u001b[0m\u001b[1;33m,\u001b[0m \u001b[0mkeys\u001b[0m\u001b[1;33m=\u001b[0m\u001b[1;32mNone\u001b[0m\u001b[1;33m,\u001b[0m \u001b[0mdtype\u001b[0m\u001b[1;33m=\u001b[0m\u001b[1;32mNone\u001b[0m\u001b[1;33m,\u001b[0m \u001b[0mschema\u001b[0m\u001b[1;33m=\u001b[0m\u001b[1;32mNone\u001b[0m\u001b[1;33m)\u001b[0m\u001b[1;33m:\u001b[0m\u001b[1;33m\u001b[0m\u001b[1;33m\u001b[0m\u001b[0m\n",
      "\u001b[1;32mF:\\anaconda\\lib\\site-packages\\pandas\\io\\sql.py\u001b[0m in \u001b[0;36mexecute\u001b[1;34m(self, *args, **kwargs)\u001b[0m\n\u001b[0;32m   1735\u001b[0m \u001b[1;33m\u001b[0m\u001b[0m\n\u001b[0;32m   1736\u001b[0m             \u001b[0mex\u001b[0m \u001b[1;33m=\u001b[0m \u001b[0mDatabaseError\u001b[0m\u001b[1;33m(\u001b[0m\u001b[1;34mf\"Execution failed on sql '{args[0]}': {exc}\"\u001b[0m\u001b[1;33m)\u001b[0m\u001b[1;33m\u001b[0m\u001b[1;33m\u001b[0m\u001b[0m\n\u001b[1;32m-> 1737\u001b[1;33m             \u001b[1;32mraise\u001b[0m \u001b[0mex\u001b[0m \u001b[1;32mfrom\u001b[0m \u001b[0mexc\u001b[0m\u001b[1;33m\u001b[0m\u001b[1;33m\u001b[0m\u001b[0m\n\u001b[0m\u001b[0;32m   1738\u001b[0m \u001b[1;33m\u001b[0m\u001b[0m\n\u001b[0;32m   1739\u001b[0m     \u001b[1;33m@\u001b[0m\u001b[0mstaticmethod\u001b[0m\u001b[1;33m\u001b[0m\u001b[1;33m\u001b[0m\u001b[0m\n",
      "\u001b[1;31mDatabaseError\u001b[0m: Execution failed on sql 'DROP TABLE \"earning\"': database is locked"
     ]
    }
   ],
   "source": [
    "## IMDB genre earning by ME\n",
    "import numpy as np\n",
    "import matplotlib.pyplot as plt\n",
    "import pandas as pd\n",
    "import sqlite3\n",
    "db = sqlite3.connect('IMDB.sqlite')\n",
    "cur = db.cursor()\n",
    "data = pd.read_sql_query('select * from earning',db)\n",
    "data['total'] = data['Domestic'] + data['Worldwide']\n",
    "data.to_sql('earning',db,if_exists = 'replace')\n",
    "cur.execute('select distinct genre,sum(total) from genre join earning on genre.movie_id = earning.movie_id group by genre')\n",
    "genre = []\n",
    "total = []\n",
    "for i in cur:\n",
    "    if i[0] != '':\n",
    "        genre.append(i[0])\n",
    "        total.append(i[1])\n",
    "genre = np.array(genre)\n",
    "total = np.array(total)\n",
    "plt.pie(total,labels = genre,autopct = '%.2f')\n",
    "plt.show()\n",
    "ans = np.true_divide(total,total.sum(axis = 0,keepdims = True))*100\n",
    "for i in range(len(genre)):\n",
    "    print(genre[i],format(ans[i],'.2f'))"
   ]
  },
  {
   "cell_type": "code",
   "execution_count": 176,
   "id": "7f581373",
   "metadata": {
    "scrolled": true
   },
   "outputs": [
    {
     "name": "stdout",
     "output_type": "stream",
     "text": [
      "Drama 11.96\n",
      "Adventure 23.57\n",
      "Action 17.91\n",
      "Comedy 7.69\n",
      "Biography 3.42\n",
      "Sci-Fi 9.95\n",
      "Thriller 4.42\n",
      "Animation 6.77\n",
      "Romance 1.45\n",
      "Crime 1.55\n",
      "Mystery 2.01\n",
      "Fantasy 5.15\n",
      "History 1.04\n",
      "Family 1.05\n",
      "Music 0.43\n",
      "Sport 0.32\n",
      "Horror 0.01\n",
      "Western 0.65\n",
      "War 0.25\n",
      "Musical 0.38\n"
     ]
    },
    {
     "data": {
      "image/png": "[encoded data removed]",
      "text/plain": [
       "<Figure size 432x288 with 1 Axes>"
      ]
     },
     "metadata": {},
     "output_type": "display_data"
    }
   ],
   "source": [
    "## IMDB genre earning by doubt support\n",
    "import sqlite3\n",
    "import pandas as pd\n",
    "import numpy as np\n",
    "import matplotlib.pyplot as plt\n",
    "\n",
    "db = sqlite3.connect('IMDB.sqlite')\n",
    "\n",
    "imdb = pd.read_sql_query('select * from IMDB', db)\n",
    "earning = pd.read_sql_query('select * from earning', db)\n",
    "genre = pd.read_sql_query('select * from genre', db)\n",
    "\n",
    "df = earning.copy()\n",
    "df['Total Earning'] = df['Domestic'] + df['Worldwide']\n",
    "\n",
    "df1 = pd.merge(df, imdb, on = 'Movie_id', how = 'inner')\n",
    "df2 = pd.merge(df1, genre, on = 'Movie_id', how = 'inner')\n",
    "df2['genre'].replace('', np.nan, inplace = True)\n",
    "df2['genre'].dropna()\n",
    "\n",
    "a = df2['genre'].value_counts().index\n",
    "\n",
    "arr = []\n",
    "for i in a:\n",
    "    b= df2.loc[df2['genre'] == i]\n",
    "    q = b['Total Earning']\n",
    "    q = np.array(q, dtype = np.int64)\n",
    "    c = q.sum()\n",
    "    arr.append(c)\n",
    "    \n",
    "for i in range(len(arr)):\n",
    "    per = arr[i] / sum(arr) * 100\n",
    "    print(a[i], format(per, '.2f'))\n",
    "    \n",
    "plt.pie(arr)\n",
    "plt.show()"
   ]
  },
  {
   "cell_type": "code",
   "execution_count": 180,
   "id": "da92f2e4",
   "metadata": {},
   "outputs": [
    {
     "data": {
      "image/png": "[encoded data removed]",
      "text/plain": [
       "<Figure size 432x288 with 1 Axes>"
      ]
     },
     "metadata": {},
     "output_type": "display_data"
    },
    {
     "name": "stdout",
     "output_type": "stream",
     "text": [
      "Action 17.98\n",
      "Adventure 25.10\n",
      "Animation 7.66\n",
      "Biography 2.59\n",
      "Comedy 7.22\n",
      "Crime 1.77\n",
      "Drama 10.85\n",
      "Family 1.91\n",
      "Fantasy 4.54\n",
      "History 0.72\n",
      "Horror 0.03\n",
      "Music 0.15\n",
      "Musical 0.25\n",
      "Mystery 1.95\n",
      "Romance 1.12\n",
      "Sci-Fi 10.77\n",
      "Sport 0.46\n",
      "Thriller 3.99\n",
      "War 0.36\n",
      "Western 0.57\n"
     ]
    }
   ],
   "source": [
    "# IMDB genre Budget\n",
    "#import pandas as pd\n",
    "import numpy as np\n",
    "import matplotlib.pyplot as plt\n",
    "import sqlite3\n",
    "db = sqlite3.connect('IMDB.sqlite')\n",
    "cur = db.cursor()\n",
    "cur.execute('select distinct genre,sum(budget) from genre join IMDB on genre.movie_id = IMDB.movie_id group by genre')\n",
    "genre = []\n",
    "budget = []\n",
    "for i in cur:\n",
    "    if i[0] != '':\n",
    "        genre.append(i[0])\n",
    "        budget.append(i[1])\n",
    "genre = np.array(genre)\n",
    "budget = np.array(budget)\n",
    "plt.pie(budget,labels = genre,autopct = '%.2f')\n",
    "plt.show()\n",
    "ans = np.true_divide(budget,budget.sum(axis = 0,keepdims = True))*100\n",
    "for i in range(len(genre)):\n",
    "    print(genre[i],format(ans[i],'.2f'))"
   ]
  },
  {
   "cell_type": "code",
   "execution_count": 209,
   "id": "e1fd750d",
   "metadata": {},
   "outputs": [],
   "source": [
    "# IMDB Year Top\n",
    "import numpy as np\n",
    "import pandas as pd\n",
    "import matplotlib as plt\n",
    "import sqlite3\n",
    "db = sqlite3.connect('IMDB.sqlite')\n",
    "cur = db.cursor()\n",
    "data = pd.read_sql_query('select title,total from IMDB join earning on IMDB.movie_id = earning.movie_id group by total',db)\n",
    "df = data.copy()\n"
   ]
  },
  {
   "cell_type": "code",
   "execution_count": 318,
   "id": "06924247",
   "metadata": {},
   "outputs": [
    {
     "data": {
      "text/plain": [
       "'Star Wars: The Force Awakens'"
      ]
     },
     "execution_count": 318,
     "metadata": {},
     "output_type": "execute_result"
    }
   ],
   "source": [
    "#IMDB profit\n",
    "import pandas as pd\n",
    "import numpy as np\n",
    "import sqlite3\n",
    "db = sqlite3.connect('IMDB.sqlite')\n",
    "cur = db.cursor()\n",
    "earning = pd.read_sql_query('select * from earning',db)\n",
    "imdb = pd.read_sql_query('select * from IMDB',db)\n",
    "\n",
    "df = pd.merge(earning,imdb,on = 'Movie_id',how = 'inner')\n",
    "df['Budget'].replace('',np.nan,inplace = True)\n",
    "df['Budget'].dropna()\n",
    "df['net_profit'] = df['total'] - df['Budget']\n",
    "ans = df['net_profit'].max()\n",
    "getans = df[df['net_profit'] == ans]['Title']\n",
    "str(getans)[6:34]"
   ]
  },
  {
   "cell_type": "code",
   "execution_count": 324,
   "id": "7881ccff",
   "metadata": {},
   "outputs": [
    {
     "data": {
      "text/html": [
       "<div>\n",
       "<style scoped>\n",
       "    .dataframe tbody tr th:only-of-type {\n",
       "        vertical-align: middle;\n",
       "    }\n",
       "\n",
       "    .dataframe tbody tr th {\n",
       "        vertical-align: top;\n",
       "    }\n",
       "\n",
       "    .dataframe thead th {\n",
       "        text-align: right;\n",
       "    }\n",
       "</style>\n",
       "<table border=\"1\" class=\"dataframe\">\n",
       "  <thead>\n",
       "    <tr style=\"text-align: right;\">\n",
       "      <th></th>\n",
       "      <th>level_0</th>\n",
       "      <th>index</th>\n",
       "      <th>Movie_id</th>\n",
       "      <th>Domestic</th>\n",
       "      <th>Worldwide</th>\n",
       "      <th>total</th>\n",
       "      <th>Title</th>\n",
       "      <th>Rating</th>\n",
       "      <th>TotalVotes</th>\n",
       "      <th>MetaCritic</th>\n",
       "      <th>...</th>\n",
       "      <th>Votes3044M</th>\n",
       "      <th>Votes3044F</th>\n",
       "      <th>Votes45A</th>\n",
       "      <th>Votes45AM</th>\n",
       "      <th>Votes45AF</th>\n",
       "      <th>VotesIMDB</th>\n",
       "      <th>Votes1000</th>\n",
       "      <th>VotesUS</th>\n",
       "      <th>VotesnUS</th>\n",
       "      <th>net_profit</th>\n",
       "    </tr>\n",
       "  </thead>\n",
       "  <tbody>\n",
       "    <tr>\n",
       "      <th>71</th>\n",
       "      <td>71</td>\n",
       "      <td>71</td>\n",
       "      <td>30154</td>\n",
       "      <td>1013100</td>\n",
       "      <td>1013100.0</td>\n",
       "      <td>2026200.0</td>\n",
       "      <td>Short Term 12 (2013)</td>\n",
       "      <td>8.0</td>\n",
       "      <td>63459</td>\n",
       "      <td>82</td>\n",
       "      <td>...</td>\n",
       "      <td>7.7</td>\n",
       "      <td>7.9</td>\n",
       "      <td>7.7</td>\n",
       "      <td>7.7</td>\n",
       "      <td>8.0</td>\n",
       "      <td>8.5</td>\n",
       "      <td>7.0</td>\n",
       "      <td>8.3</td>\n",
       "      <td>7.9</td>\n",
       "      <td>1026200.0</td>\n",
       "    </tr>\n",
       "    <tr>\n",
       "      <th>109</th>\n",
       "      <td>109</td>\n",
       "      <td>109</td>\n",
       "      <td>20709</td>\n",
       "      <td>22321</td>\n",
       "      <td>22321.0</td>\n",
       "      <td>44642.0</td>\n",
       "      <td>Tyrannosaur (2011)</td>\n",
       "      <td>7.6</td>\n",
       "      <td>26016</td>\n",
       "      <td>65</td>\n",
       "      <td>...</td>\n",
       "      <td>7.6</td>\n",
       "      <td>7.5</td>\n",
       "      <td>7.5</td>\n",
       "      <td>7.4</td>\n",
       "      <td>5.8</td>\n",
       "      <td>6.5</td>\n",
       "      <td>7.4</td>\n",
       "      <td>7.6</td>\n",
       "      <td></td>\n",
       "      <td>-955358.0</td>\n",
       "    </tr>\n",
       "  </tbody>\n",
       "</table>\n",
       "<p>2 rows × 58 columns</p>\n",
       "</div>"
      ],
      "text/plain": [
       "     level_0  index Movie_id  Domestic  Worldwide      total  \\\n",
       "71        71     71    30154   1013100  1013100.0  2026200.0   \n",
       "109      109    109    20709     22321    22321.0    44642.0   \n",
       "\n",
       "                    Title  Rating  TotalVotes MetaCritic  ...  Votes3044M  \\\n",
       "71   Short Term 12 (2013)     8.0       63459         82  ...         7.7   \n",
       "109    Tyrannosaur (2011)     7.6       26016         65  ...         7.6   \n",
       "\n",
       "    Votes3044F Votes45A Votes45AM Votes45AF VotesIMDB Votes1000 VotesUS  \\\n",
       "71         7.9      7.7       7.7       8.0       8.5       7.0     8.3   \n",
       "109        7.5      7.5       7.4       5.8       6.5       7.4     7.6   \n",
       "\n",
       "    VotesnUS net_profit  \n",
       "71       7.9  1026200.0  \n",
       "109           -955358.0  \n",
       "\n",
       "[2 rows x 58 columns]"
      ]
     },
     "execution_count": 324,
     "metadata": {},
     "output_type": "execute_result"
    }
   ],
   "source": [
    "#IMDB least Budget\n",
    "import pandas as pd\n",
    "import numpy as np\n",
    "import sqlite3\n",
    "db = sqlite3.connect('IMDB.sqlite')\n",
    "cur = db.cursor()\n",
    "earning = pd.read_sql_query('select * from earning',db)\n",
    "imdb = pd.read_sql_query('select * from IMDB',db)\n",
    "\n",
    "df = pd.merge(earning,imdb,on = 'Movie_id',how = 'inner')\n",
    "df['Budget'].replace('',np.nan,inplace = True)\n",
    "df['Budget'].dropna()\n",
    "df['net_profit'] = df['total'] - df['Budget']\n",
    "ans = df['Budget'].min()\n",
    "getans = df[df['Budget'] == ans]\n",
    "getans"
   ]
  },
  {
   "cell_type": "code",
   "execution_count": 328,
   "id": "25e3b065",
   "metadata": {},
   "outputs": [
    {
     "name": "stdout",
     "output_type": "stream",
     "text": [
      "Tyrannosaur (2011) 44642.0\n",
      "Detachment (2011) 145378.0\n",
      "I, Daniel Blake (2016) 520708.0\n",
      "Short Term 12 (2013) 2026200.0\n",
      "Disconnect (2012) 2873800.0\n",
      "Flipped (2010) 3510424.0\n",
      "Tucker and Dale vs Evil (2010) 4973354.0\n",
      "Pride (2014) 8970268.0\n",
      "What We Do in the Shadows (2014) 9732448.0\n",
      "Hunt for the Wilderpeople (2016) 10410936.0\n",
      "Captain Fantastic (2016) 11759472.0\n",
      "Me and Earl and the Dying Girl (2015) 15833165.0\n",
      "Sing Street (2016) 16861640.0\n",
      "Before Midnight (2013) 19291096.0\n",
      "Amour (2012) 26578984.0\n",
      "Warrior (2011) 36714230.0\n",
      "Nebraska (2013) 45337784.0\n",
      "The Perks of Being a Wallflower (2012) 51127075.0\n",
      "Whiplash (2014) 62074041.0\n",
      "Ex Machina (2014) 62312372.0\n",
      "Hell or High Water (2016) 64887721.0\n",
      "Boyhood (2014) 69847562.0\n",
      "Nightcrawler (2014) 71078434.0\n",
      "Her (2013) 72919502.0\n",
      "50/50 (2011) 74201975.0\n",
      "127 Hours (2010) 79074027.0\n",
      "Scott Pilgrim vs. the World (2010) 79188834.0\n",
      "Dallas Buyers Club (2013) 82496570.0\n",
      "End of Watch (2012) 89129755.0\n",
      "The Book Thief (2013) 98074797.0\n",
      "The Little Prince (2015) 98910402.0\n",
      "About Time (2013) 102423370.0\n",
      "Drive (2011) 111235855.0\n",
      "Moonrise Kingdom (2012) 113775632.0\n",
      "Rush (2013) 117195248.0\n",
      "Kubo and the Two Strings (2016) 117952633.0\n",
      "Manchester by the Sea (2016) 125235493.0\n",
      "Sicario (2015) 131761737.0\n",
      "Spotlight (2015) 133402249.0\n",
      "Philomena (2013) 137839851.0\n",
      "Kick-Ass (2010) 144260206.0\n",
      "Birdman or (The Unexpected Virtue of Ignorance) (2014) 145555692.0\n",
      "The Theory of Everything (2014) 159620225.0\n",
      "The Artist (2011) 178104538.0\n",
      "Prisoners (2013) 183128989.0\n",
      "Moneyball (2011) 185811708.0\n",
      "Lion (2016) 192031485.0\n",
      "The Big Short (2015) 203700740.0\n",
      "Midnight in Paris (2011) 207936264.0\n",
      "The Fighter (2010) 222807878.0\n",
      "The Grand Budapest Hotel (2014) 234102648.0\n",
      "Bridge of Spies (2015) 237792102.0\n",
      "Hacksaw Ridge (2016) 242511969.0\n",
      "12 Years a Slave (2013) 244405195.0\n",
      "The Town (2010) 246212398.0\n",
      "Hugo (2011) 259634667.0\n",
      "Lone Survivor (2013) 279898513.0\n",
      "Creed (2015) 283335162.0\n",
      "Fury (2014) 297635812.0\n",
      "Arrival (2016) 303934325.0\n",
      "The Social Network (2010) 321883009.0\n",
      "The Imitation Game (2014) 324681391.0\n",
      "Captain Phillips (2013) 325892666.0\n",
      "The Girl with the Dragon Tattoo (2011) 335133223.0\n",
      "Straight Outta Compton (2015) 362832776.0\n",
      "Argo (2012) 368351006.0\n",
      "Silver Linings Playbook (2012) 368505411.0\n",
      "The Help (2011) 386347224.0\n",
      "Hidden Figures (2016) 404732865.0\n",
      "Shutter Island (2010) 422817129.0\n",
      "True Grit (2010) 423519932.0\n",
      "The Fault in Our Stars (2014) 432039184.0\n",
      "Black Swan (2010) 436352724.0\n",
      "Edge of Tomorrow (2014) 470747512.0\n",
      "X-Men: First Class (2011) 500032429.0\n",
      "The Wolf of Wall Street (2013) 508901388.0\n",
      "Mad Max: Fury Road (2015) 532494694.0\n",
      "Gone Girl (2014) 537097552.0\n",
      "Kingsman: The Secret Service (2014) 542613270.0\n",
      "The King's Speech (2010) 549664692.0\n",
      "Django Unchained (2012) 588173672.0\n",
      "Les Misİrables (2012) 590619540.0\n",
      "La La Land (2016) 596771482.0\n",
      "Rise of the Planet of the Apes (2011) 658561234.0\n",
      "Wreck-It Ralph (2012) 660645778.0\n",
      "Star Trek Into Darkness (2013) 696160130.0\n",
      "How to Train Your Dragon (2010) 712459990.0\n",
      "The Revenant (2015) 716588397.0\n",
      "The Lego Movie (2014) 726921384.0\n",
      "Tangled (2010) 792616872.0\n",
      "Despicable Me (2010) 794627970.0\n",
      "How to Train Your Dragon 2 (2014) 798540443.0\n",
      "The Martian (2015) 858595553.0\n",
      "Interstellar (2014) 863140034.0\n",
      "Big Hero 6 (2014) 880346440.0\n",
      "Moana (2016) 892088155.0\n",
      "Doctor Strange (2016) 910360315.0\n",
      "Dawn of the Planet of the Apes (2014) 919190155.0\n",
      "Captain America: The Winter Soldier (2014) 974030839.0\n",
      "X-Men: Days of Future Past (2014) 981784309.0\n",
      "Gravity (2013) 997285410.0\n",
      "Guardians of the Galaxy (2014) 1106505229.0\n",
      "Inception (2010) 1118108959.0\n",
      "Deadpool (2016) 1146183688.0\n",
      "Inside Out (2015) 1214072885.0\n",
      "The Hobbit: The Desolation of Smaug (2013) 1216733710.0\n",
      "Harry Potter and the Deathly Hallows: Part 1 (2010) 1256266610.0\n",
      "The Hunger Games: Catching Fire (2013) 1289679793.0\n",
      "The Hobbit: An Unexpected Journey (2012) 1324107136.0\n",
      "Zootopia (2016) 1365052443.0\n",
      "Skyfall (2012) 1412921290.0\n",
      "Toy Story 3 (2010) 1481974583.0\n",
      "The Dark Knight Rises (2012) 1533078198.0\n",
      "Captain America: Civil War (2016) 1561388844.0\n",
      "Rogue One (2016) 1588234597.0\n",
      "The Avengers (2012) 2142170898.0\n",
      "Star Wars: The Force Awakens (2015) 3004885849.0\n"
     ]
    }
   ],
   "source": [
    "#IMDB Year Top\n",
    "cur.execute('select title,total from IMDB join earning on IMDB.movie_id = earning.movie_id order by total')\n",
    "for i in cur:\n",
    "    print(i[0],i[1])"
   ]
  },
  {
   "cell_type": "code",
   "execution_count": null,
   "id": "40bae7c0",
   "metadata": {},
   "outputs": [],
   "source": []
  }
 ],
 "metadata": {
  "kernelspec": {
   "display_name": "Python 3",
   "language": "python",
   "name": "python3"
  },
  "language_info": {
   "codemirror_mode": {
    "name": "ipython",
    "version": 3
   },
   "file_extension": ".py",
   "mimetype": "text/x-python",
   "name": "python",
   "nbconvert_exporter": "python",
   "pygments_lexer": "ipython3",
   "version": "3.8.8"
  }
 },
 "nbformat": 4,
 "nbformat_minor": 5
}
