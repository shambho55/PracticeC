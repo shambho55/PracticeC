{
 "cells": [
  {
   "cell_type": "markdown",
   "id": "0c86f38c",
   "metadata": {},
   "source": [
    "### Print HelloWorld\n"
   ]
  },
  {
   "cell_type": "code",
   "execution_count": 3,
   "id": "e299cfd8",
   "metadata": {},
   "outputs": [
    {
     "name": "stdout",
     "output_type": "stream",
     "text": [
      "Hello\n",
      "hello\n"
     ]
    },
    {
     "data": {
      "text/plain": [
       "10"
      ]
     },
     "execution_count": 3,
     "metadata": {},
     "output_type": "execute_result"
    }
   ],
   "source": [
    "print(\"Hello\")\n",
    "print(\"hello\")\n",
    "10"
   ]
  },
  {
   "cell_type": "markdown",
   "id": "504482bd",
   "metadata": {},
   "source": [
    "### Variables"
   ]
  },
  {
   "cell_type": "code",
   "execution_count": 15,
   "id": "42a19378",
   "metadata": {},
   "outputs": [
    {
     "name": "stdout",
     "output_type": "stream",
     "text": [
      "sum\n",
      "30\n"
     ]
    }
   ],
   "source": [
    "a = 10\n",
    "b = 20\n",
    "\n",
    "sum = a + b \n",
    "print(\"sum\")\n",
    "print (sum)"
   ]
  },
  {
   "cell_type": "markdown",
   "id": "b881b549",
   "metadata": {},
   "source": [
    "### Variables Naming"
   ]
  },
  {
   "cell_type": "markdown",
   "id": "7286ebee",
   "metadata": {},
   "source": [
    "You can't Start with Digits"
   ]
  },
  {
   "cell_type": "code",
   "execution_count": 21,
   "id": "d1555da8",
   "metadata": {},
   "outputs": [],
   "source": [
    "ab_1c = 50\n",
    "_ss = 20\n",
    "#12cc = 5 "
   ]
  },
  {
   "cell_type": "markdown",
   "id": "a53059b4",
   "metadata": {},
   "source": [
    "### Assigning Different type of data to a Variable"
   ]
  },
  {
   "cell_type": "code",
   "execution_count": 45,
   "id": "5f7829c6",
   "metadata": {},
   "outputs": [
    {
     "data": {
      "text/plain": [
       "'snfsjfn'"
      ]
     },
     "execution_count": 45,
     "metadata": {},
     "output_type": "execute_result"
    }
   ],
   "source": [
    "a = 10\n",
    "a = 20\n",
    "a=\"snfsjfn\"\n",
    "a"
   ]
  },
  {
   "cell_type": "code",
   "execution_count": 49,
   "id": "dff0d7d2",
   "metadata": {},
   "outputs": [
    {
     "name": "stdout",
     "output_type": "stream",
     "text": [
      "<class 'str'>\n",
      "<class 'int'>\n"
     ]
    }
   ],
   "source": [
    "a = \"shambho\"\n",
    "print(type(a))\n",
    "a = 40 \n",
    "print(type(a))"
   ]
  },
  {
   "cell_type": "markdown",
   "id": "74148ec0",
   "metadata": {},
   "source": [
    "### Python Numbers\n"
   ]
  },
  {
   "cell_type": "code",
   "execution_count": 61,
   "id": "36c42a7b",
   "metadata": {},
   "outputs": [
    {
     "name": "stdout",
     "output_type": "stream",
     "text": [
      "<class 'int'>\n",
      "<class 'float'>\n",
      "<class 'complex'>\n"
     ]
    }
   ],
   "source": [
    "a = 10\n",
    "b = 3.4\n",
    "c = 4 + 5j\n",
    "print(type(a))\n",
    "print(type(b))\n",
    "print(type(c))"
   ]
  },
  {
   "cell_type": "markdown",
   "id": "acde43e8",
   "metadata": {},
   "source": [
    "a = 10\n",
    "print(id(a))\n",
    "a = a + 1\n",
    "print(id(a))"
   ]
  },
  {
   "cell_type": "markdown",
   "id": "37c8ba30",
   "metadata": {},
   "source": [
    "Range only from numbers [-5,256] will show same id else different if outside this range"
   ]
  },
  {
   "cell_type": "code",
   "execution_count": 71,
   "id": "8cafafe4",
   "metadata": {},
   "outputs": [
    {
     "name": "stdout",
     "output_type": "stream",
     "text": [
      "140706506229520\n",
      "140706506229520\n"
     ]
    }
   ],
   "source": [
    "a = 256\n",
    "b = 256\n",
    "print(id(a))\n",
    "print(id(b))"
   ]
  },
  {
   "cell_type": "code",
   "execution_count": 73,
   "id": "0736363e",
   "metadata": {},
   "outputs": [
    {
     "name": "stdout",
     "output_type": "stream",
     "text": [
      "2462746250384\n",
      "2462746250544\n"
     ]
    }
   ],
   "source": [
    "a = -6\n",
    "b = -6\n",
    "print(id(a))\n",
    "print(id(b))"
   ]
  },
  {
   "cell_type": "code",
   "execution_count": 75,
   "id": "ec79c4e9",
   "metadata": {},
   "outputs": [
    {
     "name": "stdout",
     "output_type": "stream",
     "text": [
      "2462746250544\n",
      "2462746250672\n"
     ]
    }
   ],
   "source": [
    "a = 257\n",
    "b = 257\n",
    "print(id(a))\n",
    "print(id(b))"
   ]
  },
  {
   "cell_type": "markdown",
   "id": "7a75ea0e",
   "metadata": {},
   "source": [
    "### Arithmetic Operators"
   ]
  },
  {
   "cell_type": "code",
   "execution_count": 80,
   "id": "e4e2edec",
   "metadata": {},
   "outputs": [
    {
     "name": "stdout",
     "output_type": "stream",
     "text": [
      "14\n",
      "6\n"
     ]
    }
   ],
   "source": [
    "a = 10\n",
    "b = 4\n",
    "print(a + b)\n",
    "print(a - b)\n"
   ]
  },
  {
   "cell_type": "code",
   "execution_count": 83,
   "id": "2b32c12c",
   "metadata": {},
   "outputs": [
    {
     "data": {
      "text/plain": [
       "40"
      ]
     },
     "execution_count": 83,
     "metadata": {},
     "output_type": "execute_result"
    }
   ],
   "source": [
    "a * b"
   ]
  },
  {
   "cell_type": "code",
   "execution_count": 85,
   "id": "af1ea713",
   "metadata": {},
   "outputs": [
    {
     "data": {
      "text/plain": [
       "2.5"
      ]
     },
     "execution_count": 85,
     "metadata": {},
     "output_type": "execute_result"
    }
   ],
   "source": [
    "a / b # floating-point division"
   ]
  },
  {
   "cell_type": "code",
   "execution_count": 87,
   "id": "6c6e5d74",
   "metadata": {},
   "outputs": [
    {
     "data": {
      "text/plain": [
       "2"
      ]
     },
     "execution_count": 87,
     "metadata": {},
     "output_type": "execute_result"
    }
   ],
   "source": [
    "a // b # integer-point division"
   ]
  },
  {
   "cell_type": "code",
   "execution_count": 90,
   "id": "50c7d2ab",
   "metadata": {},
   "outputs": [
    {
     "data": {
      "text/plain": [
       "10000"
      ]
     },
     "execution_count": 90,
     "metadata": {},
     "output_type": "execute_result"
    }
   ],
   "source": [
    "a ** b # exponentiation"
   ]
  },
  {
   "cell_type": "code",
   "execution_count": 92,
   "id": "c95e61c4",
   "metadata": {},
   "outputs": [
    {
     "data": {
      "text/plain": [
       "1.5"
      ]
     },
     "execution_count": 92,
     "metadata": {},
     "output_type": "execute_result"
    }
   ],
   "source": [
    "2 * 3 / 4\n"
   ]
  },
  {
   "cell_type": "code",
   "execution_count": 94,
   "id": "7b7ae41e",
   "metadata": {},
   "outputs": [
    {
     "data": {
      "text/plain": [
       "1"
      ]
     },
     "execution_count": 94,
     "metadata": {},
     "output_type": "execute_result"
    }
   ],
   "source": [
    "2 * 3 // 4\n"
   ]
  },
  {
   "cell_type": "code",
   "execution_count": 96,
   "id": "68b6361c",
   "metadata": {},
   "outputs": [
    {
     "data": {
      "text/plain": [
       "2"
      ]
     },
     "execution_count": 96,
     "metadata": {},
     "output_type": "execute_result"
    }
   ],
   "source": [
    "a % b # modulus operator"
   ]
  },
  {
   "cell_type": "code",
   "execution_count": 103,
   "id": "df6a81ce",
   "metadata": {},
   "outputs": [
    {
     "data": {
      "text/plain": [
       "24"
      ]
     },
     "execution_count": 103,
     "metadata": {},
     "output_type": "execute_result"
    }
   ],
   "source": [
    "# simple interest\n",
    "p = 100\n",
    "r = 12\n",
    "t = 2\n",
    "#si = p * r * t //100\n",
    "#si = t // 100 * r * p\n",
    "si = (p * r * t) // 100 # use brackets to avoid confusion as this will perform first in priority\n",
    "si"
   ]
  },
  {
   "cell_type": "code",
   "execution_count": null,
   "id": "e2d37ddd",
   "metadata": {},
   "outputs": [],
   "source": [
    "# fah to celsius scale\n",
    "f = 100 \n",
    "c = (f - 32) * 5 / 9\n",
    "print(c)\n",
    "c = (f - 32) * 5 // 9\n",
    "c"
   ]
  },
  {
   "cell_type": "markdown",
   "id": "aa3e3d04",
   "metadata": {},
   "source": [
    "### Input\n"
   ]
  },
  {
   "cell_type": "code",
   "execution_count": 114,
   "id": "15f4532d",
   "metadata": {},
   "outputs": [
    {
     "name": "stdout",
     "output_type": "stream",
     "text": [
      "4\n",
      "<class 'int'>\n"
     ]
    }
   ],
   "source": [
    "a = int(input())\n",
    "print(type(a))\n",
    "\n",
    "#b = '33'\n",
    "#print(type(b))\n",
    "#c = int (b)\n",
    "#type(c)"
   ]
  },
  {
   "cell_type": "code",
   "execution_count": 4,
   "id": "e73c2548",
   "metadata": {},
   "outputs": [
    {
     "name": "stdout",
     "output_type": "stream",
     "text": [
      "54\n",
      "32\n",
      "<class 'str'>\n",
      "5432\n"
     ]
    }
   ],
   "source": [
    "# adding two numbers as string\n",
    "a = input()\n",
    "b = input()\n",
    "print(type(a))\n",
    "c = a + b\n",
    "print(c)\n"
   ]
  },
  {
   "cell_type": "code",
   "execution_count": 3,
   "id": "106a29e3",
   "metadata": {},
   "outputs": [
    {
     "name": "stdout",
     "output_type": "stream",
     "text": [
      "55\n",
      "65\n",
      "<class 'int'>\n",
      "120\n"
     ]
    }
   ],
   "source": [
    "# adding two numbers using int \n",
    "a = int(input())\n",
    "b = int(input())\n",
    "print(type(a))\n",
    "c = a + b\n",
    "print(c)"
   ]
  },
  {
   "cell_type": "code",
   "execution_count": 8,
   "id": "7dabb7eb",
   "metadata": {},
   "outputs": [
    {
     "name": "stdout",
     "output_type": "stream",
     "text": [
      "5656\n",
      "2.36\n",
      "2.5\n",
      "333.704\n"
     ]
    }
   ],
   "source": [
    "# simple interest via taking input\n",
    "p = int(input())\n",
    "r = float(input())\n",
    "t = float(input())\n",
    "si = (p * r * t) / 100\n",
    "print(si)"
   ]
  },
  {
   "cell_type": "code",
   "execution_count": 16,
   "id": "e23b60df",
   "metadata": {},
   "outputs": [
    {
     "name": "stdout",
     "output_type": "stream",
     "text": [
      "24\n",
      "-4.444444444444445\n"
     ]
    }
   ],
   "source": [
    "# fah to celsius via taking input\n",
    "f = float(input())\n",
    "c = (f - 32) * 5 / 9\n",
    "print(c)"
   ]
  },
  {
   "cell_type": "markdown",
   "id": "6c16bcae",
   "metadata": {},
   "source": [
    "### END"
   ]
  }
 ],
 "metadata": {
  "kernelspec": {
   "display_name": "Python 3",
   "language": "python",
   "name": "python3"
  },
  "language_info": {
   "codemirror_mode": {
    "name": "ipython",
    "version": 3
   },
   "file_extension": ".py",
   "mimetype": "text/x-python",
   "name": "python",
   "nbconvert_exporter": "python",
   "pygments_lexer": "ipython3",
   "version": "3.8.8"
  }
 },
 "nbformat": 4,
 "nbformat_minor": 5
}
