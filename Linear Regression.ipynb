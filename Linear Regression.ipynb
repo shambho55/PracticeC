{
 "cells": [
  {
   "cell_type": "code",
   "execution_count": 24,
   "id": "41ec1333",
   "metadata": {},
   "outputs": [],
   "source": [
    "import numpy as np"
   ]
  },
  {
   "cell_type": "code",
   "execution_count": 25,
   "id": "79cf6162",
   "metadata": {},
   "outputs": [],
   "source": [
    "data = np.loadtxt(\"data.csv\",delimiter=\",\")"
   ]
  },
  {
   "cell_type": "code",
   "execution_count": 26,
   "id": "c2689dd8",
   "metadata": {},
   "outputs": [
    {
     "data": {
      "text/plain": [
       "(100, 2)"
      ]
     },
     "execution_count": 26,
     "metadata": {},
     "output_type": "execute_result"
    }
   ],
   "source": [
    "data.shape"
   ]
  },
  {
   "cell_type": "code",
   "execution_count": 27,
   "id": "24f0ce2e",
   "metadata": {},
   "outputs": [],
   "source": [
    "x = data[:,0].reshape(-1,1)\n",
    "y = data[:,1]"
   ]
  },
  {
   "cell_type": "code",
   "execution_count": 28,
   "id": "97ea0dc1",
   "metadata": {},
   "outputs": [
    {
     "data": {
      "text/plain": [
       "(100, 1)"
      ]
     },
     "execution_count": 28,
     "metadata": {},
     "output_type": "execute_result"
    }
   ],
   "source": [
    "x.shape"
   ]
  },
  {
   "cell_type": "code",
   "execution_count": 52,
   "id": "b3573007",
   "metadata": {},
   "outputs": [
    {
     "data": {
      "text/plain": [
       "(100,)"
      ]
     },
     "execution_count": 52,
     "metadata": {},
     "output_type": "execute_result"
    }
   ],
   "source": [
    "y.shape"
   ]
  },
  {
   "cell_type": "code",
   "execution_count": 56,
   "id": "c3a7bd4a",
   "metadata": {},
   "outputs": [
    {
     "data": {
      "text/plain": [
       "array([[32.50234527],\n",
       "       [53.42680403],\n",
       "       [61.53035803],\n",
       "       [47.47563963],\n",
       "       [59.81320787],\n",
       "       [55.14218841],\n",
       "       [52.21179669],\n",
       "       [39.29956669],\n",
       "       [48.10504169],\n",
       "       [52.55001444],\n",
       "       [45.41973014],\n",
       "       [54.35163488],\n",
       "       [44.1640495 ],\n",
       "       [58.16847072],\n",
       "       [56.72720806],\n",
       "       [48.95588857],\n",
       "       [44.68719623],\n",
       "       [60.29732685],\n",
       "       [45.61864377],\n",
       "       [38.81681754],\n",
       "       [66.18981661],\n",
       "       [65.41605175],\n",
       "       [47.48120861],\n",
       "       [41.57564262],\n",
       "       [51.84518691],\n",
       "       [59.37082201],\n",
       "       [57.31000344],\n",
       "       [63.61556125],\n",
       "       [46.73761941],\n",
       "       [50.55676015],\n",
       "       [52.22399609],\n",
       "       [35.56783005],\n",
       "       [42.43647694],\n",
       "       [58.16454011],\n",
       "       [57.50444762],\n",
       "       [45.44053073],\n",
       "       [61.89622268],\n",
       "       [33.09383174],\n",
       "       [36.43600951],\n",
       "       [37.67565486],\n",
       "       [44.55560838],\n",
       "       [43.31828263],\n",
       "       [50.07314563],\n",
       "       [43.87061265],\n",
       "       [62.99748075],\n",
       "       [32.66904376],\n",
       "       [40.16689901],\n",
       "       [53.57507753],\n",
       "       [33.86421497],\n",
       "       [64.70713867],\n",
       "       [38.11982403],\n",
       "       [44.50253806],\n",
       "       [40.59953838],\n",
       "       [41.72067636],\n",
       "       [51.08863468],\n",
       "       [55.0780959 ],\n",
       "       [41.37772653],\n",
       "       [62.49469743],\n",
       "       [49.20388754],\n",
       "       [41.10268519],\n",
       "       [41.18201611],\n",
       "       [50.18638949],\n",
       "       [52.37844622],\n",
       "       [50.13548549],\n",
       "       [33.64470601],\n",
       "       [39.55790122],\n",
       "       [56.13038882],\n",
       "       [57.36205213],\n",
       "       [60.26921439],\n",
       "       [35.67809389],\n",
       "       [31.588117  ],\n",
       "       [53.66093226],\n",
       "       [46.68222865],\n",
       "       [43.10782022],\n",
       "       [70.34607562],\n",
       "       [44.49285588],\n",
       "       [57.5045333 ],\n",
       "       [36.93007661],\n",
       "       [55.80573336],\n",
       "       [38.95476907],\n",
       "       [56.9012147 ],\n",
       "       [56.86890066],\n",
       "       [34.3331247 ],\n",
       "       [59.04974121],\n",
       "       [57.78822399],\n",
       "       [54.28232871],\n",
       "       [51.0887199 ],\n",
       "       [50.28283635],\n",
       "       [44.21174175],\n",
       "       [38.00548801],\n",
       "       [32.94047994],\n",
       "       [53.69163957],\n",
       "       [68.76573427],\n",
       "       [46.2309665 ],\n",
       "       [68.31936082],\n",
       "       [50.03017434],\n",
       "       [49.23976534],\n",
       "       [50.03957594],\n",
       "       [48.14985889],\n",
       "       [25.12848465]])"
      ]
     },
     "execution_count": 56,
     "metadata": {},
     "output_type": "execute_result"
    }
   ],
   "source": [
    "x"
   ]
  },
  {
   "cell_type": "code",
   "execution_count": 31,
   "id": "97de84ad",
   "metadata": {},
   "outputs": [],
   "source": [
    "from sklearn import model_selection\n",
    "X_train,X_test,Y_train,Y_test = model_selection.train_test_split(x,y)"
   ]
  },
  {
   "cell_type": "code",
   "execution_count": 32,
   "id": "7aacc75b",
   "metadata": {},
   "outputs": [
    {
     "data": {
      "text/plain": [
       "LinearRegression()"
      ]
     },
     "execution_count": 32,
     "metadata": {},
     "output_type": "execute_result"
    }
   ],
   "source": [
    "from sklearn.linear_model import LinearRegression\n",
    "algorithm1 = LinearRegression()\n",
    "algorithm1.fit(X_train,Y_train)"
   ]
  },
  {
   "cell_type": "code",
   "execution_count": 33,
   "id": "98fcf935",
   "metadata": {},
   "outputs": [
    {
     "data": {
      "text/plain": [
       "array([1.26919501])"
      ]
     },
     "execution_count": 33,
     "metadata": {},
     "output_type": "execute_result"
    }
   ],
   "source": [
    "algorithm1.coef_"
   ]
  },
  {
   "cell_type": "code",
   "execution_count": 34,
   "id": "a01b48b0",
   "metadata": {},
   "outputs": [
    {
     "data": {
      "text/plain": [
       "10.819483384659819"
      ]
     },
     "execution_count": 34,
     "metadata": {},
     "output_type": "execute_result"
    }
   ],
   "source": [
    "algorithm1.intercept_"
   ]
  },
  {
   "cell_type": "code",
   "execution_count": 41,
   "id": "930979c5",
   "metadata": {},
   "outputs": [
    {
     "data": {
      "image/png": "[encoded data removed]",
      "text/plain": [
       "<Figure size 432x288 with 1 Axes>"
      ]
     },
     "metadata": {
      "needs_background": "light"
     },
     "output_type": "display_data"
    }
   ],
   "source": [
    "import matplotlib.pyplot as plt\n",
    "m = algorithm1.coef_[0]\n",
    "c = algorithm1.intercept_ \n",
    "\n",
    "x_line = np.arange(0,10,0.1)\n",
    "y_line = m * x_line + c\n",
    "plt.plot(x_line,y_line)\n",
    "#train_1d = X_train.reshape(75)\n",
    "plt.scatter(X_train,Y_train)\n",
    "plt.show()"
   ]
  },
  {
   "cell_type": "code",
   "execution_count": 44,
   "id": "6ed929b9",
   "metadata": {},
   "outputs": [
    {
     "data": {
      "image/png": "[encoded data removed]",
      "text/plain": [
       "<Figure size 432x288 with 1 Axes>"
      ]
     },
     "metadata": {
      "needs_background": "light"
     },
     "output_type": "display_data"
    }
   ],
   "source": [
    "x_line = np.arange(30,70,0.1)\n",
    "y_line = m * x_line + c\n",
    "plt.plot(x_line,y_line,\"r\")\n",
    "train_1d = X_train.reshape(75)\n",
    "plt.scatter(X_train,Y_train)\n",
    "plt.show()"
   ]
  },
  {
   "cell_type": "code",
   "execution_count": 54,
   "id": "910cb01f",
   "metadata": {},
   "outputs": [
    {
     "data": {
      "image/png": "[encoded data removed]",
      "text/plain": [
       "<Figure size 432x288 with 1 Axes>"
      ]
     },
     "metadata": {
      "needs_background": "light"
     },
     "output_type": "display_data"
    }
   ],
   "source": [
    "import matplotlib.pyplot as plt\n",
    "m = algorithm1.coef_[0]\n",
    "c = algorithm1.intercept_ \n",
    "\n",
    "x_line = np.arange(30,70,0.1)\n",
    "y_line = m * x_line + c\n",
    "plt.plot(x_line,y_line,\"r\")\n",
    "train_1d = X_test.reshape(25)\n",
    "plt.scatter(X_test,Y_test)\n",
    "plt.show()"
   ]
  },
  {
   "cell_type": "code",
   "execution_count": 55,
   "id": "ed7c7245",
   "metadata": {},
   "outputs": [
    {
     "data": {
      "text/plain": [
       "(4,)"
      ]
     },
     "execution_count": 55,
     "metadata": {},
     "output_type": "execute_result"
    }
   ],
   "source": [
    "import numpy as np\n",
    "X = np.array([1,2,3,4])\n",
    "X.shape"
   ]
  },
  {
   "cell_type": "code",
   "execution_count": 59,
   "id": "83314dfe",
   "metadata": {},
   "outputs": [
    {
     "name": "stdout",
     "output_type": "stream",
     "text": [
      "0.5445710789078974 , 0.6096674544845526\n"
     ]
    }
   ],
   "source": [
    "score_test = algorithm1.score(X_test,Y_test)\n",
    "score_training = algorithm1.score(X_train,Y_train)\n",
    "print(score_test,\",\",score_training)"
   ]
  },
  {
   "cell_type": "raw",
   "id": "23e4bea6",
   "metadata": {},
   "source": [
    "score = 1 - u/v\n",
    "u = Σ(yi[truth] - y[true][predicted])^2\n",
    "v = Σ(yi[truth] - y[true][mean])^2"
   ]
  },
  {
   "cell_type": "raw",
   "id": "1f3eea2b",
   "metadata": {},
   "source": [
    "Cost = Σ(yi - (mxi + c))^2"
   ]
  },
  {
   "cell_type": "code",
   "execution_count": 61,
   "id": "f77fbf86",
   "metadata": {},
   "outputs": [],
   "source": [
    "def fit(x,y):\n",
    "    num = (x*y).mean() - x.mean() * y.mean()\n",
    "    deno = (x**2).mean() - (x.mean()*x.mean())\n",
    "    m = num / deno\n",
    "    c = y.mean() - m * x.mean()\n",
    "    return m,c"
   ]
  },
  {
   "cell_type": "code",
   "execution_count": 62,
   "id": "48d9af77",
   "metadata": {},
   "outputs": [],
   "source": [
    "def predict(x,m,c):\n",
    "    return (m*x) + c"
   ]
  },
  {
   "cell_type": "code",
   "execution_count": 64,
   "id": "646920b7",
   "metadata": {},
   "outputs": [],
   "source": [
    "def score(y_pred,y_true):\n",
    "    u = (((y_true) - (y_pred))**2).sum()\n",
    "    v = (((y_true) - (y_true).mean())**2).sum()\n",
    "    return 1 - u/v"
   ]
  },
  {
   "cell_type": "code",
   "execution_count": 65,
   "id": "02541e5a",
   "metadata": {},
   "outputs": [],
   "source": [
    "def cost(x,y,m,c):\n",
    "    return ((y-m*x-c)**2).mean()"
   ]
  },
  {
   "cell_type": "code",
   "execution_count": 66,
   "id": "0705b4d5",
   "metadata": {},
   "outputs": [],
   "source": [
    "import numpy as np"
   ]
  },
  {
   "cell_type": "code",
   "execution_count": 68,
   "id": "2cb03b1c",
   "metadata": {},
   "outputs": [],
   "source": [
    "data = np.loadtxt(\"data.csv\",delimiter = \",\")"
   ]
  },
  {
   "cell_type": "code",
   "execution_count": 70,
   "id": "e2c1e1d9",
   "metadata": {},
   "outputs": [],
   "source": [
    "X = data[:,0]\n",
    "Y = data[:,1]"
   ]
  },
  {
   "cell_type": "code",
   "execution_count": 71,
   "id": "2559753d",
   "metadata": {},
   "outputs": [
    {
     "data": {
      "text/plain": [
       "array([32.50234527, 53.42680403, 61.53035803, 47.47563963, 59.81320787,\n",
       "       55.14218841, 52.21179669, 39.29956669, 48.10504169, 52.55001444,\n",
       "       45.41973014, 54.35163488, 44.1640495 , 58.16847072, 56.72720806,\n",
       "       48.95588857, 44.68719623, 60.29732685, 45.61864377, 38.81681754,\n",
       "       66.18981661, 65.41605175, 47.48120861, 41.57564262, 51.84518691,\n",
       "       59.37082201, 57.31000344, 63.61556125, 46.73761941, 50.55676015,\n",
       "       52.22399609, 35.56783005, 42.43647694, 58.16454011, 57.50444762,\n",
       "       45.44053073, 61.89622268, 33.09383174, 36.43600951, 37.67565486,\n",
       "       44.55560838, 43.31828263, 50.07314563, 43.87061265, 62.99748075,\n",
       "       32.66904376, 40.16689901, 53.57507753, 33.86421497, 64.70713867,\n",
       "       38.11982403, 44.50253806, 40.59953838, 41.72067636, 51.08863468,\n",
       "       55.0780959 , 41.37772653, 62.49469743, 49.20388754, 41.10268519,\n",
       "       41.18201611, 50.18638949, 52.37844622, 50.13548549, 33.64470601,\n",
       "       39.55790122, 56.13038882, 57.36205213, 60.26921439, 35.67809389,\n",
       "       31.588117  , 53.66093226, 46.68222865, 43.10782022, 70.34607562,\n",
       "       44.49285588, 57.5045333 , 36.93007661, 55.80573336, 38.95476907,\n",
       "       56.9012147 , 56.86890066, 34.3331247 , 59.04974121, 57.78822399,\n",
       "       54.28232871, 51.0887199 , 50.28283635, 44.21174175, 38.00548801,\n",
       "       32.94047994, 53.69163957, 68.76573427, 46.2309665 , 68.31936082,\n",
       "       50.03017434, 49.23976534, 50.03957594, 48.14985889, 25.12848465])"
      ]
     },
     "execution_count": 71,
     "metadata": {},
     "output_type": "execute_result"
    }
   ],
   "source": [
    "X"
   ]
  },
  {
   "cell_type": "code",
   "execution_count": 72,
   "id": "048e028f",
   "metadata": {},
   "outputs": [
    {
     "data": {
      "text/plain": [
       "array([ 31.70700585,  68.77759598,  62.5623823 ,  71.54663223,\n",
       "        87.23092513,  78.21151827,  79.64197305,  59.17148932,\n",
       "        75.3312423 ,  71.30087989,  55.16567715,  82.47884676,\n",
       "        62.00892325,  75.39287043,  81.43619216,  60.72360244,\n",
       "        82.89250373,  97.37989686,  48.84715332,  56.87721319,\n",
       "        83.87856466, 118.5912173 ,  57.25181946,  51.39174408,\n",
       "        75.38065167,  74.76556403,  95.45505292,  95.22936602,\n",
       "        79.05240617,  83.43207142,  63.35879032,  41.4128853 ,\n",
       "        76.61734128,  96.76956643,  74.08413012,  66.58814441,\n",
       "        77.76848242,  50.71958891,  62.12457082,  60.81024665,\n",
       "        52.68298337,  58.56982472,  82.90598149,  61.4247098 ,\n",
       "       115.2441528 ,  45.57058882,  54.0840548 ,  87.99445276,\n",
       "        52.72549438,  93.57611869,  80.16627545,  65.10171157,\n",
       "        65.56230126,  65.28088692,  73.43464155,  71.13972786,\n",
       "        79.10282968,  86.52053844,  84.74269781,  59.35885025,\n",
       "        61.68403752,  69.84760416,  86.09829121,  59.10883927,\n",
       "        69.89968164,  44.86249071,  85.49806778,  95.53668685,\n",
       "        70.25193442,  52.72173496,  50.39267014,  63.64239878,\n",
       "        72.24725107,  57.81251298, 104.25710159,  86.64202032,\n",
       "        91.486778  ,  55.23166089,  79.55043668,  44.84712424,\n",
       "        80.20752314,  83.14274979,  55.72348926,  77.63418251,\n",
       "        99.05141484,  79.12064627,  69.58889785,  69.51050331,\n",
       "        73.68756432,  61.36690454,  67.17065577,  85.66820315,\n",
       "       114.85387123,  90.12357207,  97.91982104,  81.53699078,\n",
       "        72.11183247,  85.23200734,  66.22495789,  53.45439421])"
      ]
     },
     "execution_count": 72,
     "metadata": {},
     "output_type": "execute_result"
    }
   ],
   "source": [
    "Y"
   ]
  },
  {
   "cell_type": "code",
   "execution_count": 77,
   "id": "cc9ebdf4",
   "metadata": {},
   "outputs": [],
   "source": [
    "from sklearn import model_selection\n",
    "X_train, X_test, Y_train, Y_test = model_selection.train_test_split(X,Y,test_size = 0.3)"
   ]
  },
  {
   "cell_type": "code",
   "execution_count": 78,
   "id": "a2d3025e",
   "metadata": {},
   "outputs": [
    {
     "data": {
      "text/plain": [
       "array([58.16454011, 52.21179669, 56.72720806, 53.66093226, 36.43600951,\n",
       "       59.37082201, 38.00548801, 33.86421497, 41.57564262, 33.09383174,\n",
       "       55.80573336, 53.69163957, 45.44053073, 41.72067636, 59.04974121,\n",
       "       44.55560838, 44.50253806, 50.03017434, 56.9012147 , 56.13038882,\n",
       "       41.10268519, 48.95588857, 35.67809389, 38.95476907, 51.0887199 ,\n",
       "       55.0780959 , 32.66904376, 50.28283635, 31.588117  , 55.14218841,\n",
       "       43.10782022, 41.37772653, 59.81320787, 48.10504169, 46.2309665 ,\n",
       "       44.1640495 , 53.42680403, 44.49285588, 60.26921439, 65.41605175,\n",
       "       40.16689901, 57.36205213, 51.84518691, 43.87061265, 50.13548549,\n",
       "       52.22399609, 44.68719623, 62.49469743, 46.73761941, 42.43647694,\n",
       "       39.55790122, 43.31828263, 60.29732685, 25.12848465, 47.47563963,\n",
       "       49.20388754, 50.07314563, 66.18981661, 68.31936082, 50.55676015,\n",
       "       57.78822399, 32.50234527, 44.21174175, 68.76573427, 47.48120861,\n",
       "       63.61556125, 61.53035803, 62.99748075, 56.86890066, 54.35163488])"
      ]
     },
     "execution_count": 78,
     "metadata": {},
     "output_type": "execute_result"
    }
   ],
   "source": [
    "X_train"
   ]
  },
  {
   "cell_type": "code",
   "execution_count": 79,
   "id": "75a1ecac",
   "metadata": {},
   "outputs": [
    {
     "data": {
      "text/plain": [
       "array([46.68222865, 70.34607562, 35.56783005, 48.14985889, 49.23976534,\n",
       "       57.31000344, 38.11982403, 51.08863468, 57.5045333 , 34.3331247 ,\n",
       "       53.57507753, 41.18201611, 54.28232871, 33.64470601, 64.70713867,\n",
       "       50.03957594, 58.16847072, 40.59953838, 39.29956669, 50.18638949,\n",
       "       45.61864377, 52.55001444, 61.89622268, 37.67565486, 32.94047994,\n",
       "       38.81681754, 57.50444762, 36.93007661, 45.41973014, 52.37844622])"
      ]
     },
     "execution_count": 79,
     "metadata": {},
     "output_type": "execute_result"
    }
   ],
   "source": [
    "X_test"
   ]
  },
  {
   "cell_type": "code",
   "execution_count": 80,
   "id": "ca05baa4",
   "metadata": {},
   "outputs": [
    {
     "data": {
      "text/plain": [
       "array([ 96.76956643,  79.64197305,  81.43619216,  63.64239878,\n",
       "        62.12457082,  74.76556403,  61.36690454,  52.72549438,\n",
       "        51.39174408,  50.71958891,  79.55043668,  85.66820315,\n",
       "        66.58814441,  65.28088692,  77.63418251,  52.68298337,\n",
       "        65.10171157,  81.53699078,  80.20752314,  85.49806778,\n",
       "        59.35885025,  60.72360244,  52.72173496,  44.84712424,\n",
       "        69.58889785,  71.13972786,  45.57058882,  69.51050331,\n",
       "        50.39267014,  78.21151827,  57.81251298,  79.10282968,\n",
       "        87.23092513,  75.3312423 ,  90.12357207,  62.00892325,\n",
       "        68.77759598,  86.64202032,  70.25193442, 118.5912173 ,\n",
       "        54.0840548 ,  95.53668685,  75.38065167,  61.4247098 ,\n",
       "        59.10883927,  63.35879032,  82.89250373,  86.52053844,\n",
       "        79.05240617,  76.61734128,  44.86249071,  58.56982472,\n",
       "        97.37989686,  53.45439421,  71.54663223,  84.74269781,\n",
       "        82.90598149,  83.87856466,  97.91982104,  83.43207142,\n",
       "        99.05141484,  31.70700585,  73.68756432, 114.85387123,\n",
       "        57.25181946,  95.22936602,  62.5623823 , 115.2441528 ,\n",
       "        83.14274979,  82.47884676])"
      ]
     },
     "execution_count": 80,
     "metadata": {},
     "output_type": "execute_result"
    }
   ],
   "source": [
    "Y_train"
   ]
  },
  {
   "cell_type": "code",
   "execution_count": 81,
   "id": "00c1f889",
   "metadata": {},
   "outputs": [
    {
     "data": {
      "text/plain": [
       "array([ 72.24725107, 104.25710159,  41.4128853 ,  66.22495789,\n",
       "        72.11183247,  95.45505292,  80.16627545,  73.43464155,\n",
       "        91.486778  ,  55.72348926,  87.99445276,  61.68403752,\n",
       "        79.12064627,  69.89968164,  93.57611869,  85.23200734,\n",
       "        75.39287043,  65.56230126,  59.17148932,  69.84760416,\n",
       "        48.84715332,  71.30087989,  77.76848242,  60.81024665,\n",
       "        67.17065577,  56.87721319,  74.08413012,  55.23166089,\n",
       "        55.16567715,  86.09829121])"
      ]
     },
     "execution_count": 81,
     "metadata": {},
     "output_type": "execute_result"
    }
   ],
   "source": [
    "Y_test"
   ]
  },
  {
   "cell_type": "code",
   "execution_count": 82,
   "id": "71d948eb",
   "metadata": {},
   "outputs": [
    {
     "data": {
      "text/plain": [
       "(70,)"
      ]
     },
     "execution_count": 82,
     "metadata": {},
     "output_type": "execute_result"
    }
   ],
   "source": [
    "X_train.shape"
   ]
  },
  {
   "cell_type": "code",
   "execution_count": 83,
   "id": "08655714",
   "metadata": {},
   "outputs": [
    {
     "data": {
      "text/plain": [
       "(30,)"
      ]
     },
     "execution_count": 83,
     "metadata": {},
     "output_type": "execute_result"
    }
   ],
   "source": [
    "X_test.shape"
   ]
  },
  {
   "cell_type": "code",
   "execution_count": 84,
   "id": "5e218f98",
   "metadata": {},
   "outputs": [
    {
     "data": {
      "text/plain": [
       "(70,)"
      ]
     },
     "execution_count": 84,
     "metadata": {},
     "output_type": "execute_result"
    }
   ],
   "source": [
    "Y_train.shape"
   ]
  },
  {
   "cell_type": "code",
   "execution_count": 85,
   "id": "0eb3344b",
   "metadata": {},
   "outputs": [
    {
     "data": {
      "text/plain": [
       "(30,)"
      ]
     },
     "execution_count": 85,
     "metadata": {},
     "output_type": "execute_result"
    }
   ],
   "source": [
    "Y_test.shape"
   ]
  },
  {
   "cell_type": "code",
   "execution_count": 86,
   "id": "9ddedf13",
   "metadata": {},
   "outputs": [],
   "source": [
    "def fit(X_train,Y_train):\n",
    "    num = (X_train*Y_train).mean() - X_train.mean()*Y_train.mean()\n",
    "    deno = (X_train**2).mean() - X_train.mean()*X_train.mean()\n",
    "    m = num / deno\n",
    "    c = Y_train.mean() - m * X_train.mean()\n",
    "    return m , c"
   ]
  },
  {
   "cell_type": "code",
   "execution_count": 89,
   "id": "547fe6ec",
   "metadata": {},
   "outputs": [],
   "source": [
    "def predict(X_train, m, c):\n",
    "    Y_pred = m * X_train + c\n",
    "    return Y_pred"
   ]
  },
  {
   "cell_type": "code",
   "execution_count": 90,
   "id": "d6ef3779",
   "metadata": {},
   "outputs": [],
   "source": [
    "def score(Y_truth , Y_predict):\n",
    "    u = ((Y_truth - Y_predict)**2).sum()\n",
    "    v = ((Y_truth - Y_truth.mean())**2).sum()\n",
    "    ans = 1 - (u/v)\n",
    "    return ans"
   ]
  },
  {
   "cell_type": "code",
   "execution_count": 91,
   "id": "5894c075",
   "metadata": {},
   "outputs": [],
   "source": [
    "def cost(x, y , m , c):\n",
    "    return ((y - m*x - c)**2).mean()"
   ]
  },
  {
   "cell_type": "code",
   "execution_count": 95,
   "id": "58a759fc",
   "metadata": {},
   "outputs": [
    {
     "name": "stdout",
     "output_type": "stream",
     "text": [
      "Test Score :  0.5465655106421428\n",
      "Train Score : 0.6097260225562804\n",
      "M :  1.408654571129527 C : 3.5156573212097157\n",
      "Cost on Training data : 118.00973925909355\n"
     ]
    }
   ],
   "source": [
    "m, c = fit(X_train,Y_train)\n",
    "# test data\n",
    "y_test_pred = predict(X_test,m,c)\n",
    "print(\"Test Score : \",score(Y_test, y_test_pred))\n",
    "\n",
    "# train data\n",
    "y_train_pred = predict(X_train, m , c)\n",
    "print(\"Train Score :\", score(Y_train, y_train_pred))\n",
    "print(\"M : \",m,\"C :\",c)\n",
    "print(\"Cost on Training data :\",cost(X_train,Y_train, m, c))\n"
   ]
  },
  {
   "cell_type": "code",
   "execution_count": null,
   "id": "5d0bd683",
   "metadata": {},
   "outputs": [],
   "source": []
  }
 ],
 "metadata": {
  "kernelspec": {
   "display_name": "Python 3",
   "language": "python",
   "name": "python3"
  },
  "language_info": {
   "codemirror_mode": {
    "name": "ipython",
    "version": 3
   },
   "file_extension": ".py",
   "mimetype": "text/x-python",
   "name": "python",
   "nbconvert_exporter": "python",
   "pygments_lexer": "ipython3",
   "version": "3.8.8"
  }
 },
 "nbformat": 4,
 "nbformat_minor": 5
}
