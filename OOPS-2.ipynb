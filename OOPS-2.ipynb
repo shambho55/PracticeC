{
 "cells": [
  {
   "cell_type": "markdown",
   "id": "994bcc30",
   "metadata": {},
   "source": [
    "### Inheritance"
   ]
  },
  {
   "cell_type": "code",
   "execution_count": 159,
   "id": "c09736c0",
   "metadata": {},
   "outputs": [],
   "source": [
    "# Parent Class\n",
    "class Vehicle():\n",
    "    def __init__(self,make,model,fuel):\n",
    "        self.make = make\n",
    "        # private access modifier\n",
    "        self.__model = model\n",
    "        self.fuel = fuel\n",
    "    def __privateMethod_parent(self):\n",
    "        print(\"This is private\")"
   ]
  },
  {
   "cell_type": "code",
   "execution_count": 228,
   "id": "7fb882a6",
   "metadata": {},
   "outputs": [],
   "source": [
    "# Child Class\n",
    "class Car(Vehicle):\n",
    "    def __init__(self,make,model,fuel,air_conditioning,sunroof):\n",
    "        #parent attributes\n",
    "        Vehicle.make = make\n",
    "        Vehicle.__model = model\n",
    "        Vehicle.__fuel = fuel\n",
    "        \n",
    "        # Child Class attributes\n",
    "        self.air_conditioning = air_conditioning\n",
    "        self.sunroof = sunroof\n",
    "    # Through Child Class methods accessing parent Class attributes\n",
    "    def __show_parentClass_attributes(self):\n",
    "        print(Vehicle.make,' ',Vehicle.__model,' ',Vehicle.__fuel)\n",
    "    def __show_privateMethod_of_parent(self):\n",
    "        # important of how to call private attribute of parent class\n",
    "        self._Vehicle__privateMethod_parent()"
   ]
  },
  {
   "cell_type": "code",
   "execution_count": 76,
   "id": "91ba9dcd",
   "metadata": {},
   "outputs": [],
   "source": [
    "myObj = Car('Tesla',2019,'Electric',True,True)"
   ]
  },
  {
   "cell_type": "code",
   "execution_count": 129,
   "id": "fe2bd17c",
   "metadata": {},
   "outputs": [
    {
     "data": {
      "text/plain": [
       "{'air_conditioning': True, 'sunroof': True}"
      ]
     },
     "execution_count": 129,
     "metadata": {},
     "output_type": "execute_result"
    }
   ],
   "source": [
    "myObj.__dict__"
   ]
  },
  {
   "cell_type": "code",
   "execution_count": 78,
   "id": "231c822f",
   "metadata": {},
   "outputs": [
    {
     "name": "stdout",
     "output_type": "stream",
     "text": [
      "Tesla   2019   Electric\n"
     ]
    }
   ],
   "source": [
    "myObj.show_parentClass_attributes()"
   ]
  },
  {
   "cell_type": "code",
   "execution_count": 79,
   "id": "fef80dce",
   "metadata": {},
   "outputs": [
    {
     "data": {
      "text/plain": [
       "'Tesla'"
      ]
     },
     "execution_count": 79,
     "metadata": {},
     "output_type": "execute_result"
    }
   ],
   "source": [
    "myObj.make"
   ]
  },
  {
   "cell_type": "code",
   "execution_count": 80,
   "id": "755c960e",
   "metadata": {},
   "outputs": [
    {
     "data": {
      "text/plain": [
       "'Tesla'"
      ]
     },
     "execution_count": 80,
     "metadata": {},
     "output_type": "execute_result"
    }
   ],
   "source": [
    "Vehicle.make"
   ]
  },
  {
   "cell_type": "code",
   "execution_count": 82,
   "id": "60fb121f",
   "metadata": {},
   "outputs": [
    {
     "ename": "AttributeError",
     "evalue": "'Car' object has no attribute 'model'",
     "output_type": "error",
     "traceback": [
      "\u001b[1;31m---------------------------------------------------------------------------\u001b[0m",
      "\u001b[1;31mAttributeError\u001b[0m                            Traceback (most recent call last)",
      "\u001b[1;32m<ipython-input-82-568a15f44052>\u001b[0m in \u001b[0;36m<module>\u001b[1;34m\u001b[0m\n\u001b[1;32m----> 1\u001b[1;33m \u001b[0mmyObj\u001b[0m\u001b[1;33m.\u001b[0m\u001b[0mmodel\u001b[0m\u001b[1;33m\u001b[0m\u001b[1;33m\u001b[0m\u001b[0m\n\u001b[0m",
      "\u001b[1;31mAttributeError\u001b[0m: 'Car' object has no attribute 'model'"
     ]
    }
   ],
   "source": [
    "myObj.model"
   ]
  },
  {
   "cell_type": "code",
   "execution_count": 85,
   "id": "4904d59c",
   "metadata": {},
   "outputs": [
    {
     "ename": "AttributeError",
     "evalue": "type object 'Vehicle' has no attribute 'model'",
     "output_type": "error",
     "traceback": [
      "\u001b[1;31m---------------------------------------------------------------------------\u001b[0m",
      "\u001b[1;31mAttributeError\u001b[0m                            Traceback (most recent call last)",
      "\u001b[1;32m<ipython-input-85-7a9fe273161a>\u001b[0m in \u001b[0;36m<module>\u001b[1;34m\u001b[0m\n\u001b[1;32m----> 1\u001b[1;33m \u001b[0mVehicle\u001b[0m\u001b[1;33m.\u001b[0m\u001b[0mmodel\u001b[0m\u001b[1;33m\u001b[0m\u001b[1;33m\u001b[0m\u001b[0m\n\u001b[0m",
      "\u001b[1;31mAttributeError\u001b[0m: type object 'Vehicle' has no attribute 'model'"
     ]
    }
   ],
   "source": [
    "Vehicle.model"
   ]
  },
  {
   "cell_type": "code",
   "execution_count": 87,
   "id": "83121ffe",
   "metadata": {},
   "outputs": [
    {
     "ename": "AttributeError",
     "evalue": "'Car' object has no attribute '__model'",
     "output_type": "error",
     "traceback": [
      "\u001b[1;31m---------------------------------------------------------------------------\u001b[0m",
      "\u001b[1;31mAttributeError\u001b[0m                            Traceback (most recent call last)",
      "\u001b[1;32m<ipython-input-87-38d12d760477>\u001b[0m in \u001b[0;36m<module>\u001b[1;34m\u001b[0m\n\u001b[1;32m----> 1\u001b[1;33m \u001b[0mmyObj\u001b[0m\u001b[1;33m.\u001b[0m\u001b[0m__model\u001b[0m\u001b[1;33m\u001b[0m\u001b[1;33m\u001b[0m\u001b[0m\n\u001b[0m",
      "\u001b[1;31mAttributeError\u001b[0m: 'Car' object has no attribute '__model'"
     ]
    }
   ],
   "source": [
    "myObj.__model"
   ]
  },
  {
   "cell_type": "code",
   "execution_count": 90,
   "id": "5ccd5215",
   "metadata": {},
   "outputs": [
    {
     "name": "stdout",
     "output_type": "stream",
     "text": [
      "This is private\n"
     ]
    }
   ],
   "source": [
    "myObj.show_privateMethod_of_parent()"
   ]
  },
  {
   "cell_type": "code",
   "execution_count": 106,
   "id": "ddedb305",
   "metadata": {},
   "outputs": [
    {
     "ename": "AttributeError",
     "evalue": "'Car' object has no attribute '__show_privateMethod_of_parent'",
     "output_type": "error",
     "traceback": [
      "\u001b[1;31m---------------------------------------------------------------------------\u001b[0m",
      "\u001b[1;31mAttributeError\u001b[0m                            Traceback (most recent call last)",
      "\u001b[1;32m<ipython-input-106-4a7b0e42271f>\u001b[0m in \u001b[0;36m<module>\u001b[1;34m\u001b[0m\n\u001b[1;32m----> 1\u001b[1;33m \u001b[0mmyObj\u001b[0m\u001b[1;33m.\u001b[0m\u001b[0m__show_privateMethod_of_parent\u001b[0m\u001b[1;33m(\u001b[0m\u001b[1;33m)\u001b[0m\u001b[1;33m\u001b[0m\u001b[1;33m\u001b[0m\u001b[0m\n\u001b[0m",
      "\u001b[1;31mAttributeError\u001b[0m: 'Car' object has no attribute '__show_privateMethod_of_parent'"
     ]
    }
   ],
   "source": [
    "myObj.__show_privateMethod_of_parent()"
   ]
  },
  {
   "cell_type": "code",
   "execution_count": 111,
   "id": "2664a746",
   "metadata": {},
   "outputs": [
    {
     "ename": "AttributeError",
     "evalue": "'Car' object has no attribute '__show_parentClass_attributes'",
     "output_type": "error",
     "traceback": [
      "\u001b[1;31m---------------------------------------------------------------------------\u001b[0m",
      "\u001b[1;31mAttributeError\u001b[0m                            Traceback (most recent call last)",
      "\u001b[1;32m<ipython-input-111-c1203c507216>\u001b[0m in \u001b[0;36m<module>\u001b[1;34m\u001b[0m\n\u001b[1;32m----> 1\u001b[1;33m \u001b[0mmyObj\u001b[0m\u001b[1;33m.\u001b[0m\u001b[0m__show_parentClass_attributes\u001b[0m\u001b[1;33m(\u001b[0m\u001b[1;33m)\u001b[0m\u001b[1;33m\u001b[0m\u001b[1;33m\u001b[0m\u001b[0m\n\u001b[0m",
      "\u001b[1;31mAttributeError\u001b[0m: 'Car' object has no attribute '__show_parentClass_attributes'"
     ]
    }
   ],
   "source": [
    "myObj.__show_parentClass_attributes()"
   ]
  },
  {
   "cell_type": "code",
   "execution_count": 136,
   "id": "34d579f9",
   "metadata": {},
   "outputs": [
    {
     "ename": "AttributeError",
     "evalue": "type object 'Vehicle' has no attribute 'fuel'",
     "output_type": "error",
     "traceback": [
      "\u001b[1;31m---------------------------------------------------------------------------\u001b[0m",
      "\u001b[1;31mAttributeError\u001b[0m                            Traceback (most recent call last)",
      "\u001b[1;32m<ipython-input-136-e58376c0fca4>\u001b[0m in \u001b[0;36m<module>\u001b[1;34m\u001b[0m\n\u001b[1;32m----> 1\u001b[1;33m \u001b[0mVehicle\u001b[0m\u001b[1;33m.\u001b[0m\u001b[0mfuel\u001b[0m\u001b[1;33m\u001b[0m\u001b[1;33m\u001b[0m\u001b[0m\n\u001b[0m",
      "\u001b[1;31mAttributeError\u001b[0m: type object 'Vehicle' has no attribute 'fuel'"
     ]
    }
   ],
   "source": [
    "Vehicle.fuel"
   ]
  },
  {
   "cell_type": "markdown",
   "id": "43bc8bd7",
   "metadata": {},
   "source": [
    "### Use of Super Function"
   ]
  },
  {
   "cell_type": "code",
   "execution_count": 152,
   "id": "b25afd41",
   "metadata": {},
   "outputs": [],
   "source": [
    "class Almirah():\n",
    "    def __init__(self,top,middle,bottom):\n",
    "        self.top = top\n",
    "        # private access modifier\n",
    "        self.__middle = middle\n",
    "        self.__bottom = bottom\n",
    "    def __show_private_attributes(self):\n",
    "        print(\"This is private\")"
   ]
  },
  {
   "cell_type": "code",
   "execution_count": 153,
   "id": "d63e30c9",
   "metadata": {},
   "outputs": [],
   "source": [
    "class books(Almirah):\n",
    "    def __init__(self,top,middle,bottom,typed,handwritten):\n",
    "        super(books,self).__init__(top,middle,bottom)\n",
    "        self.typed = typed\n",
    "        self.handwritten = handwritten\n",
    "        "
   ]
  },
  {
   "cell_type": "code",
   "execution_count": 154,
   "id": "ce4915cd",
   "metadata": {},
   "outputs": [],
   "source": [
    "myBook = books(1,2,1,True,True)"
   ]
  },
  {
   "cell_type": "code",
   "execution_count": 155,
   "id": "037e8548",
   "metadata": {},
   "outputs": [
    {
     "data": {
      "text/plain": [
       "{'top': 1,\n",
       " '_Almirah__middle': 2,\n",
       " '_Almirah__bottom': 1,\n",
       " 'typed': True,\n",
       " 'handwritten': True}"
      ]
     },
     "execution_count": 155,
     "metadata": {},
     "output_type": "execute_result"
    }
   ],
   "source": [
    "myBook.__dict__"
   ]
  },
  {
   "cell_type": "code",
   "execution_count": 156,
   "id": "69fe05b6",
   "metadata": {},
   "outputs": [
    {
     "data": {
      "text/plain": [
       "1"
      ]
     },
     "execution_count": 156,
     "metadata": {},
     "output_type": "execute_result"
    }
   ],
   "source": [
    "myBook.top"
   ]
  },
  {
   "cell_type": "code",
   "execution_count": 157,
   "id": "017efd90",
   "metadata": {},
   "outputs": [
    {
     "ename": "AttributeError",
     "evalue": "'books' object has no attribute '__middle'",
     "output_type": "error",
     "traceback": [
      "\u001b[1;31m---------------------------------------------------------------------------\u001b[0m",
      "\u001b[1;31mAttributeError\u001b[0m                            Traceback (most recent call last)",
      "\u001b[1;32m<ipython-input-157-532acd99bbef>\u001b[0m in \u001b[0;36m<module>\u001b[1;34m\u001b[0m\n\u001b[1;32m----> 1\u001b[1;33m \u001b[0mmyBook\u001b[0m\u001b[1;33m.\u001b[0m\u001b[0m__middle\u001b[0m\u001b[1;33m\u001b[0m\u001b[1;33m\u001b[0m\u001b[0m\n\u001b[0m",
      "\u001b[1;31mAttributeError\u001b[0m: 'books' object has no attribute '__middle'"
     ]
    }
   ],
   "source": [
    "myBook.__middle"
   ]
  },
  {
   "cell_type": "code",
   "execution_count": 160,
   "id": "e5c8513a",
   "metadata": {},
   "outputs": [
    {
     "name": "stdout",
     "output_type": "stream",
     "text": [
      "This is private\n"
     ]
    }
   ],
   "source": [
    "myBook._Almirah__show_private_attributes()"
   ]
  },
  {
   "cell_type": "markdown",
   "id": "80eb2364",
   "metadata": {},
   "source": [
    "### Polymorphism"
   ]
  },
  {
   "cell_type": "code",
   "execution_count": 311,
   "id": "555965c4",
   "metadata": {},
   "outputs": [],
   "source": [
    "class Vehicle():\n",
    "    current_year = 2021\n",
    "    base_price = 1000\n",
    "    def __init__(self,make,model,fuel):\n",
    "        self.make = make\n",
    "        #private access modifier\n",
    "        self.__model = model\n",
    "        self.__fuel = fuel\n",
    "    def __show_private_attributes_ofParent(self):\n",
    "        print('This is private')\n",
    "    # default function to get value of car\n",
    "    def get_value(self):\n",
    "        age = Vehicle.current_year - self.__model\n",
    "        print('This is default method of Class')\n",
    "        return Vehicle.base_price * (1/age)"
   ]
  },
  {
   "cell_type": "code",
   "execution_count": 317,
   "id": "67a1224b",
   "metadata": {},
   "outputs": [],
   "source": [
    "class Car(Vehicle):\n",
    "    def __init__(self,make,model,fuel,air_conditioning,sunroof):\n",
    "        super(Car,self).__init__(make,model,fuel)\n",
    "        self.air_conditioning = air_conditioning\n",
    "        self.sunroof = sunroof\n",
    "    # Overriding Method - replaces the parent method\n",
    "    def get_value(self):\n",
    "        Vehicle.base_price = 6000\n",
    "        age = Vehicle.current_year - self._Vehicle__model\n",
    "        print('This is a child Override Method')\n",
    "        return Vehicle.base_price * (1/age)"
   ]
  },
  {
   "cell_type": "code",
   "execution_count": 294,
   "id": "f2ee6195",
   "metadata": {},
   "outputs": [],
   "source": [
    "car1 = Car('BMW',2018,'Diesel',True,True )"
   ]
  },
  {
   "cell_type": "code",
   "execution_count": 295,
   "id": "8f3f60e2",
   "metadata": {},
   "outputs": [
    {
     "data": {
      "text/plain": [
       "{'make': 'BMW',\n",
       " '_Vehicle__model': 2018,\n",
       " '_Vehicle__fuel': 'Diesel',\n",
       " 'air_conditioning': True,\n",
       " 'sunroof': True}"
      ]
     },
     "execution_count": 295,
     "metadata": {},
     "output_type": "execute_result"
    }
   ],
   "source": [
    "car1.__dict__"
   ]
  },
  {
   "cell_type": "code",
   "execution_count": 312,
   "id": "115d4c5d",
   "metadata": {},
   "outputs": [
    {
     "name": "stdout",
     "output_type": "stream",
     "text": [
      "This is a child Override Method\n"
     ]
    },
    {
     "data": {
      "text/plain": [
       "333.3333333333333"
      ]
     },
     "execution_count": 312,
     "metadata": {},
     "output_type": "execute_result"
    }
   ],
   "source": [
    "car1.get_value()"
   ]
  },
  {
   "cell_type": "code",
   "execution_count": 315,
   "id": "cd2408f0",
   "metadata": {},
   "outputs": [],
   "source": [
    "carP = Vehicle('BMW',2018,'Diesel')"
   ]
  },
  {
   "cell_type": "code",
   "execution_count": 298,
   "id": "7c4f61c9",
   "metadata": {},
   "outputs": [
    {
     "data": {
      "text/plain": [
       "{'make': 'BMW', '_Vehicle__model': 2018, '_Vehicle__fuel': 'Diesel'}"
      ]
     },
     "execution_count": 298,
     "metadata": {},
     "output_type": "execute_result"
    }
   ],
   "source": [
    "carP.__dict__"
   ]
  },
  {
   "cell_type": "code",
   "execution_count": 316,
   "id": "08f98b29",
   "metadata": {},
   "outputs": [
    {
     "name": "stdout",
     "output_type": "stream",
     "text": [
      "This is default method of Class\n"
     ]
    },
    {
     "data": {
      "text/plain": [
       "333.3333333333333"
      ]
     },
     "execution_count": 316,
     "metadata": {},
     "output_type": "execute_result"
    }
   ],
   "source": [
    "carP.get_value()"
   ]
  },
  {
   "cell_type": "markdown",
   "id": "f417f7a1",
   "metadata": {},
   "source": [
    "### Recursion Error"
   ]
  },
  {
   "cell_type": "code",
   "execution_count": 320,
   "id": "ffd7616b",
   "metadata": {},
   "outputs": [
    {
     "ename": "RecursionError",
     "evalue": "maximum recursion depth exceeded",
     "output_type": "error",
     "traceback": [
      "\u001b[1;31m---------------------------------------------------------------------------\u001b[0m",
      "\u001b[1;31mRecursionError\u001b[0m                            Traceback (most recent call last)",
      "\u001b[1;32m<ipython-input-320-06c10ff76668>\u001b[0m in \u001b[0;36m<module>\u001b[1;34m\u001b[0m\n\u001b[0;32m     12\u001b[0m         \u001b[0mprint\u001b[0m\u001b[1;33m(\u001b[0m\u001b[0mc\u001b[0m\u001b[1;33m.\u001b[0m\u001b[0mnumGears\u001b[0m\u001b[1;33m)\u001b[0m\u001b[1;33m\u001b[0m\u001b[1;33m\u001b[0m\u001b[0m\n\u001b[0;32m     13\u001b[0m \u001b[0mc\u001b[0m \u001b[1;33m=\u001b[0m \u001b[0mCar\u001b[0m\u001b[1;33m(\u001b[0m\u001b[1;34m'black'\u001b[0m\u001b[1;33m,\u001b[0m\u001b[1;36m5\u001b[0m\u001b[1;33m)\u001b[0m\u001b[1;33m\u001b[0m\u001b[1;33m\u001b[0m\u001b[0m\n\u001b[1;32m---> 14\u001b[1;33m \u001b[0mc\u001b[0m\u001b[1;33m.\u001b[0m\u001b[0mprint\u001b[0m\u001b[1;33m(\u001b[0m\u001b[1;33m)\u001b[0m\u001b[1;33m\u001b[0m\u001b[1;33m\u001b[0m\u001b[0m\n\u001b[0m",
      "\u001b[1;32m<ipython-input-320-06c10ff76668>\u001b[0m in \u001b[0;36mprint\u001b[1;34m(self)\u001b[0m\n\u001b[0;32m      9\u001b[0m         \u001b[0mself\u001b[0m\u001b[1;33m.\u001b[0m\u001b[0mnumGears\u001b[0m \u001b[1;33m=\u001b[0m \u001b[0mnumGears\u001b[0m\u001b[1;33m\u001b[0m\u001b[1;33m\u001b[0m\u001b[0m\n\u001b[0;32m     10\u001b[0m     \u001b[1;32mdef\u001b[0m \u001b[0mprint\u001b[0m\u001b[1;33m(\u001b[0m\u001b[0mself\u001b[0m\u001b[1;33m)\u001b[0m\u001b[1;33m:\u001b[0m\u001b[1;33m\u001b[0m\u001b[1;33m\u001b[0m\u001b[0m\n\u001b[1;32m---> 11\u001b[1;33m         \u001b[0mself\u001b[0m\u001b[1;33m.\u001b[0m\u001b[0mprint\u001b[0m\u001b[1;33m(\u001b[0m\u001b[1;33m)\u001b[0m\u001b[1;33m\u001b[0m\u001b[1;33m\u001b[0m\u001b[0m\n\u001b[0m\u001b[0;32m     12\u001b[0m         \u001b[0mprint\u001b[0m\u001b[1;33m(\u001b[0m\u001b[0mc\u001b[0m\u001b[1;33m.\u001b[0m\u001b[0mnumGears\u001b[0m\u001b[1;33m)\u001b[0m\u001b[1;33m\u001b[0m\u001b[1;33m\u001b[0m\u001b[0m\n\u001b[0;32m     13\u001b[0m \u001b[0mc\u001b[0m \u001b[1;33m=\u001b[0m \u001b[0mCar\u001b[0m\u001b[1;33m(\u001b[0m\u001b[1;34m'black'\u001b[0m\u001b[1;33m,\u001b[0m\u001b[1;36m5\u001b[0m\u001b[1;33m)\u001b[0m\u001b[1;33m\u001b[0m\u001b[1;33m\u001b[0m\u001b[0m\n",
      "... last 1 frames repeated, from the frame below ...\n",
      "\u001b[1;32m<ipython-input-320-06c10ff76668>\u001b[0m in \u001b[0;36mprint\u001b[1;34m(self)\u001b[0m\n\u001b[0;32m      9\u001b[0m         \u001b[0mself\u001b[0m\u001b[1;33m.\u001b[0m\u001b[0mnumGears\u001b[0m \u001b[1;33m=\u001b[0m \u001b[0mnumGears\u001b[0m\u001b[1;33m\u001b[0m\u001b[1;33m\u001b[0m\u001b[0m\n\u001b[0;32m     10\u001b[0m     \u001b[1;32mdef\u001b[0m \u001b[0mprint\u001b[0m\u001b[1;33m(\u001b[0m\u001b[0mself\u001b[0m\u001b[1;33m)\u001b[0m\u001b[1;33m:\u001b[0m\u001b[1;33m\u001b[0m\u001b[1;33m\u001b[0m\u001b[0m\n\u001b[1;32m---> 11\u001b[1;33m         \u001b[0mself\u001b[0m\u001b[1;33m.\u001b[0m\u001b[0mprint\u001b[0m\u001b[1;33m(\u001b[0m\u001b[1;33m)\u001b[0m\u001b[1;33m\u001b[0m\u001b[1;33m\u001b[0m\u001b[0m\n\u001b[0m\u001b[0;32m     12\u001b[0m         \u001b[0mprint\u001b[0m\u001b[1;33m(\u001b[0m\u001b[0mc\u001b[0m\u001b[1;33m.\u001b[0m\u001b[0mnumGears\u001b[0m\u001b[1;33m)\u001b[0m\u001b[1;33m\u001b[0m\u001b[1;33m\u001b[0m\u001b[0m\n\u001b[0;32m     13\u001b[0m \u001b[0mc\u001b[0m \u001b[1;33m=\u001b[0m \u001b[0mCar\u001b[0m\u001b[1;33m(\u001b[0m\u001b[1;34m'black'\u001b[0m\u001b[1;33m,\u001b[0m\u001b[1;36m5\u001b[0m\u001b[1;33m)\u001b[0m\u001b[1;33m\u001b[0m\u001b[1;33m\u001b[0m\u001b[0m\n",
      "\u001b[1;31mRecursionError\u001b[0m: maximum recursion depth exceeded"
     ]
    }
   ],
   "source": [
    "class Vehicle:\n",
    "    def __init__(self,color):\n",
    "        self.color = color\n",
    "    def print(self):\n",
    "        print(c.color)\n",
    "class Car(Vehicle):\n",
    "    def __init__(self,color,numGears):\n",
    "        super().__init__(color)\n",
    "        self.numGears = numGears\n",
    "    def print(self):\n",
    "        self.print()\n",
    "        print(c.numGears)\n",
    "c = Car('black',5)\n",
    "c.print()\n"
   ]
  },
  {
   "cell_type": "markdown",
   "id": "a4957ca4",
   "metadata": {},
   "source": [
    "### Protected Access modifiers"
   ]
  },
  {
   "cell_type": "code",
   "execution_count": 352,
   "id": "75a5ca3d",
   "metadata": {},
   "outputs": [],
   "source": [
    "class Vehicle():\n",
    "    current_year = 2021\n",
    "    base_price = 1000\n",
    "    def __init__(self,make,model,fuel):\n",
    "        self.make = make\n",
    "        #protected attributes\n",
    "        self._model = model\n",
    "        self._fuel = fuel\n",
    "    # Protected Method\n",
    "    def _get_value(self):\n",
    "        age = Vehicle.current_year - self._model\n",
    "        return Vehicle.base_price * (1/age)\n",
    "        "
   ]
  },
  {
   "cell_type": "code",
   "execution_count": 364,
   "id": "7ec981ff",
   "metadata": {},
   "outputs": [],
   "source": [
    "class Car(Vehicle):\n",
    "    def __init__(self,make,model,fuel,air_conditioning,sunroof):\n",
    "        super(Car,self).__init__(make,model,fuel)\n",
    "        self._air_conditioning = air_conditioning\n",
    "        self._sunroof = sunroof\n",
    "    # Protected Method\n",
    "    def _get_value(self):\n",
    "        Vehicle.base_price = 5000\n",
    "        age = Vehicle.current_year - self._model\n",
    "        return Vehicle.base_price * (1/age)"
   ]
  },
  {
   "cell_type": "code",
   "execution_count": 367,
   "id": "ee4268f5",
   "metadata": {},
   "outputs": [],
   "source": [
    "myObj = Car(\"Tesla\",2019,\"Electric\",True,True)"
   ]
  },
  {
   "cell_type": "code",
   "execution_count": 368,
   "id": "449a1bfc",
   "metadata": {},
   "outputs": [
    {
     "data": {
      "text/plain": [
       "{'make': 'Tesla',\n",
       " '_model': 2019,\n",
       " '_fuel': 'Electric',\n",
       " '_air_conditioning': True,\n",
       " '_sunroof': True}"
      ]
     },
     "execution_count": 368,
     "metadata": {},
     "output_type": "execute_result"
    }
   ],
   "source": [
    "myObj.__dict__"
   ]
  },
  {
   "cell_type": "code",
   "execution_count": 369,
   "id": "37b4de4d",
   "metadata": {},
   "outputs": [
    {
     "data": {
      "text/plain": [
       "2019"
      ]
     },
     "execution_count": 369,
     "metadata": {},
     "output_type": "execute_result"
    }
   ],
   "source": [
    "myObj._model"
   ]
  },
  {
   "cell_type": "code",
   "execution_count": 370,
   "id": "8a27f5ad",
   "metadata": {},
   "outputs": [
    {
     "data": {
      "text/plain": [
       "2500.0"
      ]
     },
     "execution_count": 370,
     "metadata": {},
     "output_type": "execute_result"
    }
   ],
   "source": [
    "myObj._get_value()"
   ]
  },
  {
   "cell_type": "code",
   "execution_count": 371,
   "id": "279dc9d0",
   "metadata": {},
   "outputs": [
    {
     "ename": "AttributeError",
     "evalue": "'Car' object has no attribute 'get_value'",
     "output_type": "error",
     "traceback": [
      "\u001b[1;31m---------------------------------------------------------------------------\u001b[0m",
      "\u001b[1;31mAttributeError\u001b[0m                            Traceback (most recent call last)",
      "\u001b[1;32m<ipython-input-371-48f63bcfa96e>\u001b[0m in \u001b[0;36m<module>\u001b[1;34m\u001b[0m\n\u001b[1;32m----> 1\u001b[1;33m \u001b[0mmyObj\u001b[0m\u001b[1;33m.\u001b[0m\u001b[0mget_value\u001b[0m\u001b[1;33m(\u001b[0m\u001b[1;33m)\u001b[0m\u001b[1;33m\u001b[0m\u001b[1;33m\u001b[0m\u001b[0m\n\u001b[0m",
      "\u001b[1;31mAttributeError\u001b[0m: 'Car' object has no attribute 'get_value'"
     ]
    }
   ],
   "source": [
    "myObj.get_value()"
   ]
  },
  {
   "cell_type": "code",
   "execution_count": 372,
   "id": "c96a3358",
   "metadata": {},
   "outputs": [],
   "source": [
    "op = Vehicle('Ford',2019,\"Diesel\")"
   ]
  },
  {
   "cell_type": "code",
   "execution_count": 375,
   "id": "6b35feb8",
   "metadata": {},
   "outputs": [
    {
     "data": {
      "text/plain": [
       "2500.0"
      ]
     },
     "execution_count": 375,
     "metadata": {},
     "output_type": "execute_result"
    }
   ],
   "source": [
    "op._get_value()"
   ]
  },
  {
   "cell_type": "code",
   "execution_count": 376,
   "id": "5f07b25b",
   "metadata": {},
   "outputs": [],
   "source": [
    "### Every Class is inherited from Object Class"
   ]
  },
  {
   "cell_type": "code",
   "execution_count": 378,
   "id": "402d7922",
   "metadata": {},
   "outputs": [],
   "source": [
    "### Object class gives 1. __new__ 2. __init__ 3. __str__ to every class"
   ]
  },
  {
   "cell_type": "code",
   "execution_count": 402,
   "id": "ebd69f2a",
   "metadata": {},
   "outputs": [
    {
     "name": "stdout",
     "output_type": "stream",
     "text": [
      "<__main__.Circle object at 0x0000027CB7D10A60>\n"
     ]
    }
   ],
   "source": [
    "class Circle(object):\n",
    "    def __init__(self,radius):\n",
    "        self.__radius = radius\n",
    "    #def __str__(self):\n",
    "        #return \"This is a Circle class which takes radius as an argument\"\n",
    "\n",
    "c = Circle(3)\n",
    "print(c)"
   ]
  },
  {
   "cell_type": "code",
   "execution_count": 404,
   "id": "e3bb7f1b",
   "metadata": {},
   "outputs": [
    {
     "name": "stdout",
     "output_type": "stream",
     "text": [
      "This is a Circle class which takes radius as an argument\n"
     ]
    }
   ],
   "source": [
    "class Circle(object):\n",
    "    def __init__(self,radius):\n",
    "        self.__radius = radius\n",
    "    def __str__(self):\n",
    "        return \"This is a Circle class which takes radius as an argument\"\n",
    "\n",
    "c = Circle(3)\n",
    "print(c)"
   ]
  },
  {
   "cell_type": "markdown",
   "id": "7391ee37",
   "metadata": {},
   "source": [
    "### Multi-level Inheritance"
   ]
  },
  {
   "cell_type": "code",
   "execution_count": 391,
   "id": "a1d655d8",
   "metadata": {},
   "outputs": [],
   "source": [
    "class Vehicle():\n",
    "    def __init__(self,make,model):\n",
    "        self.make = make\n",
    "        self.model = model\n",
    "        #self.fuel = fuel\n",
    "    "
   ]
  },
  {
   "cell_type": "code",
   "execution_count": 392,
   "id": "043966b7",
   "metadata": {},
   "outputs": [],
   "source": [
    "class Car(Vehicle):\n",
    "    def __init__(self,make,model,air_conditioning,sunroof):\n",
    "        super(Car,self).__init__(make,model)\n",
    "        self._air_conditioning = air_conditioning\n",
    "        self._sunroof = sunroof\n",
    "\n",
    "class ElectricVehicle(Car):\n",
    "    def __init__(self,make,model,air_conditioning,sunroof,distance):\n",
    "        super(ElectricVehicle,self).__init__(make,model,air_conditioning,sunroof)\n",
    "        self.distance = distance"
   ]
  },
  {
   "cell_type": "code",
   "execution_count": 394,
   "id": "f5b6ea2c",
   "metadata": {},
   "outputs": [],
   "source": [
    "myCar = ElectricVehicle('Car',2018,True,True,500)"
   ]
  },
  {
   "cell_type": "code",
   "execution_count": 396,
   "id": "f4db58e6",
   "metadata": {},
   "outputs": [
    {
     "data": {
      "text/plain": [
       "{'make': 'Car',\n",
       " 'model': 2018,\n",
       " '_air_conditioning': True,\n",
       " '_sunroof': True,\n",
       " 'distance': 500}"
      ]
     },
     "execution_count": 396,
     "metadata": {},
     "output_type": "execute_result"
    }
   ],
   "source": [
    "myCar.__dict__"
   ]
  },
  {
   "cell_type": "code",
   "execution_count": 398,
   "id": "0b33568b",
   "metadata": {},
   "outputs": [
    {
     "data": {
      "text/plain": [
       "2018"
      ]
     },
     "execution_count": 398,
     "metadata": {},
     "output_type": "execute_result"
    }
   ],
   "source": [
    "myCar.model"
   ]
  },
  {
   "cell_type": "code",
   "execution_count": 400,
   "id": "d9b2da14",
   "metadata": {},
   "outputs": [
    {
     "ename": "AttributeError",
     "evalue": "'ElectricVehicle' object has no attribute 'sunroof'",
     "output_type": "error",
     "traceback": [
      "\u001b[1;31m---------------------------------------------------------------------------\u001b[0m",
      "\u001b[1;31mAttributeError\u001b[0m                            Traceback (most recent call last)",
      "\u001b[1;32m<ipython-input-400-e8ba239a6087>\u001b[0m in \u001b[0;36m<module>\u001b[1;34m\u001b[0m\n\u001b[1;32m----> 1\u001b[1;33m \u001b[0mmyCar\u001b[0m\u001b[1;33m.\u001b[0m\u001b[0msunroof\u001b[0m\u001b[1;33m\u001b[0m\u001b[1;33m\u001b[0m\u001b[0m\n\u001b[0m",
      "\u001b[1;31mAttributeError\u001b[0m: 'ElectricVehicle' object has no attribute 'sunroof'"
     ]
    }
   ],
   "source": [
    "myCar.sunroof"
   ]
  },
  {
   "cell_type": "code",
   "execution_count": 405,
   "id": "dbba5371",
   "metadata": {},
   "outputs": [
    {
     "data": {
      "text/plain": [
       "True"
      ]
     },
     "execution_count": 405,
     "metadata": {},
     "output_type": "execute_result"
    }
   ],
   "source": [
    "myCar._sunroof"
   ]
  },
  {
   "cell_type": "markdown",
   "id": "15ad5d28",
   "metadata": {},
   "source": [
    "### Multiple Inheritance"
   ]
  },
  {
   "cell_type": "code",
   "execution_count": 413,
   "id": "a59840d0",
   "metadata": {},
   "outputs": [],
   "source": [
    "class Car():\n",
    "    def __init__(self,make,model,fuel):\n",
    "        self.make = make\n",
    "        self.model = model\n",
    "        self.fuel = fuel\n",
    "   \n",
    "    def get_car_details(self):\n",
    "        return \"this is a make of \",self.make,\" from car class\"\n",
    "\n",
    "class ElectricCar():\n",
    "    def __init__(self,make,model,fuel):\n",
    "        self.make = make\n",
    "        self.model = model\n",
    "        self.fuel = fuel\n",
    "    \n",
    "    def get_car_details(self):\n",
    "        return \"this is a make of \",self.make,\" from Electric Car Class\" "
   ]
  },
  {
   "cell_type": "code",
   "execution_count": 416,
   "id": "43b92bed",
   "metadata": {},
   "outputs": [],
   "source": [
    "class Taxi(ElectricCar,Car):\n",
    "    def __init__(self,make,model,fuel):\n",
    "        super().__init__(make,model,fuel)"
   ]
  },
  {
   "cell_type": "code",
   "execution_count": 418,
   "id": "1eeed827",
   "metadata": {},
   "outputs": [],
   "source": [
    "myObj = Taxi('Tesla',2019,'Electric')"
   ]
  },
  {
   "cell_type": "code",
   "execution_count": 421,
   "id": "240c060b",
   "metadata": {},
   "outputs": [
    {
     "data": {
      "text/plain": [
       "{'make': 'Tesla', 'model': 2019, 'fuel': 'Electric'}"
      ]
     },
     "execution_count": 421,
     "metadata": {},
     "output_type": "execute_result"
    }
   ],
   "source": [
    "myObj.__dict__"
   ]
  },
  {
   "cell_type": "code",
   "execution_count": 432,
   "id": "f9cfafca",
   "metadata": {},
   "outputs": [
    {
     "data": {
      "text/plain": [
       "('this is a make of ', 'Tesla', ' from Electric Car Class')"
      ]
     },
     "execution_count": 432,
     "metadata": {},
     "output_type": "execute_result"
    }
   ],
   "source": [
    "myObj.get_car_details()"
   ]
  },
  {
   "cell_type": "markdown",
   "id": "6314d7b3",
   "metadata": {},
   "source": [
    "### Method Resolution Order"
   ]
  },
  {
   "cell_type": "code",
   "execution_count": 429,
   "id": "39e39964",
   "metadata": {},
   "outputs": [
    {
     "data": {
      "text/plain": [
       "(__main__.Taxi, __main__.ElectricCar, __main__.Car, object)"
      ]
     },
     "execution_count": 429,
     "metadata": {},
     "output_type": "execute_result"
    }
   ],
   "source": [
    "Taxi.__mro__"
   ]
  },
  {
   "cell_type": "code",
   "execution_count": 431,
   "id": "812a53dc",
   "metadata": {},
   "outputs": [
    {
     "data": {
      "text/plain": [
       "[__main__.Taxi, __main__.ElectricCar, __main__.Car, object]"
      ]
     },
     "execution_count": 431,
     "metadata": {},
     "output_type": "execute_result"
    }
   ],
   "source": [
    "Taxi.mro()"
   ]
  },
  {
   "cell_type": "markdown",
   "id": "caa1ae80",
   "metadata": {},
   "source": [
    "### Ques MRO"
   ]
  },
  {
   "cell_type": "code",
   "execution_count": 452,
   "id": "a8225f6d",
   "metadata": {},
   "outputs": [],
   "source": [
    "class X: pass\n",
    "class Y: pass\n",
    "class Z:pass\n",
    "class A(X,Y):pass\n",
    "class B(Y,Z):pass\n",
    "class C(B,A,Y):pass"
   ]
  },
  {
   "cell_type": "code",
   "execution_count": 453,
   "id": "69403e1b",
   "metadata": {},
   "outputs": [],
   "source": [
    "myObj = C()"
   ]
  },
  {
   "cell_type": "code",
   "execution_count": 466,
   "id": "bcd1a705",
   "metadata": {},
   "outputs": [
    {
     "data": {
      "text/plain": [
       "(__main__.C,\n",
       " __main__.B,\n",
       " __main__.A,\n",
       " __main__.X,\n",
       " __main__.Y,\n",
       " __main__.Z,\n",
       " object)"
      ]
     },
     "execution_count": 466,
     "metadata": {},
     "output_type": "execute_result"
    }
   ],
   "source": [
    "C.__mro__"
   ]
  },
  {
   "cell_type": "code",
   "execution_count": 470,
   "id": "bd52d3c0",
   "metadata": {},
   "outputs": [
    {
     "name": "stdout",
     "output_type": "stream",
     "text": [
      "init of B called\n"
     ]
    }
   ],
   "source": [
    "class A:\n",
    "\n",
    "    def __init__(self):\n",
    "        print('init of A called')\n",
    "class B:\n",
    "    def __init__(self):\n",
    "        print('init of B called')\n",
    "\n",
    "class C(B,A):\n",
    "    def __init__(self):\n",
    "        super().__init__()\n",
    "\n",
    "c = C()\n"
   ]
  },
  {
   "cell_type": "code",
   "execution_count": 472,
   "id": "cdb8282c",
   "metadata": {},
   "outputs": [
    {
     "ename": "AttributeError",
     "evalue": "'Car' object has no attribute '_Car__color'",
     "output_type": "error",
     "traceback": [
      "\u001b[1;31m---------------------------------------------------------------------------\u001b[0m",
      "\u001b[1;31mAttributeError\u001b[0m                            Traceback (most recent call last)",
      "\u001b[1;32m<ipython-input-472-8e476b9c61a5>\u001b[0m in \u001b[0;36m<module>\u001b[1;34m\u001b[0m\n\u001b[0;32m     10\u001b[0m         \u001b[0mprint\u001b[0m\u001b[1;33m(\u001b[0m\u001b[0mc\u001b[0m\u001b[1;33m.\u001b[0m\u001b[0mnumGears\u001b[0m\u001b[1;33m)\u001b[0m\u001b[1;33m\u001b[0m\u001b[1;33m\u001b[0m\u001b[0m\n\u001b[0;32m     11\u001b[0m \u001b[0mc\u001b[0m \u001b[1;33m=\u001b[0m \u001b[0mCar\u001b[0m\u001b[1;33m(\u001b[0m\u001b[1;34m'black'\u001b[0m\u001b[1;33m,\u001b[0m\u001b[1;36m5\u001b[0m\u001b[1;33m)\u001b[0m\u001b[1;33m\u001b[0m\u001b[1;33m\u001b[0m\u001b[0m\n\u001b[1;32m---> 12\u001b[1;33m \u001b[0mc\u001b[0m\u001b[1;33m.\u001b[0m\u001b[0mprintCar\u001b[0m\u001b[1;33m(\u001b[0m\u001b[1;33m)\u001b[0m\u001b[1;33m\u001b[0m\u001b[1;33m\u001b[0m\u001b[0m\n\u001b[0m",
      "\u001b[1;32m<ipython-input-472-8e476b9c61a5>\u001b[0m in \u001b[0;36mprintCar\u001b[1;34m(self)\u001b[0m\n\u001b[0;32m      7\u001b[0m         \u001b[0mself\u001b[0m\u001b[1;33m.\u001b[0m\u001b[0mnumGears\u001b[0m \u001b[1;33m=\u001b[0m \u001b[0mnumGears\u001b[0m\u001b[1;33m\u001b[0m\u001b[1;33m\u001b[0m\u001b[0m\n\u001b[0;32m      8\u001b[0m     \u001b[1;32mdef\u001b[0m \u001b[0mprintCar\u001b[0m\u001b[1;33m(\u001b[0m\u001b[0mself\u001b[0m\u001b[1;33m)\u001b[0m\u001b[1;33m:\u001b[0m\u001b[1;33m\u001b[0m\u001b[1;33m\u001b[0m\u001b[0m\n\u001b[1;32m----> 9\u001b[1;33m         \u001b[0mprint\u001b[0m\u001b[1;33m(\u001b[0m\u001b[0mc\u001b[0m\u001b[1;33m.\u001b[0m\u001b[0m__color\u001b[0m\u001b[1;33m,\u001b[0m\u001b[0mend\u001b[0m\u001b[1;33m=\u001b[0m\u001b[1;34m''\u001b[0m \u001b[1;33m)\u001b[0m\u001b[1;33m\u001b[0m\u001b[1;33m\u001b[0m\u001b[0m\n\u001b[0m\u001b[0;32m     10\u001b[0m         \u001b[0mprint\u001b[0m\u001b[1;33m(\u001b[0m\u001b[0mc\u001b[0m\u001b[1;33m.\u001b[0m\u001b[0mnumGears\u001b[0m\u001b[1;33m)\u001b[0m\u001b[1;33m\u001b[0m\u001b[1;33m\u001b[0m\u001b[0m\n\u001b[0;32m     11\u001b[0m \u001b[0mc\u001b[0m \u001b[1;33m=\u001b[0m \u001b[0mCar\u001b[0m\u001b[1;33m(\u001b[0m\u001b[1;34m'black'\u001b[0m\u001b[1;33m,\u001b[0m\u001b[1;36m5\u001b[0m\u001b[1;33m)\u001b[0m\u001b[1;33m\u001b[0m\u001b[1;33m\u001b[0m\u001b[0m\n",
      "\u001b[1;31mAttributeError\u001b[0m: 'Car' object has no attribute '_Car__color'"
     ]
    }
   ],
   "source": [
    "class Vehicle:\n",
    "     def __init__(self,color):\n",
    "         self.__color = color\n",
    "class Car(Vehicle):\n",
    "    def __init__(self,color,numGears):\n",
    "        super().__init__(color)\n",
    "        self.numGears = numGears\n",
    "    def printCar(self):\n",
    "        print(c.__color,end='' )\n",
    "        print(c.numGears)\n",
    "c = Car('black',5)\n",
    "c.printCar()"
   ]
  }
 ],
 "metadata": {
  "kernelspec": {
   "display_name": "Python 3",
   "language": "python",
   "name": "python3"
  },
  "language_info": {
   "codemirror_mode": {
    "name": "ipython",
    "version": 3
   },
   "file_extension": ".py",
   "mimetype": "text/x-python",
   "name": "python",
   "nbconvert_exporter": "python",
   "pygments_lexer": "ipython3",
   "version": "3.8.8"
  }
 },
 "nbformat": 4,
 "nbformat_minor": 5
}
