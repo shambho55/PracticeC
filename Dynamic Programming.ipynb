{
 "cells": [
  {
   "cell_type": "code",
   "execution_count": 2,
   "id": "e72decdc",
   "metadata": {},
   "outputs": [],
   "source": [
    "def fibb(n):\n",
    "    if n == 0 or n == 1:\n",
    "        return n\n",
    "    \n",
    "    ans1 = fibb(n - 1)\n",
    "    ans2 = fibb(n - 2)\n",
    "    myAns = ans1 + ans2\n",
    "    return myAns"
   ]
  },
  {
   "cell_type": "code",
   "execution_count": 3,
   "id": "78237514",
   "metadata": {},
   "outputs": [],
   "source": [
    "def fibb_memoization(n,dp):\n",
    "    if n == 0 or n == 1:\n",
    "        return n\n",
    "    \n",
    "    if dp[n - 1] == -1:\n",
    "        ans1 = fibb_memoization(n-1,dp)\n",
    "        dp[n - 1] = ans1\n",
    "    else:\n",
    "        ans1 = dp[n - 1]\n",
    "    if dp[n - 2] == -1:\n",
    "        ans2 = fibb_memoization(n-2,dp)\n",
    "        dp[n - 2] = ans2\n",
    "    else:\n",
    "        ans2 = dp[n - 2]\n",
    "    myAns = ans1 + ans2\n",
    "    return myAns"
   ]
  },
  {
   "cell_type": "code",
   "execution_count": 4,
   "id": "dbae4c7b",
   "metadata": {},
   "outputs": [
    {
     "name": "stdout",
     "output_type": "stream",
     "text": [
      "5\n"
     ]
    },
    {
     "data": {
      "text/plain": [
       "5"
      ]
     },
     "execution_count": 4,
     "metadata": {},
     "output_type": "execute_result"
    }
   ],
   "source": [
    "n = int(input())\n",
    "dp = [-1 for i in range(n + 1)]\n",
    "fibb_memoization(n,dp)"
   ]
  },
  {
   "cell_type": "code",
   "execution_count": 5,
   "id": "bba9c966",
   "metadata": {},
   "outputs": [
    {
     "data": {
      "text/plain": [
       "5"
      ]
     },
     "execution_count": 5,
     "metadata": {},
     "output_type": "execute_result"
    }
   ],
   "source": [
    "fibb(n)"
   ]
  },
  {
   "cell_type": "code",
   "execution_count": 6,
   "id": "1f5f6edf",
   "metadata": {},
   "outputs": [
    {
     "name": "stdout",
     "output_type": "stream",
     "text": [
      "4\n"
     ]
    },
    {
     "data": {
      "text/plain": [
       "3"
      ]
     },
     "execution_count": 6,
     "metadata": {},
     "output_type": "execute_result"
    }
   ],
   "source": [
    "# Iterative Dynamic Programming Solution\n",
    "def fibI(n):\n",
    "    dp = [0 for i in range(n + 1)]\n",
    "    dp[0] = 0\n",
    "    dp[1] = 1\n",
    "    for i in range(2,n + 1):\n",
    "        dp[i] = dp[i - 1 ] + dp[i - 2]\n",
    "    return dp[n]\n",
    "n = int(input())\n",
    "fibI(n)"
   ]
  },
  {
   "cell_type": "code",
   "execution_count": 7,
   "id": "7846c87a",
   "metadata": {},
   "outputs": [],
   "source": [
    "import sys\n",
    "def minsteps_memoization(n,dp):\n",
    "    if n == 1:\n",
    "        return 0\n",
    "    if dp[n - 1] == -1:\n",
    "        ans1 = minsteps_memoization(n - 1,dp)\n",
    "        dp[n - 1] = ans1\n",
    "    else:\n",
    "        ans1 = dp[n - 1]\n",
    "    ans2 = sys.maxsize\n",
    "    if n % 2 == 0:\n",
    "        if dp[int(n/2)] == -1:\n",
    "            ans2 = minsteps_memoization(n/2,dp)\n",
    "            dp[int(n/2)] = ans2\n",
    "        else:\n",
    "            ans2 = dp[int(n/2)]\n",
    "    ans3 = sys.maxsize\n",
    "    if n % 3 == 0:\n",
    "        if dp[int(n/3)] == -1:\n",
    "            ans3 = minsteps_memoization(n/3,dp)\n",
    "            dp[int(n/3)] = ans3\n",
    "        else:\n",
    "            ans3 = dp[int(n/3)]\n",
    "    ans = 1 + min(ans1,ans2,ans3)\n",
    "    if dp[n] == -1:\n",
    "        dp[n] = ans\n",
    "    return ans"
   ]
  },
  {
   "cell_type": "code",
   "execution_count": 8,
   "id": "174d4aee",
   "metadata": {},
   "outputs": [],
   "source": [
    "def minsteps(n):\n",
    "    if n == 1:\n",
    "        return 0\n",
    "    ans1 = minsteps(n - 1)\n",
    "    ans2 = 10000\n",
    "    if n % 2 == 0:\n",
    "        ans2 = minsteps(n/2)\n",
    "    ans3 = 10000\n",
    "    if n % 3 == 0:\n",
    "        ans3 = minsteps(n/3)\n",
    "    ans = 1 + min(ans1,ans2,ans3)\n",
    "    return ans"
   ]
  },
  {
   "cell_type": "code",
   "execution_count": 9,
   "id": "eeebef1f",
   "metadata": {},
   "outputs": [],
   "source": [
    "def minStepsTo1_I(n):\n",
    "    dp = [-1 for i in range(n + 1)]\n",
    "    dp[1] = 0\n",
    "    for i in range(2,n + 1):\n",
    "        if i % 2 == 0:\n",
    "            dp[i] = 1 + dp[i - 1]"
   ]
  },
  {
   "cell_type": "code",
   "execution_count": 10,
   "id": "3a3af57c",
   "metadata": {},
   "outputs": [
    {
     "name": "stdout",
     "output_type": "stream",
     "text": [
      "6\n"
     ]
    },
    {
     "data": {
      "text/plain": [
       "2"
      ]
     },
     "execution_count": 10,
     "metadata": {},
     "output_type": "execute_result"
    }
   ],
   "source": [
    "n = int(input())\n",
    "dp = [-1 for i in range(n + 1)]\n",
    "minsteps_memoization(n,dp)"
   ]
  },
  {
   "cell_type": "code",
   "execution_count": 11,
   "id": "c67dd771",
   "metadata": {},
   "outputs": [
    {
     "name": "stdout",
     "output_type": "stream",
     "text": [
      "5\n"
     ]
    },
    {
     "data": {
      "text/plain": [
       "3"
      ]
     },
     "execution_count": 11,
     "metadata": {},
     "output_type": "execute_result"
    }
   ],
   "source": [
    "n = int(input())\n",
    "minsteps(n)"
   ]
  },
  {
   "cell_type": "code",
   "execution_count": 12,
   "id": "0873c4f9",
   "metadata": {},
   "outputs": [],
   "source": [
    "def minSquares(n):\n",
    "    if n == 0:\n",
    "        return 0\n",
    "    i = 1\n",
    "    ans = sys.maxsize\n",
    "    while i*i <= n:\n",
    "        currAns = 1 + minSquares(n - i*i)\n",
    "        ans = min(currAns,ans)\n",
    "        i += 1\n",
    "    return ans"
   ]
  },
  {
   "cell_type": "code",
   "execution_count": 13,
   "id": "f48a682e",
   "metadata": {},
   "outputs": [],
   "source": [
    "import math\n",
    "import sys\n",
    "\n",
    "def minSquaresCn(n):\n",
    "    if n == 0:\n",
    "        return 0\n",
    "    ans = sys.maxsize\n",
    "    root = int(math.sqrt(n))\n",
    "    for i in range(1,root + 1):\n",
    "        currAns = 1 + minSquaresCn(n - (i ** 2))\n",
    "        ans = min(currAns,ans)\n",
    "    return ans"
   ]
  },
  {
   "cell_type": "code",
   "execution_count": 14,
   "id": "971fd672",
   "metadata": {},
   "outputs": [],
   "source": [
    "import sys\n",
    "import math\n",
    "\n",
    "def minSquares_memoization(n):\n",
    "    if n == 0:\n",
    "        return 0\n",
    "    dp = [-1 for i in range(n + 1)]\n",
    "    ans = sys.maxsize\n",
    "    root = int(math.sqrt(n))\n",
    "    for i in range(1,root + 1):\n",
    "        if dp[n - (i ** 2)] == -1:\n",
    "            currAns = 1 + minSquares_memoization(n - (i ** 2))\n",
    "            ans = min(currAns,ans)\n",
    "            dp[n - (i ** 2)] = ans\n",
    "        else:\n",
    "            ans = dp[n - (i ** 2)]\n",
    "    return ans"
   ]
  },
  {
   "cell_type": "code",
   "execution_count": 15,
   "id": "d306b893",
   "metadata": {},
   "outputs": [
    {
     "name": "stdout",
     "output_type": "stream",
     "text": [
      "2\n"
     ]
    },
    {
     "data": {
      "text/plain": [
       "2"
      ]
     },
     "execution_count": 15,
     "metadata": {},
     "output_type": "execute_result"
    }
   ],
   "source": [
    "n = int(input())\n",
    "#ans = minSquares(n)\n",
    "#print(ans)\n",
    "minSquares_memoization(n)"
   ]
  },
  {
   "cell_type": "code",
   "execution_count": null,
   "id": "154e68c7",
   "metadata": {},
   "outputs": [],
   "source": []
  }
 ],
 "metadata": {
  "kernelspec": {
   "display_name": "Python 3",
   "language": "python",
   "name": "python3"
  },
  "language_info": {
   "codemirror_mode": {
    "name": "ipython",
    "version": 3
   },
   "file_extension": ".py",
   "mimetype": "text/x-python",
   "name": "python",
   "nbconvert_exporter": "python",
   "pygments_lexer": "ipython3",
   "version": "3.8.8"
  }
 },
 "nbformat": 4,
 "nbformat_minor": 5
}
