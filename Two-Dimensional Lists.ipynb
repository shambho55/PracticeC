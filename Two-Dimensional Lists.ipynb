{
 "cells": [
  {
   "cell_type": "code",
   "execution_count": 3,
   "id": "a1bcbe29",
   "metadata": {},
   "outputs": [
    {
     "name": "stdout",
     "output_type": "stream",
     "text": [
      "1 5 9 2 6 10 3 7 11 4 8 12 "
     ]
    }
   ],
   "source": [
    "li=[[1,2,3,4],[5,6,7,8],[9,10,11,12]]\n",
    "for j in range(4):\n",
    "    for ele in li:\n",
    "        print(ele[j],end = \" \")"
   ]
  },
  {
   "cell_type": "code",
   "execution_count": 1,
   "id": "94f6731e",
   "metadata": {},
   "outputs": [
    {
     "data": {
      "text/plain": [
       "0.7"
      ]
     },
     "execution_count": 1,
     "metadata": {},
     "output_type": "execute_result"
    }
   ],
   "source": [
    "i = 280 /400\n",
    "i\n"
   ]
  },
  {
   "cell_type": "markdown",
   "id": "4e34eae3",
   "metadata": {},
   "source": [
    "### Wave Print"
   ]
  },
  {
   "cell_type": "code",
   "execution_count": 2,
   "id": "c7fd3038",
   "metadata": {},
   "outputs": [
    {
     "ename": "SyntaxError",
     "evalue": "unexpected EOF while parsing (<ipython-input-2-d51fc37d39db>, line 1)",
     "output_type": "error",
     "traceback": [
      "\u001b[1;36m  File \u001b[1;32m\"<ipython-input-2-d51fc37d39db>\"\u001b[1;36m, line \u001b[1;32m1\u001b[0m\n\u001b[1;33m    def wavePrint(mat,nRows,mCols):\u001b[0m\n\u001b[1;37m                                   ^\u001b[0m\n\u001b[1;31mSyntaxError\u001b[0m\u001b[1;31m:\u001b[0m unexpected EOF while parsing\n"
     ]
    }
   ],
   "source": [
    "def wavePrint(mat,nRows,mCols):\n",
    "    j = 0\n",
    "    while j < mCols:\n",
    "        i = 0\n",
    "        while i < nRows:\n",
    "            print(mat[i],end = ' ')\n",
    "            i = i + 1\n",
    "        j = j + 1\n",
    "        i = nRows - 1\n",
    "        while i > -1:\n",
    "            print(mat[i], end = ' ')\n",
    "            i = i - 1\n",
    "        j = j + 1\n"
   ]
  },
  {
   "cell_type": "code",
   "execution_count": 3,
   "id": "c413c680",
   "metadata": {},
   "outputs": [
    {
     "name": "stdout",
     "output_type": "stream",
     "text": [
      "3\n",
      "3\n",
      "1 2 3\n"
     ]
    },
    {
     "ename": "ValueError",
     "evalue": "invalid literal for int() with base 10: '1 2 3'",
     "output_type": "error",
     "traceback": [
      "\u001b[1;31m---------------------------------------------------------------------------\u001b[0m",
      "\u001b[1;31mValueError\u001b[0m                                Traceback (most recent call last)",
      "\u001b[1;32m<ipython-input-3-8ee989a3f561>\u001b[0m in \u001b[0;36m<module>\u001b[1;34m\u001b[0m\n\u001b[0;32m      7\u001b[0m         \u001b[0marr1\u001b[0m \u001b[1;33m=\u001b[0m \u001b[1;33m[\u001b[0m\u001b[1;33m]\u001b[0m\u001b[1;33m\u001b[0m\u001b[1;33m\u001b[0m\u001b[0m\n\u001b[0;32m      8\u001b[0m         \u001b[1;32mfor\u001b[0m \u001b[0mj\u001b[0m \u001b[1;32min\u001b[0m \u001b[0mrange\u001b[0m\u001b[1;33m(\u001b[0m\u001b[0mm\u001b[0m\u001b[1;33m)\u001b[0m\u001b[1;33m:\u001b[0m\u001b[1;33m\u001b[0m\u001b[1;33m\u001b[0m\u001b[0m\n\u001b[1;32m----> 9\u001b[1;33m                 \u001b[0marr1\u001b[0m\u001b[1;33m.\u001b[0m\u001b[0mappend\u001b[0m\u001b[1;33m(\u001b[0m\u001b[0mint\u001b[0m\u001b[1;33m(\u001b[0m\u001b[0minput\u001b[0m\u001b[1;33m(\u001b[0m\u001b[1;33m)\u001b[0m\u001b[1;33m)\u001b[0m\u001b[1;33m)\u001b[0m\u001b[1;33m\u001b[0m\u001b[1;33m\u001b[0m\u001b[0m\n\u001b[0m\u001b[0;32m     10\u001b[0m         \u001b[0marr\u001b[0m\u001b[1;33m.\u001b[0m\u001b[0mappend\u001b[0m\u001b[1;33m(\u001b[0m\u001b[0marr1\u001b[0m\u001b[1;33m)\u001b[0m\u001b[1;33m\u001b[0m\u001b[1;33m\u001b[0m\u001b[0m\n\u001b[0;32m     11\u001b[0m \u001b[0mi\u001b[0m \u001b[1;33m=\u001b[0m \u001b[1;36m0\u001b[0m\u001b[1;33m\u001b[0m\u001b[1;33m\u001b[0m\u001b[0m\n",
      "\u001b[1;31mValueError\u001b[0m: invalid literal for int() with base 10: '1 2 3'"
     ]
    }
   ],
   "source": [
    "## Read input as specified in the question.\n",
    "## Print output as specified in the question.\n",
    "n = int(input())\n",
    "m = int(input())\n",
    "arr = []\n",
    "for i in range(n):\n",
    "\tarr1 = []\n",
    "\tfor j in range(m):\n",
    "\t\tarr1.append(int(input()))\n",
    "\tarr.append(arr1)\n",
    "i = 0\n",
    "while i < n:\n",
    "\tj = 0\n",
    "\tk = 0\n",
    "\twhile j < m:\n",
    "\t\tprint(arr[k][j], end = ' ')\n",
    "\t\tj += 1\n",
    "\t\tk += 1\n",
    "\tprint()\n",
    "\ti += 1\n",
    "    \n"
   ]
  }
 ],
 "metadata": {
  "kernelspec": {
   "display_name": "Python 3",
   "language": "python",
   "name": "python3"
  },
  "language_info": {
   "codemirror_mode": {
    "name": "ipython",
    "version": 3
   },
   "file_extension": ".py",
   "mimetype": "text/x-python",
   "name": "python",
   "nbconvert_exporter": "python",
   "pygments_lexer": "ipython3",
   "version": "3.8.8"
  }
 },
 "nbformat": 4,
 "nbformat_minor": 5
}
