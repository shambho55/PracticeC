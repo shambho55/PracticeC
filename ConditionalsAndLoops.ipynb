{
 "cells": [
  {
   "cell_type": "markdown",
   "id": "beb64911",
   "metadata": {},
   "source": [
    "### Boolean Operator"
   ]
  },
  {
   "cell_type": "code",
   "execution_count": 44,
   "id": "c5e7ee77",
   "metadata": {},
   "outputs": [
    {
     "name": "stdout",
     "output_type": "stream",
     "text": [
      "<class 'bool'>\n",
      "1\n"
     ]
    }
   ],
   "source": [
    "a = True\n",
    "b = False\n",
    "\n",
    "print(type(a))\n",
    "c = a + b\n",
    "print(c)"
   ]
  },
  {
   "cell_type": "markdown",
   "id": "55718898",
   "metadata": {},
   "source": [
    "### Relational Operator\n"
   ]
  },
  {
   "cell_type": "markdown",
   "id": "436c0f6c",
   "metadata": {},
   "source": [
    "a = 10\n",
    "b = 20\n",
    "\n",
    "print(a < b)\n",
    "print(a > b)\n",
    "print(a <= b)\n",
    "print(a >= b)\n",
    "print(a == b)\n",
    "print(a != b)\n"
   ]
  },
  {
   "cell_type": "markdown",
   "id": "37b9bfe3",
   "metadata": {},
   "source": [
    "### Logical Operator"
   ]
  },
  {
   "cell_type": "code",
   "execution_count": 31,
   "id": "e9cca0e5",
   "metadata": {},
   "outputs": [
    {
     "name": "stdout",
     "output_type": "stream",
     "text": [
      "False\n",
      "True\n",
      "False\n",
      "True\n",
      "True\n"
     ]
    }
   ],
   "source": [
    "c1 = a > b\n",
    "c2 = a < b\n",
    "r1 = c1 and c2\n",
    "r2 = c1 or c2\n",
    "r3 = not(c1)\n",
    "print(c1)\n",
    "print(c2)\n",
    "print(r1)\n",
    "print(r2)\n",
    "print(r3)"
   ]
  },
  {
   "cell_type": "markdown",
   "id": "a83b1f0a",
   "metadata": {},
   "source": [
    "### If Else"
   ]
  },
  {
   "cell_type": "markdown",
   "id": "ae14031a",
   "metadata": {},
   "source": [
    "Indentation is important"
   ]
  },
  {
   "cell_type": "code",
   "execution_count": 36,
   "id": "c827b88f",
   "metadata": {},
   "outputs": [
    {
     "ename": "IndentationError",
     "evalue": "unexpected indent (<ipython-input-36-5b4dce0ae37c>, line 4)",
     "output_type": "error",
     "traceback": [
      "\u001b[1;36m  File \u001b[1;32m\"<ipython-input-36-5b4dce0ae37c>\"\u001b[1;36m, line \u001b[1;32m4\u001b[0m\n\u001b[1;33m    print(\"I am inside if2\")\u001b[0m\n\u001b[1;37m    ^\u001b[0m\n\u001b[1;31mIndentationError\u001b[0m\u001b[1;31m:\u001b[0m unexpected indent\n"
     ]
    }
   ],
   "source": [
    "a = True\n",
    "if a:\n",
    "    print(\"I am inside if\")\n",
    "     print(\"I am inside if2\")\n",
    "else:\n",
    "    print(\"I am in else\")"
   ]
  },
  {
   "cell_type": "code",
   "execution_count": 38,
   "id": "c54e62f5",
   "metadata": {},
   "outputs": [
    {
     "name": "stdout",
     "output_type": "stream",
     "text": [
      "5\n",
      "n is odd\n"
     ]
    }
   ],
   "source": [
    "n = int(input())\n",
    "r = n % 2\n",
    "is_even = ( r==0 )\n",
    "if is_even:\n",
    "    print(\"n is even\")\n",
    "else: \n",
    "    print(\"n is odd\")"
   ]
  },
  {
   "cell_type": "code",
   "execution_count": 3,
   "id": "5b4e00ee",
   "metadata": {},
   "outputs": [
    {
     "name": "stdout",
     "output_type": "stream",
     "text": [
      "2\n",
      "n is even\n"
     ]
    }
   ],
   "source": [
    "n = int(input())\n",
    "is_even = (n % 2 == 0)\n",
    "if is_even:\n",
    "    print(\"n is even\")\n",
    "else: \n",
    "    print(\"n is odd\")"
   ]
  },
  {
   "cell_type": "code",
   "execution_count": 7,
   "id": "23c3f434",
   "metadata": {},
   "outputs": [
    {
     "name": "stdout",
     "output_type": "stream",
     "text": [
      "5\n"
     ]
    }
   ],
   "source": [
    "n = int(input())\n",
    "if n % 2 == 0 :\n",
    "    print(\"n is even\")\n"
   ]
  },
  {
   "cell_type": "code",
   "execution_count": 9,
   "id": "a2e430a7",
   "metadata": {},
   "outputs": [
    {
     "name": "stdout",
     "output_type": "stream",
     "text": [
      "5\n",
      "2\n",
      "No, they are not.\n"
     ]
    }
   ],
   "source": [
    "a = int(input())\n",
    "b = int(input())\n",
    "\n",
    "if a > 10 and b > 10 :\n",
    "    print(\"Both > 10\")\n",
    "else:\n",
    "    print(\"No, they are not.\")"
   ]
  },
  {
   "cell_type": "code",
   "execution_count": 11,
   "id": "87877940",
   "metadata": {},
   "outputs": [
    {
     "name": "stdout",
     "output_type": "stream",
     "text": [
      "5\n",
      "No, it's not.\n"
     ]
    }
   ],
   "source": [
    "n = int(input())\n",
    "if n != 7:\n",
    "    print(\"No, it's not 7.\")\n",
    "else:\n",
    "    print(\"It is 7.\")"
   ]
  },
  {
   "cell_type": "markdown",
   "id": "cd512d53",
   "metadata": {},
   "source": [
    "### ELIF"
   ]
  },
  {
   "cell_type": "code",
   "execution_count": 28,
   "id": "458ab7a8",
   "metadata": {},
   "outputs": [
    {
     "name": "stdout",
     "output_type": "stream",
     "text": [
      "4\n",
      "5\n",
      "3\n",
      "5 is largest\n"
     ]
    }
   ],
   "source": [
    "a = int(input())\n",
    "b = int(input())\n",
    "c = int(input())\n",
    "\n",
    "if a >= b and a > c :\n",
    "    print(a,\"is largest\")\n",
    "elif b >= a and b > c :\n",
    "    print(b,\"is largest\")\n",
    "else: \n",
    "    print(c,\"is largest\")"
   ]
  },
  {
   "cell_type": "code",
   "execution_count": 35,
   "id": "e5bfdba0",
   "metadata": {},
   "outputs": [
    {
     "name": "stdout",
     "output_type": "stream",
     "text": [
      "5\n",
      "green\n"
     ]
    }
   ],
   "source": [
    "n = int(input())\n",
    "if n > 10:\n",
    "    print(\"red\")\n",
    "elif n >= 5:\n",
    "    print(\"green\")\n",
    "elif n > 0:\n",
    "    print(\"yellow\")\n"
   ]
  },
  {
   "cell_type": "code",
   "execution_count": 38,
   "id": "cbe8e46f",
   "metadata": {},
   "outputs": [
    {
     "name": "stdout",
     "output_type": "stream",
     "text": [
      "4\n",
      "yellow\n"
     ]
    }
   ],
   "source": [
    "# Problem with code as it will print green being greater than 10 and will not print red\n",
    "n = int(input())\n",
    "if n >= 5:\n",
    "    print(\"green\")\n",
    "elif n > 10:\n",
    "    print(\"red\")\n",
    "elif n > 0:\n",
    "    print(\"yellow\")"
   ]
  },
  {
   "cell_type": "markdown",
   "id": "4cecb2a6",
   "metadata": {},
   "source": [
    "### NESTED IF ELSE"
   ]
  },
  {
   "cell_type": "code",
   "execution_count": 40,
   "id": "eb8734ef",
   "metadata": {},
   "outputs": [
    {
     "name": "stdout",
     "output_type": "stream",
     "text": [
      "5\n",
      "n is odd.\n"
     ]
    }
   ],
   "source": [
    "n = int(input())\n",
    "if n % 2 == 0:\n",
    "    print(\"n is even.\")\n",
    "    if n == 0:\n",
    "            print(\"n is zero.\")\n",
    "else :\n",
    "    print(\"n is odd.\")"
   ]
  },
  {
   "cell_type": "code",
   "execution_count": 45,
   "id": "13f74e29",
   "metadata": {},
   "outputs": [
    {
     "name": "stdout",
     "output_type": "stream",
     "text": [
      "54\n",
      "44\n",
      "1\n"
     ]
    }
   ],
   "source": [
    "n = int(input())\n",
    "m = int(input())\n",
    "\n",
    "if n % 2 == 0:\n",
    "    if m % 2 == 0:\n",
    "        print(1)\n",
    "    else :\n",
    "        print(2)\n",
    "else :\n",
    "    print (3)"
   ]
  },
  {
   "cell_type": "markdown",
   "id": "68ab1fd7",
   "metadata": {},
   "source": [
    "### WHILE LOOPS"
   ]
  },
  {
   "cell_type": "code",
   "execution_count": 48,
   "id": "d66b374f",
   "metadata": {},
   "outputs": [
    {
     "name": "stdout",
     "output_type": "stream",
     "text": [
      "9\n",
      "1\n",
      "2\n",
      "3\n",
      "4\n",
      "5\n",
      "6\n",
      "7\n",
      "8\n",
      "9\n"
     ]
    }
   ],
   "source": [
    "n = int(input())\n",
    "count = 1\n",
    "while count <= n:\n",
    "    print(count)\n",
    "    count = count + 1"
   ]
  },
  {
   "cell_type": "markdown",
   "id": "1535ccb5",
   "metadata": {},
   "source": [
    "### CHECK PRIME"
   ]
  },
  {
   "cell_type": "code",
   "execution_count": 2,
   "id": "4aaea3ad",
   "metadata": {},
   "outputs": [
    {
     "name": "stdout",
     "output_type": "stream",
     "text": [
      "54\n",
      "not prime\n"
     ]
    }
   ],
   "source": [
    "n = int(input())\n",
    "d = 2\n",
    "flag = False\n",
    "while d < n :\n",
    "    if n % d == 0 :\n",
    "        flag = True\n",
    "    d = d + 1\n",
    "\n",
    "if flag:\n",
    "    print('not prime')\n",
    "else :\n",
    "    print('prime')"
   ]
  },
  {
   "cell_type": "markdown",
   "id": "e51cd6ba",
   "metadata": {},
   "source": [
    "### Ques Fah to celsius"
   ]
  },
  {
   "cell_type": "code",
   "execution_count": null,
   "id": "4198ea94",
   "metadata": {},
   "outputs": [],
   "source": [
    "s = int(input())\n",
    "e = int(input())\n",
    "w = int(input())\n",
    "\n",
    "while s <= e :\n",
    "    c = int((s - 32) * 5 / 9)\n",
    "    print(s,\"\t\",c)\n",
    "    s = s + w"
   ]
  },
  {
   "cell_type": "markdown",
   "id": "2c17b828",
   "metadata": {},
   "source": [
    "### Print Prime numbers upto input n"
   ]
  },
  {
   "cell_type": "code",
   "execution_count": 5,
   "id": "ea6f2277",
   "metadata": {},
   "outputs": [
    {
     "name": "stdout",
     "output_type": "stream",
     "text": [
      "12\n",
      "2\n",
      "3\n",
      "5\n",
      "7\n",
      "11\n"
     ]
    }
   ],
   "source": [
    "n = int(input())\n",
    "k = 2\n",
    "while k <= n :\n",
    "    d = 2\n",
    "    flag = False\n",
    "    while d < k :\n",
    "        if k % d == 0 :\n",
    "            flag = True\n",
    "        d = d + 1\n",
    "    if not(flag) :\n",
    "        print (k)\n",
    "    k = k + 1\n",
    "    "
   ]
  },
  {
   "cell_type": "markdown",
   "id": "383501f1",
   "metadata": {},
   "source": [
    "### simple Calculator"
   ]
  },
  {
   "cell_type": "code",
   "execution_count": null,
   "id": "8be8680f",
   "metadata": {},
   "outputs": [],
   "source": [
    "choice = int(input())\n",
    "while choice != 6 :\n",
    "    \n",
    "    a = int(input())\n",
    "    if choice > 6 :\n",
    "        print(\"Invalid Operation\")\n",
    "    b = int(input())\n",
    "    if choice == 1 :\n",
    "        print(a + b)\n",
    "        \n",
    "    elif choice == 2 :\n",
    "        print(a - b)\n",
    "    elif choice == 3 :\n",
    "        print(a * b)\n",
    "    elif choice == 4 :\n",
    "        print(a // b)\n",
    "    elif choice == 5 :\n",
    "        print(a % b)\n",
    "    choice = int(input())\n",
    "\n",
    "        \n",
    "        "
   ]
  },
  {
   "cell_type": "markdown",
   "id": "36063a5c",
   "metadata": {},
   "source": [
    "### Reverse a Number"
   ]
  },
  {
   "cell_type": "code",
   "execution_count": 27,
   "id": "2f4e0d25",
   "metadata": {},
   "outputs": [
    {
     "name": "stdout",
     "output_type": "stream",
     "text": [
      "1254\n",
      "4521\n"
     ]
    }
   ],
   "source": [
    "\n",
    "def reverse(n):\n",
    "#Implement Your Code Here\n",
    "    rev = 0 \n",
    "    while n > 0 : \n",
    "        mod_num = n % 10\n",
    "        n = n // 10\n",
    "        rev = (rev * 10) + mod_num\n",
    "    return rev\n",
    "    \n",
    "        \n",
    "        \n",
    "            \n",
    "n=int(input())\n",
    "result = reverse(n)\n",
    "print(result)\n"
   ]
  },
  {
   "cell_type": "markdown",
   "id": "8adfd56e",
   "metadata": {},
   "source": [
    "### Palindrome Number"
   ]
  },
  {
   "cell_type": "code",
   "execution_count": 108,
   "id": "dc516abb",
   "metadata": {},
   "outputs": [
    {
     "name": "stdout",
     "output_type": "stream",
     "text": [
      "111\n",
      "true\n"
     ]
    }
   ],
   "source": [
    "def checkPalindrome(num):\n",
    "#Implement Your Code Here\n",
    "    num1 = num\n",
    "    rev = 0\n",
    "    while num > 0 :\n",
    "            mod_num = num % 10\n",
    "            num = num // 10\n",
    "            rev = (rev * 10) + mod_num\n",
    "    flag = (rev == num1) \n",
    "    return flag\n",
    "    \n",
    "    \n",
    "    \n",
    "\t\t\n",
    "num = int(input())\n",
    "isPalindrome = checkPalindrome(num)\n",
    "if(isPalindrome):\n",
    "\tprint('true')\n",
    "else:\n",
    "\tprint('false')"
   ]
  },
  {
   "cell_type": "markdown",
   "id": "82ee17ed",
   "metadata": {},
   "source": [
    "### Sum of even and odd separated by space"
   ]
  },
  {
   "cell_type": "code",
   "execution_count": 8,
   "id": "7c91bc7b",
   "metadata": {},
   "outputs": [
    {
     "name": "stdout",
     "output_type": "stream",
     "text": [
      "12345\n",
      "6   9\n"
     ]
    }
   ],
   "source": [
    "n = int(input())\n",
    "odd_sum = 0\n",
    "even_sum = 0\n",
    "while n > 0 :\n",
    "    mod_num = n % 10\n",
    "    n = n // 10\n",
    "    if mod_num % 2 == 0 :\n",
    "        even_sum = even_sum + mod_num\n",
    "    else :\n",
    "        odd_sum = odd_sum + mod_num\n",
    "print(even_sum,\" \",odd_sum)\n"
   ]
  },
  {
   "cell_type": "markdown",
   "id": "181b621b",
   "metadata": {},
   "source": [
    "### Fibonacci Number"
   ]
  },
  {
   "cell_type": "markdown",
   "id": "577d5308",
   "metadata": {},
   "source": [
    "This code takes more time than specified"
   ]
  },
  {
   "cell_type": "code",
   "execution_count": 4,
   "id": "1807edb7",
   "metadata": {},
   "outputs": [
    {
     "name": "stdout",
     "output_type": "stream",
     "text": [
      "\n"
     ]
    },
    {
     "ename": "ValueError",
     "evalue": "invalid literal for int() with base 10: ''",
     "output_type": "error",
     "traceback": [
      "\u001b[1;31m---------------------------------------------------------------------------\u001b[0m",
      "\u001b[1;31mValueError\u001b[0m                                Traceback (most recent call last)",
      "\u001b[1;32m<ipython-input-4-2f9b0ef25373>\u001b[0m in \u001b[0;36m<module>\u001b[1;34m\u001b[0m\n\u001b[0;32m      6\u001b[0m         \u001b[1;32mreturn\u001b[0m \u001b[0mfib\u001b[0m \u001b[1;33m(\u001b[0m\u001b[0mnum\u001b[0m \u001b[1;33m-\u001b[0m \u001b[1;36m1\u001b[0m\u001b[1;33m)\u001b[0m \u001b[1;33m+\u001b[0m \u001b[0mfib\u001b[0m \u001b[1;33m(\u001b[0m\u001b[0mnum\u001b[0m \u001b[1;33m-\u001b[0m \u001b[1;36m2\u001b[0m\u001b[1;33m)\u001b[0m\u001b[1;33m\u001b[0m\u001b[1;33m\u001b[0m\u001b[0m\n\u001b[0;32m      7\u001b[0m \u001b[1;33m\u001b[0m\u001b[0m\n\u001b[1;32m----> 8\u001b[1;33m \u001b[0mn\u001b[0m \u001b[1;33m=\u001b[0m \u001b[0mint\u001b[0m\u001b[1;33m(\u001b[0m\u001b[0minput\u001b[0m\u001b[1;33m(\u001b[0m\u001b[1;33m)\u001b[0m\u001b[1;33m)\u001b[0m\u001b[1;33m\u001b[0m\u001b[1;33m\u001b[0m\u001b[0m\n\u001b[0m\u001b[0;32m      9\u001b[0m \u001b[0mans\u001b[0m \u001b[1;33m=\u001b[0m \u001b[0mfib\u001b[0m\u001b[1;33m(\u001b[0m\u001b[0mn\u001b[0m\u001b[1;33m)\u001b[0m\u001b[1;33m\u001b[0m\u001b[1;33m\u001b[0m\u001b[0m\n\u001b[0;32m     10\u001b[0m \u001b[0mprint\u001b[0m \u001b[1;33m(\u001b[0m\u001b[0mans\u001b[0m\u001b[1;33m)\u001b[0m\u001b[1;33m\u001b[0m\u001b[1;33m\u001b[0m\u001b[0m\n",
      "\u001b[1;31mValueError\u001b[0m: invalid literal for int() with base 10: ''"
     ]
    }
   ],
   "source": [
    "def fib(n):\n",
    "    num = n\n",
    "    if num == 1 or num == 2 :\n",
    "        return 1\n",
    "    else :\n",
    "        return fib (num - 1) + fib (num - 2)\n",
    "    \n",
    "n = int(input())\n",
    "ans = fib(n)\n",
    "print (ans)"
   ]
  },
  {
   "cell_type": "code",
   "execution_count": 7,
   "id": "fd2a155d",
   "metadata": {},
   "outputs": [
    {
     "name": "stdout",
     "output_type": "stream",
     "text": [
      "6\n",
      "8\n"
     ]
    }
   ],
   "source": [
    "def fib(n):\n",
    "    a = 0\n",
    "    b = 1\n",
    "    i = 1\n",
    "    if n == 1 :\n",
    "        return b\n",
    "    while i < n :\n",
    "        c = a + b\n",
    "        a = b\n",
    "        b = c\n",
    "        i = i + 1\n",
    "    return c\n",
    "    \n",
    "\n",
    "\n",
    "    \n",
    "n = int(input())\n",
    "ans = fib(n)\n",
    "print (ans)"
   ]
  }
 ],
 "metadata": {
  "kernelspec": {
   "display_name": "Python 3",
   "language": "python",
   "name": "python3"
  },
  "language_info": {
   "codemirror_mode": {
    "name": "ipython",
    "version": 3
   },
   "file_extension": ".py",
   "mimetype": "text/x-python",
   "name": "python",
   "nbconvert_exporter": "python",
   "pygments_lexer": "ipython3",
   "version": "3.8.8"
  }
 },
 "nbformat": 4,
 "nbformat_minor": 5
}
