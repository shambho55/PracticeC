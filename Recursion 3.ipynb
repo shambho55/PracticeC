{
 "cells": [
  {
   "cell_type": "markdown",
   "id": "4f0c92b2",
   "metadata": {},
   "source": [
    "### Return Subsequences"
   ]
  },
  {
   "cell_type": "code",
   "execution_count": 126,
   "id": "4ccb82e0",
   "metadata": {},
   "outputs": [
    {
     "name": "stdout",
     "output_type": "stream",
     "text": [
      "abc\n"
     ]
    },
    {
     "data": {
      "text/plain": [
       "['', 'c', 'b', 'bc', 'a', 'ac', 'ab', 'abc']"
      ]
     },
     "execution_count": 126,
     "metadata": {},
     "output_type": "execute_result"
    }
   ],
   "source": [
    "def subsequences(string):\n",
    "    if len(string) == 0:\n",
    "        output = []\n",
    "        output.append(\"\")\n",
    "        return output\n",
    "    smallerOutput = subsequences(string[1:])\n",
    "    \n",
    "    output = []\n",
    "    for sub in smallerOutput:\n",
    "        output.append(sub)\n",
    "    for sub in smallerOutput:\n",
    "        subs_with_zeroth_char = string[0] + sub\n",
    "        output.append(subs_with_zeroth_char)\n",
    "    return output\n",
    "    \n",
    "string = input()\n",
    "ans = subsequences(string)\n",
    "# for ele in ans:\n",
    "#     print(ele)\n",
    "ans"
   ]
  },
  {
   "cell_type": "markdown",
   "id": "8ff751f5",
   "metadata": {},
   "source": [
    "### Return Keypad"
   ]
  },
  {
   "cell_type": "code",
   "execution_count": 36,
   "id": "88c11c0e",
   "metadata": {},
   "outputs": [
    {
     "name": "stdout",
     "output_type": "stream",
     "text": [
      "2\n",
      "a\n",
      "b\n",
      "c\n"
     ]
    },
    {
     "data": {
      "text/plain": [
       "3"
      ]
     },
     "execution_count": 36,
     "metadata": {},
     "output_type": "execute_result"
    }
   ],
   "source": [
    "dct = {0:\"\",2:\"abc\",3:\"def\",4:\"ghi\",5:\"jkl\",6:\"mno\",7:\"pqrs\",8:\"tuv\",9:\"wxyz\"}\n",
    "def keypad(n):\n",
    "    if n == 0:\n",
    "        output = []\n",
    "        output.append(dct[0])\n",
    "        return output\n",
    "    \n",
    "    smallerInt = n // 10\n",
    "    lastInt = n % 10\n",
    "    smallerOutput = keypad(smallerInt)\n",
    "    \n",
    "    output = []\n",
    "    for k in smallerOutput:\n",
    "        for j in range(len(dct[lastInt])):\n",
    "            kWithLastInt = k + dct[lastInt][j]\n",
    "            output.append(kWithLastInt)\n",
    "    return output\n",
    "\n",
    "n = int(input())\n",
    "ans = keypad(n)\n",
    "for ele in ans:\n",
    "    print(ele)\n",
    "len(ans)"
   ]
  },
  {
   "cell_type": "markdown",
   "id": "3ac3cc8c",
   "metadata": {},
   "source": [
    "### Print Output Instead of Returning"
   ]
  },
  {
   "cell_type": "code",
   "execution_count": 48,
   "id": "333e8112",
   "metadata": {},
   "outputs": [],
   "source": [
    "def factHelper(n):\n",
    "    if n == 0:\n",
    "        return 1\n",
    "    smallerOutput = factHelper(n - 1)\n",
    "    output = n * smallerOutput\n",
    "    return output\n",
    "\n",
    "def fact(n):\n",
    "    ans = factHelper(n)\n",
    "    print(ans)"
   ]
  },
  {
   "cell_type": "code",
   "execution_count": 50,
   "id": "5d50e17f",
   "metadata": {},
   "outputs": [
    {
     "name": "stdout",
     "output_type": "stream",
     "text": [
      "120\n"
     ]
    }
   ],
   "source": [
    "fact(5)"
   ]
  },
  {
   "cell_type": "code",
   "execution_count": 73,
   "id": "df858c32",
   "metadata": {},
   "outputs": [],
   "source": [
    "def factorial(n,ans):\n",
    "    if n == 0:\n",
    "        print(ans)\n",
    "        return\n",
    "    ans = ans * n\n",
    "    factorial(n - 1,ans)"
   ]
  },
  {
   "cell_type": "code",
   "execution_count": 75,
   "id": "ab39288e",
   "metadata": {},
   "outputs": [
    {
     "name": "stdout",
     "output_type": "stream",
     "text": [
      "120\n"
     ]
    }
   ],
   "source": [
    "factorial(5,1)"
   ]
  },
  {
   "cell_type": "code",
   "execution_count": 76,
   "id": "a32fbd57",
   "metadata": {},
   "outputs": [],
   "source": [
    "def minArray(arr):\n",
    "    if len(arr) == 1:\n",
    "        return arr[0]\n",
    "    smallerMin = minArray(arr[1:])\n",
    "    output = min(smallerMin,arr[0])\n",
    "    return output"
   ]
  },
  {
   "cell_type": "code",
   "execution_count": 77,
   "id": "8467989c",
   "metadata": {},
   "outputs": [
    {
     "data": {
      "text/plain": [
       "-2"
      ]
     },
     "execution_count": 77,
     "metadata": {},
     "output_type": "execute_result"
    }
   ],
   "source": [
    "arr = [3,2,1,4,-1,0,-2,5]\n",
    "minArray(arr)"
   ]
  },
  {
   "cell_type": "code",
   "execution_count": 78,
   "id": "8b56f283",
   "metadata": {},
   "outputs": [],
   "source": [
    "def printMin(arr,minSoFar = 10000):\n",
    "    if len(arr) == 0:\n",
    "        print(minSoFar)\n",
    "        return\n",
    "    newMin = min(arr[0],minSoFar)\n",
    "    printMin(arr[1:],newMin)"
   ]
  },
  {
   "cell_type": "code",
   "execution_count": 80,
   "id": "94cfa535",
   "metadata": {},
   "outputs": [
    {
     "name": "stdout",
     "output_type": "stream",
     "text": [
      "-1\n"
     ]
    }
   ],
   "source": [
    "arr1 = [1,4,2,0,-1,4,7,8,5,2]\n",
    "printMin(arr1)"
   ]
  },
  {
   "cell_type": "markdown",
   "id": "d5b3ca9c",
   "metadata": {},
   "source": [
    "### Print Subsequence"
   ]
  },
  {
   "cell_type": "code",
   "execution_count": 100,
   "id": "e9074e93",
   "metadata": {},
   "outputs": [],
   "source": [
    "def printSubsequence(string,output):\n",
    "    if len(string) == 0:\n",
    "        print(output)\n",
    "        return\n",
    "    # don't include 0th char\n",
    "    smallerOutput1 = printSubsequence(string[1:],output)\n",
    "    \n",
    "    #include 0th char\n",
    "    newOutput = output + string[0]\n",
    "    smallerOutput2 = printSubsequence(string[1:],newOutput)\n",
    "    "
   ]
  },
  {
   "cell_type": "code",
   "execution_count": 102,
   "id": "df422198",
   "metadata": {},
   "outputs": [
    {
     "name": "stdout",
     "output_type": "stream",
     "text": [
      "\n",
      "d\n",
      "c\n",
      "cd\n",
      "b\n",
      "bd\n",
      "bc\n",
      "bcd\n",
      "a\n",
      "ad\n",
      "ac\n",
      "acd\n",
      "ab\n",
      "abd\n",
      "abc\n",
      "abcd\n"
     ]
    }
   ],
   "source": [
    "printSubsequence(\"abcd\",\"\")"
   ]
  },
  {
   "cell_type": "markdown",
   "id": "af1247d4",
   "metadata": {},
   "source": [
    "### Print Keypad Combinations"
   ]
  },
  {
   "cell_type": "code",
   "execution_count": 118,
   "id": "7ca7ed2a",
   "metadata": {},
   "outputs": [],
   "source": [
    "dct = {0:\"\",2:\"abc\",3:\"def\",4:\"ghi\",5:\"jkl\",6:\"mno\",7:\"pqrs\",8:\"tuv\",9:\"wxyz\"}\n",
    "def printKeypad(n,output):\n",
    "    if n == 0:\n",
    "        print(output)\n",
    "        return\n",
    "    smallerInt = n // 10\n",
    "    lastInt = n % 10\n",
    "    for i in dct[lastInt]:\n",
    "        printKeypad(smallerInt,i + output)\n",
    "        "
   ]
  },
  {
   "cell_type": "code",
   "execution_count": 120,
   "id": "4848e432",
   "metadata": {},
   "outputs": [
    {
     "name": "stdout",
     "output_type": "stream",
     "text": [
      "ad\n",
      "bd\n",
      "cd\n",
      "ae\n",
      "be\n",
      "ce\n",
      "af\n",
      "bf\n",
      "cf\n"
     ]
    }
   ],
   "source": [
    "printKeypad(23,\"\")"
   ]
  },
  {
   "cell_type": "code",
   "execution_count": 124,
   "id": "b11b845c",
   "metadata": {},
   "outputs": [
    {
     "name": "stdout",
     "output_type": "stream",
     "text": [
      "444\n",
      "4\n"
     ]
    },
    {
     "data": {
      "text/plain": [
       "[]"
      ]
     },
     "execution_count": 124,
     "metadata": {},
     "output_type": "execute_result"
    }
   ],
   "source": [
    "def subsetsArr(arr):\n",
    "\tif len(arr) == 0:\n",
    "\t\toutput = []\n",
    "\t\treturn output\n",
    "\t\n",
    "\tsmallerOutput = subsetsArr(arr[1:])\n",
    "\t\n",
    "\toutput = []\n",
    "\tfor i in smallerOutput:\n",
    "\t\toutput.append(str(i))\n",
    "\tfor i in smallerOutput:\n",
    "\t\tlst = str(arr[0]) + ' ' + str(i)\n",
    "\t\toutput.append(lst)\n",
    "\treturn output\n",
    "        \n",
    "    \n",
    "n = int(input())\n",
    "arr = [int(ele) for ele in input().split()]\n",
    "ans = subsetsArr(arr)\n",
    "# for i in ans:\n",
    "# \tprint(i)\n",
    "ans"
   ]
  },
  {
   "cell_type": "code",
   "execution_count": 125,
   "id": "94df176f",
   "metadata": {},
   "outputs": [
    {
     "name": "stdout",
     "output_type": "stream",
     "text": [
      "120\n"
     ]
    }
   ],
   "source": [
    "def factorial(n):\n",
    "    if n == 0:\n",
    "        return 1\n",
    "    smallerOutput = factorial(n - 1)\n",
    "    return n*smallerOutput\n",
    "fact(5)"
   ]
  }
 ],
 "metadata": {
  "kernelspec": {
   "display_name": "Python 3",
   "language": "python",
   "name": "python3"
  },
  "language_info": {
   "codemirror_mode": {
    "name": "ipython",
    "version": 3
   },
   "file_extension": ".py",
   "mimetype": "text/x-python",
   "name": "python",
   "nbconvert_exporter": "python",
   "pygments_lexer": "ipython3",
   "version": "3.8.8"
  }
 },
 "nbformat": 4,
 "nbformat_minor": 5
}
