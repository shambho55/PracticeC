{
 "cells": [
  {
   "cell_type": "markdown",
   "id": "211e0edd",
   "metadata": {},
   "source": [
    "### Creating A list"
   ]
  },
  {
   "cell_type": "code",
   "execution_count": 1,
   "id": "e96b8f05",
   "metadata": {},
   "outputs": [],
   "source": [
    "li = [1 , 2 ,\"shambho\" , 4.55]"
   ]
  },
  {
   "cell_type": "code",
   "execution_count": 3,
   "id": "c46f1696",
   "metadata": {},
   "outputs": [
    {
     "data": {
      "text/plain": [
       "[1, 2, 'shambho', 4.55]"
      ]
     },
     "execution_count": 3,
     "metadata": {},
     "output_type": "execute_result"
    }
   ],
   "source": [
    "li"
   ]
  },
  {
   "cell_type": "markdown",
   "id": "93fa59cb",
   "metadata": {},
   "source": [
    "### Slicing Of a List"
   ]
  },
  {
   "cell_type": "code",
   "execution_count": 5,
   "id": "d24c538c",
   "metadata": {},
   "outputs": [
    {
     "data": {
      "text/plain": [
       "[2, 'shambho']"
      ]
     },
     "execution_count": 5,
     "metadata": {},
     "output_type": "execute_result"
    }
   ],
   "source": [
    "li[1:3]"
   ]
  },
  {
   "cell_type": "code",
   "execution_count": 8,
   "id": "a406002e",
   "metadata": {},
   "outputs": [
    {
     "data": {
      "text/plain": [
       "[2, 'shambho', 4.55]"
      ]
     },
     "execution_count": 8,
     "metadata": {},
     "output_type": "execute_result"
    }
   ],
   "source": [
    "li[1:]"
   ]
  },
  {
   "cell_type": "code",
   "execution_count": 10,
   "id": "e33c2a2f",
   "metadata": {},
   "outputs": [
    {
     "data": {
      "text/plain": [
       "[1, 2, 'shambho', 4.55]"
      ]
     },
     "execution_count": 10,
     "metadata": {},
     "output_type": "execute_result"
    }
   ],
   "source": [
    "li[:]"
   ]
  },
  {
   "cell_type": "code",
   "execution_count": 14,
   "id": "752ef785",
   "metadata": {},
   "outputs": [
    {
     "data": {
      "text/plain": [
       "[1, 2]"
      ]
     },
     "execution_count": 14,
     "metadata": {},
     "output_type": "execute_result"
    }
   ],
   "source": [
    "li[:2]"
   ]
  },
  {
   "cell_type": "code",
   "execution_count": 16,
   "id": "b08f8f90",
   "metadata": {},
   "outputs": [
    {
     "data": {
      "text/plain": [
       "[]"
      ]
     },
     "execution_count": 16,
     "metadata": {},
     "output_type": "execute_result"
    }
   ],
   "source": [
    "li[0:0]"
   ]
  },
  {
   "cell_type": "code",
   "execution_count": 18,
   "id": "1a0b97d7",
   "metadata": {},
   "outputs": [
    {
     "data": {
      "text/plain": [
       "[1, 2, 'shambho', 4.55]"
      ]
     },
     "execution_count": 18,
     "metadata": {},
     "output_type": "execute_result"
    }
   ],
   "source": [
    "li[0:]"
   ]
  },
  {
   "cell_type": "markdown",
   "id": "f5cc6276",
   "metadata": {},
   "source": [
    "### Inserting And Appending Elements In a List"
   ]
  },
  {
   "cell_type": "code",
   "execution_count": 28,
   "id": "944d06f9",
   "metadata": {},
   "outputs": [],
   "source": [
    "li.append(\"shivam\")"
   ]
  },
  {
   "cell_type": "code",
   "execution_count": 30,
   "id": "490193f1",
   "metadata": {},
   "outputs": [
    {
     "data": {
      "text/plain": [
       "[1, 2, 'shambho', 4.55, 'shivam', 'shivam', 'shivam', 'shivam']"
      ]
     },
     "execution_count": 30,
     "metadata": {},
     "output_type": "execute_result"
    }
   ],
   "source": [
    "li"
   ]
  },
  {
   "cell_type": "code",
   "execution_count": 32,
   "id": "8e6acd19",
   "metadata": {},
   "outputs": [],
   "source": [
    "li.insert(1,'shiv')"
   ]
  },
  {
   "cell_type": "code",
   "execution_count": 34,
   "id": "644830cc",
   "metadata": {},
   "outputs": [
    {
     "data": {
      "text/plain": [
       "[1, 'shiv', 'shiv', 2, 'shambho', 4.55, 'shivam', 'shivam', 'shivam', 'shivam']"
      ]
     },
     "execution_count": 34,
     "metadata": {},
     "output_type": "execute_result"
    }
   ],
   "source": [
    "li"
   ]
  },
  {
   "cell_type": "code",
   "execution_count": 35,
   "id": "95eb53e8",
   "metadata": {},
   "outputs": [],
   "source": [
    "li.insert(4,5)"
   ]
  },
  {
   "cell_type": "code",
   "execution_count": 37,
   "id": "fcc20c7c",
   "metadata": {},
   "outputs": [
    {
     "data": {
      "text/plain": [
       "[1,\n",
       " 'shiv',\n",
       " 'shiv',\n",
       " 2,\n",
       " 5,\n",
       " 'shambho',\n",
       " 4.55,\n",
       " 'shivam',\n",
       " 'shivam',\n",
       " 'shivam',\n",
       " 'shivam']"
      ]
     },
     "execution_count": 37,
     "metadata": {},
     "output_type": "execute_result"
    }
   ],
   "source": [
    "li"
   ]
  },
  {
   "cell_type": "code",
   "execution_count": 38,
   "id": "77dfe9c0",
   "metadata": {},
   "outputs": [],
   "source": [
    "li.append([5,10,4])"
   ]
  },
  {
   "cell_type": "code",
   "execution_count": 40,
   "id": "64c77200",
   "metadata": {},
   "outputs": [
    {
     "data": {
      "text/plain": [
       "[1,\n",
       " 'shiv',\n",
       " 'shiv',\n",
       " 2,\n",
       " 5,\n",
       " 'shambho',\n",
       " 4.55,\n",
       " 'shivam',\n",
       " 'shivam',\n",
       " 'shivam',\n",
       " 'shivam',\n",
       " [5, 10, 4]]"
      ]
     },
     "execution_count": 40,
     "metadata": {},
     "output_type": "execute_result"
    }
   ],
   "source": [
    "li"
   ]
  },
  {
   "cell_type": "markdown",
   "id": "57ce0b1a",
   "metadata": {},
   "source": [
    "### Extending in a list"
   ]
  },
  {
   "cell_type": "code",
   "execution_count": 41,
   "id": "f1098369",
   "metadata": {},
   "outputs": [],
   "source": [
    "li.extend([3,2,'rudra'])"
   ]
  },
  {
   "cell_type": "code",
   "execution_count": 44,
   "id": "8faaa2e2",
   "metadata": {},
   "outputs": [
    {
     "data": {
      "text/plain": [
       "[1,\n",
       " 'shiv',\n",
       " 'shiv',\n",
       " 2,\n",
       " 5,\n",
       " 'shambho',\n",
       " 4.55,\n",
       " 'shivam',\n",
       " 'shivam',\n",
       " 'shivam',\n",
       " 'shivam',\n",
       " [5, 10, 4],\n",
       " 3,\n",
       " 2,\n",
       " 'rudra']"
      ]
     },
     "execution_count": 44,
     "metadata": {},
     "output_type": "execute_result"
    }
   ],
   "source": [
    "li"
   ]
  },
  {
   "cell_type": "markdown",
   "id": "dc600ba5",
   "metadata": {},
   "source": [
    "### Removing elements from a list"
   ]
  },
  {
   "cell_type": "code",
   "execution_count": 45,
   "id": "fbf1511c",
   "metadata": {},
   "outputs": [],
   "source": [
    "li.remove(2)"
   ]
  },
  {
   "cell_type": "code",
   "execution_count": 47,
   "id": "4b31a982",
   "metadata": {},
   "outputs": [
    {
     "data": {
      "text/plain": [
       "[1,\n",
       " 'shiv',\n",
       " 'shiv',\n",
       " 5,\n",
       " 'shambho',\n",
       " 4.55,\n",
       " 'shivam',\n",
       " 'shivam',\n",
       " 'shivam',\n",
       " 'shivam',\n",
       " [5, 10, 4],\n",
       " 3,\n",
       " 2,\n",
       " 'rudra']"
      ]
     },
     "execution_count": 47,
     "metadata": {},
     "output_type": "execute_result"
    }
   ],
   "source": [
    "li"
   ]
  },
  {
   "cell_type": "code",
   "execution_count": 49,
   "id": "3d1baf8e",
   "metadata": {},
   "outputs": [],
   "source": [
    "li.remove('shivam')"
   ]
  },
  {
   "cell_type": "code",
   "execution_count": 51,
   "id": "c07dd3c3",
   "metadata": {},
   "outputs": [
    {
     "data": {
      "text/plain": [
       "[1,\n",
       " 'shiv',\n",
       " 'shiv',\n",
       " 5,\n",
       " 'shambho',\n",
       " 4.55,\n",
       " 'shivam',\n",
       " 'shivam',\n",
       " 'shivam',\n",
       " [5, 10, 4],\n",
       " 3,\n",
       " 2,\n",
       " 'rudra']"
      ]
     },
     "execution_count": 51,
     "metadata": {},
     "output_type": "execute_result"
    }
   ],
   "source": [
    "li"
   ]
  },
  {
   "cell_type": "code",
   "execution_count": 52,
   "id": "8c290a5b",
   "metadata": {},
   "outputs": [],
   "source": [
    "li.remove('shivam')"
   ]
  },
  {
   "cell_type": "code",
   "execution_count": 54,
   "id": "562551f0",
   "metadata": {},
   "outputs": [
    {
     "data": {
      "text/plain": [
       "[1,\n",
       " 'shiv',\n",
       " 'shiv',\n",
       " 5,\n",
       " 'shambho',\n",
       " 4.55,\n",
       " 'shivam',\n",
       " 'shivam',\n",
       " [5, 10, 4],\n",
       " 3,\n",
       " 2,\n",
       " 'rudra']"
      ]
     },
     "execution_count": 54,
     "metadata": {},
     "output_type": "execute_result"
    }
   ],
   "source": [
    "li"
   ]
  },
  {
   "cell_type": "code",
   "execution_count": 55,
   "id": "553ffd5d",
   "metadata": {},
   "outputs": [
    {
     "data": {
      "text/plain": [
       "'rudra'"
      ]
     },
     "execution_count": 55,
     "metadata": {},
     "output_type": "execute_result"
    }
   ],
   "source": [
    "li.pop()"
   ]
  },
  {
   "cell_type": "code",
   "execution_count": 57,
   "id": "aa02b511",
   "metadata": {},
   "outputs": [
    {
     "data": {
      "text/plain": [
       "[1, 'shiv', 'shiv', 5, 'shambho', 4.55, 'shivam', 'shivam', [5, 10, 4], 3, 2]"
      ]
     },
     "execution_count": 57,
     "metadata": {},
     "output_type": "execute_result"
    }
   ],
   "source": [
    "li"
   ]
  },
  {
   "cell_type": "code",
   "execution_count": 58,
   "id": "979457fe",
   "metadata": {},
   "outputs": [
    {
     "data": {
      "text/plain": [
       "'shiv'"
      ]
     },
     "execution_count": 58,
     "metadata": {},
     "output_type": "execute_result"
    }
   ],
   "source": [
    "li.pop(2)"
   ]
  },
  {
   "cell_type": "code",
   "execution_count": 60,
   "id": "e82a2869",
   "metadata": {},
   "outputs": [
    {
     "data": {
      "text/plain": [
       "[1, 'shiv', 5, 'shambho', 4.55, 'shivam', 'shivam', [5, 10, 4], 3, 2]"
      ]
     },
     "execution_count": 60,
     "metadata": {},
     "output_type": "execute_result"
    }
   ],
   "source": [
    "li"
   ]
  },
  {
   "cell_type": "code",
   "execution_count": 61,
   "id": "bd3e9629",
   "metadata": {},
   "outputs": [
    {
     "data": {
      "text/plain": [
       "'shivam'"
      ]
     },
     "execution_count": 61,
     "metadata": {},
     "output_type": "execute_result"
    }
   ],
   "source": [
    "li.pop(6)"
   ]
  },
  {
   "cell_type": "code",
   "execution_count": 63,
   "id": "4c1ad652",
   "metadata": {},
   "outputs": [
    {
     "data": {
      "text/plain": [
       "[1, 'shiv', 5, 'shambho', 4.55, 'shivam', [5, 10, 4], 3, 2]"
      ]
     },
     "execution_count": 63,
     "metadata": {},
     "output_type": "execute_result"
    }
   ],
   "source": [
    "li"
   ]
  },
  {
   "cell_type": "code",
   "execution_count": 65,
   "id": "05cc9a69",
   "metadata": {},
   "outputs": [
    {
     "data": {
      "text/plain": [
       "list"
      ]
     },
     "execution_count": 65,
     "metadata": {},
     "output_type": "execute_result"
    }
   ],
   "source": [
    "type(li)"
   ]
  },
  {
   "cell_type": "code",
   "execution_count": 67,
   "id": "25887ebb",
   "metadata": {},
   "outputs": [
    {
     "data": {
      "text/plain": [
       "9"
      ]
     },
     "execution_count": 67,
     "metadata": {},
     "output_type": "execute_result"
    }
   ],
   "source": [
    "len(li)"
   ]
  },
  {
   "cell_type": "markdown",
   "id": "b157694c",
   "metadata": {},
   "source": [
    "### Accessing and Changing Elements in a list"
   ]
  },
  {
   "cell_type": "code",
   "execution_count": 68,
   "id": "c4165971",
   "metadata": {},
   "outputs": [],
   "source": [
    "li[0] = 5"
   ]
  },
  {
   "cell_type": "code",
   "execution_count": 70,
   "id": "d1fd7364",
   "metadata": {},
   "outputs": [
    {
     "data": {
      "text/plain": [
       "[5, 'shiv', 5, 'shambho', 4.55, 'shivam', [5, 10, 4], 3, 2]"
      ]
     },
     "execution_count": 70,
     "metadata": {},
     "output_type": "execute_result"
    }
   ],
   "source": [
    "li"
   ]
  },
  {
   "cell_type": "code",
   "execution_count": 71,
   "id": "abf56972",
   "metadata": {},
   "outputs": [],
   "source": [
    "li[6][1] = 11 "
   ]
  },
  {
   "cell_type": "code",
   "execution_count": 73,
   "id": "cd3ea419",
   "metadata": {},
   "outputs": [
    {
     "data": {
      "text/plain": [
       "[5, 'shiv', 5, 'shambho', 4.55, 'shivam', [5, 11, 4], 3, 2]"
      ]
     },
     "execution_count": 73,
     "metadata": {},
     "output_type": "execute_result"
    }
   ],
   "source": [
    "li"
   ]
  },
  {
   "cell_type": "code",
   "execution_count": 74,
   "id": "af10f389",
   "metadata": {},
   "outputs": [],
   "source": [
    "li[6] = 8"
   ]
  },
  {
   "cell_type": "code",
   "execution_count": 76,
   "id": "f8c03a36",
   "metadata": {},
   "outputs": [
    {
     "data": {
      "text/plain": [
       "[5, 'shiv', 5, 'shambho', 4.55, 'shivam', 8, 3, 2]"
      ]
     },
     "execution_count": 76,
     "metadata": {},
     "output_type": "execute_result"
    }
   ],
   "source": [
    "li"
   ]
  },
  {
   "cell_type": "code",
   "execution_count": 77,
   "id": "3a8db0fe",
   "metadata": {},
   "outputs": [
    {
     "data": {
      "text/plain": [
       "'shivam'"
      ]
     },
     "execution_count": 77,
     "metadata": {},
     "output_type": "execute_result"
    }
   ],
   "source": [
    "li[5]"
   ]
  },
  {
   "cell_type": "markdown",
   "id": "acfe8747",
   "metadata": {},
   "source": [
    "### Loops in List"
   ]
  },
  {
   "cell_type": "code",
   "execution_count": 78,
   "id": "21337d8e",
   "metadata": {},
   "outputs": [],
   "source": [
    "li = [1 , 2 , 'shambho', 5 ,9.55 , 'shiv']"
   ]
  },
  {
   "cell_type": "code",
   "execution_count": 80,
   "id": "79e39c2a",
   "metadata": {},
   "outputs": [
    {
     "name": "stdout",
     "output_type": "stream",
     "text": [
      "1\n",
      "2\n",
      "shambho\n",
      "5\n",
      "9.55\n",
      "shiv\n"
     ]
    }
   ],
   "source": [
    "for i in range(len(li)):\n",
    "    print(li[i])"
   ]
  },
  {
   "cell_type": "code",
   "execution_count": 83,
   "id": "e6329fc3",
   "metadata": {},
   "outputs": [
    {
     "name": "stdout",
     "output_type": "stream",
     "text": [
      "shambho\n",
      "5\n",
      "9.55\n",
      "shiv\n"
     ]
    }
   ],
   "source": [
    "for i in range(2,len(li)):\n",
    "    print(li[i])"
   ]
  },
  {
   "cell_type": "code",
   "execution_count": 85,
   "id": "85a36c26",
   "metadata": {},
   "outputs": [
    {
     "name": "stdout",
     "output_type": "stream",
     "text": [
      "1\n",
      "2\n",
      "shambho\n",
      "5\n",
      "9.55\n",
      "shiv\n"
     ]
    }
   ],
   "source": [
    "for elem in li:\n",
    "    print(elem)"
   ]
  },
  {
   "cell_type": "code",
   "execution_count": 87,
   "id": "5cc020e7",
   "metadata": {},
   "outputs": [
    {
     "name": "stdout",
     "output_type": "stream",
     "text": [
      "2\n",
      "shambho\n",
      "5\n",
      "9.55\n",
      "shiv\n"
     ]
    }
   ],
   "source": [
    "for elem in li[1:]:\n",
    "    print(elem)"
   ]
  },
  {
   "cell_type": "code",
   "execution_count": 89,
   "id": "6bdf2cc3",
   "metadata": {},
   "outputs": [
    {
     "name": "stdout",
     "output_type": "stream",
     "text": [
      "1\n",
      "2\n"
     ]
    }
   ],
   "source": [
    "for elem in li[:2]:\n",
    "    print(elem)"
   ]
  },
  {
   "cell_type": "markdown",
   "id": "6e927725",
   "metadata": {},
   "source": [
    "### Negative Indexing And Sequencing Of a List"
   ]
  },
  {
   "cell_type": "code",
   "execution_count": 95,
   "id": "2f17d91d",
   "metadata": {},
   "outputs": [],
   "source": [
    "li = [1,2,3,4,5]\n"
   ]
  },
  {
   "cell_type": "code",
   "execution_count": 97,
   "id": "efaf8a9b",
   "metadata": {},
   "outputs": [
    {
     "data": {
      "text/plain": [
       "[1, 2, 3, 4, 5]"
      ]
     },
     "execution_count": 97,
     "metadata": {},
     "output_type": "execute_result"
    }
   ],
   "source": [
    "li"
   ]
  },
  {
   "cell_type": "code",
   "execution_count": 99,
   "id": "84546bb1",
   "metadata": {},
   "outputs": [
    {
     "data": {
      "text/plain": [
       "5"
      ]
     },
     "execution_count": 99,
     "metadata": {},
     "output_type": "execute_result"
    }
   ],
   "source": [
    "li[-1]"
   ]
  },
  {
   "cell_type": "code",
   "execution_count": 101,
   "id": "21248ff1",
   "metadata": {},
   "outputs": [
    {
     "data": {
      "text/plain": [
       "[1, 2, 3, 4]"
      ]
     },
     "execution_count": 101,
     "metadata": {},
     "output_type": "execute_result"
    }
   ],
   "source": [
    "li[:-1]"
   ]
  },
  {
   "cell_type": "code",
   "execution_count": 103,
   "id": "1a8335d2",
   "metadata": {},
   "outputs": [
    {
     "data": {
      "text/plain": [
       "[]"
      ]
     },
     "execution_count": 103,
     "metadata": {},
     "output_type": "execute_result"
    }
   ],
   "source": [
    "li[-1:-3]"
   ]
  },
  {
   "cell_type": "code",
   "execution_count": 105,
   "id": "445c20a8",
   "metadata": {},
   "outputs": [
    {
     "data": {
      "text/plain": [
       "[2, 3]"
      ]
     },
     "execution_count": 105,
     "metadata": {},
     "output_type": "execute_result"
    }
   ],
   "source": [
    "li[-4:-2]"
   ]
  },
  {
   "cell_type": "code",
   "execution_count": 107,
   "id": "09a7f699",
   "metadata": {},
   "outputs": [
    {
     "data": {
      "text/plain": [
       "[2, 4]"
      ]
     },
     "execution_count": 107,
     "metadata": {},
     "output_type": "execute_result"
    }
   ],
   "source": [
    "li[1:5:2]"
   ]
  },
  {
   "cell_type": "code",
   "execution_count": 109,
   "id": "b7755075",
   "metadata": {},
   "outputs": [
    {
     "data": {
      "text/plain": [
       "[1, 3, 5]"
      ]
     },
     "execution_count": 109,
     "metadata": {},
     "output_type": "execute_result"
    }
   ],
   "source": [
    "li[::2]"
   ]
  },
  {
   "cell_type": "code",
   "execution_count": 111,
   "id": "f8325029",
   "metadata": {},
   "outputs": [
    {
     "data": {
      "text/plain": [
       "[1, 3, 5]"
      ]
     },
     "execution_count": 111,
     "metadata": {},
     "output_type": "execute_result"
    }
   ],
   "source": [
    "li[0::2]"
   ]
  },
  {
   "cell_type": "code",
   "execution_count": 114,
   "id": "7996136a",
   "metadata": {},
   "outputs": [
    {
     "data": {
      "text/plain": [
       "[2]"
      ]
     },
     "execution_count": 114,
     "metadata": {},
     "output_type": "execute_result"
    }
   ],
   "source": [
    "li[1::4]"
   ]
  },
  {
   "cell_type": "code",
   "execution_count": 1,
   "id": "abbfe970",
   "metadata": {},
   "outputs": [],
   "source": [
    "# list li[start:end:step] just same as range in for loops and by default start is 1 and end is length of list and step is 1"
   ]
  },
  {
   "cell_type": "markdown",
   "id": "3ee35f34",
   "metadata": {},
   "source": [
    "### Concatenation in arrays"
   ]
  },
  {
   "cell_type": "code",
   "execution_count": 2,
   "id": "bf9aef3d",
   "metadata": {},
   "outputs": [
    {
     "data": {
      "text/plain": [
       "[2, 3, 45, 6, 31, 65, 0, 1]"
      ]
     },
     "execution_count": 2,
     "metadata": {},
     "output_type": "execute_result"
    }
   ],
   "source": [
    "\n",
    "arr = [0,1,2,3,45,6,31,65]\n",
    "d = 2\n",
    "n = 8\n",
    "arr = arr[2:8] + arr[0:2]\n",
    "arr"
   ]
  },
  {
   "cell_type": "markdown",
   "id": "c3017cc0",
   "metadata": {},
   "source": [
    "### Line Separated Input of List"
   ]
  },
  {
   "cell_type": "code",
   "execution_count": 119,
   "id": "bb536727",
   "metadata": {},
   "outputs": [
    {
     "name": "stdout",
     "output_type": "stream",
     "text": [
      "5\n",
      "4\n",
      "2\n",
      "2\n",
      "2\n",
      "2\n"
     ]
    }
   ],
   "source": [
    "n = int(input())\n",
    "li = []\n",
    "for i in range(n):\n",
    "    inp = int(input())\n",
    "    li.append(inp)"
   ]
  },
  {
   "cell_type": "code",
   "execution_count": 121,
   "id": "4d73c676",
   "metadata": {},
   "outputs": [
    {
     "data": {
      "text/plain": [
       "[4, 2, 2, 2, 2]"
      ]
     },
     "execution_count": 121,
     "metadata": {},
     "output_type": "execute_result"
    }
   ],
   "source": [
    "li"
   ]
  },
  {
   "cell_type": "code",
   "execution_count": 123,
   "id": "2f0ad0bf",
   "metadata": {},
   "outputs": [
    {
     "name": "stdout",
     "output_type": "stream",
     "text": [
      "5\n",
      "4 \n",
      " 5 \n",
      " 5 \n",
      " 5 \n",
      " 4 \n",
      "23\n"
     ]
    }
   ],
   "source": [
    "n = int(input())\n",
    "li = []\n",
    "arr_sum = 0\n",
    "for i in range(n):\n",
    "    inp = int(input())\n",
    "    li.append(inp)\n",
    "    arr_sum = arr_sum + li[i]\n",
    "print(arr_sum)"
   ]
  },
  {
   "cell_type": "code",
   "execution_count": 126,
   "id": "6c11bae5",
   "metadata": {},
   "outputs": [
    {
     "ename": "KeyboardInterrupt",
     "evalue": "Interrupted by user",
     "output_type": "error",
     "traceback": [
      "\u001b[1;31m---------------------------------------------------------------------------\u001b[0m",
      "\u001b[1;31mKeyboardInterrupt\u001b[0m                         Traceback (most recent call last)",
      "\u001b[1;32m<ipython-input-126-f2e5bebd2d37>\u001b[0m in \u001b[0;36m<module>\u001b[1;34m\u001b[0m\n\u001b[1;32m----> 1\u001b[1;33m \u001b[0mn\u001b[0m \u001b[1;33m=\u001b[0m \u001b[0mint\u001b[0m\u001b[1;33m(\u001b[0m\u001b[0minput\u001b[0m\u001b[1;33m(\u001b[0m\u001b[1;33m)\u001b[0m\u001b[1;33m)\u001b[0m\u001b[1;33m\u001b[0m\u001b[1;33m\u001b[0m\u001b[0m\n\u001b[0m\u001b[0;32m      2\u001b[0m \u001b[0mli\u001b[0m \u001b[1;33m=\u001b[0m \u001b[1;33m[\u001b[0m\u001b[0mint\u001b[0m\u001b[1;33m(\u001b[0m\u001b[0mx\u001b[0m\u001b[1;33m)\u001b[0m \u001b[1;32mfor\u001b[0m \u001b[0mx\u001b[0m \u001b[1;32min\u001b[0m \u001b[0minput\u001b[0m\u001b[1;33m(\u001b[0m\u001b[1;33m)\u001b[0m\u001b[1;33m.\u001b[0m\u001b[0msplit\u001b[0m\u001b[1;33m(\u001b[0m\u001b[1;33m)\u001b[0m\u001b[1;33m]\u001b[0m\u001b[1;33m\u001b[0m\u001b[1;33m\u001b[0m\u001b[0m\n\u001b[0;32m      3\u001b[0m \u001b[0marr_sum\u001b[0m \u001b[1;33m=\u001b[0m \u001b[1;36m0\u001b[0m\u001b[1;33m\u001b[0m\u001b[1;33m\u001b[0m\u001b[0m\n\u001b[0;32m      4\u001b[0m \u001b[1;32mfor\u001b[0m \u001b[0mi\u001b[0m \u001b[1;32min\u001b[0m \u001b[0mli\u001b[0m\u001b[1;33m:\u001b[0m\u001b[1;33m\u001b[0m\u001b[1;33m\u001b[0m\u001b[0m\n\u001b[0;32m      5\u001b[0m     \u001b[0marr_sum\u001b[0m \u001b[1;33m=\u001b[0m \u001b[0marr_sum\u001b[0m \u001b[1;33m+\u001b[0m \u001b[0mi\u001b[0m\u001b[1;33m\u001b[0m\u001b[1;33m\u001b[0m\u001b[0m\n",
      "\u001b[1;32mF:\\anaconda\\lib\\site-packages\\ipykernel\\kernelbase.py\u001b[0m in \u001b[0;36mraw_input\u001b[1;34m(self, prompt)\u001b[0m\n\u001b[0;32m    858\u001b[0m                 \u001b[1;34m\"raw_input was called, but this frontend does not support input requests.\"\u001b[0m\u001b[1;33m\u001b[0m\u001b[1;33m\u001b[0m\u001b[0m\n\u001b[0;32m    859\u001b[0m             )\n\u001b[1;32m--> 860\u001b[1;33m         return self._input_request(str(prompt),\n\u001b[0m\u001b[0;32m    861\u001b[0m             \u001b[0mself\u001b[0m\u001b[1;33m.\u001b[0m\u001b[0m_parent_ident\u001b[0m\u001b[1;33m,\u001b[0m\u001b[1;33m\u001b[0m\u001b[1;33m\u001b[0m\u001b[0m\n\u001b[0;32m    862\u001b[0m             \u001b[0mself\u001b[0m\u001b[1;33m.\u001b[0m\u001b[0m_parent_header\u001b[0m\u001b[1;33m,\u001b[0m\u001b[1;33m\u001b[0m\u001b[1;33m\u001b[0m\u001b[0m\n",
      "\u001b[1;32mF:\\anaconda\\lib\\site-packages\\ipykernel\\kernelbase.py\u001b[0m in \u001b[0;36m_input_request\u001b[1;34m(self, prompt, ident, parent, password)\u001b[0m\n\u001b[0;32m    902\u001b[0m             \u001b[1;32mexcept\u001b[0m \u001b[0mKeyboardInterrupt\u001b[0m\u001b[1;33m:\u001b[0m\u001b[1;33m\u001b[0m\u001b[1;33m\u001b[0m\u001b[0m\n\u001b[0;32m    903\u001b[0m                 \u001b[1;31m# re-raise KeyboardInterrupt, to truncate traceback\u001b[0m\u001b[1;33m\u001b[0m\u001b[1;33m\u001b[0m\u001b[1;33m\u001b[0m\u001b[0m\n\u001b[1;32m--> 904\u001b[1;33m                 \u001b[1;32mraise\u001b[0m \u001b[0mKeyboardInterrupt\u001b[0m\u001b[1;33m(\u001b[0m\u001b[1;34m\"Interrupted by user\"\u001b[0m\u001b[1;33m)\u001b[0m \u001b[1;32mfrom\u001b[0m \u001b[1;32mNone\u001b[0m\u001b[1;33m\u001b[0m\u001b[1;33m\u001b[0m\u001b[0m\n\u001b[0m\u001b[0;32m    905\u001b[0m             \u001b[1;32mexcept\u001b[0m \u001b[0mException\u001b[0m \u001b[1;32mas\u001b[0m \u001b[0me\u001b[0m\u001b[1;33m:\u001b[0m\u001b[1;33m\u001b[0m\u001b[1;33m\u001b[0m\u001b[0m\n\u001b[0;32m    906\u001b[0m                 \u001b[0mself\u001b[0m\u001b[1;33m.\u001b[0m\u001b[0mlog\u001b[0m\u001b[1;33m.\u001b[0m\u001b[0mwarning\u001b[0m\u001b[1;33m(\u001b[0m\u001b[1;34m\"Invalid Message:\"\u001b[0m\u001b[1;33m,\u001b[0m \u001b[0mexc_info\u001b[0m\u001b[1;33m=\u001b[0m\u001b[1;32mTrue\u001b[0m\u001b[1;33m)\u001b[0m\u001b[1;33m\u001b[0m\u001b[1;33m\u001b[0m\u001b[0m\n",
      "\u001b[1;31mKeyboardInterrupt\u001b[0m: Interrupted by user"
     ]
    }
   ],
   "source": [
    "n = int(input())\n",
    "li = [int(x) for x in input().split()]\n",
    "arr_sum = 0\n",
    "for i in li:\n",
    "    arr_sum = arr_sum + i\n",
    "print(arr_sum)"
   ]
  },
  {
   "cell_type": "markdown",
   "id": "d71878f6",
   "metadata": {},
   "source": [
    "### Linear Search"
   ]
  },
  {
   "cell_type": "code",
   "execution_count": 136,
   "id": "891305c3",
   "metadata": {},
   "outputs": [
    {
     "name": "stdout",
     "output_type": "stream",
     "text": [
      "5\n",
      "4 5 6 4 5\n",
      "7\n",
      "-1\n"
     ]
    }
   ],
   "source": [
    "n = int(input())\n",
    "li = [int(x) for x in input().split()]\n",
    "elem = int(input())\n",
    "isFound = False\n",
    "for i in range(len(li)):\n",
    "        if li[i] == elem:\n",
    "            print(i)\n",
    "            isFound = True\n",
    "            break\n",
    "if isFound is False:\n",
    "    print(-1)\n",
    "        "
   ]
  },
  {
   "cell_type": "markdown",
   "id": "e18365dc",
   "metadata": {},
   "source": [
    "### Linear Search through Functions"
   ]
  },
  {
   "cell_type": "code",
   "execution_count": 143,
   "id": "70e90ab8",
   "metadata": {},
   "outputs": [
    {
     "name": "stdout",
     "output_type": "stream",
     "text": [
      "1 23 16 54 64 32 12035 165\n",
      "23\n",
      "1\n"
     ]
    }
   ],
   "source": [
    "def linear_search(li,elem):\n",
    "    for i in range(len(li)):\n",
    "        if elem == li[i]:\n",
    "            print(i)\n",
    "            return i\n",
    "            break\n",
    "    return - 1\n",
    "\n",
    "li = [int(x) for x in input().split()]\n",
    "elem = int(input())\n",
    "index = linear_search(li,elem)\n"
   ]
  },
  {
   "cell_type": "code",
   "execution_count": 145,
   "id": "a0de30bf",
   "metadata": {},
   "outputs": [],
   "source": [
    "### Immutable Concept for variables that change in one variable doesn't reflect in another variable if one variable is equal to another that we assigned"
   ]
  },
  {
   "cell_type": "markdown",
   "id": "34794364",
   "metadata": {},
   "source": [
    "### Immutable Concept"
   ]
  },
  {
   "cell_type": "code",
   "execution_count": 147,
   "id": "6c939997",
   "metadata": {},
   "outputs": [
    {
     "name": "stdout",
     "output_type": "stream",
     "text": [
      "64\n",
      "64\n",
      "64\n",
      "5\n"
     ]
    }
   ],
   "source": [
    "a = 64\n",
    "print(a)\n",
    "x = a\n",
    "print(x)\n",
    "a = 5\n",
    "print(x)\n",
    "print(a)"
   ]
  },
  {
   "cell_type": "markdown",
   "id": "5c489a29",
   "metadata": {},
   "source": [
    "### Mutable Concept"
   ]
  },
  {
   "cell_type": "code",
   "execution_count": 148,
   "id": "ada5c1d3",
   "metadata": {},
   "outputs": [],
   "source": [
    "# Mutable Concept for lists is change in one list reflects in another list too if one list is equal to another"
   ]
  },
  {
   "cell_type": "code",
   "execution_count": 150,
   "id": "b88f985b",
   "metadata": {},
   "outputs": [
    {
     "name": "stdout",
     "output_type": "stream",
     "text": [
      "[1, 2, 3, 4, 5, 55, 48, 8]\n",
      "[1, 2, 3, 4, 5, 55, 48, 8]\n"
     ]
    }
   ],
   "source": [
    "li = [ 1,2,3,4,5,6,48,8]\n",
    "li2 = li \n",
    "li[5] = 55\n",
    "print(li)\n",
    "print(li2)"
   ]
  },
  {
   "cell_type": "code",
   "execution_count": 153,
   "id": "44f8978e",
   "metadata": {},
   "outputs": [
    {
     "name": "stdout",
     "output_type": "stream",
     "text": [
      "['krishna', 'radha', 'shambho', 5, 45, 55]\n",
      "['krishna', 'radha', 'shambho', 5, 45, 55]\n",
      "['krishna', 'radha', 'shambho', 5, 45, 55]\n",
      "[3, 3, 4]\n"
     ]
    }
   ],
   "source": [
    "li = ['krishna' , 'radha', 'shambho', 5 , 45 , 55]\n",
    "li2 = li \n",
    "print(li)\n",
    "print(li2)\n",
    "li2 = [3,3,4]\n",
    "print(li)\n",
    "print(li2)"
   ]
  },
  {
   "cell_type": "markdown",
   "id": "080308a8",
   "metadata": {},
   "source": [
    "### Passing Variables through Functions"
   ]
  },
  {
   "cell_type": "code",
   "execution_count": 161,
   "id": "7aa895c0",
   "metadata": {},
   "outputs": [
    {
     "name": "stdout",
     "output_type": "stream",
     "text": [
      "2\n"
     ]
    }
   ],
   "source": [
    "def increment(a_increment):\n",
    "    a_increment = a_increment + 2\n",
    "    return a_increment\n",
    "a_main = 2\n",
    "increment(a_main)\n",
    "print(a_main)"
   ]
  },
  {
   "cell_type": "code",
   "execution_count": null,
   "id": "d3beb27b",
   "metadata": {},
   "outputs": [],
   "source": [
    "#difference between two codes\n"
   ]
  },
  {
   "cell_type": "code",
   "execution_count": 163,
   "id": "64a618d0",
   "metadata": {},
   "outputs": [
    {
     "name": "stdout",
     "output_type": "stream",
     "text": [
      "4\n"
     ]
    }
   ],
   "source": [
    "def increment(a_increment):\n",
    "    a_increment = a_increment + 2\n",
    "    return a_increment\n",
    "a_main = 2\n",
    "a_main = increment(a_main)\n",
    "print(a_main)"
   ]
  },
  {
   "cell_type": "markdown",
   "id": "bec6e67a",
   "metadata": {},
   "source": [
    "### Passing list through Functions"
   ]
  },
  {
   "cell_type": "code",
   "execution_count": 165,
   "id": "07ce3a70",
   "metadata": {},
   "outputs": [
    {
     "name": "stdout",
     "output_type": "stream",
     "text": [
      "[3, 2, 3, 4, 5]\n"
     ]
    }
   ],
   "source": [
    "def increment(li):\n",
    "    li[0] = li[0] + 2\n",
    "    return\n",
    "li = [1,2,3,4,5]\n",
    "increment(li)\n",
    "print(li)"
   ]
  },
  {
   "cell_type": "code",
   "execution_count": 175,
   "id": "3835bf17",
   "metadata": {},
   "outputs": [
    {
     "name": "stdout",
     "output_type": "stream",
     "text": [
      "[3, 3, 4]\n"
     ]
    }
   ],
   "source": [
    "def increment(li):\n",
    "    # li [0] = li[0] + 2\n",
    "    li = [3,3,4]\n",
    "    return li\n",
    "li = [1,2,3,4,5]\n",
    "li = increment(li)\n",
    "print(li)"
   ]
  },
  {
   "cell_type": "markdown",
   "id": "c5bc5711",
   "metadata": {},
   "source": [
    " ### Reversing A list"
   ]
  },
  {
   "cell_type": "code",
   "execution_count": 213,
   "id": "84ef6e01",
   "metadata": {},
   "outputs": [
    {
     "data": {
      "text/plain": [
       "[6, 45, 3, 2, 1]"
      ]
     },
     "execution_count": 213,
     "metadata": {},
     "output_type": "execute_result"
    }
   ],
   "source": [
    "def reverse_list(li):\n",
    "    for i in range(len(li) // 2):\n",
    "        li[i], li[len(li) - 1 - i] = li[len(li) - 1 - i], li[i]\n",
    "        #li[len(li) - 1 - i] = temp\n",
    "li = [1,2,3,45,6]\n",
    "reverse_list(li)\n",
    "li"
   ]
  },
  {
   "cell_type": "code",
   "execution_count": 215,
   "id": "45384955",
   "metadata": {},
   "outputs": [
    {
     "data": {
      "text/plain": [
       "[6, 45, 3, 2, 1]"
      ]
     },
     "execution_count": 215,
     "metadata": {},
     "output_type": "execute_result"
    }
   ],
   "source": [
    "def reverse_list(li):\n",
    "    for i in range(len(li) // 2):\n",
    "        li[i], li[- 1 - i] = li[- 1 - i], li[i]\n",
    "        #li[len(li) - 1 - i] = temp\n",
    "li = [1,2,3,45,6]\n",
    "reverse_list(li)\n",
    "li"
   ]
  },
  {
   "cell_type": "code",
   "execution_count": 218,
   "id": "b2ccd0fd",
   "metadata": {},
   "outputs": [
    {
     "data": {
      "text/plain": [
       "[46486, 6, 4567894, 3, 2, 1]"
      ]
     },
     "execution_count": 218,
     "metadata": {},
     "output_type": "execute_result"
    }
   ],
   "source": [
    "li = [1,2,3,4567894,6,46486]\n",
    "li[::-1]"
   ]
  },
  {
   "cell_type": "markdown",
   "id": "52d36c31",
   "metadata": {},
   "source": [
    "### Find Unique"
   ]
  },
  {
   "cell_type": "code",
   "execution_count": 233,
   "id": "4cbd013e",
   "metadata": {},
   "outputs": [
    {
     "ename": "KeyboardInterrupt",
     "evalue": "Interrupted by user",
     "output_type": "error",
     "traceback": [
      "\u001b[1;31m---------------------------------------------------------------------------\u001b[0m",
      "\u001b[1;31mKeyboardInterrupt\u001b[0m                         Traceback (most recent call last)",
      "\u001b[1;32m<ipython-input-233-00c1138ef1a1>\u001b[0m in \u001b[0;36m<module>\u001b[1;34m\u001b[0m\n\u001b[0;32m      9\u001b[0m             \u001b[1;32mbreak\u001b[0m\u001b[1;33m\u001b[0m\u001b[1;33m\u001b[0m\u001b[0m\n\u001b[0;32m     10\u001b[0m \u001b[1;33m\u001b[0m\u001b[0m\n\u001b[1;32m---> 11\u001b[1;33m \u001b[0mli\u001b[0m \u001b[1;33m=\u001b[0m \u001b[1;33m[\u001b[0m\u001b[0mint\u001b[0m\u001b[1;33m(\u001b[0m\u001b[0mx\u001b[0m\u001b[1;33m)\u001b[0m \u001b[1;32mfor\u001b[0m \u001b[0mx\u001b[0m \u001b[1;32min\u001b[0m \u001b[0minput\u001b[0m\u001b[1;33m(\u001b[0m\u001b[1;33m)\u001b[0m\u001b[1;33m.\u001b[0m\u001b[0msplit\u001b[0m\u001b[1;33m(\u001b[0m\u001b[1;33m)\u001b[0m\u001b[1;33m]\u001b[0m\u001b[1;33m\u001b[0m\u001b[1;33m\u001b[0m\u001b[0m\n\u001b[0m\u001b[0;32m     12\u001b[0m \u001b[0mn\u001b[0m \u001b[1;33m=\u001b[0m \u001b[0mint\u001b[0m\u001b[1;33m(\u001b[0m\u001b[0minput\u001b[0m\u001b[1;33m(\u001b[0m\u001b[1;33m)\u001b[0m\u001b[1;33m)\u001b[0m\u001b[1;33m\u001b[0m\u001b[1;33m\u001b[0m\u001b[0m\n\u001b[0;32m     13\u001b[0m \u001b[0mfindUnique\u001b[0m\u001b[1;33m(\u001b[0m\u001b[0mli\u001b[0m \u001b[1;33m,\u001b[0m \u001b[0mn\u001b[0m\u001b[1;33m)\u001b[0m\u001b[1;33m\u001b[0m\u001b[1;33m\u001b[0m\u001b[0m\n",
      "\u001b[1;32mF:\\anaconda\\lib\\site-packages\\ipykernel\\kernelbase.py\u001b[0m in \u001b[0;36mraw_input\u001b[1;34m(self, prompt)\u001b[0m\n\u001b[0;32m    858\u001b[0m                 \u001b[1;34m\"raw_input was called, but this frontend does not support input requests.\"\u001b[0m\u001b[1;33m\u001b[0m\u001b[1;33m\u001b[0m\u001b[0m\n\u001b[0;32m    859\u001b[0m             )\n\u001b[1;32m--> 860\u001b[1;33m         return self._input_request(str(prompt),\n\u001b[0m\u001b[0;32m    861\u001b[0m             \u001b[0mself\u001b[0m\u001b[1;33m.\u001b[0m\u001b[0m_parent_ident\u001b[0m\u001b[1;33m,\u001b[0m\u001b[1;33m\u001b[0m\u001b[1;33m\u001b[0m\u001b[0m\n\u001b[0;32m    862\u001b[0m             \u001b[0mself\u001b[0m\u001b[1;33m.\u001b[0m\u001b[0m_parent_header\u001b[0m\u001b[1;33m,\u001b[0m\u001b[1;33m\u001b[0m\u001b[1;33m\u001b[0m\u001b[0m\n",
      "\u001b[1;32mF:\\anaconda\\lib\\site-packages\\ipykernel\\kernelbase.py\u001b[0m in \u001b[0;36m_input_request\u001b[1;34m(self, prompt, ident, parent, password)\u001b[0m\n\u001b[0;32m    902\u001b[0m             \u001b[1;32mexcept\u001b[0m \u001b[0mKeyboardInterrupt\u001b[0m\u001b[1;33m:\u001b[0m\u001b[1;33m\u001b[0m\u001b[1;33m\u001b[0m\u001b[0m\n\u001b[0;32m    903\u001b[0m                 \u001b[1;31m# re-raise KeyboardInterrupt, to truncate traceback\u001b[0m\u001b[1;33m\u001b[0m\u001b[1;33m\u001b[0m\u001b[1;33m\u001b[0m\u001b[0m\n\u001b[1;32m--> 904\u001b[1;33m                 \u001b[1;32mraise\u001b[0m \u001b[0mKeyboardInterrupt\u001b[0m\u001b[1;33m(\u001b[0m\u001b[1;34m\"Interrupted by user\"\u001b[0m\u001b[1;33m)\u001b[0m \u001b[1;32mfrom\u001b[0m \u001b[1;32mNone\u001b[0m\u001b[1;33m\u001b[0m\u001b[1;33m\u001b[0m\u001b[0m\n\u001b[0m\u001b[0;32m    905\u001b[0m             \u001b[1;32mexcept\u001b[0m \u001b[0mException\u001b[0m \u001b[1;32mas\u001b[0m \u001b[0me\u001b[0m\u001b[1;33m:\u001b[0m\u001b[1;33m\u001b[0m\u001b[1;33m\u001b[0m\u001b[0m\n\u001b[0;32m    906\u001b[0m                 \u001b[0mself\u001b[0m\u001b[1;33m.\u001b[0m\u001b[0mlog\u001b[0m\u001b[1;33m.\u001b[0m\u001b[0mwarning\u001b[0m\u001b[1;33m(\u001b[0m\u001b[1;34m\"Invalid Message:\"\u001b[0m\u001b[1;33m,\u001b[0m \u001b[0mexc_info\u001b[0m\u001b[1;33m=\u001b[0m\u001b[1;32mTrue\u001b[0m\u001b[1;33m)\u001b[0m\u001b[1;33m\u001b[0m\u001b[1;33m\u001b[0m\u001b[0m\n",
      "\u001b[1;31mKeyboardInterrupt\u001b[0m: Interrupted by user"
     ]
    }
   ],
   "source": [
    "\n"
   ]
  },
  {
   "cell_type": "markdown",
   "id": "85e492db",
   "metadata": {},
   "source": [
    "### Find Duplicate"
   ]
  },
  {
   "cell_type": "code",
   "execution_count": null,
   "id": "647b28a9",
   "metadata": {},
   "outputs": [],
   "source": []
  },
  {
   "cell_type": "markdown",
   "id": "fab1346a",
   "metadata": {},
   "source": [
    "### Array Intersection"
   ]
  },
  {
   "cell_type": "code",
   "execution_count": null,
   "id": "b8f82752",
   "metadata": {},
   "outputs": [],
   "source": [
    "def arr_intersect(arr1,n1,arr2,n2):"
   ]
  }
 ],
 "metadata": {
  "kernelspec": {
   "display_name": "Python 3",
   "language": "python",
   "name": "python3"
  },
  "language_info": {
   "codemirror_mode": {
    "name": "ipython",
    "version": 3
   },
   "file_extension": ".py",
   "mimetype": "text/x-python",
   "name": "python",
   "nbconvert_exporter": "python",
   "pygments_lexer": "ipython3",
   "version": "3.8.8"
  }
 },
 "nbformat": 4,
 "nbformat_minor": 5
}
