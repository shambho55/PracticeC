{
 "cells": [
  {
   "cell_type": "markdown",
   "id": "a78266ab",
   "metadata": {},
   "source": [
    "### FirstPattern"
   ]
  },
  {
   "cell_type": "markdown",
   "id": "4794615b",
   "metadata": {},
   "source": [
    "****\n",
    "****\n",
    "****\n",
    "****\n"
   ]
  },
  {
   "cell_type": "code",
   "execution_count": null,
   "id": "a8a5367c",
   "metadata": {},
   "outputs": [
    {
     "name": "stdout",
     "output_type": "stream",
     "text": [
      "4\n"
     ]
    }
   ],
   "source": [
    "n = int(input())\n",
    "i = 1\n",
    "while i <= n :\n",
    "    j = 1\n",
    "    while j <= n :\n",
    "        print('*',end = '')\n",
    "        j = j + 1\n",
    "    print()\n",
    "    i = i + 1"
   ]
  },
  {
   "cell_type": "markdown",
   "id": "eb1f7ed6",
   "metadata": {},
   "source": [
    "N input pattern"
   ]
  },
  {
   "cell_type": "code",
   "execution_count": null,
   "id": "30859443",
   "metadata": {},
   "outputs": [],
   "source": [
    "n = int(input())\n",
    "i = 1\n",
    "while i <= n :\n",
    "    j = 1\n",
    "    while j <= n :\n",
    "        print(n, end = '')\n",
    "        j = j + 1\n",
    "    print()\n",
    "    i = i + 1"
   ]
  },
  {
   "cell_type": "code",
   "execution_count": null,
   "id": "74f90b6d",
   "metadata": {},
   "outputs": [],
   "source": [
    "n = int(input())\n",
    "i = 1\n",
    "while i <= n :\n",
    "    j = 1\n",
    "    while j <= n :\n",
    "        print(i, end = '')\n",
    "        j = j + 1\n",
    "    print()\n",
    "    i = i + 1"
   ]
  },
  {
   "cell_type": "code",
   "execution_count": null,
   "id": "dd45fa5c",
   "metadata": {},
   "outputs": [],
   "source": [
    "n = int(input())\n",
    "i = 1\n",
    "while i <= n :\n",
    "    j = 1\n",
    "    while j <= n :\n",
    "        print(j, end = '')\n",
    "        j = j + 1\n",
    "    print()\n",
    "    i = i + 1"
   ]
  },
  {
   "cell_type": "code",
   "execution_count": 2,
   "id": "2ff521d0",
   "metadata": {},
   "outputs": [
    {
     "name": "stdout",
     "output_type": "stream",
     "text": [
      "4\n",
      "4321\n",
      "4321\n",
      "4321\n",
      "4321\n"
     ]
    }
   ],
   "source": [
    "n = int(input())\n",
    "i = 1\n",
    "while i <= n :\n",
    "    j = 1\n",
    "    while j <= n :\n",
    "        print(n - j + 1, end = '')\n",
    "        j = j + 1\n",
    "    print()\n",
    "    i = i + 1"
   ]
  },
  {
   "cell_type": "markdown",
   "id": "477c4049",
   "metadata": {},
   "source": [
    "### Triangular Pattern"
   ]
  },
  {
   "cell_type": "code",
   "execution_count": 7,
   "id": "c9ef7ae9",
   "metadata": {},
   "outputs": [
    {
     "name": "stdout",
     "output_type": "stream",
     "text": [
      "5\n",
      "1\n",
      "12\n",
      "123\n",
      "1234\n",
      "12345\n"
     ]
    }
   ],
   "source": [
    "n = int(input())\n",
    "i = 1\n",
    "while i <= n :\n",
    "    j = 1\n",
    "    while j <= i :\n",
    "        print(j, end = '')\n",
    "        j = j + 1\n",
    "    print()\n",
    "    i = i + 1"
   ]
  },
  {
   "cell_type": "markdown",
   "id": "94b51a3c",
   "metadata": {},
   "source": [
    " Two solution for printing a pattern "
   ]
  },
  {
   "cell_type": "code",
   "execution_count": 13,
   "id": "ef0d212d",
   "metadata": {},
   "outputs": [
    {
     "name": "stdout",
     "output_type": "stream",
     "text": [
      "4\n",
      "1\n",
      "23\n",
      "345\n",
      "4567\n"
     ]
    }
   ],
   "source": [
    "# A\n",
    "n = int(input())\n",
    "i = 1\n",
    "while i <= n :\n",
    "    j = 1\n",
    "    while j <= i :\n",
    "        print(i + j - 1, end = '')\n",
    "        j = j + 1\n",
    "    print()\n",
    "    i = i + 1"
   ]
  },
  {
   "cell_type": "code",
   "execution_count": 15,
   "id": "ac49a24a",
   "metadata": {},
   "outputs": [
    {
     "name": "stdout",
     "output_type": "stream",
     "text": [
      "4\n",
      "1\n",
      "23\n",
      "345\n",
      "4567\n"
     ]
    }
   ],
   "source": [
    "# B\n",
    "n = int(input())\n",
    "i = 1\n",
    "while i <= n :\n",
    "    j = 1\n",
    "    p = i\n",
    "    while j <= i :\n",
    "        print(p, end = '')\n",
    "        j = j + 1\n",
    "        p = p + 1\n",
    "    print()\n",
    "    i = i + 1"
   ]
  },
  {
   "cell_type": "code",
   "execution_count": 17,
   "id": "48336e42",
   "metadata": {},
   "outputs": [
    {
     "name": "stdout",
     "output_type": "stream",
     "text": [
      "4\n",
      "1\n",
      "23\n",
      "456\n",
      "78910\n"
     ]
    }
   ],
   "source": [
    "n = int(input())\n",
    "i = 1\n",
    "p = 1\n",
    "while i <= n :\n",
    "    j = 1\n",
    "    while j <= i :\n",
    "        print(p, end = '')\n",
    "        j = j + 1\n",
    "        p = p + 1\n",
    "    print()\n",
    "    i = i + 1"
   ]
  },
  {
   "cell_type": "markdown",
   "id": "8cb8f6ea",
   "metadata": {},
   "source": [
    "### Triangular Star Pattern\n"
   ]
  },
  {
   "cell_type": "code",
   "execution_count": 20,
   "id": "39498077",
   "metadata": {},
   "outputs": [
    {
     "name": "stdout",
     "output_type": "stream",
     "text": [
      "4\n",
      "*\n",
      "**\n",
      "***\n",
      "****\n"
     ]
    }
   ],
   "source": [
    "n = int(input())\n",
    "i = 1\n",
    "while i <= n :\n",
    "    j = 1\n",
    "    while j <= i :\n",
    "        print('*', end = '')\n",
    "        j = j + 1\n",
    "    print()\n",
    "    i = i + 1"
   ]
  },
  {
   "cell_type": "markdown",
   "id": "f2678697",
   "metadata": {},
   "source": [
    "### Triangular Number Pattern"
   ]
  },
  {
   "cell_type": "code",
   "execution_count": 22,
   "id": "af4811e2",
   "metadata": {},
   "outputs": [
    {
     "name": "stdout",
     "output_type": "stream",
     "text": [
      "4\n",
      "1\n",
      "22\n",
      "333\n",
      "4444\n"
     ]
    }
   ],
   "source": [
    "n = int(input())\n",
    "i = 1\n",
    "while i <= n :\n",
    "    j = 1\n",
    "    while j <= i :\n",
    "        print(i, end = '')\n",
    "        j = j + 1\n",
    "    print()\n",
    "    i = i + 1"
   ]
  },
  {
   "cell_type": "markdown",
   "id": "88779046",
   "metadata": {},
   "source": [
    "### Reverse Number Pattern"
   ]
  },
  {
   "cell_type": "code",
   "execution_count": 25,
   "id": "f625d0e9",
   "metadata": {},
   "outputs": [
    {
     "name": "stdout",
     "output_type": "stream",
     "text": [
      "4\n",
      "1\n",
      "21\n",
      "321\n",
      "4321\n"
     ]
    }
   ],
   "source": [
    "#A\n",
    "n = int(input())\n",
    "i = 1\n",
    "while i <= n :\n",
    "    j = 1\n",
    "    p = i\n",
    "    while j <= i :\n",
    "        print(p, end = '')\n",
    "        j = j + 1\n",
    "        p = p - 1\n",
    "    print()\n",
    "    i = i + 1"
   ]
  },
  {
   "cell_type": "code",
   "execution_count": 27,
   "id": "0f409920",
   "metadata": {},
   "outputs": [
    {
     "name": "stdout",
     "output_type": "stream",
     "text": [
      "4\n",
      "1\n",
      "21\n",
      "321\n",
      "4321\n"
     ]
    }
   ],
   "source": [
    "#B\n",
    "n = int(input())\n",
    "i = 1\n",
    "while i <= n :\n",
    "    j = 1\n",
    "    while j <= i :\n",
    "        print(i - j + 1, end = '')\n",
    "        j = j + 1\n",
    "    print()\n",
    "    i = i + 1"
   ]
  },
  {
   "cell_type": "markdown",
   "id": "9627bace",
   "metadata": {},
   "source": [
    "### Character Pattern"
   ]
  },
  {
   "cell_type": "code",
   "execution_count": 29,
   "id": "a5f7b42e",
   "metadata": {},
   "outputs": [
    {
     "name": "stdout",
     "output_type": "stream",
     "text": [
      "5\n",
      "ABCDE\n",
      "ABCDE\n",
      "ABCDE\n",
      "ABCDE\n",
      "ABCDE\n"
     ]
    }
   ],
   "source": [
    "n = int(input())\n",
    "i = 1\n",
    "while i <= n:\n",
    "    j = 1\n",
    "    while j <= n:\n",
    "        charP = chr(ord('A') + j - 1)\n",
    "        print(charP, end = '')\n",
    "        j = j + 1\n",
    "    print()\n",
    "    i = i + 1\n",
    "        "
   ]
  },
  {
   "cell_type": "code",
   "execution_count": 36,
   "id": "8d732f5b",
   "metadata": {},
   "outputs": [
    {
     "name": "stdout",
     "output_type": "stream",
     "text": [
      "4\n",
      "ABCD\n",
      "BCDE\n",
      "CDEF\n",
      "DEFG\n"
     ]
    }
   ],
   "source": [
    "n = int(input())\n",
    "i = 1\n",
    "while i <= n:\n",
    "    j = 1\n",
    "    start_char = ord('A') + i - 1\n",
    "    while j <= n:\n",
    "        charP = chr(start_char + j - 1)\n",
    "        print(charP, end = '')\n",
    "        j = j + 1\n",
    "    print()\n",
    "    i = i + 1"
   ]
  },
  {
   "cell_type": "code",
   "execution_count": null,
   "id": "11aaf4cc",
   "metadata": {},
   "outputs": [],
   "source": [
    "n = int(input())\n",
    "i = 1\n",
    "while i <= n:\n",
    "    j = 1\n",
    "    start_char = ord('A') + i - 1\n",
    "    while j <= i:\n",
    "        charP = chr(start_char + j - 1)\n",
    "        print(charP, end = '')\n",
    "        j = j + 1\n",
    "    print()\n",
    "    i = i + 1"
   ]
  },
  {
   "cell_type": "markdown",
   "id": "ca53e843",
   "metadata": {},
   "source": [
    "### Alpha Pattern"
   ]
  },
  {
   "cell_type": "code",
   "execution_count": 3,
   "id": "6ef26087",
   "metadata": {},
   "outputs": [
    {
     "name": "stdout",
     "output_type": "stream",
     "text": [
      "4\n",
      "A\n",
      "BB\n",
      "CCC\n",
      "DDDD\n"
     ]
    }
   ],
   "source": [
    "n = int(input())\n",
    "i = 1\n",
    "while i <= n:\n",
    "    j = 1\n",
    "    while j <= i:\n",
    "        charP = chr(ord('A') + i - 1)\n",
    "        print(charP, end = '')\n",
    "        j = j + 1\n",
    "    print()\n",
    "    i = i + 1"
   ]
  },
  {
   "cell_type": "markdown",
   "id": "a10a3c78",
   "metadata": {},
   "source": [
    "### Interesting Alphabets"
   ]
  },
  {
   "cell_type": "code",
   "execution_count": 10,
   "id": "6bea83b1",
   "metadata": {},
   "outputs": [
    {
     "name": "stdout",
     "output_type": "stream",
     "text": [
      "4\n",
      "D\n",
      "CD\n",
      "BCD\n",
      "ABCD\n"
     ]
    }
   ],
   "source": [
    "n = int(input())\n",
    "i = 1\n",
    "while i <= n:\n",
    "    j = 1\n",
    "    while j <= i:\n",
    "        charP = chr(ord('A') + n + j - i - 1)\n",
    "        print(charP, end = '')\n",
    "        j = j + 1\n",
    "    print()\n",
    "    i = i + 1"
   ]
  },
  {
   "cell_type": "markdown",
   "id": "c2b9b4af",
   "metadata": {},
   "source": [
    "### Inverted Pattern"
   ]
  },
  {
   "cell_type": "code",
   "execution_count": 23,
   "id": "6203b2f4",
   "metadata": {},
   "outputs": [
    {
     "name": "stdout",
     "output_type": "stream",
     "text": [
      "4\n",
      "****\n",
      "***\n",
      "**\n",
      "*\n"
     ]
    }
   ],
   "source": [
    "n = int(input())\n",
    "i = 1\n",
    "while i <= n:\n",
    "    j = 1\n",
    "    while j <= n - i + 1:\n",
    "        print('*', end = '')\n",
    "        j = j + 1\n",
    "    print()\n",
    "    i = i + 1"
   ]
  },
  {
   "cell_type": "code",
   "execution_count": 22,
   "id": "643d274b",
   "metadata": {},
   "outputs": [
    {
     "name": "stdout",
     "output_type": "stream",
     "text": [
      "4\n",
      "1234\n",
      "123\n",
      "12\n",
      "1\n"
     ]
    }
   ],
   "source": [
    "n = int(input())\n",
    "i = 1\n",
    "while i <= n :\n",
    "    j = n\n",
    "    p = 1\n",
    "    while j >= i:\n",
    "        print(p, end = '')\n",
    "        j = j - 1\n",
    "        p = p + 1\n",
    "    print()\n",
    "    i = i + 1\n"
   ]
  },
  {
   "cell_type": "code",
   "execution_count": 25,
   "id": "206608d6",
   "metadata": {},
   "outputs": [
    {
     "name": "stdout",
     "output_type": "stream",
     "text": [
      "4\n",
      "4444\n",
      "333\n",
      "22\n",
      "1\n"
     ]
    }
   ],
   "source": [
    "n = int(input())\n",
    "i = 1 \n",
    "p = n\n",
    "while i <= n:\n",
    "    j = n \n",
    "    while j >= i:\n",
    "        print(p, end = '')\n",
    "        j = j - 1\n",
    "    p = p - 1\n",
    "    print()\n",
    "    i = i + 1"
   ]
  },
  {
   "cell_type": "markdown",
   "id": "39926009",
   "metadata": {},
   "source": [
    "### Number Pattern 2"
   ]
  },
  {
   "cell_type": "code",
   "execution_count": 24,
   "id": "5cfb6411",
   "metadata": {},
   "outputs": [
    {
     "name": "stdout",
     "output_type": "stream",
     "text": [
      "4\n",
      "1\n",
      "11\n",
      "202\n",
      "3003\n"
     ]
    }
   ],
   "source": [
    "n = int(input())\n",
    "i = 1\n",
    "while i <= n :\n",
    "    j = 1\n",
    "    while j <= i :\n",
    "        if i == 1:\n",
    "            print('1', end = '')\n",
    "        elif j == 1 or i == j :\n",
    "            print(i - 1, end = '')\n",
    "        else : \n",
    "            print('0', end = '')\n",
    "        j = j + 1\n",
    "    print()\n",
    "    i = i + 1"
   ]
  },
  {
   "cell_type": "markdown",
   "id": "10382cee",
   "metadata": {},
   "source": [
    "### Number Pattern 3"
   ]
  },
  {
   "cell_type": "code",
   "execution_count": 28,
   "id": "40513a41",
   "metadata": {},
   "outputs": [
    {
     "name": "stdout",
     "output_type": "stream",
     "text": [
      "4\n",
      "1\n",
      "11\n",
      "121\n",
      "1221\n"
     ]
    }
   ],
   "source": [
    "n = int(input())\n",
    "i = 1 \n",
    "while i <= n :\n",
    "    j = 1\n",
    "    while j <= i :\n",
    "        if i == j or j == 1:\n",
    "            print('1', end = '')\n",
    "        else :\n",
    "            print('2', end = '')\n",
    "        j = j + 1\n",
    "    print()\n",
    "    i = i + 1\n",
    "    "
   ]
  },
  {
   "cell_type": "markdown",
   "id": "9840fe2d",
   "metadata": {},
   "source": [
    "### Reversed Pattern"
   ]
  },
  {
   "cell_type": "code",
   "execution_count": 30,
   "id": "e368c2d1",
   "metadata": {},
   "outputs": [
    {
     "name": "stdout",
     "output_type": "stream",
     "text": [
      "4\n",
      "   *\n",
      "  **\n",
      " ***\n",
      "****\n"
     ]
    }
   ],
   "source": [
    "n = int(input())\n",
    "i = 1\n",
    "while i <= n:\n",
    "    spaces = 1\n",
    "    while spaces <= n - i :\n",
    "        print(' ', end = '')\n",
    "        spaces = spaces + 1\n",
    "    stars = 1\n",
    "    while stars <= i :\n",
    "        print('*', end = '')\n",
    "        stars = stars + 1\n",
    "    print()\n",
    "    i = i + 1\n",
    "    "
   ]
  },
  {
   "cell_type": "markdown",
   "id": "52eece56",
   "metadata": {},
   "source": [
    "### Mirror Number Pattern"
   ]
  },
  {
   "cell_type": "code",
   "execution_count": 6,
   "id": "ae716bf4",
   "metadata": {},
   "outputs": [
    {
     "name": "stdout",
     "output_type": "stream",
     "text": [
      "5\n",
      "    1\n",
      "   121\n",
      "  12321\n",
      " 1234321\n",
      "123454321\n"
     ]
    }
   ],
   "source": [
    "n = int(input())\n",
    "i = 1\n",
    "while i <= n :\n",
    "    spaces = 1\n",
    "    while spaces <= n - i:\n",
    "        print(' ', end = '')\n",
    "        spaces = spaces + 1\n",
    "    j = 1\n",
    "    while j <= i :\n",
    "        print(j, end = '')\n",
    "        j = j + 1\n",
    "    p = i - 1\n",
    "    while p >= 1:\n",
    "        print(p, end = '')\n",
    "        p = p - 1\n",
    "    print()\n",
    "    i = i + 1"
   ]
  },
  {
   "cell_type": "markdown",
   "id": "c2653adb",
   "metadata": {},
   "source": [
    "\n",
    "### Star Pattern"
   ]
  },
  {
   "cell_type": "code",
   "execution_count": 9,
   "id": "7a83935e",
   "metadata": {},
   "outputs": [
    {
     "name": "stdout",
     "output_type": "stream",
     "text": [
      "5\n",
      "    *\n",
      "   ***\n",
      "  *****\n",
      " *******\n",
      "*********\n"
     ]
    }
   ],
   "source": [
    "n = int(input())\n",
    "i = 1\n",
    "while i <= n:\n",
    "    spaces = 1\n",
    "    while spaces <= n - i:\n",
    "        print(' ', end = '')\n",
    "        spaces = spaces + 1\n",
    "    j = 1\n",
    "    while j <= i:\n",
    "        print('*', end = '')\n",
    "        j = j + 1\n",
    "    p = i - 1\n",
    "    while p >= 1:\n",
    "        print('*', end = '')\n",
    "        p = p - 1\n",
    "    print()\n",
    "    i = i + 1"
   ]
  },
  {
   "cell_type": "markdown",
   "id": "86aac204",
   "metadata": {},
   "source": [
    "### Triangle of Numbers"
   ]
  },
  {
   "cell_type": "code",
   "execution_count": 39,
   "id": "e203ccd1",
   "metadata": {},
   "outputs": [
    {
     "name": "stdout",
     "output_type": "stream",
     "text": [
      "4\n",
      "   1\n",
      "  232\n",
      " 34543\n",
      "4567654\n"
     ]
    }
   ],
   "source": [
    "n = int(input())\n",
    "i = 1\n",
    "while i <= n :\n",
    "    spaces = 1\n",
    "    while spaces <= n - i:\n",
    "        print(' ', end = '')\n",
    "        spaces = spaces + 1\n",
    "    j = 1\n",
    "    p = i\n",
    "    while j <= i:\n",
    "        print(p, end = '')\n",
    "        j = j + 1\n",
    "        p = p + 1\n",
    "    k = i - 1\n",
    "    l =  2 * i\n",
    "    while k >= 1 :\n",
    "        print(l - 2, end = '')\n",
    "        k = k - 1\n",
    "        l = l - 1\n",
    "    print()\n",
    "    i = i + 1"
   ]
  },
  {
   "cell_type": "markdown",
   "id": "af0e7cfe",
   "metadata": {},
   "source": [
    "### Diamond of Stars"
   ]
  },
  {
   "cell_type": "code",
   "execution_count": 33,
   "id": "de8685c8",
   "metadata": {},
   "outputs": [
    {
     "name": "stdout",
     "output_type": "stream",
     "text": [
      "7\n",
      "   *\n",
      "  ***\n",
      " *****\n",
      "*******\n",
      " *****\n",
      "  ***\n",
      "   *\n"
     ]
    }
   ],
   "source": [
    "n =  int(input())\n",
    "l = n // 2\n",
    "m = n - l\n",
    "i = 1\n",
    "while i <= m :\n",
    "    spaces = 1\n",
    "    while spaces <= m - i :\n",
    "        print(' ', end = '')\n",
    "        spaces = spaces + 1\n",
    "    stars = 1\n",
    "    while stars <= 2 * i - 1 :\n",
    "        print('*', end = '')\n",
    "        stars = stars + 1\n",
    "    print()\n",
    "    i = i + 1\n",
    "j = l\n",
    "while j > 0:\n",
    "    blank = 1\n",
    "    while blank <= l - j + 1:\n",
    "        print(' ', end = '')\n",
    "        blank = blank + 1\n",
    "    st = 1\n",
    "    while st <= 2 * j - 1:\n",
    "        print('*', end = '')\n",
    "        st = st + 1\n",
    "    print()\n",
    "    j = j - 1\n",
    "        "
   ]
  },
  {
   "cell_type": "markdown",
   "id": "46540a3e",
   "metadata": {},
   "source": [
    "### Pyramid Number Pattern"
   ]
  },
  {
   "cell_type": "code",
   "execution_count": 43,
   "id": "c8217e1f",
   "metadata": {},
   "outputs": [
    {
     "name": "stdout",
     "output_type": "stream",
     "text": [
      "4\n",
      "   1\n",
      "  212\n",
      " 32123\n",
      "4321234\n"
     ]
    }
   ],
   "source": [
    "n = int(input())\n",
    "i = 1\n",
    "while i <= n :\n",
    "    spaces = 1\n",
    "    while spaces <= n - i :\n",
    "        print(' ', end = '')\n",
    "        spaces = spaces + 1\n",
    "    j = 1\n",
    "    p = i\n",
    "    while j <= i :\n",
    "        print(p, end = '')\n",
    "        j = j + 1\n",
    "        p = p - 1\n",
    "    l = 2\n",
    "    k = i - 1\n",
    "    while k >= 1:\n",
    "        print(l, end = '')\n",
    "        k = k - 1\n",
    "        l = l + 1\n",
    "    print()\n",
    "    i = i + 1"
   ]
  },
  {
   "cell_type": "markdown",
   "id": "402fb832",
   "metadata": {},
   "source": [
    "### Number Pattern"
   ]
  },
  {
   "cell_type": "code",
   "execution_count": 63,
   "id": "96680547",
   "metadata": {},
   "outputs": [
    {
     "name": "stdout",
     "output_type": "stream",
     "text": [
      "5\n",
      "1        1\n",
      "12      21\n",
      "123    321\n",
      "1234  4321\n",
      "1234554321\n"
     ]
    }
   ],
   "source": [
    "n = int(input())\n",
    "i = 1\n",
    "while i <= n :\n",
    "    j = 1\n",
    "    while j <= i:\n",
    "        print(j, end = '')\n",
    "        j = j + 1\n",
    "    spaces = 2 * n - 2 * i\n",
    "    while spaces > 0 :\n",
    "        print(' ', end = '')\n",
    "        spaces = spaces - 1\n",
    "    k = 1\n",
    "    p = i\n",
    "    while k <= i :\n",
    "        print(p, end = '')\n",
    "        k = k + 1\n",
    "        p = p - 1\n",
    "    print()\n",
    "    i = i + 1\n",
    "        "
   ]
  },
  {
   "cell_type": "markdown",
   "id": "347dc238",
   "metadata": {},
   "source": [
    "### Zero And Stars Pattern"
   ]
  },
  {
   "cell_type": "code",
   "execution_count": 9,
   "id": "53e4867d",
   "metadata": {},
   "outputs": [
    {
     "name": "stdout",
     "output_type": "stream",
     "text": [
      "4\n",
      "*000*000*\n",
      "0*00*00*0\n",
      "00*0*0*00\n",
      "000***000\n"
     ]
    }
   ],
   "source": [
    "n = int(input())\n",
    "i = 1\n",
    "k = 2 * n + 1\n",
    "while i <= n :\n",
    "    j = 1\n",
    "    while j <= 2 * n + 1 :\n",
    "        if i == j or j == n + 1 :\n",
    "            print('*', end = '')\n",
    "        elif j == k :\n",
    "            print('*', end = '')\n",
    "        else :\n",
    "            print('0', end = '')\n",
    "        j = j + 1\n",
    "    print()\n",
    "    k = k - 1\n",
    "    i = i + 1\n",
    "        "
   ]
  },
  {
   "cell_type": "markdown",
   "id": "4d31f2ff",
   "metadata": {},
   "source": [
    "### Arrow Pattern"
   ]
  },
  {
   "cell_type": "code",
   "execution_count": 35,
   "id": "ebbd59f7",
   "metadata": {},
   "outputs": [
    {
     "name": "stdout",
     "output_type": "stream",
     "text": [
      "5\n",
      "* \n",
      " * * \n",
      "  * * * \n",
      " * * \n",
      "* \n"
     ]
    }
   ],
   "source": [
    "n = int(input())\n",
    "l = n // 2\n",
    "m = n - l \n",
    "i = 1\n",
    "while i <= m:\n",
    "    spaces = 1\n",
    "    while spaces <= i - 1:\n",
    "        print(' ', end = '')\n",
    "        spaces = spaces + 1\n",
    "    stars = 1 \n",
    "    while stars <= i :\n",
    "        print('*', end = ' ')\n",
    "        stars = stars + 1\n",
    "    print()\n",
    "    i = i + 1\n",
    "j = 1\n",
    "while j <= l :\n",
    "    blank = 1\n",
    "    while blank <= l - j:\n",
    "        print(' ', end = '')\n",
    "        blank = blank + 1\n",
    "    st = 1  # st = l \n",
    "    while st <= l - j + 1 :# st >= j :\n",
    "        print('*', end = ' ')\n",
    "        st = st + 1 # st = st - 1\n",
    "    print()\n",
    "    j = j + 1\n",
    "    \n",
    "    "
   ]
  },
  {
   "cell_type": "code",
   "execution_count": null,
   "id": "f487fe30",
   "metadata": {},
   "outputs": [],
   "source": []
  }
 ],
 "metadata": {
  "kernelspec": {
   "display_name": "Python 3",
   "language": "python",
   "name": "python3"
  },
  "language_info": {
   "codemirror_mode": {
    "name": "ipython",
    "version": 3
   },
   "file_extension": ".py",
   "mimetype": "text/x-python",
   "name": "python",
   "nbconvert_exporter": "python",
   "pygments_lexer": "ipython3",
   "version": "3.8.8"
  }
 },
 "nbformat": 4,
 "nbformat_minor": 5
}
