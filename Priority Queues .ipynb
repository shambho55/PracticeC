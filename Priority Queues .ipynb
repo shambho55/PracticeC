{
 "cells": [
  {
   "cell_type": "code",
   "execution_count": 1,
   "id": "9e7298a6",
   "metadata": {},
   "outputs": [
    {
     "data": {
      "text/plain": [
       "9027517912"
      ]
     },
     "execution_count": 1,
     "metadata": {},
     "output_type": "execute_result"
    }
   ],
   "source": [
    "9027517912"
   ]
  },
  {
   "cell_type": "raw",
   "id": "989663da",
   "metadata": {},
   "source": [
    "n numbers  Insert  GetMin/GetMax  RemoveMin/RemoveMax  for n elements\n",
    "\n",
    "list/Array   O(1)       O(n)             O(n)              O(n^2)\n",
    "(Unsorted)\n",
    "list/Array   O(n)       O(1)             O(n)              O(n^2)\n",
    "(Sorted)\n",
    "LinkedList   O(1)       O(n)             O(n)              O(n^2)\n",
    "(Unsorted)\n",
    "LinkedList   O(n)       O(1)             O(1)              O(n^2)\n",
    "(Sorted)\n",
    "BST          O(h)       O(h)             O(h)              O(n^2)\n",
    "(h = height of Tree)\n",
    "Balanced BST O(logn)    O(logn)          O(logn)           O(nlogn)\n",
    "HashMap      O(1)       O(n)             O(n)              O(n^2)\n"
   ]
  },
  {
   "cell_type": "raw",
   "id": "8c7acd53",
   "metadata": {},
   "source": [
    "FOR BINARY TREE TO BE COMPLETE BINARY TREE(CBT):\n",
    "1. All levels except last level should be filled.\n",
    "2. Elements in a level should be inserted from left to right."
   ]
  },
  {
   "cell_type": "raw",
   "id": "307dcd61",
   "metadata": {},
   "source": [
    "Minimum number of nodes of CBT of height h\n",
    "    = 2^0 + 2^1 + ..... + 2^(h-2) + 1\n",
    "Maximum number of nodes of CBT of height h\n",
    "    = 2^0 + 2^1 + ..... + 2^(h-1)\n",
    "2^0 + 2^1 + ..... + 2^(h-2) + 1 <= n <= 2^0 + 2^1 + ..... + 2^(h-1)\n",
    " [2^0(2^(h-1) - 1)]/(2 - 1) + 1 <= n <= [2^0(2^(h) - 1)]/(2 - 1)\n",
    "     2^(h - 1) - 1 + 1 <= n <= 2^(h) - 1\n",
    "         2^(h-1) <= n <= 2^(h) - 1"
   ]
  },
  {
   "cell_type": "raw",
   "id": "528e9a91",
   "metadata": {},
   "source": [
    "        n >= 2^(h-1)\n",
    "        log(n) >= (h-1)log(2) [base is 2 here]\n",
    "        log(n) + 1 >= h\n",
    "        h <= log(n) + 1"
   ]
  },
  {
   "cell_type": "raw",
   "id": "d4852f91",
   "metadata": {},
   "source": [
    "        n <= 2^(h) - 1\n",
    "        n + 1 <= 2^(h) \n",
    "        log(n + 1) <= hlog(2) [base is 2 here]\n",
    "        h >= log(n + 1)"
   ]
  },
  {
   "cell_type": "raw",
   "id": "901f1a4a",
   "metadata": {},
   "source": [
    " O(log(n)) <= h <= O(log(n)) [base is 2]"
   ]
  },
  {
   "cell_type": "raw",
   "id": "e013b06a",
   "metadata": {},
   "source": [
    "In Heaps, to make insertions to insert in less time we use array .\n",
    "Hence , parent_index = (children_index - 1)/2\n",
    "Children of parents can be found by:\n",
    "(2*parent_index + 1),(2*parent_index + 2)"
   ]
  },
  {
   "cell_type": "raw",
   "id": "441b39dc",
   "metadata": {},
   "source": [
    "A Heap is which follows this following properties:\n",
    "1. Complete Binary Tree\n",
    "2. Heap Order Property:\n",
    "    a.Minimum Heap:-\n",
    "    Node's data should be less than it's both children data. Root of the tree will be minimum.\n",
    "    b.Maximum Heap:-\n",
    "    Node's data should be greater than it's both children data. Root of the tree will be maximum.\n",
    "    "
   ]
  },
  {
   "cell_type": "raw",
   "id": "cf8ebfef",
   "metadata": {},
   "source": [
    "Insertion in Heap will have O(logn) time complexity since height of CBT is logn."
   ]
  },
  {
   "cell_type": "markdown",
   "id": "c61baab7",
   "metadata": {},
   "source": [
    "#### Min Priority Heap"
   ]
  },
  {
   "cell_type": "code",
   "execution_count": 16,
   "id": "098fb7af",
   "metadata": {},
   "outputs": [
    {
     "name": "stdout",
     "output_type": "stream",
     "text": [
      "D\n",
      "C\n",
      "A\n",
      "B\n"
     ]
    }
   ],
   "source": [
    "class PriorityQueueNode:\n",
    "    def __init__(self,value,priority):\n",
    "        self.value = value\n",
    "        self.priority = priority\n",
    "class PriorityQueue:\n",
    "    def __init__(self):\n",
    "        self.pq = []\n",
    "    \n",
    "    def getSize(self):\n",
    "        return len(self.pq)\n",
    "    \n",
    "    def isEmpty(self):\n",
    "        return self.getSize() == 0\n",
    "    \n",
    "    def getMin(self):\n",
    "        if self.isEmpty() is True:\n",
    "            return None\n",
    "        return self.pq[0].value\n",
    "    \n",
    "    def __percolateUp(self):\n",
    "        childIndex = self.getSize() - 1\n",
    "        while childIndex > 0 :\n",
    "            parentIndex = (childIndex - 1) // 2\n",
    "            if self.pq[childIndex].priority < self.pq[parentIndex].priority:\n",
    "                self.pq[childIndex],self.pq[parentIndex] = self.pq[parentIndex],self.pq[childIndex]\n",
    "                childIndex = parentIndex\n",
    "            else:\n",
    "                break\n",
    "    \n",
    "    def insert(self,value,priority):\n",
    "        pqNode = PriorityQueueNode(value,priority)\n",
    "        self.pq.append(pqNode)\n",
    "        self.__percolateUp()\n",
    "    \n",
    "    def __percolateDown(self):\n",
    "        parentIndex = 0\n",
    "        leftChildIndex = 2*parentIndex + 1\n",
    "        rightChildIndex = 2*parentIndex + 2\n",
    "        while leftChildIndex < self.getSize():\n",
    "            minIndex = parentIndex\n",
    "            if self.pq[leftChildIndex].priority < self.pq[minIndex].priority:\n",
    "                minIndex = leftChildIndex\n",
    "            elif rightChildIndex < self.getSize() and self.pq[rightChildIndex].priority < self.pq[minIndex].priority:\n",
    "                minIndex = rightChildIndex\n",
    "            if minIndex == parentIndex:\n",
    "                break\n",
    "            self.pq[parentIndex],self.pq[minIndex] = self.pq[minIndex],self.pq[parentIndex]\n",
    "            parentIndex = minIndex\n",
    "            leftChildIndex = 2*parentIndex + 1\n",
    "            rightChildIndex = 2*parentIndex + 2\n",
    "            \n",
    "    def removeMin(self):\n",
    "        if self.isEmpty():\n",
    "            return None\n",
    "        ele = self.pq[0].value\n",
    "        self.pq[0] = self.pq[self.getSize() - 1]\n",
    "        self.pq.pop()\n",
    "        self.__percolateDown()\n",
    "        return ele\n",
    "    \n",
    "pq = PriorityQueue()\n",
    "pq.insert('A',10)\n",
    "pq.insert('C',5)\n",
    "pq.insert('B',19)\n",
    "pq.insert('D',4)\n",
    "for i in range(4):\n",
    "    print(pq.removeMin())"
   ]
  },
  {
   "cell_type": "code",
   "execution_count": null,
   "id": "3929340d",
   "metadata": {},
   "outputs": [],
   "source": []
  }
 ],
 "metadata": {
  "kernelspec": {
   "display_name": "Python 3",
   "language": "python",
   "name": "python3"
  },
  "language_info": {
   "codemirror_mode": {
    "name": "ipython",
    "version": 3
   },
   "file_extension": ".py",
   "mimetype": "text/x-python",
   "name": "python",
   "nbconvert_exporter": "python",
   "pygments_lexer": "ipython3",
   "version": "3.8.8"
  }
 },
 "nbformat": 4,
 "nbformat_minor": 5
}
