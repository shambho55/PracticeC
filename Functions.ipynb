{
 "cells": [
  {
   "cell_type": "markdown",
   "id": "8aa37fd4",
   "metadata": {},
   "source": [
    "### Palindrome Number Using Functions\n"
   ]
  },
  {
   "cell_type": "code",
   "execution_count": 43,
   "id": "e760e27f",
   "metadata": {},
   "outputs": [
    {
     "name": "stdout",
     "output_type": "stream",
     "text": [
      "12\n",
      "false\n"
     ]
    }
   ],
   "source": [
    "def checkPalindrome(num):\n",
    "    i = num\n",
    "    pal = 0\n",
    "    while i > 0 :\n",
    "        l = i % 10\n",
    "        pal = pal * 10 + l\n",
    "        i = i // 10\n",
    "    return (pal == num)\n",
    "\n",
    "n = int(input())\n",
    "isPalindrome = checkPalindrome(n)\n",
    "if isPalindrome:\n",
    "    print('true')\n",
    "else :\n",
    "    print('false')\n",
    "        "
   ]
  },
  {
   "cell_type": "code",
   "execution_count": 53,
   "id": "1fb969cd",
   "metadata": {},
   "outputs": [
    {
     "ename": "SyntaxError",
     "evalue": "invalid syntax (<ipython-input-53-59fbbbe85b55>, line 3)",
     "output_type": "error",
     "traceback": [
      "\u001b[1;36m  File \u001b[1;32m\"<ipython-input-53-59fbbbe85b55>\"\u001b[1;36m, line \u001b[1;32m3\u001b[0m\n\u001b[1;33m    j =\u001b[0m\n\u001b[1;37m        ^\u001b[0m\n\u001b[1;31mSyntaxError\u001b[0m\u001b[1;31m:\u001b[0m invalid syntax\n"
     ]
    }
   ],
   "source": [
    "n = int(input())\n",
    "i = n\n",
    "j = \n",
    "while i > 0:\n",
    "    i = i // 10 \n",
    "    j = j + 1\n",
    "print(j)"
   ]
  },
  {
   "cell_type": "markdown",
   "id": "83e6740a",
   "metadata": {},
   "source": [
    "### Check Armstrong Number"
   ]
  },
  {
   "cell_type": "code",
   "execution_count": 56,
   "id": "22d91bb9",
   "metadata": {},
   "outputs": [
    {
     "name": "stdout",
     "output_type": "stream",
     "text": [
      "4\n",
      "true\n"
     ]
    }
   ],
   "source": [
    "## Read input as specified in the question.\n",
    "## Print output as specified in the question.\n",
    "def checkArmstrongNum(n):\n",
    "    j = 0\n",
    "    i = n\n",
    "    while i > 0:\n",
    "        j = j + 1\n",
    "        i = i // 10\n",
    "    arm = 0\n",
    "    k = n\n",
    "    while k > 0:\n",
    "        l = k % 10\n",
    "        arm = (l ** j) + arm\n",
    "        k = k // 10\n",
    "    return(arm == n)\n",
    "\n",
    "n = int(input())\n",
    "isArmstrong=checkArmstrongNum(n)\n",
    "if isArmstrong:\n",
    "    print('true')\n",
    "else :\n",
    "    print('false')"
   ]
  },
  {
   "cell_type": "markdown",
   "id": "13533824",
   "metadata": {},
   "source": [
    "### Fibonacci Member"
   ]
  },
  {
   "cell_type": "code",
   "execution_count": 117,
   "id": "31343055",
   "metadata": {},
   "outputs": [
    {
     "name": "stdout",
     "output_type": "stream",
     "text": [
      "4\n",
      "false\n"
     ]
    }
   ],
   "source": [
    "\n",
    "def checkMember(n):\n",
    "#Implement Your Code Here\n",
    "    a = 0\n",
    "    b = 1\n",
    "    i = 0\n",
    "    while i <= n:\n",
    "        c = a + b\n",
    "        a = b \n",
    "        b = c\n",
    "        if n == b:\n",
    "            return True\n",
    "        i = i + 1\n",
    "\n",
    "n=int(input())\n",
    "if(checkMember(n)):\n",
    "    print(\"true\")\n",
    "else:\n",
    "    print(\"false\")"
   ]
  },
  {
   "cell_type": "code",
   "execution_count": 118,
   "id": "4ace51a7",
   "metadata": {},
   "outputs": [
    {
     "name": "stdout",
     "output_type": "stream",
     "text": [
      "5\n",
      "true\n"
     ]
    }
   ],
   "source": [
    "#another difficult approach\n",
    "import math\n",
    " \n",
    "def isPerfectSquare(x):\n",
    "    s = int(math.sqrt(x))\n",
    "    return s*s == x\n",
    " \n",
    "def isFibonacci(n):\n",
    "    return isPerfectSquare(5*n*n + 4) or isPerfectSquare(5*n*n - 4)\n",
    "    \n",
    "n = int(input())    \n",
    "if (isFibonacci(n) == True):\n",
    "    print(\"true\")\n",
    "else:\n",
    "    print(\"false\")\n",
    "\n"
   ]
  },
  {
   "cell_type": "markdown",
   "id": "843d87b8",
   "metadata": {},
   "source": [
    "### Factorial Function"
   ]
  },
  {
   "cell_type": "code",
   "execution_count": 10,
   "id": "7130ff1f",
   "metadata": {},
   "outputs": [
    {
     "name": "stdout",
     "output_type": "stream",
     "text": [
      "4\n",
      "4\n",
      "1\n"
     ]
    }
   ],
   "source": [
    "def fact(n):\n",
    "    n_fact = 1\n",
    "    for i in range(1 , n + 1):\n",
    "        n_fact = n_fact * i\n",
    "    return n_fact\n",
    "\n",
    "n = int(input())\n",
    "r = int(input())\n",
    "n_fact = fact(n)\n",
    "r_fact = fact(r)\n",
    "n_r_fact = fact(n - r)\n",
    "ans = n_fact // (r_fact * n_r_fact)\n",
    "print(ans)"
   ]
  },
  {
   "cell_type": "code",
   "execution_count": 11,
   "id": "6eee9acd",
   "metadata": {},
   "outputs": [],
   "source": [
    "#Functions improve readability , less code better to understand and testing becomes easier alot than before , avoids repetition of code"
   ]
  },
  {
   "cell_type": "code",
   "execution_count": 13,
   "id": "a04b0a30",
   "metadata": {},
   "outputs": [],
   "source": [
    "def checkPrime(n):\n",
    "    for d in range(2 , n):\n",
    "        if n % d == 0:\n",
    "            break\n",
    "    else :\n",
    "        return True\n",
    "    return False"
   ]
  },
  {
   "cell_type": "code",
   "execution_count": 28,
   "id": "d4363658",
   "metadata": {},
   "outputs": [
    {
     "name": "stdout",
     "output_type": "stream",
     "text": [
      "15\n",
      "2\n",
      "3\n",
      "5\n",
      "7\n",
      "11\n",
      "13\n"
     ]
    }
   ],
   "source": [
    "def printPrimeNum1ToN(n):\n",
    "    for k in range(2 , n + 1):\n",
    "        is_prime = checkPrime(k)\n",
    "        if is_prime:\n",
    "            print(k)\n",
    "n = int(input())\n",
    "printPrimeNum1ToN(n)"
   ]
  },
  {
   "cell_type": "code",
   "execution_count": 35,
   "id": "cabe4bfa",
   "metadata": {},
   "outputs": [
    {
     "name": "stdout",
     "output_type": "stream",
     "text": [
      "5\n",
      "5\n",
      "1\n"
     ]
    }
   ],
   "source": [
    "def ncr(n , r):\n",
    "    n_fact = fact(n)\n",
    "    r_fact = fact(r)\n",
    "    n_r_fact = fact(n - r)\n",
    "    ans = n_fact // (r_fact * n_r_fact)#\n",
    "    return ans\n",
    "n = int(input())\n",
    "r = int(input())\n",
    "ans = ncr(n , r)\n",
    "print(ans)"
   ]
  },
  {
   "cell_type": "markdown",
   "id": "cdccbcfb",
   "metadata": {},
   "source": [
    "### Scope of Variables"
   ]
  },
  {
   "cell_type": "code",
   "execution_count": 37,
   "id": "b8ebb48c",
   "metadata": {},
   "outputs": [
    {
     "name": "stdout",
     "output_type": "stream",
     "text": [
      "1\n",
      "12\n"
     ]
    }
   ],
   "source": [
    "a1 = 1 #global Variable\n",
    "def f1():\n",
    "    b1 = 12 # local Variable\n",
    "    print(b1)\n",
    "print(a1)\n",
    "f1()\n",
    "#print(b1) # this is not going to print as b1 is a local variable"
   ]
  },
  {
   "cell_type": "code",
   "execution_count": 44,
   "id": "32a9dabf",
   "metadata": {},
   "outputs": [
    {
     "name": "stdout",
     "output_type": "stream",
     "text": [
      "13\n",
      "12\n",
      "12\n",
      "140706506221712\n",
      "13\n",
      "140706506221744\n"
     ]
    }
   ],
   "source": [
    "a2 = 13 # global Variable\n",
    "def f2():\n",
    "    a2 = 12# local Varible with same name but different id\n",
    "    print(a2)\n",
    "    print(a2)\n",
    "    print(id(a2))\n",
    "print(a2)\n",
    "f2()\n",
    "print(a2)\n",
    "print(id(a2))"
   ]
  },
  {
   "cell_type": "code",
   "execution_count": 83,
   "id": "cb61a9d0",
   "metadata": {},
   "outputs": [
    {
     "name": "stdout",
     "output_type": "stream",
     "text": [
      "25\n",
      "15\n",
      "20\n"
     ]
    }
   ],
   "source": [
    "# You can access any global variable defined before function call\n",
    "\n",
    "def f3():\n",
    "    b3 = 25\n",
    "    print(b3)\n",
    "    print(a3)\n",
    "    print(c3)\n",
    "\n",
    "\n",
    "f3()\n",
    "a3 = 15\n",
    "c3 = 20"
   ]
  },
  {
   "cell_type": "code",
   "execution_count": 84,
   "id": "f29a03a6",
   "metadata": {},
   "outputs": [
    {
     "name": "stdout",
     "output_type": "stream",
     "text": [
      "13\n",
      "12\n",
      "12\n",
      "140706506221712\n",
      "12\n",
      "140706506221712\n"
     ]
    }
   ],
   "source": [
    "a2 = 13 # global Variable\n",
    "def f2():\n",
    "    global a2\n",
    "    a2 = 12# now global and same Varible with same name but different id\n",
    "    print(a2)\n",
    "    print(a2)\n",
    "    print(id(a2))\n",
    "print(a2)\n",
    "f2()\n",
    "print(a2)\n",
    "print(id(a2))\n",
    "    "
   ]
  },
  {
   "cell_type": "code",
   "execution_count": 86,
   "id": "ed1108ec",
   "metadata": {},
   "outputs": [
    {
     "name": "stdout",
     "output_type": "stream",
     "text": [
      "10\n",
      "5\n"
     ]
    }
   ],
   "source": [
    "a = 10\n",
    "def f():\n",
    "    b = 5\n",
    "    return b\n",
    "x = f()\n",
    "print(a)\n",
    "print(x)"
   ]
  },
  {
   "cell_type": "markdown",
   "id": "deb99671",
   "metadata": {},
   "source": [
    "### Default Parameters in Function"
   ]
  },
  {
   "cell_type": "code",
   "execution_count": 88,
   "id": "436505d3",
   "metadata": {},
   "outputs": [
    {
     "ename": "TypeError",
     "evalue": "f() takes 1 positional argument but 2 were given",
     "output_type": "error",
     "traceback": [
      "\u001b[1;31m---------------------------------------------------------------------------\u001b[0m",
      "\u001b[1;31mTypeError\u001b[0m                                 Traceback (most recent call last)",
      "\u001b[1;32m<ipython-input-88-8fefd45a84ba>\u001b[0m in \u001b[0;36m<module>\u001b[1;34m\u001b[0m\n\u001b[0;32m      1\u001b[0m \u001b[1;32mdef\u001b[0m \u001b[0mf\u001b[0m\u001b[1;33m(\u001b[0m\u001b[0mn\u001b[0m\u001b[1;33m)\u001b[0m\u001b[1;33m:\u001b[0m\u001b[1;33m\u001b[0m\u001b[1;33m\u001b[0m\u001b[0m\n\u001b[0;32m      2\u001b[0m     \u001b[0mprint\u001b[0m\u001b[1;33m(\u001b[0m\u001b[0mn\u001b[0m\u001b[1;33m)\u001b[0m\u001b[1;33m\u001b[0m\u001b[1;33m\u001b[0m\u001b[0m\n\u001b[1;32m----> 3\u001b[1;33m \u001b[0mf\u001b[0m\u001b[1;33m(\u001b[0m\u001b[1;36m2\u001b[0m\u001b[1;33m,\u001b[0m \u001b[1;36m3\u001b[0m\u001b[1;33m)\u001b[0m\u001b[1;33m\u001b[0m\u001b[1;33m\u001b[0m\u001b[0m\n\u001b[0m\u001b[0;32m      4\u001b[0m \u001b[1;33m\u001b[0m\u001b[0m\n",
      "\u001b[1;31mTypeError\u001b[0m: f() takes 1 positional argument but 2 were given"
     ]
    }
   ],
   "source": [
    "def f(n):\n",
    "    print(n)\n",
    "f(2, 3)\n",
    "    "
   ]
  },
  {
   "cell_type": "code",
   "execution_count": 93,
   "id": "4d08b182",
   "metadata": {},
   "outputs": [
    {
     "ename": "SyntaxError",
     "evalue": "non-default argument follows default argument (<ipython-input-93-a7b492d68dc6>, line 2)",
     "output_type": "error",
     "traceback": [
      "\u001b[1;36m  File \u001b[1;32m\"<ipython-input-93-a7b492d68dc6>\"\u001b[1;36m, line \u001b[1;32m2\u001b[0m\n\u001b[1;33m    def f(a = 0, b, c):\u001b[0m\n\u001b[1;37m          ^\u001b[0m\n\u001b[1;31mSyntaxError\u001b[0m\u001b[1;31m:\u001b[0m non-default argument follows default argument\n"
     ]
    }
   ],
   "source": [
    "# You can't assign non-default arguments values before default arguments\n",
    "def f(a = 0, b, c):\n",
    "    return a + b + c\n",
    "f(1,2)"
   ]
  },
  {
   "cell_type": "code",
   "execution_count": 96,
   "id": "ddc98c2d",
   "metadata": {},
   "outputs": [
    {
     "name": "stdout",
     "output_type": "stream",
     "text": [
      "11\n",
      "26\n",
      "11\n"
     ]
    }
   ],
   "source": [
    "def sum(a ,b ,c = 0, d = 2):\n",
    "    return a + b + c + d\n",
    "print(sum(2,3,4))\n",
    "print(sum(5,6,7,8))\n",
    "print(sum(4,5))\n"
   ]
  },
  {
   "cell_type": "code",
   "execution_count": 1,
   "id": "a1963cc3",
   "metadata": {},
   "outputs": [
    {
     "name": "stdout",
     "output_type": "stream",
     "text": [
      "5\n"
     ]
    },
    {
     "data": {
      "text/plain": [
       "18"
      ]
     },
     "execution_count": 1,
     "metadata": {},
     "output_type": "execute_result"
    }
   ],
   "source": [
    "def sum(a , d  ,c = 2 ,b = 0 ):\n",
    "    return a + b + c + d\n",
    "print(sum(1,2))\n",
    "sum(b = 3 , a = 4 , d = 5 , c = 6)"
   ]
  },
  {
   "cell_type": "code",
   "execution_count": 33,
   "id": "125fb24d",
   "metadata": {},
   "outputs": [
    {
     "name": "stdout",
     "output_type": "stream",
     "text": [
      "1\n"
     ]
    },
    {
     "data": {
      "text/plain": [
       "True"
      ]
     },
     "execution_count": 33,
     "metadata": {},
     "output_type": "execute_result"
    }
   ],
   "source": [
    "n = int(input())\n",
    "def checkArmstrong(n):\n",
    "    pow = 0\n",
    "    i = n\n",
    "    result = 0\n",
    "    while i != 0:\n",
    "        pow += 1\n",
    "        i = i // 10\n",
    "    j = n\n",
    "    while j > 0:\n",
    "        q = j % 10\n",
    "        result = result + (q**pow)\n",
    "        j = j // 10\n",
    "    return result == n\n",
    "checkArmstrong(n)"
   ]
  },
  {
   "cell_type": "code",
   "execution_count": 52,
   "id": "a4b01cb3",
   "metadata": {},
   "outputs": [
    {
     "ename": "AttributeError",
     "evalue": "'list' object has no attribute 'replace'",
     "output_type": "error",
     "traceback": [
      "\u001b[1;31m---------------------------------------------------------------------------\u001b[0m",
      "\u001b[1;31mAttributeError\u001b[0m                            Traceback (most recent call last)",
      "\u001b[1;32m<ipython-input-52-7c24ec888b1f>\u001b[0m in \u001b[0;36m<module>\u001b[1;34m\u001b[0m\n\u001b[0;32m      4\u001b[0m \u001b[0marr\u001b[0m \u001b[1;33m=\u001b[0m \u001b[1;33m[\u001b[0m\u001b[1;36m0\u001b[0m\u001b[1;33m]\u001b[0m \u001b[1;33m*\u001b[0m \u001b[1;33m(\u001b[0m\u001b[0mn\u001b[0m \u001b[1;33m-\u001b[0m \u001b[1;36m1\u001b[0m\u001b[1;33m)\u001b[0m\u001b[1;33m\u001b[0m\u001b[1;33m\u001b[0m\u001b[0m\n\u001b[0;32m      5\u001b[0m \u001b[1;32mfor\u001b[0m \u001b[0mi\u001b[0m \u001b[1;32min\u001b[0m \u001b[0mrange\u001b[0m\u001b[1;33m(\u001b[0m\u001b[0mm\u001b[0m\u001b[1;33m)\u001b[0m\u001b[1;33m:\u001b[0m\u001b[1;33m\u001b[0m\u001b[1;33m\u001b[0m\u001b[0m\n\u001b[1;32m----> 6\u001b[1;33m     \u001b[0marr\u001b[0m\u001b[1;33m.\u001b[0m\u001b[0mreplace\u001b[0m\u001b[1;33m(\u001b[0m\u001b[1;36m0\u001b[0m\u001b[1;33m,\u001b[0m\u001b[0marr2\u001b[0m\u001b[1;33m[\u001b[0m\u001b[0mm\u001b[0m \u001b[1;33m-\u001b[0m \u001b[0mi\u001b[0m\u001b[1;33m]\u001b[0m\u001b[1;33m)\u001b[0m\u001b[1;33m\u001b[0m\u001b[1;33m\u001b[0m\u001b[0m\n\u001b[0m\u001b[0;32m      7\u001b[0m \u001b[0marr\u001b[0m\u001b[1;33m\u001b[0m\u001b[1;33m\u001b[0m\u001b[0m\n",
      "\u001b[1;31mAttributeError\u001b[0m: 'list' object has no attribute 'replace'"
     ]
    }
   ],
   "source": [
    "n = 4\n",
    "arr2 = [4,5,9]\n",
    "m = len(arr2)\n",
    "arr = [0] * (n - 1)\n",
    "for i in range(m):\n",
    "    arr.replace(0,arr2[m - i])\n",
    "arr"
   ]
  }
 ],
 "metadata": {
  "kernelspec": {
   "display_name": "Python 3",
   "language": "python",
   "name": "python3"
  },
  "language_info": {
   "codemirror_mode": {
    "name": "ipython",
    "version": 3
   },
   "file_extension": ".py",
   "mimetype": "text/x-python",
   "name": "python",
   "nbconvert_exporter": "python",
   "pygments_lexer": "ipython3",
   "version": "3.8.8"
  }
 },
 "nbformat": 4,
 "nbformat_minor": 5
}
