{
 "cells": [
  {
   "cell_type": "code",
   "execution_count": 136,
   "id": "dd1b924d",
   "metadata": {},
   "outputs": [],
   "source": [
    "class ExpenseTracker:\n",
    "    \"\"\"this is a docstring which defines purpose of classes, just like comments\"\"\"\n",
    "    # class attribute\n",
    "    expense_tracker_version = 0.1\n",
    "    \"\"\"Class Expense Tracker\"\"\"\n",
    "    def __init__(self, tracker_category, opening_balance, budget):\n",
    "        # Instance/Object Attributes\n",
    "        # Public Attributes\n",
    "        self.tracker_category = tracker_category\n",
    "        # Private Attributes\n",
    "        self.__opening_balance = opening_balance\n",
    "        self.__budget = budget\n",
    "        \n",
    "        # Instance Methods\n",
    "        # Private Methods\n",
    "    def __get_opening_balance(self):\n",
    "        return self.__opening_balance\n",
    "    def check_balance(self, limit = 1000):\n",
    "        if self.budget >= limit:\n",
    "            return True\n",
    "        else :\n",
    "            return \"Your balance is less than the limit\"\n",
    "    @staticmethod\n",
    "    def convert_amount(amount):\n",
    "        return float(amount)\n",
    "    # Factory Method\n",
    "    @classmethod\n",
    "    def get_attributes_fromstring(cls,diary_entry:str):\n",
    "        tracker_category , opening_balance , budget = diary_entry.split(\" \")\n",
    "        \n",
    "        return ExpenseTracker(tracker_category.capitalize(),\n",
    "                                cls.convert_amount(opening_balance),\n",
    "                                cls.convert_amount(budget)\n",
    "                             )\n",
    "                        "
   ]
  },
  {
   "cell_type": "code",
   "execution_count": 15,
   "id": "c2c3a7e5",
   "metadata": {},
   "outputs": [],
   "source": [
    "home_tracker = ExpenseTracker('home',5000,10000)"
   ]
  },
  {
   "cell_type": "code",
   "execution_count": 17,
   "id": "be4cc6f9",
   "metadata": {},
   "outputs": [
    {
     "data": {
      "text/plain": [
       "'home'"
      ]
     },
     "execution_count": 17,
     "metadata": {},
     "output_type": "execute_result"
    }
   ],
   "source": [
    "home_tracker.tracker_category"
   ]
  },
  {
   "cell_type": "code",
   "execution_count": 19,
   "id": "d759b837",
   "metadata": {},
   "outputs": [],
   "source": [
    "shopping_tracker = ExpenseTracker('shopping',2000,5000)"
   ]
  },
  {
   "cell_type": "code",
   "execution_count": 22,
   "id": "18ffd645",
   "metadata": {},
   "outputs": [
    {
     "data": {
      "text/plain": [
       "5000"
      ]
     },
     "execution_count": 22,
     "metadata": {},
     "output_type": "execute_result"
    }
   ],
   "source": [
    "shopping_tracker.budget"
   ]
  },
  {
   "cell_type": "code",
   "execution_count": 24,
   "id": "9d4b4956",
   "metadata": {},
   "outputs": [
    {
     "data": {
      "text/plain": [
       "{'tracker_category': 'home', 'opening_balance': 5000, 'budget': 10000}"
      ]
     },
     "execution_count": 24,
     "metadata": {},
     "output_type": "execute_result"
    }
   ],
   "source": [
    "home_tracker.__dict__"
   ]
  },
  {
   "cell_type": "code",
   "execution_count": 26,
   "id": "1ef47158",
   "metadata": {},
   "outputs": [
    {
     "data": {
      "text/plain": [
       "{'tracker_category': 'shopping', 'opening_balance': 2000, 'budget': 5000}"
      ]
     },
     "execution_count": 26,
     "metadata": {},
     "output_type": "execute_result"
    }
   ],
   "source": [
    "shopping_tracker.__dict__"
   ]
  },
  {
   "cell_type": "code",
   "execution_count": 29,
   "id": "b558c857",
   "metadata": {},
   "outputs": [
    {
     "data": {
      "text/plain": [
       "5000"
      ]
     },
     "execution_count": 29,
     "metadata": {},
     "output_type": "execute_result"
    }
   ],
   "source": [
    "getattr(home_tracker,'opening_balance')"
   ]
  },
  {
   "cell_type": "code",
   "execution_count": 32,
   "id": "517d8748",
   "metadata": {},
   "outputs": [
    {
     "data": {
      "text/plain": [
       "False"
      ]
     },
     "execution_count": 32,
     "metadata": {},
     "output_type": "execute_result"
    }
   ],
   "source": [
    "hasattr(shopping_tracker,'tracker')"
   ]
  },
  {
   "cell_type": "code",
   "execution_count": 45,
   "id": "0c0d536a",
   "metadata": {},
   "outputs": [
    {
     "ename": "AttributeError",
     "evalue": "opening_balance",
     "output_type": "error",
     "traceback": [
      "\u001b[1;31m---------------------------------------------------------------------------\u001b[0m",
      "\u001b[1;31mAttributeError\u001b[0m                            Traceback (most recent call last)",
      "\u001b[1;32m<ipython-input-45-315e1033cc89>\u001b[0m in \u001b[0;36m<module>\u001b[1;34m\u001b[0m\n\u001b[1;32m----> 1\u001b[1;33m \u001b[0mdelattr\u001b[0m\u001b[1;33m(\u001b[0m\u001b[0mshopping_tracker\u001b[0m\u001b[1;33m,\u001b[0m \u001b[1;34m'opening_balance'\u001b[0m\u001b[1;33m)\u001b[0m\u001b[1;33m\u001b[0m\u001b[1;33m\u001b[0m\u001b[0m\n\u001b[0m",
      "\u001b[1;31mAttributeError\u001b[0m: opening_balance"
     ]
    }
   ],
   "source": [
    "delattr(shopping_tracker, 'opening_balance')"
   ]
  },
  {
   "cell_type": "code",
   "execution_count": 47,
   "id": "0b94021d",
   "metadata": {},
   "outputs": [
    {
     "data": {
      "text/plain": [
       "{'tracker_category': 'shopping'}"
      ]
     },
     "execution_count": 47,
     "metadata": {},
     "output_type": "execute_result"
    }
   ],
   "source": [
    "shopping_tracker.__dict__"
   ]
  },
  {
   "cell_type": "code",
   "execution_count": 50,
   "id": "2a1c8d0f",
   "metadata": {},
   "outputs": [
    {
     "data": {
      "text/plain": [
       "0.1"
      ]
     },
     "execution_count": 50,
     "metadata": {},
     "output_type": "execute_result"
    }
   ],
   "source": [
    "home_tracker.expense_tracker_version"
   ]
  },
  {
   "cell_type": "code",
   "execution_count": 52,
   "id": "db4564df",
   "metadata": {},
   "outputs": [
    {
     "data": {
      "text/plain": [
       "0.1"
      ]
     },
     "execution_count": 52,
     "metadata": {},
     "output_type": "execute_result"
    }
   ],
   "source": [
    "shopping_tracker.expense_tracker_version"
   ]
  },
  {
   "cell_type": "code",
   "execution_count": 53,
   "id": "ba05bf02",
   "metadata": {},
   "outputs": [],
   "source": [
    "# As mentioned Above\n",
    "# The Value of Class attribute doesn't change for different objects with same class but value of instance attributes changes for different objects with same class."
   ]
  },
  {
   "cell_type": "code",
   "execution_count": 55,
   "id": "e86b5f10",
   "metadata": {},
   "outputs": [],
   "source": [
    "home_tracker.expense_tracker_version = 0.2"
   ]
  },
  {
   "cell_type": "code",
   "execution_count": 57,
   "id": "f8c304f8",
   "metadata": {},
   "outputs": [
    {
     "data": {
      "text/plain": [
       "0.2"
      ]
     },
     "execution_count": 57,
     "metadata": {},
     "output_type": "execute_result"
    }
   ],
   "source": [
    "home_tracker.expense_tracker_version"
   ]
  },
  {
   "cell_type": "code",
   "execution_count": 59,
   "id": "73a4ee5b",
   "metadata": {},
   "outputs": [
    {
     "data": {
      "text/plain": [
       "0.1"
      ]
     },
     "execution_count": 59,
     "metadata": {},
     "output_type": "execute_result"
    }
   ],
   "source": [
    "shopping_tracker.expense_tracker_version"
   ]
  },
  {
   "cell_type": "code",
   "execution_count": 63,
   "id": "85d8b2d5",
   "metadata": {},
   "outputs": [
    {
     "ename": "AttributeError",
     "evalue": "'Student' object has no attribute 'age'",
     "output_type": "error",
     "traceback": [
      "\u001b[1;31m---------------------------------------------------------------------------\u001b[0m",
      "\u001b[1;31mAttributeError\u001b[0m                            Traceback (most recent call last)",
      "\u001b[1;32m<ipython-input-63-20770a781321>\u001b[0m in \u001b[0;36m<module>\u001b[1;34m\u001b[0m\n\u001b[0;32m      8\u001b[0m \u001b[0ms\u001b[0m\u001b[1;33m.\u001b[0m\u001b[0mstore_details\u001b[0m\u001b[1;33m(\u001b[0m\u001b[1;33m)\u001b[0m\u001b[1;33m\u001b[0m\u001b[1;33m\u001b[0m\u001b[0m\n\u001b[0;32m      9\u001b[0m \u001b[0ms1\u001b[0m \u001b[1;33m=\u001b[0m \u001b[0mStudent\u001b[0m\u001b[1;33m(\u001b[0m\u001b[1;33m)\u001b[0m\u001b[1;33m\u001b[0m\u001b[1;33m\u001b[0m\u001b[0m\n\u001b[1;32m---> 10\u001b[1;33m \u001b[0ms1\u001b[0m\u001b[1;33m.\u001b[0m\u001b[0mprint_age\u001b[0m\u001b[1;33m(\u001b[0m\u001b[1;33m)\u001b[0m\u001b[1;33m\u001b[0m\u001b[1;33m\u001b[0m\u001b[0m\n\u001b[0m",
      "\u001b[1;32m<ipython-input-63-20770a781321>\u001b[0m in \u001b[0;36mprint_age\u001b[1;34m(self)\u001b[0m\n\u001b[0;32m      4\u001b[0m         \u001b[0mself\u001b[0m\u001b[1;33m.\u001b[0m\u001b[0mage\u001b[0m \u001b[1;33m=\u001b[0m \u001b[1;36m60\u001b[0m\u001b[1;33m\u001b[0m\u001b[1;33m\u001b[0m\u001b[0m\n\u001b[0;32m      5\u001b[0m     \u001b[1;32mdef\u001b[0m \u001b[0mprint_age\u001b[0m\u001b[1;33m(\u001b[0m\u001b[0mself\u001b[0m\u001b[1;33m)\u001b[0m\u001b[1;33m:\u001b[0m\u001b[1;33m\u001b[0m\u001b[1;33m\u001b[0m\u001b[0m\n\u001b[1;32m----> 6\u001b[1;33m         \u001b[0mprint\u001b[0m\u001b[1;33m(\u001b[0m\u001b[0mself\u001b[0m\u001b[1;33m.\u001b[0m\u001b[0mage\u001b[0m\u001b[1;33m)\u001b[0m\u001b[1;33m\u001b[0m\u001b[1;33m\u001b[0m\u001b[0m\n\u001b[0m\u001b[0;32m      7\u001b[0m \u001b[0ms\u001b[0m \u001b[1;33m=\u001b[0m \u001b[0mStudent\u001b[0m\u001b[1;33m(\u001b[0m\u001b[1;33m)\u001b[0m\u001b[1;33m\u001b[0m\u001b[1;33m\u001b[0m\u001b[0m\n\u001b[0;32m      8\u001b[0m \u001b[0ms\u001b[0m\u001b[1;33m.\u001b[0m\u001b[0mstore_details\u001b[0m\u001b[1;33m(\u001b[0m\u001b[1;33m)\u001b[0m\u001b[1;33m\u001b[0m\u001b[1;33m\u001b[0m\u001b[0m\n",
      "\u001b[1;31mAttributeError\u001b[0m: 'Student' object has no attribute 'age'"
     ]
    }
   ],
   "source": [
    "class Student:\n",
    "    name = \"shambho\"\n",
    "    def store_details(self):\n",
    "        self.age = 60\n",
    "    def print_age(self):\n",
    "        print(self.age)\n",
    "s = Student()\n",
    "s.store_details()\n",
    "s1 = Student()\n",
    "s1.print_age()"
   ]
  },
  {
   "cell_type": "code",
   "execution_count": 72,
   "id": "214111d9",
   "metadata": {},
   "outputs": [
    {
     "data": {
      "text/plain": [
       "5000"
      ]
     },
     "execution_count": 72,
     "metadata": {},
     "output_type": "execute_result"
    }
   ],
   "source": [
    "test = ExpenseTracker(\"end\",5000,7000)\n",
    "test.get_opening_balance()"
   ]
  },
  {
   "cell_type": "code",
   "execution_count": 103,
   "id": "984d522e",
   "metadata": {},
   "outputs": [],
   "source": [
    "obj = ExpenseTracker(\"Business\",50000,50)"
   ]
  },
  {
   "cell_type": "code",
   "execution_count": 104,
   "id": "ccaed575",
   "metadata": {},
   "outputs": [
    {
     "data": {
      "text/plain": [
       "'Your balance is less than the limit'"
      ]
     },
     "execution_count": 104,
     "metadata": {},
     "output_type": "execute_result"
    }
   ],
   "source": [
    "obj.check_balance(limit = 51)"
   ]
  },
  {
   "cell_type": "code",
   "execution_count": 107,
   "id": "9c3c8ff9",
   "metadata": {},
   "outputs": [
    {
     "data": {
      "text/plain": [
       "5000000.0"
      ]
     },
     "execution_count": 107,
     "metadata": {},
     "output_type": "execute_result"
    }
   ],
   "source": [
    "obj.convert_amount(5000000)"
   ]
  },
  {
   "cell_type": "code",
   "execution_count": 111,
   "id": "ab6f62a8",
   "metadata": {},
   "outputs": [],
   "source": [
    "classObj = ExpenseTracker.get_attributes_fromstring(\"shopping 0 1000\")"
   ]
  },
  {
   "cell_type": "code",
   "execution_count": 113,
   "id": "4f53f63b",
   "metadata": {},
   "outputs": [
    {
     "data": {
      "text/plain": [
       "{'tracker_category': 'Shopping', 'opening_balance': 0.0, 'budget': 1000.0}"
      ]
     },
     "execution_count": 113,
     "metadata": {},
     "output_type": "execute_result"
    }
   ],
   "source": [
    "classObj.__dict__"
   ]
  },
  {
   "cell_type": "code",
   "execution_count": 137,
   "id": "36ef6e81",
   "metadata": {},
   "outputs": [],
   "source": [
    "home = ExpenseTracker(\"home\",0,1000)"
   ]
  },
  {
   "cell_type": "code",
   "execution_count": 124,
   "id": "1786bae7",
   "metadata": {},
   "outputs": [
    {
     "data": {
      "text/plain": [
       "'home'"
      ]
     },
     "execution_count": 124,
     "metadata": {},
     "output_type": "execute_result"
    }
   ],
   "source": [
    "home.tracker_category"
   ]
  },
  {
   "cell_type": "code",
   "execution_count": 148,
   "id": "dd1cb7da",
   "metadata": {},
   "outputs": [
    {
     "ename": "AttributeError",
     "evalue": "'ExpenseTracker' object has no attribute '__opening_balance'",
     "output_type": "error",
     "traceback": [
      "\u001b[1;31m---------------------------------------------------------------------------\u001b[0m",
      "\u001b[1;31mAttributeError\u001b[0m                            Traceback (most recent call last)",
      "\u001b[1;32m<ipython-input-148-cc8a6a92eaa2>\u001b[0m in \u001b[0;36m<module>\u001b[1;34m\u001b[0m\n\u001b[1;32m----> 1\u001b[1;33m \u001b[0mhome\u001b[0m\u001b[1;33m.\u001b[0m\u001b[0m__opening_balance\u001b[0m\u001b[1;33m\u001b[0m\u001b[1;33m\u001b[0m\u001b[0m\n\u001b[0m",
      "\u001b[1;31mAttributeError\u001b[0m: 'ExpenseTracker' object has no attribute '__opening_balance'"
     ]
    }
   ],
   "source": [
    "home.__opening_balance"
   ]
  },
  {
   "cell_type": "code",
   "execution_count": 149,
   "id": "7124ab53",
   "metadata": {},
   "outputs": [
    {
     "ename": "AttributeError",
     "evalue": "'ExpenseTracker' object has no attribute '__budget'",
     "output_type": "error",
     "traceback": [
      "\u001b[1;31m---------------------------------------------------------------------------\u001b[0m",
      "\u001b[1;31mAttributeError\u001b[0m                            Traceback (most recent call last)",
      "\u001b[1;32m<ipython-input-149-a95bab8bfdd7>\u001b[0m in \u001b[0;36m<module>\u001b[1;34m\u001b[0m\n\u001b[1;32m----> 1\u001b[1;33m \u001b[0mhome\u001b[0m\u001b[1;33m.\u001b[0m\u001b[0m__budget\u001b[0m\u001b[1;33m\u001b[0m\u001b[1;33m\u001b[0m\u001b[0m\n\u001b[0m",
      "\u001b[1;31mAttributeError\u001b[0m: 'ExpenseTracker' object has no attribute '__budget'"
     ]
    }
   ],
   "source": [
    "home.__budget"
   ]
  },
  {
   "cell_type": "code",
   "execution_count": 139,
   "id": "db0ed56e",
   "metadata": {},
   "outputs": [
    {
     "ename": "AttributeError",
     "evalue": "'ExpenseTracker' object has no attribute 'get_opening_balance'",
     "output_type": "error",
     "traceback": [
      "\u001b[1;31m---------------------------------------------------------------------------\u001b[0m",
      "\u001b[1;31mAttributeError\u001b[0m                            Traceback (most recent call last)",
      "\u001b[1;32m<ipython-input-139-406057e2a26e>\u001b[0m in \u001b[0;36m<module>\u001b[1;34m\u001b[0m\n\u001b[1;32m----> 1\u001b[1;33m \u001b[0mhome\u001b[0m\u001b[1;33m.\u001b[0m\u001b[0mget_opening_balance\u001b[0m\u001b[1;33m(\u001b[0m\u001b[1;33m)\u001b[0m\u001b[1;33m\u001b[0m\u001b[1;33m\u001b[0m\u001b[0m\n\u001b[0m",
      "\u001b[1;31mAttributeError\u001b[0m: 'ExpenseTracker' object has no attribute 'get_opening_balance'"
     ]
    }
   ],
   "source": [
    "home.get_opening_balance()"
   ]
  },
  {
   "cell_type": "code",
   "execution_count": 141,
   "id": "c6655966",
   "metadata": {},
   "outputs": [
    {
     "data": {
      "text/plain": [
       "{'tracker_category': 'home',\n",
       " '_ExpenseTracker__opening_balance': 0,\n",
       " '_ExpenseTracker__budget': 1000}"
      ]
     },
     "execution_count": 141,
     "metadata": {},
     "output_type": "execute_result"
    }
   ],
   "source": [
    "home.__dict__"
   ]
  },
  {
   "cell_type": "code",
   "execution_count": 143,
   "id": "683a00d9",
   "metadata": {},
   "outputs": [
    {
     "data": {
      "text/plain": [
       "0"
      ]
     },
     "execution_count": 143,
     "metadata": {},
     "output_type": "execute_result"
    }
   ],
   "source": [
    "home._ExpenseTracker__opening_balance"
   ]
  },
  {
   "cell_type": "code",
   "execution_count": 145,
   "id": "165d85e3",
   "metadata": {},
   "outputs": [
    {
     "data": {
      "text/plain": [
       "1000"
      ]
     },
     "execution_count": 145,
     "metadata": {},
     "output_type": "execute_result"
    }
   ],
   "source": [
    "home._ExpenseTracker__budget"
   ]
  },
  {
   "cell_type": "code",
   "execution_count": 150,
   "id": "7d31a446",
   "metadata": {},
   "outputs": [
    {
     "ename": "AttributeError",
     "evalue": "'ExpenseTracker' object has no attribute '__get_opening_balance'",
     "output_type": "error",
     "traceback": [
      "\u001b[1;31m---------------------------------------------------------------------------\u001b[0m",
      "\u001b[1;31mAttributeError\u001b[0m                            Traceback (most recent call last)",
      "\u001b[1;32m<ipython-input-150-c77addc21c20>\u001b[0m in \u001b[0;36m<module>\u001b[1;34m\u001b[0m\n\u001b[1;32m----> 1\u001b[1;33m \u001b[0mhome\u001b[0m\u001b[1;33m.\u001b[0m\u001b[0m__get_opening_balance\u001b[0m\u001b[1;33m(\u001b[0m\u001b[1;33m)\u001b[0m\u001b[1;33m\u001b[0m\u001b[1;33m\u001b[0m\u001b[0m\n\u001b[0m",
      "\u001b[1;31mAttributeError\u001b[0m: 'ExpenseTracker' object has no attribute '__get_opening_balance'"
     ]
    }
   ],
   "source": [
    "home.__get_opening_balance()"
   ]
  },
  {
   "cell_type": "code",
   "execution_count": 152,
   "id": "22a6b15a",
   "metadata": {},
   "outputs": [
    {
     "data": {
      "text/plain": [
       "0"
      ]
     },
     "execution_count": 152,
     "metadata": {},
     "output_type": "execute_result"
    }
   ],
   "source": [
    "home._ExpenseTracker__get_opening_balance()"
   ]
  },
  {
   "cell_type": "code",
   "execution_count": 171,
   "id": "faf98a2d",
   "metadata": {},
   "outputs": [
    {
     "name": "stdout",
     "output_type": "stream",
     "text": [
      "None\n"
     ]
    }
   ],
   "source": [
    "from sys import stdin\n",
    "def pairStar(string,si):\n",
    "    if si >= len(string) - 1:\n",
    "        return \n",
    "    if string[si] == string[si + 1]:\n",
    "        '*'.join(string[si:si + 1])\n",
    "    output = pairStar(string,si + 1)\n",
    "    return string\n",
    "string = stdin.readline().strip()\n",
    "ans = pairStar(string,0)\n",
    "print(ans)\n"
   ]
  }
 ],
 "metadata": {
  "kernelspec": {
   "display_name": "Python 3",
   "language": "python",
   "name": "python3"
  },
  "language_info": {
   "codemirror_mode": {
    "name": "ipython",
    "version": 3
   },
   "file_extension": ".py",
   "mimetype": "text/x-python",
   "name": "python",
   "nbconvert_exporter": "python",
   "pygments_lexer": "ipython3",
   "version": "3.8.8"
  }
 },
 "nbformat": 4,
 "nbformat_minor": 5
}
