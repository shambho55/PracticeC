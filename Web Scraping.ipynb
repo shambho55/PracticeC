{
 "cells": [
  {
   "cell_type": "code",
   "execution_count": 46,
   "id": "e68ec94a",
   "metadata": {},
   "outputs": [],
   "source": [
    "html = '<!DOCTYPE html>\\\n",
    "<html>\\\n",
    "<head>\\\n",
    "<title> Testing Web Page </title>\\\n",
    "</head>\\\n",
    "<body>\\\n",
    "<h1> Web Scraping </h1>\\\n",
    "<p id = \"first_para\">\\\n",
    "Let\\'s start learning \\\n",
    "<b>\\\n",
    "Web Scraping\\\n",
    "</b>\\\n",
    "</p>\\\n",
    "<p class = \"abc\" id = \"second_para\">\\\n",
    "You can read more about BeautifulSoup from <a href=\"https://www.crummy.com/software/BeautifulSoup/bs4/doc\"> here </a>\\\n",
    "</p>\\\n",
    "<p class = \"abc\">\\\n",
    "<a href = \"https://codingninjas.in/\"> Coding Ninjas </a>\\\n",
    "</p>\\\n",
    "</body>\\\n",
    "</html>'"
   ]
  },
  {
   "cell_type": "code",
   "execution_count": 47,
   "id": "45c35321",
   "metadata": {},
   "outputs": [],
   "source": [
    "from bs4 import BeautifulSoup"
   ]
  },
  {
   "cell_type": "code",
   "execution_count": 48,
   "id": "8f55b391",
   "metadata": {},
   "outputs": [
    {
     "data": {
      "text/plain": [
       "<!DOCTYPE html>\n",
       "<html><head><title> Testing Web Page </title></head><body><h1> Web Scraping </h1><p id=\"first_para\">Let's start learning <b>Web Scraping</b></p><p class=\"abc\" id=\"second_para\">You can read more about BeautifulSoup from <a href=\"https://www.crummy.com/software/BeautifulSoup/bs4/doc\"> here </a></p><p class=\"abc\"><a href=\"https://codingninjas.in/\"> Coding Ninjas </a></p></body></html>"
      ]
     },
     "execution_count": 48,
     "metadata": {},
     "output_type": "execute_result"
    }
   ],
   "source": [
    "data = BeautifulSoup(html,'html.parser')\n",
    "data"
   ]
  },
  {
   "cell_type": "code",
   "execution_count": 5,
   "id": "fd41eafb",
   "metadata": {},
   "outputs": [
    {
     "data": {
      "text/plain": [
       "bs4.BeautifulSoup"
      ]
     },
     "execution_count": 5,
     "metadata": {},
     "output_type": "execute_result"
    }
   ],
   "source": [
    "type(data)"
   ]
  },
  {
   "cell_type": "code",
   "execution_count": 6,
   "id": "d94cea96",
   "metadata": {},
   "outputs": [
    {
     "name": "stdout",
     "output_type": "stream",
     "text": [
      "<!DOCTYPE html>\n",
      "<html>\n",
      " <head>\n",
      "  <title>\n",
      "   Testing Web Page\n",
      "  </title>\n",
      " </head>\n",
      " <body>\n",
      "  <h1>\n",
      "   Web Scraping\n",
      "  </h1>\n",
      "  <p id=\"first_para\">\n",
      "   Let's start learning\n",
      "   <b>\n",
      "    Web Scraping\n",
      "   </b>\n",
      "  </p>\n",
      "  <p class=\"abc\" id=\"second_para\">\n",
      "   You can read more about BeautifulSoup from\n",
      "   <a href=\"https://www.crummy.com/software/BeautifulSoup/bs4/doc\">\n",
      "    here\n",
      "   </a>\n",
      "  </p>\n",
      "  <p class=\"abc\">\n",
      "   <a href=\"https://codingninjas.in/\">\n",
      "    Coding Ninjas\n",
      "   </a>\n",
      "  </p>\n",
      " </body>\n",
      "</html>\n"
     ]
    }
   ],
   "source": [
    "print(data.prettify())"
   ]
  },
  {
   "cell_type": "code",
   "execution_count": 7,
   "id": "88c85787",
   "metadata": {},
   "outputs": [
    {
     "data": {
      "text/plain": [
       "<title> Testing Web Page </title>"
      ]
     },
     "execution_count": 7,
     "metadata": {},
     "output_type": "execute_result"
    }
   ],
   "source": [
    "data.title"
   ]
  },
  {
   "cell_type": "code",
   "execution_count": 8,
   "id": "5015f6ee",
   "metadata": {},
   "outputs": [
    {
     "data": {
      "text/plain": [
       "<head><title> Testing Web Page </title></head>"
      ]
     },
     "execution_count": 8,
     "metadata": {},
     "output_type": "execute_result"
    }
   ],
   "source": [
    "data.head"
   ]
  },
  {
   "cell_type": "code",
   "execution_count": 9,
   "id": "fd731249",
   "metadata": {},
   "outputs": [
    {
     "data": {
      "text/plain": [
       "<h1> Web Scraping </h1>"
      ]
     },
     "execution_count": 9,
     "metadata": {},
     "output_type": "execute_result"
    }
   ],
   "source": [
    "data.h1"
   ]
  },
  {
   "cell_type": "code",
   "execution_count": 11,
   "id": "dbffdee5",
   "metadata": {},
   "outputs": [
    {
     "name": "stdout",
     "output_type": "stream",
     "text": [
      "<p id=\"first_para\">Let's start learning <b>Web Scraping</b></p>\n"
     ]
    }
   ],
   "source": [
    "print(data.p)"
   ]
  },
  {
   "cell_type": "code",
   "execution_count": 12,
   "id": "37415da5",
   "metadata": {},
   "outputs": [
    {
     "data": {
      "text/plain": [
       "<p id=\"first_para\">Let's start learning <b>Web Scraping</b></p>"
      ]
     },
     "execution_count": 12,
     "metadata": {},
     "output_type": "execute_result"
    }
   ],
   "source": [
    "data.p"
   ]
  },
  {
   "cell_type": "code",
   "execution_count": 13,
   "id": "b2ab6c1d",
   "metadata": {},
   "outputs": [],
   "source": [
    "data.h2"
   ]
  },
  {
   "cell_type": "code",
   "execution_count": 20,
   "id": "38ddddd8",
   "metadata": {},
   "outputs": [
    {
     "name": "stdout",
     "output_type": "stream",
     "text": [
      "<title> Testing Web Page </title>\n",
      "title\n",
      " Testing Web Page \n",
      "{'href': 'https://www.crummy.com/software/BeautifulSoup/bs4/doc'}\n",
      "{'id': 'first_para'}\n"
     ]
    }
   ],
   "source": [
    "print(data.title)\n",
    "print(data.title.name)\n",
    "print(data.title.string)\n",
    "print(data.a.attrs)\n",
    "print(data.p.attrs)"
   ]
  },
  {
   "cell_type": "code",
   "execution_count": 36,
   "id": "6c72fcfe",
   "metadata": {},
   "outputs": [
    {
     "data": {
      "text/plain": [
       "\" Testing Web Page  Web Scraping Let's start learning Web ScrapingYou can read more about BeautifulSoup from  here  Coding Ninjas \""
      ]
     },
     "execution_count": 36,
     "metadata": {},
     "output_type": "execute_result"
    }
   ],
   "source": [
    "data.get_text()"
   ]
  },
  {
   "cell_type": "code",
   "execution_count": 22,
   "id": "59c94e13",
   "metadata": {},
   "outputs": [
    {
     "data": {
      "text/plain": [
       "'first_para'"
      ]
     },
     "execution_count": 22,
     "metadata": {},
     "output_type": "execute_result"
    }
   ],
   "source": [
    "data.p['id']"
   ]
  },
  {
   "cell_type": "code",
   "execution_count": 23,
   "id": "34c738e0",
   "metadata": {},
   "outputs": [
    {
     "data": {
      "text/plain": [
       "'first_para'"
      ]
     },
     "execution_count": 23,
     "metadata": {},
     "output_type": "execute_result"
    }
   ],
   "source": [
    "data.p.get('id')"
   ]
  },
  {
   "cell_type": "code",
   "execution_count": 24,
   "id": "6d04c139",
   "metadata": {},
   "outputs": [
    {
     "ename": "KeyError",
     "evalue": "'class'",
     "output_type": "error",
     "traceback": [
      "\u001b[1;31m---------------------------------------------------------------------------\u001b[0m",
      "\u001b[1;31mKeyError\u001b[0m                                  Traceback (most recent call last)",
      "\u001b[1;32m<ipython-input-24-bf385ce65249>\u001b[0m in \u001b[0;36m<module>\u001b[1;34m\u001b[0m\n\u001b[1;32m----> 1\u001b[1;33m \u001b[0mdata\u001b[0m\u001b[1;33m.\u001b[0m\u001b[0mp\u001b[0m\u001b[1;33m[\u001b[0m\u001b[1;34m'class'\u001b[0m\u001b[1;33m]\u001b[0m\u001b[1;33m\u001b[0m\u001b[1;33m\u001b[0m\u001b[0m\n\u001b[0m",
      "\u001b[1;32mF:\\anaconda\\lib\\site-packages\\bs4\\element.py\u001b[0m in \u001b[0;36m__getitem__\u001b[1;34m(self, key)\u001b[0m\n\u001b[0;32m   1404\u001b[0m         \"\"\"tag[key] returns the value of the 'key' attribute for the Tag,\n\u001b[0;32m   1405\u001b[0m         and throws an exception if it's not there.\"\"\"\n\u001b[1;32m-> 1406\u001b[1;33m         \u001b[1;32mreturn\u001b[0m \u001b[0mself\u001b[0m\u001b[1;33m.\u001b[0m\u001b[0mattrs\u001b[0m\u001b[1;33m[\u001b[0m\u001b[0mkey\u001b[0m\u001b[1;33m]\u001b[0m\u001b[1;33m\u001b[0m\u001b[1;33m\u001b[0m\u001b[0m\n\u001b[0m\u001b[0;32m   1407\u001b[0m \u001b[1;33m\u001b[0m\u001b[0m\n\u001b[0;32m   1408\u001b[0m     \u001b[1;32mdef\u001b[0m \u001b[0m__iter__\u001b[0m\u001b[1;33m(\u001b[0m\u001b[0mself\u001b[0m\u001b[1;33m)\u001b[0m\u001b[1;33m:\u001b[0m\u001b[1;33m\u001b[0m\u001b[1;33m\u001b[0m\u001b[0m\n",
      "\u001b[1;31mKeyError\u001b[0m: 'class'"
     ]
    }
   ],
   "source": [
    "data.p['class']"
   ]
  },
  {
   "cell_type": "code",
   "execution_count": 37,
   "id": "b0885ac1",
   "metadata": {},
   "outputs": [
    {
     "data": {
      "text/plain": [
       "{'id': 'first_para'}"
      ]
     },
     "execution_count": 37,
     "metadata": {},
     "output_type": "execute_result"
    }
   ],
   "source": [
    "data.find('p').attrs"
   ]
  },
  {
   "cell_type": "code",
   "execution_count": 32,
   "id": "4e7d3a02",
   "metadata": {},
   "outputs": [
    {
     "name": "stdout",
     "output_type": "stream",
     "text": [
      "<p id=\"first_para\">Let's start learning <b>Web Scraping</b></p>\n",
      "<p class=\"abc\" id=\"second_para\">You can read more about BeautifulSoup from <a href=\"https://www.crummy.com/software/BeautifulSoup/bs4/doc\"> here </a></p>\n",
      "<p class=\"abc\"><a href=\"https://codingninjas.in/\"> Coding Ninjas </a></p>\n"
     ]
    }
   ],
   "source": [
    "li = data.find_all('p')\n",
    "for i in li:\n",
    "    print(i)"
   ]
  },
  {
   "cell_type": "code",
   "execution_count": 28,
   "id": "fa5dfc62",
   "metadata": {},
   "outputs": [],
   "source": [
    "data.find('pr')"
   ]
  },
  {
   "cell_type": "markdown",
   "id": "c2c8257a",
   "metadata": {},
   "source": [
    "### Print Body tag"
   ]
  },
  {
   "cell_type": "code",
   "execution_count": 38,
   "id": "9ba99ba0",
   "metadata": {},
   "outputs": [
    {
     "name": "stdout",
     "output_type": "stream",
     "text": [
      "<body><h1> About Us </h1><div class=\"first_div\"><p>Coding Ninjas Website</p><a href=\"https://www.codingninjas.in/\">Link to Coding Ninjas Website</a><ul><li>This</li><li>is</li><li>an</li><li>unordered</li><li>list.</li></ul></div><p id=\"template_p\">This is a template paragraph tag</p><a href=\"https://www.facebook.com/codingninjas/\">This is the link of our Facebook Page</a></body>\n"
     ]
    }
   ],
   "source": [
    "## HTML Code is provided in variable html\n",
    "\n",
    "html = '<!DOCTYPE html><html><head><title>Learning Beautiful Soup</title></head>\\\n",
    "<body><h1> About Us </h1><div class = \"first_div\"><p>Coding Ninjas Website</p>\\\n",
    "<a href=\"https://www.codingninjas.in/\">Link to Coding Ninjas Website</a>\\\n",
    "<ul><li>This</li><li>is</li><li>an</li><li>unordered</li><li>list.</li></ul>\\\n",
    "</div><p id = \"template_p\">This is a template paragraph tag</p>\\\n",
    "<a href = \"https://www.facebook.com/codingninjas/\">\\\n",
    "This is the link of our Facebook Page</a></body></html>'\n",
    "\n",
    "## Print the required output in given format\n",
    "from bs4 import BeautifulSoup\n",
    "data = BeautifulSoup(html,'html.parser')\n",
    "print(data.body)"
   ]
  },
  {
   "cell_type": "markdown",
   "id": "dd347d29",
   "metadata": {},
   "source": [
    "### Attributes of div tag"
   ]
  },
  {
   "cell_type": "code",
   "execution_count": 39,
   "id": "bcb4ec02",
   "metadata": {},
   "outputs": [
    {
     "name": "stdout",
     "output_type": "stream",
     "text": [
      "class\n"
     ]
    }
   ],
   "source": [
    "## HTML Code is provided in variable html\n",
    "\n",
    "html = '<!DOCTYPE html><html><head><title>Learning Beautiful Soup</title></head>\\\n",
    "<body><h1> About Us </h1><div class = \"first_div\"><p>Coding Ninjas Website</p>\\\n",
    "<a href=\"https://www.codingninjas.in/\">Link to Coding Ninjas Website</a>\\\n",
    "<ul><li>This</li><li>is</li><li>an</li><li>unordered</li><li>list.</li></ul>\\\n",
    "</div><p id = \"template_p\">This is a template paragraph tag</p>\\\n",
    "<a href = \"https://www.facebook.com/codingninjas/\">\\\n",
    "This is the link of our Facebook Page</a></body></html>'\n",
    "\n",
    "## Print the required output in given format\n",
    "from bs4 import BeautifulSoup\n",
    "data = BeautifulSoup(html,'html.parser')\n",
    "att = data.div.attrs\n",
    "for i in att:\n",
    "    print(i)"
   ]
  },
  {
   "cell_type": "markdown",
   "id": "5e09d395",
   "metadata": {},
   "source": [
    "### Strings of li"
   ]
  },
  {
   "cell_type": "code",
   "execution_count": 40,
   "id": "0d5a4f2b",
   "metadata": {},
   "outputs": [
    {
     "name": "stdout",
     "output_type": "stream",
     "text": [
      "This is an unordered list. "
     ]
    }
   ],
   "source": [
    "## HTML Code is provided in variable html\n",
    "\n",
    "html = '<!DOCTYPE html><html><head><title>Learning Beautiful Soup</title></head>\\\n",
    "<body><h1> About Us </h1><div class = \"first_div\"><p>Coding Ninjas Website</p>\\\n",
    "<a href=\"https://www.codingninjas.in/\">Link to Coding Ninjas Website</a>\\\n",
    "<ul><li>This</li><li>is</li><li>an</li><li>unordered</li><li>list.</li></ul>\\\n",
    "</div><p id = \"template_p\">This is a template paragraph tag</p>\\\n",
    "<a href = \"https://www.facebook.com/codingninjas/\">\\\n",
    "This is the link of our Facebook Page</a></body></html>'\n",
    "\n",
    "## Print the required output in given format\n",
    "from bs4 import BeautifulSoup\n",
    "data = BeautifulSoup(html,'html.parser')\n",
    "tags = data.find_all('li')\n",
    "for i in tags:\n",
    "    print(i.string,end = ' ')"
   ]
  },
  {
   "cell_type": "markdown",
   "id": "e36f16be",
   "metadata": {},
   "source": [
    "### href of A tag"
   ]
  },
  {
   "cell_type": "code",
   "execution_count": 42,
   "id": "dff774df",
   "metadata": {},
   "outputs": [
    {
     "name": "stdout",
     "output_type": "stream",
     "text": [
      "https://www.codingninjas.in/\n",
      "https://www.facebook.com/codingninjas/\n"
     ]
    },
    {
     "data": {
      "text/plain": [
       "[<a href=\"https://www.codingninjas.in/\">Link to Coding Ninjas Website</a>,\n",
       " <a href=\"https://www.facebook.com/codingninjas/\">This is the link of our Facebook Page</a>]"
      ]
     },
     "execution_count": 42,
     "metadata": {},
     "output_type": "execute_result"
    }
   ],
   "source": [
    "## HTML Code is provided in variable html\n",
    "\n",
    "html = '<!DOCTYPE html><html><head><title>Learning Beautiful Soup</title></head>\\\n",
    "<body><h1> About Us </h1><div class = \"first_div\"><p>Coding Ninjas Website</p>\\\n",
    "<a href=\"https://www.codingninjas.in/\">Link to Coding Ninjas Website</a>\\\n",
    "<ul><li>This</li><li>is</li><li>an</li><li>unordered</li><li>list.</li></ul>\\\n",
    "</div><p id = \"template_p\">This is a template paragraph tag</p>\\\n",
    "<a href = \"https://www.facebook.com/codingninjas/\">\\\n",
    "This is the link of our Facebook Page</a></body></html>'\n",
    "\n",
    "## Print the required output in given format\n",
    "from bs4 import BeautifulSoup\n",
    "data = BeautifulSoup(html,'html.parser')\n",
    "href = data.find_all('a')\n",
    "for i in href:\n",
    "    print(i.attrs['href'])\n",
    "href"
   ]
  },
  {
   "cell_type": "code",
   "execution_count": 43,
   "id": "c8ef02b3",
   "metadata": {},
   "outputs": [
    {
     "data": {
      "text/plain": [
       "[<p>Coding Ninjas Website</p>,\n",
       " <a href=\"https://www.codingninjas.in/\">Link to Coding Ninjas Website</a>,\n",
       " <p id=\"template_p\">This is a template paragraph tag</p>,\n",
       " <a href=\"https://www.facebook.com/codingninjas/\">This is the link of our Facebook Page</a>]"
      ]
     },
     "execution_count": 43,
     "metadata": {},
     "output_type": "execute_result"
    }
   ],
   "source": [
    "data.find_all(['p','a'])"
   ]
  },
  {
   "cell_type": "code",
   "execution_count": 44,
   "id": "f0bf8d18",
   "metadata": {},
   "outputs": [
    {
     "data": {
      "text/plain": [
       "[<html><head><title>Learning Beautiful Soup</title></head><body><h1> About Us </h1><div class=\"first_div\"><p>Coding Ninjas Website</p><a href=\"https://www.codingninjas.in/\">Link to Coding Ninjas Website</a><ul><li>This</li><li>is</li><li>an</li><li>unordered</li><li>list.</li></ul></div><p id=\"template_p\">This is a template paragraph tag</p><a href=\"https://www.facebook.com/codingninjas/\">This is the link of our Facebook Page</a></body></html>,\n",
       " <head><title>Learning Beautiful Soup</title></head>,\n",
       " <title>Learning Beautiful Soup</title>,\n",
       " <body><h1> About Us </h1><div class=\"first_div\"><p>Coding Ninjas Website</p><a href=\"https://www.codingninjas.in/\">Link to Coding Ninjas Website</a><ul><li>This</li><li>is</li><li>an</li><li>unordered</li><li>list.</li></ul></div><p id=\"template_p\">This is a template paragraph tag</p><a href=\"https://www.facebook.com/codingninjas/\">This is the link of our Facebook Page</a></body>,\n",
       " <h1> About Us </h1>,\n",
       " <div class=\"first_div\"><p>Coding Ninjas Website</p><a href=\"https://www.codingninjas.in/\">Link to Coding Ninjas Website</a><ul><li>This</li><li>is</li><li>an</li><li>unordered</li><li>list.</li></ul></div>,\n",
       " <p>Coding Ninjas Website</p>,\n",
       " <a href=\"https://www.codingninjas.in/\">Link to Coding Ninjas Website</a>,\n",
       " <ul><li>This</li><li>is</li><li>an</li><li>unordered</li><li>list.</li></ul>,\n",
       " <li>This</li>,\n",
       " <li>is</li>,\n",
       " <li>an</li>,\n",
       " <li>unordered</li>,\n",
       " <li>list.</li>,\n",
       " <p id=\"template_p\">This is a template paragraph tag</p>,\n",
       " <a href=\"https://www.facebook.com/codingninjas/\">This is the link of our Facebook Page</a>]"
      ]
     },
     "execution_count": 44,
     "metadata": {},
     "output_type": "execute_result"
    }
   ],
   "source": [
    "data.find_all(True)"
   ]
  },
  {
   "cell_type": "code",
   "execution_count": 49,
   "id": "c3c460db",
   "metadata": {},
   "outputs": [
    {
     "data": {
      "text/plain": [
       "[<p id=\"first_para\">Let's start learning <b>Web Scraping</b></p>]"
      ]
     },
     "execution_count": 49,
     "metadata": {},
     "output_type": "execute_result"
    }
   ],
   "source": [
    "data.find_all(id = 'first_para')"
   ]
  },
  {
   "cell_type": "code",
   "execution_count": 50,
   "id": "1dc6abfa",
   "metadata": {},
   "outputs": [
    {
     "data": {
      "text/plain": [
       "[<p class=\"abc\" id=\"second_para\">You can read more about BeautifulSoup from <a href=\"https://www.crummy.com/software/BeautifulSoup/bs4/doc\"> here </a></p>,\n",
       " <p class=\"abc\"><a href=\"https://codingninjas.in/\"> Coding Ninjas </a></p>]"
      ]
     },
     "execution_count": 50,
     "metadata": {},
     "output_type": "execute_result"
    }
   ],
   "source": [
    "data.find_all(class_ = 'abc')"
   ]
  },
  {
   "cell_type": "code",
   "execution_count": 54,
   "id": "f9c6df3b",
   "metadata": {},
   "outputs": [
    {
     "data": {
      "text/plain": [
       "[<a href=\"https://www.crummy.com/software/BeautifulSoup/bs4/doc\"> here </a>,\n",
       " <a href=\"https://codingninjas.in/\"> Coding Ninjas </a>]"
      ]
     },
     "execution_count": 54,
     "metadata": {},
     "output_type": "execute_result"
    }
   ],
   "source": [
    "data.select('a')"
   ]
  },
  {
   "cell_type": "code",
   "execution_count": 55,
   "id": "995c3e72",
   "metadata": {},
   "outputs": [
    {
     "name": "stdout",
     "output_type": "stream",
     "text": [
      "<!DOCTYPE html>\n",
      "<html>\n",
      " <head>\n",
      "  <title>\n",
      "   Testing Web Page\n",
      "  </title>\n",
      " </head>\n",
      " <body>\n",
      "  <h1>\n",
      "   Web Scraping\n",
      "  </h1>\n",
      "  <p id=\"first_para\">\n",
      "   Let's start learning\n",
      "   <b>\n",
      "    Web Scraping\n",
      "   </b>\n",
      "  </p>\n",
      "  <p class=\"abc\" id=\"second_para\">\n",
      "   You can read more about BeautifulSoup from\n",
      "   <a href=\"https://www.crummy.com/software/BeautifulSoup/bs4/doc\">\n",
      "    here\n",
      "   </a>\n",
      "  </p>\n",
      "  <p class=\"abc\">\n",
      "   <a href=\"https://codingninjas.in/\">\n",
      "    Coding Ninjas\n",
      "   </a>\n",
      "  </p>\n",
      " </body>\n",
      "</html>\n"
     ]
    }
   ],
   "source": [
    "print(data.prettify())"
   ]
  },
  {
   "cell_type": "code",
   "execution_count": 56,
   "id": "f47a1020",
   "metadata": {},
   "outputs": [
    {
     "data": {
      "text/plain": [
       "<head><title> Testing Web Page </title></head>"
      ]
     },
     "execution_count": 56,
     "metadata": {},
     "output_type": "execute_result"
    }
   ],
   "source": [
    "data.head"
   ]
  },
  {
   "cell_type": "code",
   "execution_count": 57,
   "id": "e226a9ee",
   "metadata": {},
   "outputs": [
    {
     "data": {
      "text/plain": [
       "<title> Testing Web Page </title>"
      ]
     },
     "execution_count": 57,
     "metadata": {},
     "output_type": "execute_result"
    }
   ],
   "source": [
    "data.head.title"
   ]
  },
  {
   "cell_type": "code",
   "execution_count": 58,
   "id": "b11b48ec",
   "metadata": {},
   "outputs": [
    {
     "data": {
      "text/plain": [
       "' Testing Web Page '"
      ]
     },
     "execution_count": 58,
     "metadata": {},
     "output_type": "execute_result"
    }
   ],
   "source": [
    "data.title.string"
   ]
  },
  {
   "cell_type": "code",
   "execution_count": 60,
   "id": "e87b2faa",
   "metadata": {},
   "outputs": [
    {
     "name": "stdout",
     "output_type": "stream",
     "text": [
      "<p id=\"first_para\">Let's start learning <b>Web Scraping</b></p>\n",
      "<p class=\"abc\" id=\"second_para\">You can read more about BeautifulSoup from <a href=\"https://www.crummy.com/software/BeautifulSoup/bs4/doc\"> here </a></p>\n",
      "<p class=\"abc\"><a href=\"https://codingninjas.in/\"> Coding Ninjas </a></p>\n"
     ]
    }
   ],
   "source": [
    "li = data.find_all('p')\n",
    "for i in li:\n",
    "    print(i)"
   ]
  },
  {
   "cell_type": "code",
   "execution_count": 61,
   "id": "92706140",
   "metadata": {},
   "outputs": [
    {
     "name": "stdout",
     "output_type": "stream",
     "text": [
      "None\n",
      "None\n",
      " Coding Ninjas \n"
     ]
    }
   ],
   "source": [
    "for i in li:\n",
    "    print(i.string)"
   ]
  },
  {
   "cell_type": "code",
   "execution_count": 65,
   "id": "45368a07",
   "metadata": {},
   "outputs": [
    {
     "name": "stdout",
     "output_type": "stream",
     "text": [
      "[\"Let's start learning \", 'Web Scraping']\n",
      "['You can read more about BeautifulSoup from ', ' here ']\n",
      "[' Coding Ninjas ']\n"
     ]
    }
   ],
   "source": [
    "for i in li:\n",
    "    print(list(i.strings))"
   ]
  },
  {
   "cell_type": "code",
   "execution_count": 67,
   "id": "7fb84101",
   "metadata": {},
   "outputs": [
    {
     "name": "stdout",
     "output_type": "stream",
     "text": [
      "[\"Let's start learning\", 'Web Scraping']\n",
      "['You can read more about BeautifulSoup from', 'here']\n",
      "['Coding Ninjas']\n"
     ]
    }
   ],
   "source": [
    "# Removing extra spaces from starting and end\n",
    "for i in li:\n",
    "    print(list(i.stripped_strings))"
   ]
  },
  {
   "cell_type": "code",
   "execution_count": 68,
   "id": "f38d51f1",
   "metadata": {},
   "outputs": [
    {
     "data": {
      "text/plain": [
       "<html><head><title> Testing Web Page </title></head><body><h1> Web Scraping </h1><p id=\"first_para\">Let's start learning <b>Web Scraping</b></p><p class=\"abc\" id=\"second_para\">You can read more about BeautifulSoup from <a href=\"https://www.crummy.com/software/BeautifulSoup/bs4/doc\"> here </a></p><p class=\"abc\"><a href=\"https://codingninjas.in/\"> Coding Ninjas </a></p></body></html>"
      ]
     },
     "execution_count": 68,
     "metadata": {},
     "output_type": "execute_result"
    }
   ],
   "source": [
    "data.html"
   ]
  },
  {
   "cell_type": "code",
   "execution_count": 70,
   "id": "0cf62df5",
   "metadata": {},
   "outputs": [
    {
     "name": "stdout",
     "output_type": "stream",
     "text": [
      "2\n",
      "[<head><title> Testing Web Page </title></head>, <body><h1> Web Scraping </h1><p id=\"first_para\">Let's start learning <b>Web Scraping</b></p><p class=\"abc\" id=\"second_para\">You can read more about BeautifulSoup from <a href=\"https://www.crummy.com/software/BeautifulSoup/bs4/doc\"> here </a></p><p class=\"abc\"><a href=\"https://codingninjas.in/\"> Coding Ninjas </a></p></body>]\n"
     ]
    }
   ],
   "source": [
    "li = data.html.contents\n",
    "print(len(li))\n",
    "print(li)"
   ]
  },
  {
   "cell_type": "code",
   "execution_count": 73,
   "id": "c1cce455",
   "metadata": {},
   "outputs": [
    {
     "name": "stdout",
     "output_type": "stream",
     "text": [
      "<head><title> Testing Web Page </title></head>\n",
      "<body><h1> Web Scraping </h1><p id=\"first_para\">Let's start learning <b>Web Scraping</b></p><p class=\"abc\" id=\"second_para\">You can read more about BeautifulSoup from <a href=\"https://www.crummy.com/software/BeautifulSoup/bs4/doc\"> here </a></p><p class=\"abc\"><a href=\"https://codingninjas.in/\"> Coding Ninjas </a></p></body>\n"
     ]
    }
   ],
   "source": [
    "li2 = data.html.children\n",
    "for i in li2:\n",
    "    print(i)"
   ]
  },
  {
   "cell_type": "markdown",
   "id": "9c595a77",
   "metadata": {},
   "source": [
    "### Attribute \"Descendants\""
   ]
  },
  {
   "cell_type": "code",
   "execution_count": 78,
   "id": "f41e9566",
   "metadata": {},
   "outputs": [
    {
     "data": {
      "text/plain": [
       "17"
      ]
     },
     "execution_count": 78,
     "metadata": {},
     "output_type": "execute_result"
    }
   ],
   "source": [
    "desc = list(data.html.descendants)\n",
    "len(desc)"
   ]
  },
  {
   "cell_type": "code",
   "execution_count": 77,
   "id": "8d0e2c76",
   "metadata": {},
   "outputs": [
    {
     "data": {
      "text/plain": [
       "[<head><title> Testing Web Page </title></head>,\n",
       " <title> Testing Web Page </title>,\n",
       " ' Testing Web Page ',\n",
       " <body><h1> Web Scraping </h1><p id=\"first_para\">Let's start learning <b>Web Scraping</b></p><p class=\"abc\" id=\"second_para\">You can read more about BeautifulSoup from <a href=\"https://www.crummy.com/software/BeautifulSoup/bs4/doc\"> here </a></p><p class=\"abc\"><a href=\"https://codingninjas.in/\"> Coding Ninjas </a></p></body>,\n",
       " <h1> Web Scraping </h1>,\n",
       " ' Web Scraping ',\n",
       " <p id=\"first_para\">Let's start learning <b>Web Scraping</b></p>,\n",
       " \"Let's start learning \",\n",
       " <b>Web Scraping</b>,\n",
       " 'Web Scraping',\n",
       " <p class=\"abc\" id=\"second_para\">You can read more about BeautifulSoup from <a href=\"https://www.crummy.com/software/BeautifulSoup/bs4/doc\"> here </a></p>,\n",
       " 'You can read more about BeautifulSoup from ',\n",
       " <a href=\"https://www.crummy.com/software/BeautifulSoup/bs4/doc\"> here </a>,\n",
       " ' here ',\n",
       " <p class=\"abc\"><a href=\"https://codingninjas.in/\"> Coding Ninjas </a></p>,\n",
       " <a href=\"https://codingninjas.in/\"> Coding Ninjas </a>,\n",
       " ' Coding Ninjas ']"
      ]
     },
     "execution_count": 77,
     "metadata": {},
     "output_type": "execute_result"
    }
   ],
   "source": [
    "desc"
   ]
  },
  {
   "cell_type": "code",
   "execution_count": 85,
   "id": "9d49c274",
   "metadata": {},
   "outputs": [
    {
     "data": {
      "text/plain": [
       "[<p class=\"abc\" id=\"second_para\">You can read more about BeautifulSoup from <a href=\"https://www.crummy.com/software/BeautifulSoup/bs4/doc\"> here </a></p>,\n",
       " <body><h1> Web Scraping </h1><p id=\"first_para\">Let's start learning <b>Web Scraping</b></p><p class=\"abc\" id=\"second_para\">You can read more about BeautifulSoup from <a href=\"https://www.crummy.com/software/BeautifulSoup/bs4/doc\"> here </a></p><p class=\"abc\"><a href=\"https://codingninjas.in/\"> Coding Ninjas </a></p></body>,\n",
       " <html><head><title> Testing Web Page </title></head><body><h1> Web Scraping </h1><p id=\"first_para\">Let's start learning <b>Web Scraping</b></p><p class=\"abc\" id=\"second_para\">You can read more about BeautifulSoup from <a href=\"https://www.crummy.com/software/BeautifulSoup/bs4/doc\"> here </a></p><p class=\"abc\"><a href=\"https://codingninjas.in/\"> Coding Ninjas </a></p></body></html>,\n",
       " <!DOCTYPE html>\n",
       " <html><head><title> Testing Web Page </title></head><body><h1> Web Scraping </h1><p id=\"first_para\">Let's start learning <b>Web Scraping</b></p><p class=\"abc\" id=\"second_para\">You can read more about BeautifulSoup from <a href=\"https://www.crummy.com/software/BeautifulSoup/bs4/doc\"> here </a></p><p class=\"abc\"><a href=\"https://codingninjas.in/\"> Coding Ninjas </a></p></body></html>]"
      ]
     },
     "execution_count": 85,
     "metadata": {},
     "output_type": "execute_result"
    }
   ],
   "source": [
    "lst_a = list(data.a.parents)\n",
    "lst_a"
   ]
  },
  {
   "cell_type": "code",
   "execution_count": 86,
   "id": "6b72113d",
   "metadata": {},
   "outputs": [
    {
     "data": {
      "text/plain": [
       "<p class=\"abc\" id=\"second_para\">You can read more about BeautifulSoup from <a href=\"https://www.crummy.com/software/BeautifulSoup/bs4/doc\"> here </a></p>"
      ]
     },
     "execution_count": 86,
     "metadata": {},
     "output_type": "execute_result"
    }
   ],
   "source": [
    "data.a.parent"
   ]
  },
  {
   "cell_type": "code",
   "execution_count": 87,
   "id": "30b188da",
   "metadata": {},
   "outputs": [
    {
     "data": {
      "text/plain": [
       "<p class=\"abc\" id=\"second_para\">You can read more about BeautifulSoup from <a href=\"https://www.crummy.com/software/BeautifulSoup/bs4/doc\"> here </a></p>"
      ]
     },
     "execution_count": 87,
     "metadata": {},
     "output_type": "execute_result"
    }
   ],
   "source": [
    "data.p.next_sibling"
   ]
  },
  {
   "cell_type": "code",
   "execution_count": 88,
   "id": "45a4dbf9",
   "metadata": {},
   "outputs": [
    {
     "data": {
      "text/plain": [
       "<h1> Web Scraping </h1>"
      ]
     },
     "execution_count": 88,
     "metadata": {},
     "output_type": "execute_result"
    }
   ],
   "source": [
    "data.p.previous_sibling"
   ]
  },
  {
   "cell_type": "code",
   "execution_count": 93,
   "id": "edd8af92",
   "metadata": {},
   "outputs": [
    {
     "data": {
      "text/plain": [
       "[<p class=\"abc\" id=\"second_para\">You can read more about BeautifulSoup from <a href=\"https://www.crummy.com/software/BeautifulSoup/bs4/doc\"> here </a></p>,\n",
       " <p class=\"abc\"><a href=\"https://codingninjas.in/\"> Coding Ninjas </a></p>]"
      ]
     },
     "execution_count": 93,
     "metadata": {},
     "output_type": "execute_result"
    }
   ],
   "source": [
    "lst_p1 = list(data.p.next_siblings)\n",
    "lst_p1"
   ]
  },
  {
   "cell_type": "code",
   "execution_count": 96,
   "id": "8cb19aac",
   "metadata": {},
   "outputs": [
    {
     "data": {
      "text/plain": [
       "[<h1> Web Scraping </h1>]"
      ]
     },
     "execution_count": 96,
     "metadata": {},
     "output_type": "execute_result"
    }
   ],
   "source": [
    "lst_p2 = list(data.p.previous_siblings)\n",
    "lst_p2"
   ]
  },
  {
   "cell_type": "code",
   "execution_count": 105,
   "id": "6ba60480",
   "metadata": {},
   "outputs": [
    {
     "name": "stdout",
     "output_type": "stream",
     "text": [
      "html\n",
      "<html><head><title> Testing Web Page </title></head><body><h1> Web Scraping </h1><p id=\"first_para\">Let's start learning <b>Web Scraping</b></p><p class=\"abc\" id=\"second_para\">You can read more about BeautifulSoup from <a href=\"https://www.crummy.com/software/BeautifulSoup/bs4/doc\"> here </a></p><p class=\"abc\"><a href=\"https://codingninjas.in/\"> Coding Ninjas </a></p></body></html>\n"
     ]
    }
   ],
   "source": [
    "for i in data.contents:\n",
    "    print(i)"
   ]
  },
  {
   "cell_type": "code",
   "execution_count": 113,
   "id": "d9e86404",
   "metadata": {
    "scrolled": true
   },
   "outputs": [
    {
     "name": "stdout",
     "output_type": "stream",
     "text": [
      "<html><head><title> Testing Web Page </title></head><body><h1> Web Scraping </h1><p id=\"first_para\">Let's start learning <b>Web Scraping</b></p><p class=\"abc\" id=\"second_para\">You can read more about BeautifulSoup from <a href=\"https://www.crummy.com/software/BeautifulSoup/bs4/doc\"> here </a></p><p class=\"abc\"><a href=\"https://codingninjas.in/\"> Coding Ninjas </a></p></body></html>\n",
      "<head><title> Testing Web Page </title></head>\n",
      "<title> Testing Web Page </title>\n",
      "<body><h1> Web Scraping </h1><p id=\"first_para\">Let's start learning <b>Web Scraping</b></p><p class=\"abc\" id=\"second_para\">You can read more about BeautifulSoup from <a href=\"https://www.crummy.com/software/BeautifulSoup/bs4/doc\"> here </a></p><p class=\"abc\"><a href=\"https://codingninjas.in/\"> Coding Ninjas </a></p></body>\n",
      "<h1> Web Scraping </h1>\n",
      "<p id=\"first_para\">Let's start learning <b>Web Scraping</b></p>\n",
      "<b>Web Scraping</b>\n",
      "<p class=\"abc\" id=\"second_para\">You can read more about BeautifulSoup from <a href=\"https://www.crummy.com/software/BeautifulSoup/bs4/doc\"> here </a></p>\n",
      "<a href=\"https://www.crummy.com/software/BeautifulSoup/bs4/doc\"> here </a>\n",
      "<p class=\"abc\"><a href=\"https://codingninjas.in/\"> Coding Ninjas </a></p>\n",
      "<a href=\"https://codingninjas.in/\"> Coding Ninjas </a>\n"
     ]
    }
   ],
   "source": [
    "for i in data.find_all():\n",
    "#     if 'id' in i:\n",
    "    print(i)"
   ]
  },
  {
   "cell_type": "markdown",
   "id": "f6ca0015",
   "metadata": {},
   "source": [
    "### Next Sibling"
   ]
  },
  {
   "cell_type": "code",
   "execution_count": 114,
   "id": "abdc2361",
   "metadata": {},
   "outputs": [],
   "source": [
    "html = '<!DOCTYPE html><html><head><title>Navigate Parse Tree</title></head>\\\n",
    "<body><h1>This is your Assignment</h1><a href = \"https://www.google.com\">This is a link that will take you to Google</a>\\\n",
    "<ul><li><p> This question is given to test your knowledge of <b>Web Scraping</b></p>\\\n",
    "<p>Web scraping is a term used to describe the use of a program or algorithm to extract and process large amounts of data from the web.</p></li>\\\n",
    "<li id = \"li2\">This is an li tag given to you for scraping</li>\\\n",
    "<li>This li tag gives you the various ways to get data from a website\\\n",
    "<ol><li class = \"list_or\">Using API of the website</li><li>Scrape data using BeautifulSoup</li><li>Scrape data using Selenium</li>\\\n",
    "<li>Scrape data using Scrapy</li></ol></li>\\\n",
    "<li class = \"list_or\"><a href=\"https://www.crummy.com/software/BeautifulSoup/bs4/doc/\">\\\n",
    "Clicking on this takes you to the documentation of BeautifulSoup</a>\\\n",
    "<a href=\"https://selenium-python.readthedocs.io/\" id=\"anchor\">Clicking on this takes you to the documentation of Selenium</a>\\\n",
    "</li></ul></body></html>'"
   ]
  },
  {
   "cell_type": "code",
   "execution_count": 115,
   "id": "c9b2286a",
   "metadata": {},
   "outputs": [],
   "source": [
    "from bs4 import BeautifulSoup"
   ]
  },
  {
   "cell_type": "code",
   "execution_count": 130,
   "id": "ae9dc532",
   "metadata": {},
   "outputs": [
    {
     "data": {
      "text/plain": [
       "<p> This question is given to test your knowledge of <b>Web Scraping</b></p>"
      ]
     },
     "execution_count": 130,
     "metadata": {},
     "output_type": "execute_result"
    }
   ],
   "source": [
    "data = BeautifulSoup(html,'html.parser')\n",
    "data.p"
   ]
  },
  {
   "cell_type": "code",
   "execution_count": 135,
   "id": "ba7f2434",
   "metadata": {},
   "outputs": [],
   "source": [
    "siblingS = data.li.next_sibling"
   ]
  },
  {
   "cell_type": "code",
   "execution_count": 169,
   "id": "c78fb847",
   "metadata": {},
   "outputs": [],
   "source": [
    "ans = siblingS.next_siblings"
   ]
  },
  {
   "cell_type": "code",
   "execution_count": 168,
   "id": "8130df8c",
   "metadata": {},
   "outputs": [
    {
     "name": "stdout",
     "output_type": "stream",
     "text": [
      "<li>This li tag gives you the various ways to get data from a website<ol><li class=\"list_or\">Using API of the website</li><li>Scrape data using BeautifulSoup</li><li>Scrape data using Selenium</li><li>Scrape data using Scrapy</li></ol></li>\n",
      "<li class=\"list_or\"><a href=\"https://www.crummy.com/software/BeautifulSoup/bs4/doc/\">Clicking on this takes you to the documentation of BeautifulSoup</a><a href=\"https://selenium-python.readthedocs.io/\" id=\"anchor\">Clicking on this takes you to the documentation of Selenium</a></li>\n"
     ]
    }
   ],
   "source": [
    "for i in ans:\n",
    "    print(i)"
   ]
  },
  {
   "cell_type": "code",
   "execution_count": 171,
   "id": "673e4f84",
   "metadata": {},
   "outputs": [
    {
     "data": {
      "text/plain": [
       "<generator object PageElement.parents at 0x00000213B54620B0>"
      ]
     },
     "execution_count": 171,
     "metadata": {},
     "output_type": "execute_result"
    }
   ],
   "source": [
    "parent = data.title.parents\n",
    "parent"
   ]
  },
  {
   "cell_type": "code",
   "execution_count": 173,
   "id": "1a6c002a",
   "metadata": {},
   "outputs": [],
   "source": [
    "for i in parent:\n",
    "    print(i)"
   ]
  },
  {
   "cell_type": "code",
   "execution_count": 190,
   "id": "89f47a93",
   "metadata": {},
   "outputs": [],
   "source": [
    "found = data.find_all('a')"
   ]
  },
  {
   "cell_type": "code",
   "execution_count": 193,
   "id": "a40644ac",
   "metadata": {},
   "outputs": [
    {
     "name": "stdout",
     "output_type": "stream",
     "text": [
      "Clicking on this takes you to the documentation of BeautifulSoup\n"
     ]
    }
   ],
   "source": [
    "for i in range(len(found)):\n",
    "    if i == 1:\n",
    "        print(found[i].string)"
   ]
  },
  {
   "cell_type": "code",
   "execution_count": 197,
   "id": "6981b638",
   "metadata": {},
   "outputs": [
    {
     "data": {
      "text/plain": [
       "<generator object PageElement.next_elements at 0x00000213B545F660>"
      ]
     },
     "execution_count": 197,
     "metadata": {},
     "output_type": "execute_result"
    }
   ],
   "source": [
    "elem = data.a.next_elements\n",
    "elem"
   ]
  },
  {
   "cell_type": "code",
   "execution_count": 200,
   "id": "393957d3",
   "metadata": {},
   "outputs": [],
   "source": [
    "for i in elem:\n",
    "    print(i)"
   ]
  },
  {
   "cell_type": "code",
   "execution_count": null,
   "id": "d5f38d47",
   "metadata": {},
   "outputs": [],
   "source": []
  },
  {
   "cell_type": "code",
   "execution_count": null,
   "id": "c2b9a5d0",
   "metadata": {},
   "outputs": [],
   "source": []
  },
  {
   "cell_type": "markdown",
   "id": "051e1d81",
   "metadata": {},
   "source": [
    "### First Web Page"
   ]
  },
  {
   "cell_type": "code",
   "execution_count": 201,
   "id": "2bc74093",
   "metadata": {},
   "outputs": [],
   "source": [
    "from bs4 import BeautifulSoup\n",
    "import requests"
   ]
  },
  {
   "cell_type": "code",
   "execution_count": 202,
   "id": "681e3ed4",
   "metadata": {},
   "outputs": [
    {
     "data": {
      "text/plain": [
       "<Response [200]>"
      ]
     },
     "execution_count": 202,
     "metadata": {},
     "output_type": "execute_result"
    }
   ],
   "source": [
    "response = requests.get('http://info.cern.ch/hypertext/WWW/TheProject.html')\n",
    "response"
   ]
  },
  {
   "cell_type": "code",
   "execution_count": 203,
   "id": "b5889d82",
   "metadata": {},
   "outputs": [
    {
     "data": {
      "text/plain": [
       "{'Date': 'Tue, 18 Jan 2022 17:38:10 GMT', 'Server': 'Apache', 'Last-Modified': 'Thu, 03 Dec 1992 08:37:20 GMT', 'ETag': '\"8a9-291e721905000\"', 'Accept-Ranges': 'bytes', 'Content-Length': '2217', 'Connection': 'close', 'Content-Type': 'text/html'}"
      ]
     },
     "execution_count": 203,
     "metadata": {},
     "output_type": "execute_result"
    }
   ],
   "source": [
    "response.headers"
   ]
  },
  {
   "cell_type": "code",
   "execution_count": 205,
   "id": "b245b98a",
   "metadata": {},
   "outputs": [],
   "source": [
    "html_data = response.text"
   ]
  },
  {
   "cell_type": "code",
   "execution_count": 212,
   "id": "0b006715",
   "metadata": {},
   "outputs": [
    {
     "name": "stdout",
     "output_type": "stream",
     "text": [
      "<header>\n",
      " <title>\n",
      "  The World Wide Web project\n",
      " </title>\n",
      " <nextid n=\"55\"/>\n",
      "</header>\n",
      "<body>\n",
      " <h1>\n",
      "  World Wide Web\n",
      " </h1>\n",
      " The WorldWideWeb (W3) is a wide-area\n",
      " <a href=\"WhatIs.html\" name=\"0\">\n",
      "  hypermedia\n",
      " </a>\n",
      " information retrieval\n",
      "initiative aiming to give universal\n",
      "access to a large universe of documents.\n",
      " <p>\n",
      "  Everything there is online about\n",
      "W3 is linked directly or indirectly\n",
      "to this document, including an\n",
      "  <a href=\"Summary.html\" name=\"24\">\n",
      "   executive\n",
      "summary\n",
      "  </a>\n",
      "  of the project,\n",
      "  <a href=\"Administration/Mailing/Overview.html\" name=\"29\">\n",
      "   Mailing lists\n",
      "  </a>\n",
      "  ,\n",
      "  <a href=\"Policy.html\" name=\"30\">\n",
      "   Policy\n",
      "  </a>\n",
      "  , November's\n",
      "  <a href=\"News/9211.html\" name=\"34\">\n",
      "   W3  news\n",
      "  </a>\n",
      "  ,\n",
      "  <a href=\"FAQ/List.html\" name=\"41\">\n",
      "   Frequently Asked Questions\n",
      "  </a>\n",
      "  .\n",
      "  <dl>\n",
      "   <dt>\n",
      "    <a href=\"../DataSources/Top.html\" name=\"44\">\n",
      "     What's out there?\n",
      "    </a>\n",
      "    <dd>\n",
      "     Pointers to the\n",
      "world's online information,\n",
      "     <a href=\"../DataSources/bySubject/Overview.html\" name=\"45\">\n",
      "      subjects\n",
      "     </a>\n",
      "     ,\n",
      "     <a href=\"../DataSources/WWW/Servers.html\" name=\"z54\">\n",
      "      W3 servers\n",
      "     </a>\n",
      "     , etc.\n",
      "     <dt>\n",
      "      <a href=\"Help.html\" name=\"46\">\n",
      "       Help\n",
      "      </a>\n",
      "      <dd>\n",
      "       on the browser you are using\n",
      "       <dt>\n",
      "        <a href=\"Status.html\" name=\"13\">\n",
      "         Software Products\n",
      "        </a>\n",
      "        <dd>\n",
      "         A list of W3 project\n",
      "components and their current state.\n",
      "(e.g.\n",
      "         <a href=\"LineMode/Browser.html\" name=\"27\">\n",
      "          Line Mode\n",
      "         </a>\n",
      "         ,X11\n",
      "         <a href=\"Status.html#35\" name=\"35\">\n",
      "          Viola\n",
      "         </a>\n",
      "         ,\n",
      "         <a href=\"NeXT/WorldWideWeb.html\" name=\"26\">\n",
      "          NeXTStep\n",
      "         </a>\n",
      "         ,\n",
      "         <a href=\"Daemon/Overview.html\" name=\"25\">\n",
      "          Servers\n",
      "         </a>\n",
      "         ,\n",
      "         <a href=\"Tools/Overview.html\" name=\"51\">\n",
      "          Tools\n",
      "         </a>\n",
      "         ,\n",
      "         <a href=\"MailRobot/Overview.html\" name=\"53\">\n",
      "          Mail robot\n",
      "         </a>\n",
      "         ,\n",
      "         <a href=\"Status.html#57\" name=\"52\">\n",
      "          Library\n",
      "         </a>\n",
      "         )\n",
      "         <dt>\n",
      "          <a href=\"Technical.html\" name=\"47\">\n",
      "           Technical\n",
      "          </a>\n",
      "          <dd>\n",
      "           Details of protocols, formats,\n",
      "program internals etc\n",
      "           <dt>\n",
      "            <a href=\"Bibliography.html\" name=\"40\">\n",
      "             Bibliography\n",
      "            </a>\n",
      "            <dd>\n",
      "             Paper documentation\n",
      "on  W3 and references.\n",
      "             <dt>\n",
      "              <a href=\"People.html\" name=\"14\">\n",
      "               People\n",
      "              </a>\n",
      "              <dd>\n",
      "               A list of some people involved\n",
      "in the project.\n",
      "               <dt>\n",
      "                <a href=\"History.html\" name=\"15\">\n",
      "                 History\n",
      "                </a>\n",
      "                <dd>\n",
      "                 A summary of the history\n",
      "of the project.\n",
      "                 <dt>\n",
      "                  <a href=\"Helping.html\" name=\"37\">\n",
      "                   How can I help\n",
      "                  </a>\n",
      "                  ?\n",
      "                  <dd>\n",
      "                   If you would like\n",
      "to support the web..\n",
      "                   <dt>\n",
      "                    <a href=\"../README.html\" name=\"48\">\n",
      "                     Getting code\n",
      "                    </a>\n",
      "                    <dd>\n",
      "                     Getting the code by\n",
      "                     <a href=\"LineMode/Defaults/Distribution.html\" name=\"49\">\n",
      "                      anonymous FTP\n",
      "                     </a>\n",
      "                     , etc.\n",
      "                    </dd>\n",
      "                   </dt>\n",
      "                  </dd>\n",
      "                 </dt>\n",
      "                </dd>\n",
      "               </dt>\n",
      "              </dd>\n",
      "             </dt>\n",
      "            </dd>\n",
      "           </dt>\n",
      "          </dd>\n",
      "         </dt>\n",
      "        </dd>\n",
      "       </dt>\n",
      "      </dd>\n",
      "     </dt>\n",
      "    </dd>\n",
      "   </dt>\n",
      "  </dl>\n",
      " </p>\n",
      "</body>\n",
      "\n"
     ]
    }
   ],
   "source": [
    "data = BeautifulSoup(html_data,'html.parser')\n",
    "print(data.prettify())"
   ]
  },
  {
   "cell_type": "code",
   "execution_count": 213,
   "id": "2c065f25",
   "metadata": {},
   "outputs": [
    {
     "data": {
      "text/plain": [
       "<h1>World Wide Web</h1>"
      ]
     },
     "execution_count": 213,
     "metadata": {},
     "output_type": "execute_result"
    }
   ],
   "source": [
    "data.h1"
   ]
  },
  {
   "cell_type": "code",
   "execution_count": 214,
   "id": "4a6bbbc0",
   "metadata": {},
   "outputs": [
    {
     "data": {
      "text/plain": [
       "'World Wide Web'"
      ]
     },
     "execution_count": 214,
     "metadata": {},
     "output_type": "execute_result"
    }
   ],
   "source": [
    "data.h1.string"
   ]
  },
  {
   "cell_type": "code",
   "execution_count": 215,
   "id": "672c5db9",
   "metadata": {},
   "outputs": [
    {
     "data": {
      "text/plain": [
       "<title>The World Wide Web project</title>"
      ]
     },
     "execution_count": 215,
     "metadata": {},
     "output_type": "execute_result"
    }
   ],
   "source": [
    "data.title"
   ]
  },
  {
   "cell_type": "code",
   "execution_count": 216,
   "id": "825fbc94",
   "metadata": {},
   "outputs": [
    {
     "data": {
      "text/plain": [
       "'The World Wide Web project'"
      ]
     },
     "execution_count": 216,
     "metadata": {},
     "output_type": "execute_result"
    }
   ],
   "source": [
    "data.title.string"
   ]
  },
  {
   "cell_type": "code",
   "execution_count": 218,
   "id": "6b00d03a",
   "metadata": {},
   "outputs": [
    {
     "name": "stdout",
     "output_type": "stream",
     "text": [
      "\n",
      "The World Wide Web project\n",
      "\n",
      "\n",
      "\n",
      "World Wide WebThe WorldWideWeb (W3) is a wide-area\n",
      "hypermedia information retrieval\n",
      "initiative aiming to give universal\n",
      "access to a large universe of documents.\n",
      "Everything there is online about\n",
      "W3 is linked directly or indirectly\n",
      "to this document, including an executive\n",
      "summary of the project, Mailing lists\n",
      ", Policy , November's  W3  news ,\n",
      "Frequently Asked Questions .\n",
      "\n",
      "What's out there?\n",
      " Pointers to the\n",
      "world's online information, subjects\n",
      ", W3 servers, etc.\n",
      "Help\n",
      " on the browser you are using\n",
      "Software Products\n",
      " A list of W3 project\n",
      "components and their current state.\n",
      "(e.g. Line Mode ,X11 Viola ,  NeXTStep\n",
      ", Servers , Tools , Mail robot ,\n",
      "Library )\n",
      "Technical\n",
      " Details of protocols, formats,\n",
      "program internals etc\n",
      "Bibliography\n",
      " Paper documentation\n",
      "on  W3 and references.\n",
      "People\n",
      " A list of some people involved\n",
      "in the project.\n",
      "History\n",
      " A summary of the history\n",
      "of the project.\n",
      "How can I help ?\n",
      " If you would like\n",
      "to support the web..\n",
      "Getting code\n",
      " Getting the code by\n",
      "anonymous FTP , etc.\n",
      "\n",
      "\n",
      "\n"
     ]
    }
   ],
   "source": [
    "print(data.get_text())"
   ]
  },
  {
   "cell_type": "code",
   "execution_count": 219,
   "id": "a58ab559",
   "metadata": {},
   "outputs": [
    {
     "data": {
      "text/plain": [
       "<a href=\"WhatIs.html\" name=\"0\">\n",
       "hypermedia</a>"
      ]
     },
     "execution_count": 219,
     "metadata": {},
     "output_type": "execute_result"
    }
   ],
   "source": [
    "data.a"
   ]
  },
  {
   "cell_type": "code",
   "execution_count": 221,
   "id": "2cedde04",
   "metadata": {},
   "outputs": [
    {
     "data": {
      "text/plain": [
       "'WhatIs.html'"
      ]
     },
     "execution_count": 221,
     "metadata": {},
     "output_type": "execute_result"
    }
   ],
   "source": [
    "data.a['href']"
   ]
  },
  {
   "cell_type": "code",
   "execution_count": 223,
   "id": "da37fd56",
   "metadata": {},
   "outputs": [
    {
     "data": {
      "text/plain": [
       "25"
      ]
     },
     "execution_count": 223,
     "metadata": {},
     "output_type": "execute_result"
    }
   ],
   "source": [
    "li = data.find_all('a')\n",
    "len(li)"
   ]
  },
  {
   "cell_type": "code",
   "execution_count": 224,
   "id": "e9833004",
   "metadata": {},
   "outputs": [
    {
     "name": "stdout",
     "output_type": "stream",
     "text": [
      "<a href=\"WhatIs.html\" name=\"0\">\n",
      "hypermedia</a>\n",
      "<a href=\"Summary.html\" name=\"24\">executive\n",
      "summary</a>\n",
      "<a href=\"Administration/Mailing/Overview.html\" name=\"29\">Mailing lists</a>\n",
      "<a href=\"Policy.html\" name=\"30\">Policy</a>\n",
      "<a href=\"News/9211.html\" name=\"34\">W3  news</a>\n",
      "<a href=\"FAQ/List.html\" name=\"41\">Frequently Asked Questions</a>\n",
      "<a href=\"../DataSources/Top.html\" name=\"44\">What's out there?</a>\n",
      "<a href=\"../DataSources/bySubject/Overview.html\" name=\"45\"> subjects</a>\n",
      "<a href=\"../DataSources/WWW/Servers.html\" name=\"z54\">W3 servers</a>\n",
      "<a href=\"Help.html\" name=\"46\">Help</a>\n",
      "<a href=\"Status.html\" name=\"13\">Software Products</a>\n",
      "<a href=\"LineMode/Browser.html\" name=\"27\">Line Mode</a>\n",
      "<a href=\"Status.html#35\" name=\"35\">Viola</a>\n",
      "<a href=\"NeXT/WorldWideWeb.html\" name=\"26\">NeXTStep</a>\n",
      "<a href=\"Daemon/Overview.html\" name=\"25\">Servers</a>\n",
      "<a href=\"Tools/Overview.html\" name=\"51\">Tools</a>\n",
      "<a href=\"MailRobot/Overview.html\" name=\"53\"> Mail robot</a>\n",
      "<a href=\"Status.html#57\" name=\"52\">\n",
      "Library</a>\n",
      "<a href=\"Technical.html\" name=\"47\">Technical</a>\n",
      "<a href=\"Bibliography.html\" name=\"40\">Bibliography</a>\n",
      "<a href=\"People.html\" name=\"14\">People</a>\n",
      "<a href=\"History.html\" name=\"15\">History</a>\n",
      "<a href=\"Helping.html\" name=\"37\">How can I help</a>\n",
      "<a href=\"../README.html\" name=\"48\">Getting code</a>\n",
      "<a href=\"LineMode/Defaults/Distribution.html\" name=\"49\">\n",
      "anonymous FTP</a>\n"
     ]
    }
   ],
   "source": [
    "for i in li:\n",
    "    print(i)"
   ]
  },
  {
   "cell_type": "code",
   "execution_count": 227,
   "id": "d96756be",
   "metadata": {},
   "outputs": [
    {
     "name": "stdout",
     "output_type": "stream",
     "text": [
      "19\n"
     ]
    }
   ],
   "source": [
    "li_2 = data.dl.find_all('a')\n",
    "print(len(li_2))"
   ]
  },
  {
   "cell_type": "code",
   "execution_count": 229,
   "id": "595031c0",
   "metadata": {},
   "outputs": [
    {
     "name": "stdout",
     "output_type": "stream",
     "text": [
      "What's out there?\n",
      " subjects\n",
      "W3 servers\n",
      "Help\n",
      "Software Products\n",
      "Line Mode\n",
      "Viola\n",
      "NeXTStep\n",
      "Servers\n",
      "Tools\n",
      " Mail robot\n",
      "\n",
      "Library\n",
      "Technical\n",
      "Bibliography\n",
      "People\n",
      "History\n",
      "How can I help\n",
      "Getting code\n",
      "\n",
      "anonymous FTP\n"
     ]
    }
   ],
   "source": [
    "for i in li_2:\n",
    "    print(i.string)"
   ]
  },
  {
   "cell_type": "code",
   "execution_count": 231,
   "id": "069b655e",
   "metadata": {},
   "outputs": [
    {
     "name": "stdout",
     "output_type": "stream",
     "text": [
      "9\n"
     ]
    }
   ],
   "source": [
    "li_3 = data.dl.find_all('dt')\n",
    "print(len(li_3))"
   ]
  },
  {
   "cell_type": "code",
   "execution_count": 233,
   "id": "572b946c",
   "metadata": {},
   "outputs": [
    {
     "name": "stdout",
     "output_type": "stream",
     "text": [
      "What's out there?\n",
      "Help\n",
      "Software Products\n",
      "Technical\n",
      "Bibliography\n",
      "People\n",
      "History\n",
      "How can I help\n",
      "Getting code\n"
     ]
    }
   ],
   "source": [
    "for i in li_3:\n",
    "    print(i.a.string)"
   ]
  },
  {
   "cell_type": "markdown",
   "id": "02e0de02",
   "metadata": {},
   "source": [
    "### Books to Scrape"
   ]
  },
  {
   "cell_type": "code",
   "execution_count": 234,
   "id": "f0af3ec0",
   "metadata": {},
   "outputs": [],
   "source": [
    "from bs4 import BeautifulSoup\n",
    "import requests"
   ]
  },
  {
   "cell_type": "code",
   "execution_count": 235,
   "id": "c87c4a44",
   "metadata": {},
   "outputs": [
    {
     "data": {
      "text/plain": [
       "<Response [200]>"
      ]
     },
     "execution_count": 235,
     "metadata": {},
     "output_type": "execute_result"
    }
   ],
   "source": [
    "response = requests.get('https://books.toscrape.com/')\n",
    "response"
   ]
  },
  {
   "cell_type": "code",
   "execution_count": 236,
   "id": "414ff204",
   "metadata": {},
   "outputs": [
    {
     "data": {
      "text/plain": [
       "{'Server': 'nginx/1.17.7', 'Date': 'Wed, 19 Jan 2022 08:50:31 GMT', 'Content-Type': 'text/html', 'Transfer-Encoding': 'chunked', 'Connection': 'keep-alive', 'Vary': 'Accept-Encoding', 'Last-Modified': 'Thu, 25 Mar 2021 13:59:05 GMT', 'Strict-Transport-Security': 'max-age=15724800; includeSubDomains', 'Content-Encoding': 'gzip'}"
      ]
     },
     "execution_count": 236,
     "metadata": {},
     "output_type": "execute_result"
    }
   ],
   "source": [
    "response.headers"
   ]
  },
  {
   "cell_type": "code",
   "execution_count": 238,
   "id": "48d2fa85",
   "metadata": {},
   "outputs": [],
   "source": [
    "html_data = response.text"
   ]
  },
  {
   "cell_type": "code",
   "execution_count": 241,
   "id": "4e100547",
   "metadata": {},
   "outputs": [
    {
     "name": "stdout",
     "output_type": "stream",
     "text": [
      "<!DOCTYPE html>\n",
      "<!--[if lt IE 7]>      <html lang=\"en-us\" class=\"no-js lt-ie9 lt-ie8 lt-ie7\"> <![endif]-->\n",
      "<!--[if IE 7]>         <html lang=\"en-us\" class=\"no-js lt-ie9 lt-ie8\"> <![endif]-->\n",
      "<!--[if IE 8]>         <html lang=\"en-us\" class=\"no-js lt-ie9\"> <![endif]-->\n",
      "<!--[if gt IE 8]><!-->\n",
      "<html class=\"no-js\" lang=\"en-us\">\n",
      " <!--<![endif]-->\n",
      " <head>\n",
      "  <title>\n",
      "   All products | Books to Scrape - Sandbox\n",
      "  </title>\n",
      "  <meta content=\"text/html; charset=utf-8\" http-equiv=\"content-type\"/>\n",
      "  <meta content=\"24th Jun 2016 09:29\" name=\"created\"/>\n",
      "  <meta content=\"\" name=\"description\"/>\n",
      "  <meta content=\"width=device-width\" name=\"viewport\"/>\n",
      "  <meta content=\"NOARCHIVE,NOCACHE\" name=\"robots\"/>\n",
      "  <!-- Le HTML5 shim, for IE6-8 support of HTML elements -->\n",
      "  <!--[if lt IE 9]>\n",
      "        <script src=\"//html5shim.googlecode.com/svn/trunk/html5.js\"></script>\n",
      "        <![endif]-->\n",
      "  <link href=\"static/oscar/favicon.ico\" rel=\"shortcut icon\"/>\n",
      "  <link href=\"static/oscar/css/styles.css\" rel=\"stylesheet\" type=\"text/css\"/>\n",
      "  <link href=\"static/oscar/js/bootstrap-datetimepicker/bootstrap-datetimepicker.css\" rel=\"stylesheet\"/>\n",
      "  <link href=\"static/oscar/css/datetimepicker.css\" rel=\"stylesheet\" type=\"text/css\"/>\n",
      " </head>\n",
      " <body class=\"default\" id=\"default\">\n",
      "  <header class=\"header container-fluid\">\n",
      "   <div class=\"page_inner\">\n",
      "    <div class=\"row\">\n",
      "     <div class=\"col-sm-8 h1\">\n",
      "      <a href=\"index.html\">\n",
      "       Books to Scrape\n",
      "      </a>\n",
      "      <small>\n",
      "       We love being scraped!\n",
      "      </small>\n",
      "     </div>\n",
      "    </div>\n",
      "   </div>\n",
      "  </header>\n",
      "  <div class=\"container-fluid page\">\n",
      "   <div class=\"page_inner\">\n",
      "    <ul class=\"breadcrumb\">\n",
      "     <li>\n",
      "      <a href=\"index.html\">\n",
      "       Home\n",
      "      </a>\n",
      "     </li>\n",
      "     <li class=\"active\">\n",
      "      All products\n",
      "     </li>\n",
      "    </ul>\n",
      "    <div class=\"row\">\n",
      "     <aside class=\"sidebar col-sm-4 col-md-3\">\n",
      "      <div id=\"promotions_left\">\n",
      "      </div>\n",
      "      <div class=\"side_categories\">\n",
      "       <ul class=\"nav nav-list\">\n",
      "        <li>\n",
      "         <a href=\"catalogue/category/books_1/index.html\">\n",
      "          Books\n",
      "         </a>\n",
      "         <ul>\n",
      "          <li>\n",
      "           <a href=\"catalogue/category/books/travel_2/index.html\">\n",
      "            Travel\n",
      "           </a>\n",
      "          </li>\n",
      "          <li>\n",
      "           <a href=\"catalogue/category/books/mystery_3/index.html\">\n",
      "            Mystery\n",
      "           </a>\n",
      "          </li>\n",
      "          <li>\n",
      "           <a href=\"catalogue/category/books/historical-fiction_4/index.html\">\n",
      "            Historical Fiction\n",
      "           </a>\n",
      "          </li>\n",
      "          <li>\n",
      "           <a href=\"catalogue/category/books/sequential-art_5/index.html\">\n",
      "            Sequential Art\n",
      "           </a>\n",
      "          </li>\n",
      "          <li>\n",
      "           <a href=\"catalogue/category/books/classics_6/index.html\">\n",
      "            Classics\n",
      "           </a>\n",
      "          </li>\n",
      "          <li>\n",
      "           <a href=\"catalogue/category/books/philosophy_7/index.html\">\n",
      "            Philosophy\n",
      "           </a>\n",
      "          </li>\n",
      "          <li>\n",
      "           <a href=\"catalogue/category/books/romance_8/index.html\">\n",
      "            Romance\n",
      "           </a>\n",
      "          </li>\n",
      "          <li>\n",
      "           <a href=\"catalogue/category/books/womens-fiction_9/index.html\">\n",
      "            Womens Fiction\n",
      "           </a>\n",
      "          </li>\n",
      "          <li>\n",
      "           <a href=\"catalogue/category/books/fiction_10/index.html\">\n",
      "            Fiction\n",
      "           </a>\n",
      "          </li>\n",
      "          <li>\n",
      "           <a href=\"catalogue/category/books/childrens_11/index.html\">\n",
      "            Childrens\n",
      "           </a>\n",
      "          </li>\n",
      "          <li>\n",
      "           <a href=\"catalogue/category/books/religion_12/index.html\">\n",
      "            Religion\n",
      "           </a>\n",
      "          </li>\n",
      "          <li>\n",
      "           <a href=\"catalogue/category/books/nonfiction_13/index.html\">\n",
      "            Nonfiction\n",
      "           </a>\n",
      "          </li>\n",
      "          <li>\n",
      "           <a href=\"catalogue/category/books/music_14/index.html\">\n",
      "            Music\n",
      "           </a>\n",
      "          </li>\n",
      "          <li>\n",
      "           <a href=\"catalogue/category/books/default_15/index.html\">\n",
      "            Default\n",
      "           </a>\n",
      "          </li>\n",
      "          <li>\n",
      "           <a href=\"catalogue/category/books/science-fiction_16/index.html\">\n",
      "            Science Fiction\n",
      "           </a>\n",
      "          </li>\n",
      "          <li>\n",
      "           <a href=\"catalogue/category/books/sports-and-games_17/index.html\">\n",
      "            Sports and Games\n",
      "           </a>\n",
      "          </li>\n",
      "          <li>\n",
      "           <a href=\"catalogue/category/books/add-a-comment_18/index.html\">\n",
      "            Add a comment\n",
      "           </a>\n",
      "          </li>\n",
      "          <li>\n",
      "           <a href=\"catalogue/category/books/fantasy_19/index.html\">\n",
      "            Fantasy\n",
      "           </a>\n",
      "          </li>\n",
      "          <li>\n",
      "           <a href=\"catalogue/category/books/new-adult_20/index.html\">\n",
      "            New Adult\n",
      "           </a>\n",
      "          </li>\n",
      "          <li>\n",
      "           <a href=\"catalogue/category/books/young-adult_21/index.html\">\n",
      "            Young Adult\n",
      "           </a>\n",
      "          </li>\n",
      "          <li>\n",
      "           <a href=\"catalogue/category/books/science_22/index.html\">\n",
      "            Science\n",
      "           </a>\n",
      "          </li>\n",
      "          <li>\n",
      "           <a href=\"catalogue/category/books/poetry_23/index.html\">\n",
      "            Poetry\n",
      "           </a>\n",
      "          </li>\n",
      "          <li>\n",
      "           <a href=\"catalogue/category/books/paranormal_24/index.html\">\n",
      "            Paranormal\n",
      "           </a>\n",
      "          </li>\n",
      "          <li>\n",
      "           <a href=\"catalogue/category/books/art_25/index.html\">\n",
      "            Art\n",
      "           </a>\n",
      "          </li>\n",
      "          <li>\n",
      "           <a href=\"catalogue/category/books/psychology_26/index.html\">\n",
      "            Psychology\n",
      "           </a>\n",
      "          </li>\n",
      "          <li>\n",
      "           <a href=\"catalogue/category/books/autobiography_27/index.html\">\n",
      "            Autobiography\n",
      "           </a>\n",
      "          </li>\n",
      "          <li>\n",
      "           <a href=\"catalogue/category/books/parenting_28/index.html\">\n",
      "            Parenting\n",
      "           </a>\n",
      "          </li>\n",
      "          <li>\n",
      "           <a href=\"catalogue/category/books/adult-fiction_29/index.html\">\n",
      "            Adult Fiction\n",
      "           </a>\n",
      "          </li>\n",
      "          <li>\n",
      "           <a href=\"catalogue/category/books/humor_30/index.html\">\n",
      "            Humor\n",
      "           </a>\n",
      "          </li>\n",
      "          <li>\n",
      "           <a href=\"catalogue/category/books/horror_31/index.html\">\n",
      "            Horror\n",
      "           </a>\n",
      "          </li>\n",
      "          <li>\n",
      "           <a href=\"catalogue/category/books/history_32/index.html\">\n",
      "            History\n",
      "           </a>\n",
      "          </li>\n",
      "          <li>\n",
      "           <a href=\"catalogue/category/books/food-and-drink_33/index.html\">\n",
      "            Food and Drink\n",
      "           </a>\n",
      "          </li>\n",
      "          <li>\n",
      "           <a href=\"catalogue/category/books/christian-fiction_34/index.html\">\n",
      "            Christian Fiction\n",
      "           </a>\n",
      "          </li>\n",
      "          <li>\n",
      "           <a href=\"catalogue/category/books/business_35/index.html\">\n",
      "            Business\n",
      "           </a>\n",
      "          </li>\n",
      "          <li>\n",
      "           <a href=\"catalogue/category/books/biography_36/index.html\">\n",
      "            Biography\n",
      "           </a>\n",
      "          </li>\n",
      "          <li>\n",
      "           <a href=\"catalogue/category/books/thriller_37/index.html\">\n",
      "            Thriller\n",
      "           </a>\n",
      "          </li>\n",
      "          <li>\n",
      "           <a href=\"catalogue/category/books/contemporary_38/index.html\">\n",
      "            Contemporary\n",
      "           </a>\n",
      "          </li>\n",
      "          <li>\n",
      "           <a href=\"catalogue/category/books/spirituality_39/index.html\">\n",
      "            Spirituality\n",
      "           </a>\n",
      "          </li>\n",
      "          <li>\n",
      "           <a href=\"catalogue/category/books/academic_40/index.html\">\n",
      "            Academic\n",
      "           </a>\n",
      "          </li>\n",
      "          <li>\n",
      "           <a href=\"catalogue/category/books/self-help_41/index.html\">\n",
      "            Self Help\n",
      "           </a>\n",
      "          </li>\n",
      "          <li>\n",
      "           <a href=\"catalogue/category/books/historical_42/index.html\">\n",
      "            Historical\n",
      "           </a>\n",
      "          </li>\n",
      "          <li>\n",
      "           <a href=\"catalogue/category/books/christian_43/index.html\">\n",
      "            Christian\n",
      "           </a>\n",
      "          </li>\n",
      "          <li>\n",
      "           <a href=\"catalogue/category/books/suspense_44/index.html\">\n",
      "            Suspense\n",
      "           </a>\n",
      "          </li>\n",
      "          <li>\n",
      "           <a href=\"catalogue/category/books/short-stories_45/index.html\">\n",
      "            Short Stories\n",
      "           </a>\n",
      "          </li>\n",
      "          <li>\n",
      "           <a href=\"catalogue/category/books/novels_46/index.html\">\n",
      "            Novels\n",
      "           </a>\n",
      "          </li>\n",
      "          <li>\n",
      "           <a href=\"catalogue/category/books/health_47/index.html\">\n",
      "            Health\n",
      "           </a>\n",
      "          </li>\n",
      "          <li>\n",
      "           <a href=\"catalogue/category/books/politics_48/index.html\">\n",
      "            Politics\n",
      "           </a>\n",
      "          </li>\n",
      "          <li>\n",
      "           <a href=\"catalogue/category/books/cultural_49/index.html\">\n",
      "            Cultural\n",
      "           </a>\n",
      "          </li>\n",
      "          <li>\n",
      "           <a href=\"catalogue/category/books/erotica_50/index.html\">\n",
      "            Erotica\n",
      "           </a>\n",
      "          </li>\n",
      "          <li>\n",
      "           <a href=\"catalogue/category/books/crime_51/index.html\">\n",
      "            Crime\n",
      "           </a>\n",
      "          </li>\n",
      "         </ul>\n",
      "        </li>\n",
      "       </ul>\n",
      "      </div>\n",
      "     </aside>\n",
      "     <div class=\"col-sm-8 col-md-9\">\n",
      "      <div class=\"page-header action\">\n",
      "       <h1>\n",
      "        All products\n",
      "       </h1>\n",
      "      </div>\n",
      "      <div id=\"messages\">\n",
      "      </div>\n",
      "      <div id=\"promotions\">\n",
      "      </div>\n",
      "      <form class=\"form-horizontal\" method=\"get\">\n",
      "       <div style=\"display:none\">\n",
      "       </div>\n",
      "       <strong>\n",
      "        1000\n",
      "       </strong>\n",
      "       results - showing\n",
      "       <strong>\n",
      "        1\n",
      "       </strong>\n",
      "       to\n",
      "       <strong>\n",
      "        20\n",
      "       </strong>\n",
      "       .\n",
      "      </form>\n",
      "      <section>\n",
      "       <div class=\"alert alert-warning\" role=\"alert\">\n",
      "        <strong>\n",
      "         Warning!\n",
      "        </strong>\n",
      "        This is a demo website for web scraping purposes. Prices and ratings here were randomly assigned and have no real meaning.\n",
      "       </div>\n",
      "       <div>\n",
      "        <ol class=\"row\">\n",
      "         <li class=\"col-xs-6 col-sm-4 col-md-3 col-lg-3\">\n",
      "          <article class=\"product_pod\">\n",
      "           <div class=\"image_container\">\n",
      "            <a href=\"catalogue/a-light-in-the-attic_1000/index.html\">\n",
      "             <img alt=\"A Light in the Attic\" class=\"thumbnail\" src=\"media/cache/2c/da/2cdad67c44b002e7ead0cc35693c0e8b.jpg\"/>\n",
      "            </a>\n",
      "           </div>\n",
      "           <p class=\"star-rating Three\">\n",
      "            <i class=\"icon-star\">\n",
      "            </i>\n",
      "            <i class=\"icon-star\">\n",
      "            </i>\n",
      "            <i class=\"icon-star\">\n",
      "            </i>\n",
      "            <i class=\"icon-star\">\n",
      "            </i>\n",
      "            <i class=\"icon-star\">\n",
      "            </i>\n",
      "           </p>\n",
      "           <h3>\n",
      "            <a href=\"catalogue/a-light-in-the-attic_1000/index.html\" title=\"A Light in the Attic\">\n",
      "             A Light in the ...\n",
      "            </a>\n",
      "           </h3>\n",
      "           <div class=\"product_price\">\n",
      "            <p class=\"price_color\">\n",
      "             Â£51.77\n",
      "            </p>\n",
      "            <p class=\"instock availability\">\n",
      "             <i class=\"icon-ok\">\n",
      "             </i>\n",
      "             In stock\n",
      "            </p>\n",
      "            <form>\n",
      "             <button class=\"btn btn-primary btn-block\" data-loading-text=\"Adding...\" type=\"submit\">\n",
      "              Add to basket\n",
      "             </button>\n",
      "            </form>\n",
      "           </div>\n",
      "          </article>\n",
      "         </li>\n",
      "         <li class=\"col-xs-6 col-sm-4 col-md-3 col-lg-3\">\n",
      "          <article class=\"product_pod\">\n",
      "           <div class=\"image_container\">\n",
      "            <a href=\"catalogue/tipping-the-velvet_999/index.html\">\n",
      "             <img alt=\"Tipping the Velvet\" class=\"thumbnail\" src=\"media/cache/26/0c/260c6ae16bce31c8f8c95daddd9f4a1c.jpg\"/>\n",
      "            </a>\n",
      "           </div>\n",
      "           <p class=\"star-rating One\">\n",
      "            <i class=\"icon-star\">\n",
      "            </i>\n",
      "            <i class=\"icon-star\">\n",
      "            </i>\n",
      "            <i class=\"icon-star\">\n",
      "            </i>\n",
      "            <i class=\"icon-star\">\n",
      "            </i>\n",
      "            <i class=\"icon-star\">\n",
      "            </i>\n",
      "           </p>\n",
      "           <h3>\n",
      "            <a href=\"catalogue/tipping-the-velvet_999/index.html\" title=\"Tipping the Velvet\">\n",
      "             Tipping the Velvet\n",
      "            </a>\n",
      "           </h3>\n",
      "           <div class=\"product_price\">\n",
      "            <p class=\"price_color\">\n",
      "             Â£53.74\n",
      "            </p>\n",
      "            <p class=\"instock availability\">\n",
      "             <i class=\"icon-ok\">\n",
      "             </i>\n",
      "             In stock\n",
      "            </p>\n",
      "            <form>\n",
      "             <button class=\"btn btn-primary btn-block\" data-loading-text=\"Adding...\" type=\"submit\">\n",
      "              Add to basket\n",
      "             </button>\n",
      "            </form>\n",
      "           </div>\n",
      "          </article>\n",
      "         </li>\n",
      "         <li class=\"col-xs-6 col-sm-4 col-md-3 col-lg-3\">\n",
      "          <article class=\"product_pod\">\n",
      "           <div class=\"image_container\">\n",
      "            <a href=\"catalogue/soumission_998/index.html\">\n",
      "             <img alt=\"Soumission\" class=\"thumbnail\" src=\"media/cache/3e/ef/3eef99c9d9adef34639f510662022830.jpg\"/>\n",
      "            </a>\n",
      "           </div>\n",
      "           <p class=\"star-rating One\">\n",
      "            <i class=\"icon-star\">\n",
      "            </i>\n",
      "            <i class=\"icon-star\">\n",
      "            </i>\n",
      "            <i class=\"icon-star\">\n",
      "            </i>\n",
      "            <i class=\"icon-star\">\n",
      "            </i>\n",
      "            <i class=\"icon-star\">\n",
      "            </i>\n",
      "           </p>\n",
      "           <h3>\n",
      "            <a href=\"catalogue/soumission_998/index.html\" title=\"Soumission\">\n",
      "             Soumission\n",
      "            </a>\n",
      "           </h3>\n",
      "           <div class=\"product_price\">\n",
      "            <p class=\"price_color\">\n",
      "             Â£50.10\n",
      "            </p>\n",
      "            <p class=\"instock availability\">\n",
      "             <i class=\"icon-ok\">\n",
      "             </i>\n",
      "             In stock\n",
      "            </p>\n",
      "            <form>\n",
      "             <button class=\"btn btn-primary btn-block\" data-loading-text=\"Adding...\" type=\"submit\">\n",
      "              Add to basket\n",
      "             </button>\n",
      "            </form>\n",
      "           </div>\n",
      "          </article>\n",
      "         </li>\n",
      "         <li class=\"col-xs-6 col-sm-4 col-md-3 col-lg-3\">\n",
      "          <article class=\"product_pod\">\n",
      "           <div class=\"image_container\">\n",
      "            <a href=\"catalogue/sharp-objects_997/index.html\">\n",
      "             <img alt=\"Sharp Objects\" class=\"thumbnail\" src=\"media/cache/32/51/3251cf3a3412f53f339e42cac2134093.jpg\"/>\n",
      "            </a>\n",
      "           </div>\n",
      "           <p class=\"star-rating Four\">\n",
      "            <i class=\"icon-star\">\n",
      "            </i>\n",
      "            <i class=\"icon-star\">\n",
      "            </i>\n",
      "            <i class=\"icon-star\">\n",
      "            </i>\n",
      "            <i class=\"icon-star\">\n",
      "            </i>\n",
      "            <i class=\"icon-star\">\n",
      "            </i>\n",
      "           </p>\n",
      "           <h3>\n",
      "            <a href=\"catalogue/sharp-objects_997/index.html\" title=\"Sharp Objects\">\n",
      "             Sharp Objects\n",
      "            </a>\n",
      "           </h3>\n",
      "           <div class=\"product_price\">\n",
      "            <p class=\"price_color\">\n",
      "             Â£47.82\n",
      "            </p>\n",
      "            <p class=\"instock availability\">\n",
      "             <i class=\"icon-ok\">\n",
      "             </i>\n",
      "             In stock\n",
      "            </p>\n",
      "            <form>\n",
      "             <button class=\"btn btn-primary btn-block\" data-loading-text=\"Adding...\" type=\"submit\">\n",
      "              Add to basket\n",
      "             </button>\n",
      "            </form>\n",
      "           </div>\n",
      "          </article>\n",
      "         </li>\n",
      "         <li class=\"col-xs-6 col-sm-4 col-md-3 col-lg-3\">\n",
      "          <article class=\"product_pod\">\n",
      "           <div class=\"image_container\">\n",
      "            <a href=\"catalogue/sapiens-a-brief-history-of-humankind_996/index.html\">\n",
      "             <img alt=\"Sapiens: A Brief History of Humankind\" class=\"thumbnail\" src=\"media/cache/be/a5/bea5697f2534a2f86a3ef27b5a8c12a6.jpg\"/>\n",
      "            </a>\n",
      "           </div>\n",
      "           <p class=\"star-rating Five\">\n",
      "            <i class=\"icon-star\">\n",
      "            </i>\n",
      "            <i class=\"icon-star\">\n",
      "            </i>\n",
      "            <i class=\"icon-star\">\n",
      "            </i>\n",
      "            <i class=\"icon-star\">\n",
      "            </i>\n",
      "            <i class=\"icon-star\">\n",
      "            </i>\n",
      "           </p>\n",
      "           <h3>\n",
      "            <a href=\"catalogue/sapiens-a-brief-history-of-humankind_996/index.html\" title=\"Sapiens: A Brief History of Humankind\">\n",
      "             Sapiens: A Brief History ...\n",
      "            </a>\n",
      "           </h3>\n",
      "           <div class=\"product_price\">\n",
      "            <p class=\"price_color\">\n",
      "             Â£54.23\n",
      "            </p>\n",
      "            <p class=\"instock availability\">\n",
      "             <i class=\"icon-ok\">\n",
      "             </i>\n",
      "             In stock\n",
      "            </p>\n",
      "            <form>\n",
      "             <button class=\"btn btn-primary btn-block\" data-loading-text=\"Adding...\" type=\"submit\">\n",
      "              Add to basket\n",
      "             </button>\n",
      "            </form>\n",
      "           </div>\n",
      "          </article>\n",
      "         </li>\n",
      "         <li class=\"col-xs-6 col-sm-4 col-md-3 col-lg-3\">\n",
      "          <article class=\"product_pod\">\n",
      "           <div class=\"image_container\">\n",
      "            <a href=\"catalogue/the-requiem-red_995/index.html\">\n",
      "             <img alt=\"The Requiem Red\" class=\"thumbnail\" src=\"media/cache/68/33/68339b4c9bc034267e1da611ab3b34f8.jpg\"/>\n",
      "            </a>\n",
      "           </div>\n",
      "           <p class=\"star-rating One\">\n",
      "            <i class=\"icon-star\">\n",
      "            </i>\n",
      "            <i class=\"icon-star\">\n",
      "            </i>\n",
      "            <i class=\"icon-star\">\n",
      "            </i>\n",
      "            <i class=\"icon-star\">\n",
      "            </i>\n",
      "            <i class=\"icon-star\">\n",
      "            </i>\n",
      "           </p>\n",
      "           <h3>\n",
      "            <a href=\"catalogue/the-requiem-red_995/index.html\" title=\"The Requiem Red\">\n",
      "             The Requiem Red\n",
      "            </a>\n",
      "           </h3>\n",
      "           <div class=\"product_price\">\n",
      "            <p class=\"price_color\">\n",
      "             Â£22.65\n",
      "            </p>\n",
      "            <p class=\"instock availability\">\n",
      "             <i class=\"icon-ok\">\n",
      "             </i>\n",
      "             In stock\n",
      "            </p>\n",
      "            <form>\n",
      "             <button class=\"btn btn-primary btn-block\" data-loading-text=\"Adding...\" type=\"submit\">\n",
      "              Add to basket\n",
      "             </button>\n",
      "            </form>\n",
      "           </div>\n",
      "          </article>\n",
      "         </li>\n",
      "         <li class=\"col-xs-6 col-sm-4 col-md-3 col-lg-3\">\n",
      "          <article class=\"product_pod\">\n",
      "           <div class=\"image_container\">\n",
      "            <a href=\"catalogue/the-dirty-little-secrets-of-getting-your-dream-job_994/index.html\">\n",
      "             <img alt=\"The Dirty Little Secrets of Getting Your Dream Job\" class=\"thumbnail\" src=\"media/cache/92/27/92274a95b7c251fea59a2b8a78275ab4.jpg\"/>\n",
      "            </a>\n",
      "           </div>\n",
      "           <p class=\"star-rating Four\">\n",
      "            <i class=\"icon-star\">\n",
      "            </i>\n",
      "            <i class=\"icon-star\">\n",
      "            </i>\n",
      "            <i class=\"icon-star\">\n",
      "            </i>\n",
      "            <i class=\"icon-star\">\n",
      "            </i>\n",
      "            <i class=\"icon-star\">\n",
      "            </i>\n",
      "           </p>\n",
      "           <h3>\n",
      "            <a href=\"catalogue/the-dirty-little-secrets-of-getting-your-dream-job_994/index.html\" title=\"The Dirty Little Secrets of Getting Your Dream Job\">\n",
      "             The Dirty Little Secrets ...\n",
      "            </a>\n",
      "           </h3>\n",
      "           <div class=\"product_price\">\n",
      "            <p class=\"price_color\">\n",
      "             Â£33.34\n",
      "            </p>\n",
      "            <p class=\"instock availability\">\n",
      "             <i class=\"icon-ok\">\n",
      "             </i>\n",
      "             In stock\n",
      "            </p>\n",
      "            <form>\n",
      "             <button class=\"btn btn-primary btn-block\" data-loading-text=\"Adding...\" type=\"submit\">\n",
      "              Add to basket\n",
      "             </button>\n",
      "            </form>\n",
      "           </div>\n",
      "          </article>\n",
      "         </li>\n",
      "         <li class=\"col-xs-6 col-sm-4 col-md-3 col-lg-3\">\n",
      "          <article class=\"product_pod\">\n",
      "           <div class=\"image_container\">\n",
      "            <a href=\"catalogue/the-coming-woman-a-novel-based-on-the-life-of-the-infamous-feminist-victoria-woodhull_993/index.html\">\n",
      "             <img alt=\"The Coming Woman: A Novel Based on the Life of the Infamous Feminist, Victoria Woodhull\" class=\"thumbnail\" src=\"media/cache/3d/54/3d54940e57e662c4dd1f3ff00c78cc64.jpg\"/>\n",
      "            </a>\n",
      "           </div>\n",
      "           <p class=\"star-rating Three\">\n",
      "            <i class=\"icon-star\">\n",
      "            </i>\n",
      "            <i class=\"icon-star\">\n",
      "            </i>\n",
      "            <i class=\"icon-star\">\n",
      "            </i>\n",
      "            <i class=\"icon-star\">\n",
      "            </i>\n",
      "            <i class=\"icon-star\">\n",
      "            </i>\n",
      "           </p>\n",
      "           <h3>\n",
      "            <a href=\"catalogue/the-coming-woman-a-novel-based-on-the-life-of-the-infamous-feminist-victoria-woodhull_993/index.html\" title=\"The Coming Woman: A Novel Based on the Life of the Infamous Feminist, Victoria Woodhull\">\n",
      "             The Coming Woman: A ...\n",
      "            </a>\n",
      "           </h3>\n",
      "           <div class=\"product_price\">\n",
      "            <p class=\"price_color\">\n",
      "             Â£17.93\n",
      "            </p>\n",
      "            <p class=\"instock availability\">\n",
      "             <i class=\"icon-ok\">\n",
      "             </i>\n",
      "             In stock\n",
      "            </p>\n",
      "            <form>\n",
      "             <button class=\"btn btn-primary btn-block\" data-loading-text=\"Adding...\" type=\"submit\">\n",
      "              Add to basket\n",
      "             </button>\n",
      "            </form>\n",
      "           </div>\n",
      "          </article>\n",
      "         </li>\n",
      "         <li class=\"col-xs-6 col-sm-4 col-md-3 col-lg-3\">\n",
      "          <article class=\"product_pod\">\n",
      "           <div class=\"image_container\">\n",
      "            <a href=\"catalogue/the-boys-in-the-boat-nine-americans-and-their-epic-quest-for-gold-at-the-1936-berlin-olympics_992/index.html\">\n",
      "             <img alt=\"The Boys in the Boat: Nine Americans and Their Epic Quest for Gold at the 1936 Berlin Olympics\" class=\"thumbnail\" src=\"media/cache/66/88/66883b91f6804b2323c8369331cb7dd1.jpg\"/>\n",
      "            </a>\n",
      "           </div>\n",
      "           <p class=\"star-rating Four\">\n",
      "            <i class=\"icon-star\">\n",
      "            </i>\n",
      "            <i class=\"icon-star\">\n",
      "            </i>\n",
      "            <i class=\"icon-star\">\n",
      "            </i>\n",
      "            <i class=\"icon-star\">\n",
      "            </i>\n",
      "            <i class=\"icon-star\">\n",
      "            </i>\n",
      "           </p>\n",
      "           <h3>\n",
      "            <a href=\"catalogue/the-boys-in-the-boat-nine-americans-and-their-epic-quest-for-gold-at-the-1936-berlin-olympics_992/index.html\" title=\"The Boys in the Boat: Nine Americans and Their Epic Quest for Gold at the 1936 Berlin Olympics\">\n",
      "             The Boys in the ...\n",
      "            </a>\n",
      "           </h3>\n",
      "           <div class=\"product_price\">\n",
      "            <p class=\"price_color\">\n",
      "             Â£22.60\n",
      "            </p>\n",
      "            <p class=\"instock availability\">\n",
      "             <i class=\"icon-ok\">\n",
      "             </i>\n",
      "             In stock\n",
      "            </p>\n",
      "            <form>\n",
      "             <button class=\"btn btn-primary btn-block\" data-loading-text=\"Adding...\" type=\"submit\">\n",
      "              Add to basket\n",
      "             </button>\n",
      "            </form>\n",
      "           </div>\n",
      "          </article>\n",
      "         </li>\n",
      "         <li class=\"col-xs-6 col-sm-4 col-md-3 col-lg-3\">\n",
      "          <article class=\"product_pod\">\n",
      "           <div class=\"image_container\">\n",
      "            <a href=\"catalogue/the-black-maria_991/index.html\">\n",
      "             <img alt=\"The Black Maria\" class=\"thumbnail\" src=\"media/cache/58/46/5846057e28022268153beff6d352b06c.jpg\"/>\n",
      "            </a>\n",
      "           </div>\n",
      "           <p class=\"star-rating One\">\n",
      "            <i class=\"icon-star\">\n",
      "            </i>\n",
      "            <i class=\"icon-star\">\n",
      "            </i>\n",
      "            <i class=\"icon-star\">\n",
      "            </i>\n",
      "            <i class=\"icon-star\">\n",
      "            </i>\n",
      "            <i class=\"icon-star\">\n",
      "            </i>\n",
      "           </p>\n",
      "           <h3>\n",
      "            <a href=\"catalogue/the-black-maria_991/index.html\" title=\"The Black Maria\">\n",
      "             The Black Maria\n",
      "            </a>\n",
      "           </h3>\n",
      "           <div class=\"product_price\">\n",
      "            <p class=\"price_color\">\n",
      "             Â£52.15\n",
      "            </p>\n",
      "            <p class=\"instock availability\">\n",
      "             <i class=\"icon-ok\">\n",
      "             </i>\n",
      "             In stock\n",
      "            </p>\n",
      "            <form>\n",
      "             <button class=\"btn btn-primary btn-block\" data-loading-text=\"Adding...\" type=\"submit\">\n",
      "              Add to basket\n",
      "             </button>\n",
      "            </form>\n",
      "           </div>\n",
      "          </article>\n",
      "         </li>\n",
      "         <li class=\"col-xs-6 col-sm-4 col-md-3 col-lg-3\">\n",
      "          <article class=\"product_pod\">\n",
      "           <div class=\"image_container\">\n",
      "            <a href=\"catalogue/starving-hearts-triangular-trade-trilogy-1_990/index.html\">\n",
      "             <img alt=\"Starving Hearts (Triangular Trade Trilogy, #1)\" class=\"thumbnail\" src=\"media/cache/be/f4/bef44da28c98f905a3ebec0b87be8530.jpg\"/>\n",
      "            </a>\n",
      "           </div>\n",
      "           <p class=\"star-rating Two\">\n",
      "            <i class=\"icon-star\">\n",
      "            </i>\n",
      "            <i class=\"icon-star\">\n",
      "            </i>\n",
      "            <i class=\"icon-star\">\n",
      "            </i>\n",
      "            <i class=\"icon-star\">\n",
      "            </i>\n",
      "            <i class=\"icon-star\">\n",
      "            </i>\n",
      "           </p>\n",
      "           <h3>\n",
      "            <a href=\"catalogue/starving-hearts-triangular-trade-trilogy-1_990/index.html\" title=\"Starving Hearts (Triangular Trade Trilogy, #1)\">\n",
      "             Starving Hearts (Triangular Trade ...\n",
      "            </a>\n",
      "           </h3>\n",
      "           <div class=\"product_price\">\n",
      "            <p class=\"price_color\">\n",
      "             Â£13.99\n",
      "            </p>\n",
      "            <p class=\"instock availability\">\n",
      "             <i class=\"icon-ok\">\n",
      "             </i>\n",
      "             In stock\n",
      "            </p>\n",
      "            <form>\n",
      "             <button class=\"btn btn-primary btn-block\" data-loading-text=\"Adding...\" type=\"submit\">\n",
      "              Add to basket\n",
      "             </button>\n",
      "            </form>\n",
      "           </div>\n",
      "          </article>\n",
      "         </li>\n",
      "         <li class=\"col-xs-6 col-sm-4 col-md-3 col-lg-3\">\n",
      "          <article class=\"product_pod\">\n",
      "           <div class=\"image_container\">\n",
      "            <a href=\"catalogue/shakespeares-sonnets_989/index.html\">\n",
      "             <img alt=\"Shakespeare's Sonnets\" class=\"thumbnail\" src=\"media/cache/10/48/1048f63d3b5061cd2f424d20b3f9b666.jpg\"/>\n",
      "            </a>\n",
      "           </div>\n",
      "           <p class=\"star-rating Four\">\n",
      "            <i class=\"icon-star\">\n",
      "            </i>\n",
      "            <i class=\"icon-star\">\n",
      "            </i>\n",
      "            <i class=\"icon-star\">\n",
      "            </i>\n",
      "            <i class=\"icon-star\">\n",
      "            </i>\n",
      "            <i class=\"icon-star\">\n",
      "            </i>\n",
      "           </p>\n",
      "           <h3>\n",
      "            <a href=\"catalogue/shakespeares-sonnets_989/index.html\" title=\"Shakespeare's Sonnets\">\n",
      "             Shakespeare's Sonnets\n",
      "            </a>\n",
      "           </h3>\n",
      "           <div class=\"product_price\">\n",
      "            <p class=\"price_color\">\n",
      "             Â£20.66\n",
      "            </p>\n",
      "            <p class=\"instock availability\">\n",
      "             <i class=\"icon-ok\">\n",
      "             </i>\n",
      "             In stock\n",
      "            </p>\n",
      "            <form>\n",
      "             <button class=\"btn btn-primary btn-block\" data-loading-text=\"Adding...\" type=\"submit\">\n",
      "              Add to basket\n",
      "             </button>\n",
      "            </form>\n",
      "           </div>\n",
      "          </article>\n",
      "         </li>\n",
      "         <li class=\"col-xs-6 col-sm-4 col-md-3 col-lg-3\">\n",
      "          <article class=\"product_pod\">\n",
      "           <div class=\"image_container\">\n",
      "            <a href=\"catalogue/set-me-free_988/index.html\">\n",
      "             <img alt=\"Set Me Free\" class=\"thumbnail\" src=\"media/cache/5b/88/5b88c52633f53cacf162c15f4f823153.jpg\"/>\n",
      "            </a>\n",
      "           </div>\n",
      "           <p class=\"star-rating Five\">\n",
      "            <i class=\"icon-star\">\n",
      "            </i>\n",
      "            <i class=\"icon-star\">\n",
      "            </i>\n",
      "            <i class=\"icon-star\">\n",
      "            </i>\n",
      "            <i class=\"icon-star\">\n",
      "            </i>\n",
      "            <i class=\"icon-star\">\n",
      "            </i>\n",
      "           </p>\n",
      "           <h3>\n",
      "            <a href=\"catalogue/set-me-free_988/index.html\" title=\"Set Me Free\">\n",
      "             Set Me Free\n",
      "            </a>\n",
      "           </h3>\n",
      "           <div class=\"product_price\">\n",
      "            <p class=\"price_color\">\n",
      "             Â£17.46\n",
      "            </p>\n",
      "            <p class=\"instock availability\">\n",
      "             <i class=\"icon-ok\">\n",
      "             </i>\n",
      "             In stock\n",
      "            </p>\n",
      "            <form>\n",
      "             <button class=\"btn btn-primary btn-block\" data-loading-text=\"Adding...\" type=\"submit\">\n",
      "              Add to basket\n",
      "             </button>\n",
      "            </form>\n",
      "           </div>\n",
      "          </article>\n",
      "         </li>\n",
      "         <li class=\"col-xs-6 col-sm-4 col-md-3 col-lg-3\">\n",
      "          <article class=\"product_pod\">\n",
      "           <div class=\"image_container\">\n",
      "            <a href=\"catalogue/scott-pilgrims-precious-little-life-scott-pilgrim-1_987/index.html\">\n",
      "             <img alt=\"Scott Pilgrim's Precious Little Life (Scott Pilgrim #1)\" class=\"thumbnail\" src=\"media/cache/94/b1/94b1b8b244bce9677c2f29ccc890d4d2.jpg\"/>\n",
      "            </a>\n",
      "           </div>\n",
      "           <p class=\"star-rating Five\">\n",
      "            <i class=\"icon-star\">\n",
      "            </i>\n",
      "            <i class=\"icon-star\">\n",
      "            </i>\n",
      "            <i class=\"icon-star\">\n",
      "            </i>\n",
      "            <i class=\"icon-star\">\n",
      "            </i>\n",
      "            <i class=\"icon-star\">\n",
      "            </i>\n",
      "           </p>\n",
      "           <h3>\n",
      "            <a href=\"catalogue/scott-pilgrims-precious-little-life-scott-pilgrim-1_987/index.html\" title=\"Scott Pilgrim's Precious Little Life (Scott Pilgrim #1)\">\n",
      "             Scott Pilgrim's Precious Little ...\n",
      "            </a>\n",
      "           </h3>\n",
      "           <div class=\"product_price\">\n",
      "            <p class=\"price_color\">\n",
      "             Â£52.29\n",
      "            </p>\n",
      "            <p class=\"instock availability\">\n",
      "             <i class=\"icon-ok\">\n",
      "             </i>\n",
      "             In stock\n",
      "            </p>\n",
      "            <form>\n",
      "             <button class=\"btn btn-primary btn-block\" data-loading-text=\"Adding...\" type=\"submit\">\n",
      "              Add to basket\n",
      "             </button>\n",
      "            </form>\n",
      "           </div>\n",
      "          </article>\n",
      "         </li>\n",
      "         <li class=\"col-xs-6 col-sm-4 col-md-3 col-lg-3\">\n",
      "          <article class=\"product_pod\">\n",
      "           <div class=\"image_container\">\n",
      "            <a href=\"catalogue/rip-it-up-and-start-again_986/index.html\">\n",
      "             <img alt=\"Rip it Up and Start Again\" class=\"thumbnail\" src=\"media/cache/81/c4/81c4a973364e17d01f217e1188253d5e.jpg\"/>\n",
      "            </a>\n",
      "           </div>\n",
      "           <p class=\"star-rating Five\">\n",
      "            <i class=\"icon-star\">\n",
      "            </i>\n",
      "            <i class=\"icon-star\">\n",
      "            </i>\n",
      "            <i class=\"icon-star\">\n",
      "            </i>\n",
      "            <i class=\"icon-star\">\n",
      "            </i>\n",
      "            <i class=\"icon-star\">\n",
      "            </i>\n",
      "           </p>\n",
      "           <h3>\n",
      "            <a href=\"catalogue/rip-it-up-and-start-again_986/index.html\" title=\"Rip it Up and Start Again\">\n",
      "             Rip it Up and ...\n",
      "            </a>\n",
      "           </h3>\n",
      "           <div class=\"product_price\">\n",
      "            <p class=\"price_color\">\n",
      "             Â£35.02\n",
      "            </p>\n",
      "            <p class=\"instock availability\">\n",
      "             <i class=\"icon-ok\">\n",
      "             </i>\n",
      "             In stock\n",
      "            </p>\n",
      "            <form>\n",
      "             <button class=\"btn btn-primary btn-block\" data-loading-text=\"Adding...\" type=\"submit\">\n",
      "              Add to basket\n",
      "             </button>\n",
      "            </form>\n",
      "           </div>\n",
      "          </article>\n",
      "         </li>\n",
      "         <li class=\"col-xs-6 col-sm-4 col-md-3 col-lg-3\">\n",
      "          <article class=\"product_pod\">\n",
      "           <div class=\"image_container\">\n",
      "            <a href=\"catalogue/our-band-could-be-your-life-scenes-from-the-american-indie-underground-1981-1991_985/index.html\">\n",
      "             <img alt=\"Our Band Could Be Your Life: Scenes from the American Indie Underground, 1981-1991\" class=\"thumbnail\" src=\"media/cache/54/60/54607fe8945897cdcced0044103b10b6.jpg\"/>\n",
      "            </a>\n",
      "           </div>\n",
      "           <p class=\"star-rating Three\">\n",
      "            <i class=\"icon-star\">\n",
      "            </i>\n",
      "            <i class=\"icon-star\">\n",
      "            </i>\n",
      "            <i class=\"icon-star\">\n",
      "            </i>\n",
      "            <i class=\"icon-star\">\n",
      "            </i>\n",
      "            <i class=\"icon-star\">\n",
      "            </i>\n",
      "           </p>\n",
      "           <h3>\n",
      "            <a href=\"catalogue/our-band-could-be-your-life-scenes-from-the-american-indie-underground-1981-1991_985/index.html\" title=\"Our Band Could Be Your Life: Scenes from the American Indie Underground, 1981-1991\">\n",
      "             Our Band Could Be ...\n",
      "            </a>\n",
      "           </h3>\n",
      "           <div class=\"product_price\">\n",
      "            <p class=\"price_color\">\n",
      "             Â£57.25\n",
      "            </p>\n",
      "            <p class=\"instock availability\">\n",
      "             <i class=\"icon-ok\">\n",
      "             </i>\n",
      "             In stock\n",
      "            </p>\n",
      "            <form>\n",
      "             <button class=\"btn btn-primary btn-block\" data-loading-text=\"Adding...\" type=\"submit\">\n",
      "              Add to basket\n",
      "             </button>\n",
      "            </form>\n",
      "           </div>\n",
      "          </article>\n",
      "         </li>\n",
      "         <li class=\"col-xs-6 col-sm-4 col-md-3 col-lg-3\">\n",
      "          <article class=\"product_pod\">\n",
      "           <div class=\"image_container\">\n",
      "            <a href=\"catalogue/olio_984/index.html\">\n",
      "             <img alt=\"Olio\" class=\"thumbnail\" src=\"media/cache/55/33/553310a7162dfbc2c6d19a84da0df9e1.jpg\"/>\n",
      "            </a>\n",
      "           </div>\n",
      "           <p class=\"star-rating One\">\n",
      "            <i class=\"icon-star\">\n",
      "            </i>\n",
      "            <i class=\"icon-star\">\n",
      "            </i>\n",
      "            <i class=\"icon-star\">\n",
      "            </i>\n",
      "            <i class=\"icon-star\">\n",
      "            </i>\n",
      "            <i class=\"icon-star\">\n",
      "            </i>\n",
      "           </p>\n",
      "           <h3>\n",
      "            <a href=\"catalogue/olio_984/index.html\" title=\"Olio\">\n",
      "             Olio\n",
      "            </a>\n",
      "           </h3>\n",
      "           <div class=\"product_price\">\n",
      "            <p class=\"price_color\">\n",
      "             Â£23.88\n",
      "            </p>\n",
      "            <p class=\"instock availability\">\n",
      "             <i class=\"icon-ok\">\n",
      "             </i>\n",
      "             In stock\n",
      "            </p>\n",
      "            <form>\n",
      "             <button class=\"btn btn-primary btn-block\" data-loading-text=\"Adding...\" type=\"submit\">\n",
      "              Add to basket\n",
      "             </button>\n",
      "            </form>\n",
      "           </div>\n",
      "          </article>\n",
      "         </li>\n",
      "         <li class=\"col-xs-6 col-sm-4 col-md-3 col-lg-3\">\n",
      "          <article class=\"product_pod\">\n",
      "           <div class=\"image_container\">\n",
      "            <a href=\"catalogue/mesaerion-the-best-science-fiction-stories-1800-1849_983/index.html\">\n",
      "             <img alt=\"Mesaerion: The Best Science Fiction Stories 1800-1849\" class=\"thumbnail\" src=\"media/cache/09/a3/09a3aef48557576e1a85ba7efea8ecb7.jpg\"/>\n",
      "            </a>\n",
      "           </div>\n",
      "           <p class=\"star-rating One\">\n",
      "            <i class=\"icon-star\">\n",
      "            </i>\n",
      "            <i class=\"icon-star\">\n",
      "            </i>\n",
      "            <i class=\"icon-star\">\n",
      "            </i>\n",
      "            <i class=\"icon-star\">\n",
      "            </i>\n",
      "            <i class=\"icon-star\">\n",
      "            </i>\n",
      "           </p>\n",
      "           <h3>\n",
      "            <a href=\"catalogue/mesaerion-the-best-science-fiction-stories-1800-1849_983/index.html\" title=\"Mesaerion: The Best Science Fiction Stories 1800-1849\">\n",
      "             Mesaerion: The Best Science ...\n",
      "            </a>\n",
      "           </h3>\n",
      "           <div class=\"product_price\">\n",
      "            <p class=\"price_color\">\n",
      "             Â£37.59\n",
      "            </p>\n",
      "            <p class=\"instock availability\">\n",
      "             <i class=\"icon-ok\">\n",
      "             </i>\n",
      "             In stock\n",
      "            </p>\n",
      "            <form>\n",
      "             <button class=\"btn btn-primary btn-block\" data-loading-text=\"Adding...\" type=\"submit\">\n",
      "              Add to basket\n",
      "             </button>\n",
      "            </form>\n",
      "           </div>\n",
      "          </article>\n",
      "         </li>\n",
      "         <li class=\"col-xs-6 col-sm-4 col-md-3 col-lg-3\">\n",
      "          <article class=\"product_pod\">\n",
      "           <div class=\"image_container\">\n",
      "            <a href=\"catalogue/libertarianism-for-beginners_982/index.html\">\n",
      "             <img alt=\"Libertarianism for Beginners\" class=\"thumbnail\" src=\"media/cache/0b/bc/0bbcd0a6f4bcd81ccb1049a52736406e.jpg\"/>\n",
      "            </a>\n",
      "           </div>\n",
      "           <p class=\"star-rating Two\">\n",
      "            <i class=\"icon-star\">\n",
      "            </i>\n",
      "            <i class=\"icon-star\">\n",
      "            </i>\n",
      "            <i class=\"icon-star\">\n",
      "            </i>\n",
      "            <i class=\"icon-star\">\n",
      "            </i>\n",
      "            <i class=\"icon-star\">\n",
      "            </i>\n",
      "           </p>\n",
      "           <h3>\n",
      "            <a href=\"catalogue/libertarianism-for-beginners_982/index.html\" title=\"Libertarianism for Beginners\">\n",
      "             Libertarianism for Beginners\n",
      "            </a>\n",
      "           </h3>\n",
      "           <div class=\"product_price\">\n",
      "            <p class=\"price_color\">\n",
      "             Â£51.33\n",
      "            </p>\n",
      "            <p class=\"instock availability\">\n",
      "             <i class=\"icon-ok\">\n",
      "             </i>\n",
      "             In stock\n",
      "            </p>\n",
      "            <form>\n",
      "             <button class=\"btn btn-primary btn-block\" data-loading-text=\"Adding...\" type=\"submit\">\n",
      "              Add to basket\n",
      "             </button>\n",
      "            </form>\n",
      "           </div>\n",
      "          </article>\n",
      "         </li>\n",
      "         <li class=\"col-xs-6 col-sm-4 col-md-3 col-lg-3\">\n",
      "          <article class=\"product_pod\">\n",
      "           <div class=\"image_container\">\n",
      "            <a href=\"catalogue/its-only-the-himalayas_981/index.html\">\n",
      "             <img alt=\"It's Only the Himalayas\" class=\"thumbnail\" src=\"media/cache/27/a5/27a53d0bb95bdd88288eaf66c9230d7e.jpg\"/>\n",
      "            </a>\n",
      "           </div>\n",
      "           <p class=\"star-rating Two\">\n",
      "            <i class=\"icon-star\">\n",
      "            </i>\n",
      "            <i class=\"icon-star\">\n",
      "            </i>\n",
      "            <i class=\"icon-star\">\n",
      "            </i>\n",
      "            <i class=\"icon-star\">\n",
      "            </i>\n",
      "            <i class=\"icon-star\">\n",
      "            </i>\n",
      "           </p>\n",
      "           <h3>\n",
      "            <a href=\"catalogue/its-only-the-himalayas_981/index.html\" title=\"It's Only the Himalayas\">\n",
      "             It's Only the Himalayas\n",
      "            </a>\n",
      "           </h3>\n",
      "           <div class=\"product_price\">\n",
      "            <p class=\"price_color\">\n",
      "             Â£45.17\n",
      "            </p>\n",
      "            <p class=\"instock availability\">\n",
      "             <i class=\"icon-ok\">\n",
      "             </i>\n",
      "             In stock\n",
      "            </p>\n",
      "            <form>\n",
      "             <button class=\"btn btn-primary btn-block\" data-loading-text=\"Adding...\" type=\"submit\">\n",
      "              Add to basket\n",
      "             </button>\n",
      "            </form>\n",
      "           </div>\n",
      "          </article>\n",
      "         </li>\n",
      "        </ol>\n",
      "        <div>\n",
      "         <ul class=\"pager\">\n",
      "          <li class=\"current\">\n",
      "           Page 1 of 50\n",
      "          </li>\n",
      "          <li class=\"next\">\n",
      "           <a href=\"catalogue/page-2.html\">\n",
      "            next\n",
      "           </a>\n",
      "          </li>\n",
      "         </ul>\n",
      "        </div>\n",
      "       </div>\n",
      "      </section>\n",
      "     </div>\n",
      "    </div>\n",
      "    <!-- /row -->\n",
      "   </div>\n",
      "   <!-- /page_inner -->\n",
      "  </div>\n",
      "  <!-- /container-fluid -->\n",
      "  <footer class=\"footer container-fluid\">\n",
      "  </footer>\n",
      "  <!-- jQuery -->\n",
      "  <script src=\"http://ajax.googleapis.com/ajax/libs/jquery/1.9.1/jquery.min.js\">\n",
      "  </script>\n",
      "  <script>\n",
      "   window.jQuery || document.write('<script src=\"static/oscar/js/jquery/jquery-1.9.1.min.js\"><\\/script>')\n",
      "  </script>\n",
      "  <!-- Twitter Bootstrap -->\n",
      "  <script src=\"static/oscar/js/bootstrap3/bootstrap.min.js\" type=\"text/javascript\">\n",
      "  </script>\n",
      "  <!-- Oscar -->\n",
      "  <script charset=\"utf-8\" src=\"static/oscar/js/oscar/ui.js\" type=\"text/javascript\">\n",
      "  </script>\n",
      "  <script charset=\"utf-8\" src=\"static/oscar/js/bootstrap-datetimepicker/bootstrap-datetimepicker.js\" type=\"text/javascript\">\n",
      "  </script>\n",
      "  <script charset=\"utf-8\" src=\"static/oscar/js/bootstrap-datetimepicker/locales/bootstrap-datetimepicker.all.js\" type=\"text/javascript\">\n",
      "  </script>\n",
      "  <script type=\"text/javascript\">\n",
      "   $(function() {\n",
      "                \n",
      "    \n",
      "    \n",
      "    oscar.init();\n",
      "\n",
      "    oscar.search.init();\n",
      "\n",
      "            });\n",
      "  </script>\n",
      "  <!-- Version: N/A -->\n",
      " </body>\n",
      "</html>\n",
      "\n"
     ]
    }
   ],
   "source": [
    "data = BeautifulSoup(html_data,'html.parser')\n",
    "print(data.prettify())"
   ]
  },
  {
   "cell_type": "code",
   "execution_count": 242,
   "id": "0b377240",
   "metadata": {},
   "outputs": [
    {
     "data": {
      "text/plain": [
       "<title>\n",
       "    All products | Books to Scrape - Sandbox\n",
       "</title>"
      ]
     },
     "execution_count": 242,
     "metadata": {},
     "output_type": "execute_result"
    }
   ],
   "source": [
    "data.title"
   ]
  },
  {
   "cell_type": "code",
   "execution_count": 243,
   "id": "bb6de39a",
   "metadata": {},
   "outputs": [
    {
     "data": {
      "text/plain": [
       "'\\n    All products | Books to Scrape - Sandbox\\n'"
      ]
     },
     "execution_count": 243,
     "metadata": {},
     "output_type": "execute_result"
    }
   ],
   "source": [
    "data.title.string"
   ]
  },
  {
   "cell_type": "code",
   "execution_count": 245,
   "id": "bb049a52",
   "metadata": {},
   "outputs": [
    {
     "data": {
      "text/plain": [
       "<a href=\"index.html\">Books to Scrape</a>"
      ]
     },
     "execution_count": 245,
     "metadata": {},
     "output_type": "execute_result"
    }
   ],
   "source": [
    "data.a"
   ]
  },
  {
   "cell_type": "code",
   "execution_count": 246,
   "id": "8c550679",
   "metadata": {},
   "outputs": [
    {
     "data": {
      "text/plain": [
       "'Books to Scrape'"
      ]
     },
     "execution_count": 246,
     "metadata": {},
     "output_type": "execute_result"
    }
   ],
   "source": [
    "data.a.string"
   ]
  },
  {
   "cell_type": "code",
   "execution_count": 247,
   "id": "544b4f1a",
   "metadata": {},
   "outputs": [
    {
     "data": {
      "text/plain": [
       "<a href=\"index.html\">Books to Scrape</a>"
      ]
     },
     "execution_count": 247,
     "metadata": {},
     "output_type": "execute_result"
    }
   ],
   "source": [
    "data.header.a"
   ]
  },
  {
   "cell_type": "code",
   "execution_count": 248,
   "id": "f06cf30a",
   "metadata": {},
   "outputs": [
    {
     "data": {
      "text/plain": [
       "'Books to Scrape'"
      ]
     },
     "execution_count": 248,
     "metadata": {},
     "output_type": "execute_result"
    }
   ],
   "source": [
    "data.header.a.string"
   ]
  },
  {
   "cell_type": "code",
   "execution_count": 249,
   "id": "8c33b415",
   "metadata": {},
   "outputs": [
    {
     "data": {
      "text/plain": [
       "<article class=\"product_pod\">\n",
       "<div class=\"image_container\">\n",
       "<a href=\"catalogue/a-light-in-the-attic_1000/index.html\"><img alt=\"A Light in the Attic\" class=\"thumbnail\" src=\"media/cache/2c/da/2cdad67c44b002e7ead0cc35693c0e8b.jpg\"/></a>\n",
       "</div>\n",
       "<p class=\"star-rating Three\">\n",
       "<i class=\"icon-star\"></i>\n",
       "<i class=\"icon-star\"></i>\n",
       "<i class=\"icon-star\"></i>\n",
       "<i class=\"icon-star\"></i>\n",
       "<i class=\"icon-star\"></i>\n",
       "</p>\n",
       "<h3><a href=\"catalogue/a-light-in-the-attic_1000/index.html\" title=\"A Light in the Attic\">A Light in the ...</a></h3>\n",
       "<div class=\"product_price\">\n",
       "<p class=\"price_color\">Â£51.77</p>\n",
       "<p class=\"instock availability\">\n",
       "<i class=\"icon-ok\"></i>\n",
       "    \n",
       "        In stock\n",
       "    \n",
       "</p>\n",
       "<form>\n",
       "<button class=\"btn btn-primary btn-block\" data-loading-text=\"Adding...\" type=\"submit\">Add to basket</button>\n",
       "</form>\n",
       "</div>\n",
       "</article>"
      ]
     },
     "execution_count": 249,
     "metadata": {},
     "output_type": "execute_result"
    }
   ],
   "source": [
    "b1 = data.find(class_ = 'product_pod')\n",
    "b1"
   ]
  },
  {
   "cell_type": "code",
   "execution_count": 250,
   "id": "e9cc3d91",
   "metadata": {},
   "outputs": [
    {
     "data": {
      "text/plain": [
       "<a href=\"catalogue/a-light-in-the-attic_1000/index.html\" title=\"A Light in the Attic\">A Light in the ...</a>"
      ]
     },
     "execution_count": 250,
     "metadata": {},
     "output_type": "execute_result"
    }
   ],
   "source": [
    "b1.h3.a"
   ]
  },
  {
   "cell_type": "code",
   "execution_count": 251,
   "id": "b2e4c12e",
   "metadata": {},
   "outputs": [
    {
     "data": {
      "text/plain": [
       "'A Light in the ...'"
      ]
     },
     "execution_count": 251,
     "metadata": {},
     "output_type": "execute_result"
    }
   ],
   "source": [
    "b1.h3.a.string"
   ]
  },
  {
   "cell_type": "code",
   "execution_count": 255,
   "id": "321621fb",
   "metadata": {},
   "outputs": [
    {
     "data": {
      "text/plain": [
       "'A Light in the Attic'"
      ]
     },
     "execution_count": 255,
     "metadata": {},
     "output_type": "execute_result"
    }
   ],
   "source": [
    "b1.h3.a['title']"
   ]
  },
  {
   "cell_type": "code",
   "execution_count": 256,
   "id": "e85f6e83",
   "metadata": {},
   "outputs": [
    {
     "data": {
      "text/plain": [
       "'catalogue/a-light-in-the-attic_1000/index.html'"
      ]
     },
     "execution_count": 256,
     "metadata": {},
     "output_type": "execute_result"
    }
   ],
   "source": [
    "b1.h3.a['href']"
   ]
  },
  {
   "cell_type": "code",
   "execution_count": 257,
   "id": "5791def4",
   "metadata": {},
   "outputs": [
    {
     "name": "stdout",
     "output_type": "stream",
     "text": [
      "https://books.toscrape.com/catalogue/a-light-in-the-attic_1000/index.html\n"
     ]
    }
   ],
   "source": [
    "print(\"https://books.toscrape.com/\" + b1.h3.a['href'])"
   ]
  },
  {
   "cell_type": "code",
   "execution_count": 258,
   "id": "2a663564",
   "metadata": {},
   "outputs": [
    {
     "data": {
      "text/plain": [
       "[<article class=\"product_pod\">\n",
       " <div class=\"image_container\">\n",
       " <a href=\"catalogue/a-light-in-the-attic_1000/index.html\"><img alt=\"A Light in the Attic\" class=\"thumbnail\" src=\"media/cache/2c/da/2cdad67c44b002e7ead0cc35693c0e8b.jpg\"/></a>\n",
       " </div>\n",
       " <p class=\"star-rating Three\">\n",
       " <i class=\"icon-star\"></i>\n",
       " <i class=\"icon-star\"></i>\n",
       " <i class=\"icon-star\"></i>\n",
       " <i class=\"icon-star\"></i>\n",
       " <i class=\"icon-star\"></i>\n",
       " </p>\n",
       " <h3><a href=\"catalogue/a-light-in-the-attic_1000/index.html\" title=\"A Light in the Attic\">A Light in the ...</a></h3>\n",
       " <div class=\"product_price\">\n",
       " <p class=\"price_color\">Â£51.77</p>\n",
       " <p class=\"instock availability\">\n",
       " <i class=\"icon-ok\"></i>\n",
       "     \n",
       "         In stock\n",
       "     \n",
       " </p>\n",
       " <form>\n",
       " <button class=\"btn btn-primary btn-block\" data-loading-text=\"Adding...\" type=\"submit\">Add to basket</button>\n",
       " </form>\n",
       " </div>\n",
       " </article>,\n",
       " <article class=\"product_pod\">\n",
       " <div class=\"image_container\">\n",
       " <a href=\"catalogue/tipping-the-velvet_999/index.html\"><img alt=\"Tipping the Velvet\" class=\"thumbnail\" src=\"media/cache/26/0c/260c6ae16bce31c8f8c95daddd9f4a1c.jpg\"/></a>\n",
       " </div>\n",
       " <p class=\"star-rating One\">\n",
       " <i class=\"icon-star\"></i>\n",
       " <i class=\"icon-star\"></i>\n",
       " <i class=\"icon-star\"></i>\n",
       " <i class=\"icon-star\"></i>\n",
       " <i class=\"icon-star\"></i>\n",
       " </p>\n",
       " <h3><a href=\"catalogue/tipping-the-velvet_999/index.html\" title=\"Tipping the Velvet\">Tipping the Velvet</a></h3>\n",
       " <div class=\"product_price\">\n",
       " <p class=\"price_color\">Â£53.74</p>\n",
       " <p class=\"instock availability\">\n",
       " <i class=\"icon-ok\"></i>\n",
       "     \n",
       "         In stock\n",
       "     \n",
       " </p>\n",
       " <form>\n",
       " <button class=\"btn btn-primary btn-block\" data-loading-text=\"Adding...\" type=\"submit\">Add to basket</button>\n",
       " </form>\n",
       " </div>\n",
       " </article>,\n",
       " <article class=\"product_pod\">\n",
       " <div class=\"image_container\">\n",
       " <a href=\"catalogue/soumission_998/index.html\"><img alt=\"Soumission\" class=\"thumbnail\" src=\"media/cache/3e/ef/3eef99c9d9adef34639f510662022830.jpg\"/></a>\n",
       " </div>\n",
       " <p class=\"star-rating One\">\n",
       " <i class=\"icon-star\"></i>\n",
       " <i class=\"icon-star\"></i>\n",
       " <i class=\"icon-star\"></i>\n",
       " <i class=\"icon-star\"></i>\n",
       " <i class=\"icon-star\"></i>\n",
       " </p>\n",
       " <h3><a href=\"catalogue/soumission_998/index.html\" title=\"Soumission\">Soumission</a></h3>\n",
       " <div class=\"product_price\">\n",
       " <p class=\"price_color\">Â£50.10</p>\n",
       " <p class=\"instock availability\">\n",
       " <i class=\"icon-ok\"></i>\n",
       "     \n",
       "         In stock\n",
       "     \n",
       " </p>\n",
       " <form>\n",
       " <button class=\"btn btn-primary btn-block\" data-loading-text=\"Adding...\" type=\"submit\">Add to basket</button>\n",
       " </form>\n",
       " </div>\n",
       " </article>,\n",
       " <article class=\"product_pod\">\n",
       " <div class=\"image_container\">\n",
       " <a href=\"catalogue/sharp-objects_997/index.html\"><img alt=\"Sharp Objects\" class=\"thumbnail\" src=\"media/cache/32/51/3251cf3a3412f53f339e42cac2134093.jpg\"/></a>\n",
       " </div>\n",
       " <p class=\"star-rating Four\">\n",
       " <i class=\"icon-star\"></i>\n",
       " <i class=\"icon-star\"></i>\n",
       " <i class=\"icon-star\"></i>\n",
       " <i class=\"icon-star\"></i>\n",
       " <i class=\"icon-star\"></i>\n",
       " </p>\n",
       " <h3><a href=\"catalogue/sharp-objects_997/index.html\" title=\"Sharp Objects\">Sharp Objects</a></h3>\n",
       " <div class=\"product_price\">\n",
       " <p class=\"price_color\">Â£47.82</p>\n",
       " <p class=\"instock availability\">\n",
       " <i class=\"icon-ok\"></i>\n",
       "     \n",
       "         In stock\n",
       "     \n",
       " </p>\n",
       " <form>\n",
       " <button class=\"btn btn-primary btn-block\" data-loading-text=\"Adding...\" type=\"submit\">Add to basket</button>\n",
       " </form>\n",
       " </div>\n",
       " </article>,\n",
       " <article class=\"product_pod\">\n",
       " <div class=\"image_container\">\n",
       " <a href=\"catalogue/sapiens-a-brief-history-of-humankind_996/index.html\"><img alt=\"Sapiens: A Brief History of Humankind\" class=\"thumbnail\" src=\"media/cache/be/a5/bea5697f2534a2f86a3ef27b5a8c12a6.jpg\"/></a>\n",
       " </div>\n",
       " <p class=\"star-rating Five\">\n",
       " <i class=\"icon-star\"></i>\n",
       " <i class=\"icon-star\"></i>\n",
       " <i class=\"icon-star\"></i>\n",
       " <i class=\"icon-star\"></i>\n",
       " <i class=\"icon-star\"></i>\n",
       " </p>\n",
       " <h3><a href=\"catalogue/sapiens-a-brief-history-of-humankind_996/index.html\" title=\"Sapiens: A Brief History of Humankind\">Sapiens: A Brief History ...</a></h3>\n",
       " <div class=\"product_price\">\n",
       " <p class=\"price_color\">Â£54.23</p>\n",
       " <p class=\"instock availability\">\n",
       " <i class=\"icon-ok\"></i>\n",
       "     \n",
       "         In stock\n",
       "     \n",
       " </p>\n",
       " <form>\n",
       " <button class=\"btn btn-primary btn-block\" data-loading-text=\"Adding...\" type=\"submit\">Add to basket</button>\n",
       " </form>\n",
       " </div>\n",
       " </article>,\n",
       " <article class=\"product_pod\">\n",
       " <div class=\"image_container\">\n",
       " <a href=\"catalogue/the-requiem-red_995/index.html\"><img alt=\"The Requiem Red\" class=\"thumbnail\" src=\"media/cache/68/33/68339b4c9bc034267e1da611ab3b34f8.jpg\"/></a>\n",
       " </div>\n",
       " <p class=\"star-rating One\">\n",
       " <i class=\"icon-star\"></i>\n",
       " <i class=\"icon-star\"></i>\n",
       " <i class=\"icon-star\"></i>\n",
       " <i class=\"icon-star\"></i>\n",
       " <i class=\"icon-star\"></i>\n",
       " </p>\n",
       " <h3><a href=\"catalogue/the-requiem-red_995/index.html\" title=\"The Requiem Red\">The Requiem Red</a></h3>\n",
       " <div class=\"product_price\">\n",
       " <p class=\"price_color\">Â£22.65</p>\n",
       " <p class=\"instock availability\">\n",
       " <i class=\"icon-ok\"></i>\n",
       "     \n",
       "         In stock\n",
       "     \n",
       " </p>\n",
       " <form>\n",
       " <button class=\"btn btn-primary btn-block\" data-loading-text=\"Adding...\" type=\"submit\">Add to basket</button>\n",
       " </form>\n",
       " </div>\n",
       " </article>,\n",
       " <article class=\"product_pod\">\n",
       " <div class=\"image_container\">\n",
       " <a href=\"catalogue/the-dirty-little-secrets-of-getting-your-dream-job_994/index.html\"><img alt=\"The Dirty Little Secrets of Getting Your Dream Job\" class=\"thumbnail\" src=\"media/cache/92/27/92274a95b7c251fea59a2b8a78275ab4.jpg\"/></a>\n",
       " </div>\n",
       " <p class=\"star-rating Four\">\n",
       " <i class=\"icon-star\"></i>\n",
       " <i class=\"icon-star\"></i>\n",
       " <i class=\"icon-star\"></i>\n",
       " <i class=\"icon-star\"></i>\n",
       " <i class=\"icon-star\"></i>\n",
       " </p>\n",
       " <h3><a href=\"catalogue/the-dirty-little-secrets-of-getting-your-dream-job_994/index.html\" title=\"The Dirty Little Secrets of Getting Your Dream Job\">The Dirty Little Secrets ...</a></h3>\n",
       " <div class=\"product_price\">\n",
       " <p class=\"price_color\">Â£33.34</p>\n",
       " <p class=\"instock availability\">\n",
       " <i class=\"icon-ok\"></i>\n",
       "     \n",
       "         In stock\n",
       "     \n",
       " </p>\n",
       " <form>\n",
       " <button class=\"btn btn-primary btn-block\" data-loading-text=\"Adding...\" type=\"submit\">Add to basket</button>\n",
       " </form>\n",
       " </div>\n",
       " </article>,\n",
       " <article class=\"product_pod\">\n",
       " <div class=\"image_container\">\n",
       " <a href=\"catalogue/the-coming-woman-a-novel-based-on-the-life-of-the-infamous-feminist-victoria-woodhull_993/index.html\"><img alt=\"The Coming Woman: A Novel Based on the Life of the Infamous Feminist, Victoria Woodhull\" class=\"thumbnail\" src=\"media/cache/3d/54/3d54940e57e662c4dd1f3ff00c78cc64.jpg\"/></a>\n",
       " </div>\n",
       " <p class=\"star-rating Three\">\n",
       " <i class=\"icon-star\"></i>\n",
       " <i class=\"icon-star\"></i>\n",
       " <i class=\"icon-star\"></i>\n",
       " <i class=\"icon-star\"></i>\n",
       " <i class=\"icon-star\"></i>\n",
       " </p>\n",
       " <h3><a href=\"catalogue/the-coming-woman-a-novel-based-on-the-life-of-the-infamous-feminist-victoria-woodhull_993/index.html\" title=\"The Coming Woman: A Novel Based on the Life of the Infamous Feminist, Victoria Woodhull\">The Coming Woman: A ...</a></h3>\n",
       " <div class=\"product_price\">\n",
       " <p class=\"price_color\">Â£17.93</p>\n",
       " <p class=\"instock availability\">\n",
       " <i class=\"icon-ok\"></i>\n",
       "     \n",
       "         In stock\n",
       "     \n",
       " </p>\n",
       " <form>\n",
       " <button class=\"btn btn-primary btn-block\" data-loading-text=\"Adding...\" type=\"submit\">Add to basket</button>\n",
       " </form>\n",
       " </div>\n",
       " </article>,\n",
       " <article class=\"product_pod\">\n",
       " <div class=\"image_container\">\n",
       " <a href=\"catalogue/the-boys-in-the-boat-nine-americans-and-their-epic-quest-for-gold-at-the-1936-berlin-olympics_992/index.html\"><img alt=\"The Boys in the Boat: Nine Americans and Their Epic Quest for Gold at the 1936 Berlin Olympics\" class=\"thumbnail\" src=\"media/cache/66/88/66883b91f6804b2323c8369331cb7dd1.jpg\"/></a>\n",
       " </div>\n",
       " <p class=\"star-rating Four\">\n",
       " <i class=\"icon-star\"></i>\n",
       " <i class=\"icon-star\"></i>\n",
       " <i class=\"icon-star\"></i>\n",
       " <i class=\"icon-star\"></i>\n",
       " <i class=\"icon-star\"></i>\n",
       " </p>\n",
       " <h3><a href=\"catalogue/the-boys-in-the-boat-nine-americans-and-their-epic-quest-for-gold-at-the-1936-berlin-olympics_992/index.html\" title=\"The Boys in the Boat: Nine Americans and Their Epic Quest for Gold at the 1936 Berlin Olympics\">The Boys in the ...</a></h3>\n",
       " <div class=\"product_price\">\n",
       " <p class=\"price_color\">Â£22.60</p>\n",
       " <p class=\"instock availability\">\n",
       " <i class=\"icon-ok\"></i>\n",
       "     \n",
       "         In stock\n",
       "     \n",
       " </p>\n",
       " <form>\n",
       " <button class=\"btn btn-primary btn-block\" data-loading-text=\"Adding...\" type=\"submit\">Add to basket</button>\n",
       " </form>\n",
       " </div>\n",
       " </article>,\n",
       " <article class=\"product_pod\">\n",
       " <div class=\"image_container\">\n",
       " <a href=\"catalogue/the-black-maria_991/index.html\"><img alt=\"The Black Maria\" class=\"thumbnail\" src=\"media/cache/58/46/5846057e28022268153beff6d352b06c.jpg\"/></a>\n",
       " </div>\n",
       " <p class=\"star-rating One\">\n",
       " <i class=\"icon-star\"></i>\n",
       " <i class=\"icon-star\"></i>\n",
       " <i class=\"icon-star\"></i>\n",
       " <i class=\"icon-star\"></i>\n",
       " <i class=\"icon-star\"></i>\n",
       " </p>\n",
       " <h3><a href=\"catalogue/the-black-maria_991/index.html\" title=\"The Black Maria\">The Black Maria</a></h3>\n",
       " <div class=\"product_price\">\n",
       " <p class=\"price_color\">Â£52.15</p>\n",
       " <p class=\"instock availability\">\n",
       " <i class=\"icon-ok\"></i>\n",
       "     \n",
       "         In stock\n",
       "     \n",
       " </p>\n",
       " <form>\n",
       " <button class=\"btn btn-primary btn-block\" data-loading-text=\"Adding...\" type=\"submit\">Add to basket</button>\n",
       " </form>\n",
       " </div>\n",
       " </article>,\n",
       " <article class=\"product_pod\">\n",
       " <div class=\"image_container\">\n",
       " <a href=\"catalogue/starving-hearts-triangular-trade-trilogy-1_990/index.html\"><img alt=\"Starving Hearts (Triangular Trade Trilogy, #1)\" class=\"thumbnail\" src=\"media/cache/be/f4/bef44da28c98f905a3ebec0b87be8530.jpg\"/></a>\n",
       " </div>\n",
       " <p class=\"star-rating Two\">\n",
       " <i class=\"icon-star\"></i>\n",
       " <i class=\"icon-star\"></i>\n",
       " <i class=\"icon-star\"></i>\n",
       " <i class=\"icon-star\"></i>\n",
       " <i class=\"icon-star\"></i>\n",
       " </p>\n",
       " <h3><a href=\"catalogue/starving-hearts-triangular-trade-trilogy-1_990/index.html\" title=\"Starving Hearts (Triangular Trade Trilogy, #1)\">Starving Hearts (Triangular Trade ...</a></h3>\n",
       " <div class=\"product_price\">\n",
       " <p class=\"price_color\">Â£13.99</p>\n",
       " <p class=\"instock availability\">\n",
       " <i class=\"icon-ok\"></i>\n",
       "     \n",
       "         In stock\n",
       "     \n",
       " </p>\n",
       " <form>\n",
       " <button class=\"btn btn-primary btn-block\" data-loading-text=\"Adding...\" type=\"submit\">Add to basket</button>\n",
       " </form>\n",
       " </div>\n",
       " </article>,\n",
       " <article class=\"product_pod\">\n",
       " <div class=\"image_container\">\n",
       " <a href=\"catalogue/shakespeares-sonnets_989/index.html\"><img alt=\"Shakespeare's Sonnets\" class=\"thumbnail\" src=\"media/cache/10/48/1048f63d3b5061cd2f424d20b3f9b666.jpg\"/></a>\n",
       " </div>\n",
       " <p class=\"star-rating Four\">\n",
       " <i class=\"icon-star\"></i>\n",
       " <i class=\"icon-star\"></i>\n",
       " <i class=\"icon-star\"></i>\n",
       " <i class=\"icon-star\"></i>\n",
       " <i class=\"icon-star\"></i>\n",
       " </p>\n",
       " <h3><a href=\"catalogue/shakespeares-sonnets_989/index.html\" title=\"Shakespeare's Sonnets\">Shakespeare's Sonnets</a></h3>\n",
       " <div class=\"product_price\">\n",
       " <p class=\"price_color\">Â£20.66</p>\n",
       " <p class=\"instock availability\">\n",
       " <i class=\"icon-ok\"></i>\n",
       "     \n",
       "         In stock\n",
       "     \n",
       " </p>\n",
       " <form>\n",
       " <button class=\"btn btn-primary btn-block\" data-loading-text=\"Adding...\" type=\"submit\">Add to basket</button>\n",
       " </form>\n",
       " </div>\n",
       " </article>,\n",
       " <article class=\"product_pod\">\n",
       " <div class=\"image_container\">\n",
       " <a href=\"catalogue/set-me-free_988/index.html\"><img alt=\"Set Me Free\" class=\"thumbnail\" src=\"media/cache/5b/88/5b88c52633f53cacf162c15f4f823153.jpg\"/></a>\n",
       " </div>\n",
       " <p class=\"star-rating Five\">\n",
       " <i class=\"icon-star\"></i>\n",
       " <i class=\"icon-star\"></i>\n",
       " <i class=\"icon-star\"></i>\n",
       " <i class=\"icon-star\"></i>\n",
       " <i class=\"icon-star\"></i>\n",
       " </p>\n",
       " <h3><a href=\"catalogue/set-me-free_988/index.html\" title=\"Set Me Free\">Set Me Free</a></h3>\n",
       " <div class=\"product_price\">\n",
       " <p class=\"price_color\">Â£17.46</p>\n",
       " <p class=\"instock availability\">\n",
       " <i class=\"icon-ok\"></i>\n",
       "     \n",
       "         In stock\n",
       "     \n",
       " </p>\n",
       " <form>\n",
       " <button class=\"btn btn-primary btn-block\" data-loading-text=\"Adding...\" type=\"submit\">Add to basket</button>\n",
       " </form>\n",
       " </div>\n",
       " </article>,\n",
       " <article class=\"product_pod\">\n",
       " <div class=\"image_container\">\n",
       " <a href=\"catalogue/scott-pilgrims-precious-little-life-scott-pilgrim-1_987/index.html\"><img alt=\"Scott Pilgrim's Precious Little Life (Scott Pilgrim #1)\" class=\"thumbnail\" src=\"media/cache/94/b1/94b1b8b244bce9677c2f29ccc890d4d2.jpg\"/></a>\n",
       " </div>\n",
       " <p class=\"star-rating Five\">\n",
       " <i class=\"icon-star\"></i>\n",
       " <i class=\"icon-star\"></i>\n",
       " <i class=\"icon-star\"></i>\n",
       " <i class=\"icon-star\"></i>\n",
       " <i class=\"icon-star\"></i>\n",
       " </p>\n",
       " <h3><a href=\"catalogue/scott-pilgrims-precious-little-life-scott-pilgrim-1_987/index.html\" title=\"Scott Pilgrim's Precious Little Life (Scott Pilgrim #1)\">Scott Pilgrim's Precious Little ...</a></h3>\n",
       " <div class=\"product_price\">\n",
       " <p class=\"price_color\">Â£52.29</p>\n",
       " <p class=\"instock availability\">\n",
       " <i class=\"icon-ok\"></i>\n",
       "     \n",
       "         In stock\n",
       "     \n",
       " </p>\n",
       " <form>\n",
       " <button class=\"btn btn-primary btn-block\" data-loading-text=\"Adding...\" type=\"submit\">Add to basket</button>\n",
       " </form>\n",
       " </div>\n",
       " </article>,\n",
       " <article class=\"product_pod\">\n",
       " <div class=\"image_container\">\n",
       " <a href=\"catalogue/rip-it-up-and-start-again_986/index.html\"><img alt=\"Rip it Up and Start Again\" class=\"thumbnail\" src=\"media/cache/81/c4/81c4a973364e17d01f217e1188253d5e.jpg\"/></a>\n",
       " </div>\n",
       " <p class=\"star-rating Five\">\n",
       " <i class=\"icon-star\"></i>\n",
       " <i class=\"icon-star\"></i>\n",
       " <i class=\"icon-star\"></i>\n",
       " <i class=\"icon-star\"></i>\n",
       " <i class=\"icon-star\"></i>\n",
       " </p>\n",
       " <h3><a href=\"catalogue/rip-it-up-and-start-again_986/index.html\" title=\"Rip it Up and Start Again\">Rip it Up and ...</a></h3>\n",
       " <div class=\"product_price\">\n",
       " <p class=\"price_color\">Â£35.02</p>\n",
       " <p class=\"instock availability\">\n",
       " <i class=\"icon-ok\"></i>\n",
       "     \n",
       "         In stock\n",
       "     \n",
       " </p>\n",
       " <form>\n",
       " <button class=\"btn btn-primary btn-block\" data-loading-text=\"Adding...\" type=\"submit\">Add to basket</button>\n",
       " </form>\n",
       " </div>\n",
       " </article>,\n",
       " <article class=\"product_pod\">\n",
       " <div class=\"image_container\">\n",
       " <a href=\"catalogue/our-band-could-be-your-life-scenes-from-the-american-indie-underground-1981-1991_985/index.html\"><img alt=\"Our Band Could Be Your Life: Scenes from the American Indie Underground, 1981-1991\" class=\"thumbnail\" src=\"media/cache/54/60/54607fe8945897cdcced0044103b10b6.jpg\"/></a>\n",
       " </div>\n",
       " <p class=\"star-rating Three\">\n",
       " <i class=\"icon-star\"></i>\n",
       " <i class=\"icon-star\"></i>\n",
       " <i class=\"icon-star\"></i>\n",
       " <i class=\"icon-star\"></i>\n",
       " <i class=\"icon-star\"></i>\n",
       " </p>\n",
       " <h3><a href=\"catalogue/our-band-could-be-your-life-scenes-from-the-american-indie-underground-1981-1991_985/index.html\" title=\"Our Band Could Be Your Life: Scenes from the American Indie Underground, 1981-1991\">Our Band Could Be ...</a></h3>\n",
       " <div class=\"product_price\">\n",
       " <p class=\"price_color\">Â£57.25</p>\n",
       " <p class=\"instock availability\">\n",
       " <i class=\"icon-ok\"></i>\n",
       "     \n",
       "         In stock\n",
       "     \n",
       " </p>\n",
       " <form>\n",
       " <button class=\"btn btn-primary btn-block\" data-loading-text=\"Adding...\" type=\"submit\">Add to basket</button>\n",
       " </form>\n",
       " </div>\n",
       " </article>,\n",
       " <article class=\"product_pod\">\n",
       " <div class=\"image_container\">\n",
       " <a href=\"catalogue/olio_984/index.html\"><img alt=\"Olio\" class=\"thumbnail\" src=\"media/cache/55/33/553310a7162dfbc2c6d19a84da0df9e1.jpg\"/></a>\n",
       " </div>\n",
       " <p class=\"star-rating One\">\n",
       " <i class=\"icon-star\"></i>\n",
       " <i class=\"icon-star\"></i>\n",
       " <i class=\"icon-star\"></i>\n",
       " <i class=\"icon-star\"></i>\n",
       " <i class=\"icon-star\"></i>\n",
       " </p>\n",
       " <h3><a href=\"catalogue/olio_984/index.html\" title=\"Olio\">Olio</a></h3>\n",
       " <div class=\"product_price\">\n",
       " <p class=\"price_color\">Â£23.88</p>\n",
       " <p class=\"instock availability\">\n",
       " <i class=\"icon-ok\"></i>\n",
       "     \n",
       "         In stock\n",
       "     \n",
       " </p>\n",
       " <form>\n",
       " <button class=\"btn btn-primary btn-block\" data-loading-text=\"Adding...\" type=\"submit\">Add to basket</button>\n",
       " </form>\n",
       " </div>\n",
       " </article>,\n",
       " <article class=\"product_pod\">\n",
       " <div class=\"image_container\">\n",
       " <a href=\"catalogue/mesaerion-the-best-science-fiction-stories-1800-1849_983/index.html\"><img alt=\"Mesaerion: The Best Science Fiction Stories 1800-1849\" class=\"thumbnail\" src=\"media/cache/09/a3/09a3aef48557576e1a85ba7efea8ecb7.jpg\"/></a>\n",
       " </div>\n",
       " <p class=\"star-rating One\">\n",
       " <i class=\"icon-star\"></i>\n",
       " <i class=\"icon-star\"></i>\n",
       " <i class=\"icon-star\"></i>\n",
       " <i class=\"icon-star\"></i>\n",
       " <i class=\"icon-star\"></i>\n",
       " </p>\n",
       " <h3><a href=\"catalogue/mesaerion-the-best-science-fiction-stories-1800-1849_983/index.html\" title=\"Mesaerion: The Best Science Fiction Stories 1800-1849\">Mesaerion: The Best Science ...</a></h3>\n",
       " <div class=\"product_price\">\n",
       " <p class=\"price_color\">Â£37.59</p>\n",
       " <p class=\"instock availability\">\n",
       " <i class=\"icon-ok\"></i>\n",
       "     \n",
       "         In stock\n",
       "     \n",
       " </p>\n",
       " <form>\n",
       " <button class=\"btn btn-primary btn-block\" data-loading-text=\"Adding...\" type=\"submit\">Add to basket</button>\n",
       " </form>\n",
       " </div>\n",
       " </article>,\n",
       " <article class=\"product_pod\">\n",
       " <div class=\"image_container\">\n",
       " <a href=\"catalogue/libertarianism-for-beginners_982/index.html\"><img alt=\"Libertarianism for Beginners\" class=\"thumbnail\" src=\"media/cache/0b/bc/0bbcd0a6f4bcd81ccb1049a52736406e.jpg\"/></a>\n",
       " </div>\n",
       " <p class=\"star-rating Two\">\n",
       " <i class=\"icon-star\"></i>\n",
       " <i class=\"icon-star\"></i>\n",
       " <i class=\"icon-star\"></i>\n",
       " <i class=\"icon-star\"></i>\n",
       " <i class=\"icon-star\"></i>\n",
       " </p>\n",
       " <h3><a href=\"catalogue/libertarianism-for-beginners_982/index.html\" title=\"Libertarianism for Beginners\">Libertarianism for Beginners</a></h3>\n",
       " <div class=\"product_price\">\n",
       " <p class=\"price_color\">Â£51.33</p>\n",
       " <p class=\"instock availability\">\n",
       " <i class=\"icon-ok\"></i>\n",
       "     \n",
       "         In stock\n",
       "     \n",
       " </p>\n",
       " <form>\n",
       " <button class=\"btn btn-primary btn-block\" data-loading-text=\"Adding...\" type=\"submit\">Add to basket</button>\n",
       " </form>\n",
       " </div>\n",
       " </article>,\n",
       " <article class=\"product_pod\">\n",
       " <div class=\"image_container\">\n",
       " <a href=\"catalogue/its-only-the-himalayas_981/index.html\"><img alt=\"It's Only the Himalayas\" class=\"thumbnail\" src=\"media/cache/27/a5/27a53d0bb95bdd88288eaf66c9230d7e.jpg\"/></a>\n",
       " </div>\n",
       " <p class=\"star-rating Two\">\n",
       " <i class=\"icon-star\"></i>\n",
       " <i class=\"icon-star\"></i>\n",
       " <i class=\"icon-star\"></i>\n",
       " <i class=\"icon-star\"></i>\n",
       " <i class=\"icon-star\"></i>\n",
       " </p>\n",
       " <h3><a href=\"catalogue/its-only-the-himalayas_981/index.html\" title=\"It's Only the Himalayas\">It's Only the Himalayas</a></h3>\n",
       " <div class=\"product_price\">\n",
       " <p class=\"price_color\">Â£45.17</p>\n",
       " <p class=\"instock availability\">\n",
       " <i class=\"icon-ok\"></i>\n",
       "     \n",
       "         In stock\n",
       "     \n",
       " </p>\n",
       " <form>\n",
       " <button class=\"btn btn-primary btn-block\" data-loading-text=\"Adding...\" type=\"submit\">Add to basket</button>\n",
       " </form>\n",
       " </div>\n",
       " </article>]"
      ]
     },
     "execution_count": 258,
     "metadata": {},
     "output_type": "execute_result"
    }
   ],
   "source": [
    "books = data.find_all(class_ = 'product_pod')\n",
    "books"
   ]
  },
  {
   "cell_type": "code",
   "execution_count": 263,
   "id": "abe0ef9d",
   "metadata": {},
   "outputs": [
    {
     "name": "stdout",
     "output_type": "stream",
     "text": [
      "https://books.toscrape.com/catalogue/a-light-in-the-attic_1000/index.html\n",
      "https://books.toscrape.com/catalogue/tipping-the-velvet_999/index.html\n",
      "https://books.toscrape.com/catalogue/soumission_998/index.html\n",
      "https://books.toscrape.com/catalogue/sharp-objects_997/index.html\n",
      "https://books.toscrape.com/catalogue/sapiens-a-brief-history-of-humankind_996/index.html\n",
      "https://books.toscrape.com/catalogue/the-requiem-red_995/index.html\n",
      "https://books.toscrape.com/catalogue/the-dirty-little-secrets-of-getting-your-dream-job_994/index.html\n",
      "https://books.toscrape.com/catalogue/the-coming-woman-a-novel-based-on-the-life-of-the-infamous-feminist-victoria-woodhull_993/index.html\n",
      "https://books.toscrape.com/catalogue/the-boys-in-the-boat-nine-americans-and-their-epic-quest-for-gold-at-the-1936-berlin-olympics_992/index.html\n",
      "https://books.toscrape.com/catalogue/the-black-maria_991/index.html\n",
      "https://books.toscrape.com/catalogue/starving-hearts-triangular-trade-trilogy-1_990/index.html\n",
      "https://books.toscrape.com/catalogue/shakespeares-sonnets_989/index.html\n",
      "https://books.toscrape.com/catalogue/set-me-free_988/index.html\n",
      "https://books.toscrape.com/catalogue/scott-pilgrims-precious-little-life-scott-pilgrim-1_987/index.html\n",
      "https://books.toscrape.com/catalogue/rip-it-up-and-start-again_986/index.html\n",
      "https://books.toscrape.com/catalogue/our-band-could-be-your-life-scenes-from-the-american-indie-underground-1981-1991_985/index.html\n",
      "https://books.toscrape.com/catalogue/olio_984/index.html\n",
      "https://books.toscrape.com/catalogue/mesaerion-the-best-science-fiction-stories-1800-1849_983/index.html\n",
      "https://books.toscrape.com/catalogue/libertarianism-for-beginners_982/index.html\n",
      "https://books.toscrape.com/catalogue/its-only-the-himalayas_981/index.html\n",
      "20\n"
     ]
    }
   ],
   "source": [
    "base_url = 'https://books.toscrape.com/'\n",
    "book_urls = []\n",
    "for i in books:\n",
    "    book_urls.append(base_url + i.h3.a['href'])\n",
    "    print(base_url + i.h3.a['href'])\n",
    "print(len(book_urls))"
   ]
  },
  {
   "cell_type": "code",
   "execution_count": 254,
   "id": "e701ae93",
   "metadata": {},
   "outputs": [
    {
     "data": {
      "text/plain": [
       "<article class=\"product_pod\">\n",
       "<div class=\"image_container\">\n",
       "<a href=\"catalogue/a-light-in-the-attic_1000/index.html\"><img alt=\"A Light in the Attic\" class=\"thumbnail\" src=\"media/cache/2c/da/2cdad67c44b002e7ead0cc35693c0e8b.jpg\"/></a>\n",
       "</div>\n",
       "<p class=\"star-rating Three\">\n",
       "<i class=\"icon-star\"></i>\n",
       "<i class=\"icon-star\"></i>\n",
       "<i class=\"icon-star\"></i>\n",
       "<i class=\"icon-star\"></i>\n",
       "<i class=\"icon-star\"></i>\n",
       "</p>\n",
       "<h3><a href=\"catalogue/a-light-in-the-attic_1000/index.html\" title=\"A Light in the Attic\">A Light in the ...</a></h3>\n",
       "<div class=\"product_price\">\n",
       "<p class=\"price_color\">Â£51.77</p>\n",
       "<p class=\"instock availability\">\n",
       "<i class=\"icon-ok\"></i>\n",
       "    \n",
       "        In stock\n",
       "    \n",
       "</p>\n",
       "<form>\n",
       "<button class=\"btn btn-primary btn-block\" data-loading-text=\"Adding...\" type=\"submit\">Add to basket</button>\n",
       "</form>\n",
       "</div>\n",
       "</article>"
      ]
     },
     "execution_count": 254,
     "metadata": {},
     "output_type": "execute_result"
    }
   ],
   "source": [
    "data.article\n"
   ]
  },
  {
   "cell_type": "code",
   "execution_count": 268,
   "id": "cb998544",
   "metadata": {},
   "outputs": [
    {
     "name": "stdout",
     "output_type": "stream",
     "text": [
      "A Light in the Attic\n",
      "Tipping the Velvet\n",
      "Soumission\n",
      "Sharp Objects\n",
      "Sapiens: A Brief History of Humankind\n",
      "The Requiem Red\n",
      "The Dirty Little Secrets of Getting Your Dream Job\n",
      "The Coming Woman: A Novel Based on the Life of the Infamous Feminist, Victoria Woodhull\n",
      "The Boys in the Boat: Nine Americans and Their Epic Quest for Gold at the 1936 Berlin Olympics\n",
      "The Black Maria\n",
      "Starving Hearts (Triangular Trade Trilogy, #1)\n",
      "Shakespeare's Sonnets\n",
      "Set Me Free\n",
      "Scott Pilgrim's Precious Little Life (Scott Pilgrim #1)\n",
      "Rip it Up and Start Again\n",
      "Our Band Could Be Your Life: Scenes from the American Indie Underground, 1981-1991\n",
      "Olio\n",
      "Mesaerion: The Best Science Fiction Stories 1800-1849\n",
      "Libertarianism for Beginners\n",
      "It's Only the Himalayas\n"
     ]
    }
   ],
   "source": [
    "for i in books:\n",
    "    print(i.img['alt'])"
   ]
  },
  {
   "cell_type": "code",
   "execution_count": 323,
   "id": "f8da5c9b",
   "metadata": {},
   "outputs": [
    {
     "data": {
      "text/plain": [
       "[<ul class=\"nav nav-list\">\n",
       " <li>\n",
       " <a href=\"catalogue/category/books_1/index.html\">\n",
       "                             \n",
       "                                 Books\n",
       "                             \n",
       "                         </a>\n",
       " <ul>\n",
       " <li>\n",
       " <a href=\"catalogue/category/books/travel_2/index.html\">\n",
       "                             \n",
       "                                 Travel\n",
       "                             \n",
       "                         </a>\n",
       " </li>\n",
       " <li>\n",
       " <a href=\"catalogue/category/books/mystery_3/index.html\">\n",
       "                             \n",
       "                                 Mystery\n",
       "                             \n",
       "                         </a>\n",
       " </li>\n",
       " <li>\n",
       " <a href=\"catalogue/category/books/historical-fiction_4/index.html\">\n",
       "                             \n",
       "                                 Historical Fiction\n",
       "                             \n",
       "                         </a>\n",
       " </li>\n",
       " <li>\n",
       " <a href=\"catalogue/category/books/sequential-art_5/index.html\">\n",
       "                             \n",
       "                                 Sequential Art\n",
       "                             \n",
       "                         </a>\n",
       " </li>\n",
       " <li>\n",
       " <a href=\"catalogue/category/books/classics_6/index.html\">\n",
       "                             \n",
       "                                 Classics\n",
       "                             \n",
       "                         </a>\n",
       " </li>\n",
       " <li>\n",
       " <a href=\"catalogue/category/books/philosophy_7/index.html\">\n",
       "                             \n",
       "                                 Philosophy\n",
       "                             \n",
       "                         </a>\n",
       " </li>\n",
       " <li>\n",
       " <a href=\"catalogue/category/books/romance_8/index.html\">\n",
       "                             \n",
       "                                 Romance\n",
       "                             \n",
       "                         </a>\n",
       " </li>\n",
       " <li>\n",
       " <a href=\"catalogue/category/books/womens-fiction_9/index.html\">\n",
       "                             \n",
       "                                 Womens Fiction\n",
       "                             \n",
       "                         </a>\n",
       " </li>\n",
       " <li>\n",
       " <a href=\"catalogue/category/books/fiction_10/index.html\">\n",
       "                             \n",
       "                                 Fiction\n",
       "                             \n",
       "                         </a>\n",
       " </li>\n",
       " <li>\n",
       " <a href=\"catalogue/category/books/childrens_11/index.html\">\n",
       "                             \n",
       "                                 Childrens\n",
       "                             \n",
       "                         </a>\n",
       " </li>\n",
       " <li>\n",
       " <a href=\"catalogue/category/books/religion_12/index.html\">\n",
       "                             \n",
       "                                 Religion\n",
       "                             \n",
       "                         </a>\n",
       " </li>\n",
       " <li>\n",
       " <a href=\"catalogue/category/books/nonfiction_13/index.html\">\n",
       "                             \n",
       "                                 Nonfiction\n",
       "                             \n",
       "                         </a>\n",
       " </li>\n",
       " <li>\n",
       " <a href=\"catalogue/category/books/music_14/index.html\">\n",
       "                             \n",
       "                                 Music\n",
       "                             \n",
       "                         </a>\n",
       " </li>\n",
       " <li>\n",
       " <a href=\"catalogue/category/books/default_15/index.html\">\n",
       "                             \n",
       "                                 Default\n",
       "                             \n",
       "                         </a>\n",
       " </li>\n",
       " <li>\n",
       " <a href=\"catalogue/category/books/science-fiction_16/index.html\">\n",
       "                             \n",
       "                                 Science Fiction\n",
       "                             \n",
       "                         </a>\n",
       " </li>\n",
       " <li>\n",
       " <a href=\"catalogue/category/books/sports-and-games_17/index.html\">\n",
       "                             \n",
       "                                 Sports and Games\n",
       "                             \n",
       "                         </a>\n",
       " </li>\n",
       " <li>\n",
       " <a href=\"catalogue/category/books/add-a-comment_18/index.html\">\n",
       "                             \n",
       "                                 Add a comment\n",
       "                             \n",
       "                         </a>\n",
       " </li>\n",
       " <li>\n",
       " <a href=\"catalogue/category/books/fantasy_19/index.html\">\n",
       "                             \n",
       "                                 Fantasy\n",
       "                             \n",
       "                         </a>\n",
       " </li>\n",
       " <li>\n",
       " <a href=\"catalogue/category/books/new-adult_20/index.html\">\n",
       "                             \n",
       "                                 New Adult\n",
       "                             \n",
       "                         </a>\n",
       " </li>\n",
       " <li>\n",
       " <a href=\"catalogue/category/books/young-adult_21/index.html\">\n",
       "                             \n",
       "                                 Young Adult\n",
       "                             \n",
       "                         </a>\n",
       " </li>\n",
       " <li>\n",
       " <a href=\"catalogue/category/books/science_22/index.html\">\n",
       "                             \n",
       "                                 Science\n",
       "                             \n",
       "                         </a>\n",
       " </li>\n",
       " <li>\n",
       " <a href=\"catalogue/category/books/poetry_23/index.html\">\n",
       "                             \n",
       "                                 Poetry\n",
       "                             \n",
       "                         </a>\n",
       " </li>\n",
       " <li>\n",
       " <a href=\"catalogue/category/books/paranormal_24/index.html\">\n",
       "                             \n",
       "                                 Paranormal\n",
       "                             \n",
       "                         </a>\n",
       " </li>\n",
       " <li>\n",
       " <a href=\"catalogue/category/books/art_25/index.html\">\n",
       "                             \n",
       "                                 Art\n",
       "                             \n",
       "                         </a>\n",
       " </li>\n",
       " <li>\n",
       " <a href=\"catalogue/category/books/psychology_26/index.html\">\n",
       "                             \n",
       "                                 Psychology\n",
       "                             \n",
       "                         </a>\n",
       " </li>\n",
       " <li>\n",
       " <a href=\"catalogue/category/books/autobiography_27/index.html\">\n",
       "                             \n",
       "                                 Autobiography\n",
       "                             \n",
       "                         </a>\n",
       " </li>\n",
       " <li>\n",
       " <a href=\"catalogue/category/books/parenting_28/index.html\">\n",
       "                             \n",
       "                                 Parenting\n",
       "                             \n",
       "                         </a>\n",
       " </li>\n",
       " <li>\n",
       " <a href=\"catalogue/category/books/adult-fiction_29/index.html\">\n",
       "                             \n",
       "                                 Adult Fiction\n",
       "                             \n",
       "                         </a>\n",
       " </li>\n",
       " <li>\n",
       " <a href=\"catalogue/category/books/humor_30/index.html\">\n",
       "                             \n",
       "                                 Humor\n",
       "                             \n",
       "                         </a>\n",
       " </li>\n",
       " <li>\n",
       " <a href=\"catalogue/category/books/horror_31/index.html\">\n",
       "                             \n",
       "                                 Horror\n",
       "                             \n",
       "                         </a>\n",
       " </li>\n",
       " <li>\n",
       " <a href=\"catalogue/category/books/history_32/index.html\">\n",
       "                             \n",
       "                                 History\n",
       "                             \n",
       "                         </a>\n",
       " </li>\n",
       " <li>\n",
       " <a href=\"catalogue/category/books/food-and-drink_33/index.html\">\n",
       "                             \n",
       "                                 Food and Drink\n",
       "                             \n",
       "                         </a>\n",
       " </li>\n",
       " <li>\n",
       " <a href=\"catalogue/category/books/christian-fiction_34/index.html\">\n",
       "                             \n",
       "                                 Christian Fiction\n",
       "                             \n",
       "                         </a>\n",
       " </li>\n",
       " <li>\n",
       " <a href=\"catalogue/category/books/business_35/index.html\">\n",
       "                             \n",
       "                                 Business\n",
       "                             \n",
       "                         </a>\n",
       " </li>\n",
       " <li>\n",
       " <a href=\"catalogue/category/books/biography_36/index.html\">\n",
       "                             \n",
       "                                 Biography\n",
       "                             \n",
       "                         </a>\n",
       " </li>\n",
       " <li>\n",
       " <a href=\"catalogue/category/books/thriller_37/index.html\">\n",
       "                             \n",
       "                                 Thriller\n",
       "                             \n",
       "                         </a>\n",
       " </li>\n",
       " <li>\n",
       " <a href=\"catalogue/category/books/contemporary_38/index.html\">\n",
       "                             \n",
       "                                 Contemporary\n",
       "                             \n",
       "                         </a>\n",
       " </li>\n",
       " <li>\n",
       " <a href=\"catalogue/category/books/spirituality_39/index.html\">\n",
       "                             \n",
       "                                 Spirituality\n",
       "                             \n",
       "                         </a>\n",
       " </li>\n",
       " <li>\n",
       " <a href=\"catalogue/category/books/academic_40/index.html\">\n",
       "                             \n",
       "                                 Academic\n",
       "                             \n",
       "                         </a>\n",
       " </li>\n",
       " <li>\n",
       " <a href=\"catalogue/category/books/self-help_41/index.html\">\n",
       "                             \n",
       "                                 Self Help\n",
       "                             \n",
       "                         </a>\n",
       " </li>\n",
       " <li>\n",
       " <a href=\"catalogue/category/books/historical_42/index.html\">\n",
       "                             \n",
       "                                 Historical\n",
       "                             \n",
       "                         </a>\n",
       " </li>\n",
       " <li>\n",
       " <a href=\"catalogue/category/books/christian_43/index.html\">\n",
       "                             \n",
       "                                 Christian\n",
       "                             \n",
       "                         </a>\n",
       " </li>\n",
       " <li>\n",
       " <a href=\"catalogue/category/books/suspense_44/index.html\">\n",
       "                             \n",
       "                                 Suspense\n",
       "                             \n",
       "                         </a>\n",
       " </li>\n",
       " <li>\n",
       " <a href=\"catalogue/category/books/short-stories_45/index.html\">\n",
       "                             \n",
       "                                 Short Stories\n",
       "                             \n",
       "                         </a>\n",
       " </li>\n",
       " <li>\n",
       " <a href=\"catalogue/category/books/novels_46/index.html\">\n",
       "                             \n",
       "                                 Novels\n",
       "                             \n",
       "                         </a>\n",
       " </li>\n",
       " <li>\n",
       " <a href=\"catalogue/category/books/health_47/index.html\">\n",
       "                             \n",
       "                                 Health\n",
       "                             \n",
       "                         </a>\n",
       " </li>\n",
       " <li>\n",
       " <a href=\"catalogue/category/books/politics_48/index.html\">\n",
       "                             \n",
       "                                 Politics\n",
       "                             \n",
       "                         </a>\n",
       " </li>\n",
       " <li>\n",
       " <a href=\"catalogue/category/books/cultural_49/index.html\">\n",
       "                             \n",
       "                                 Cultural\n",
       "                             \n",
       "                         </a>\n",
       " </li>\n",
       " <li>\n",
       " <a href=\"catalogue/category/books/erotica_50/index.html\">\n",
       "                             \n",
       "                                 Erotica\n",
       "                             \n",
       "                         </a>\n",
       " </li>\n",
       " <li>\n",
       " <a href=\"catalogue/category/books/crime_51/index.html\">\n",
       "                             \n",
       "                                 Crime\n",
       "                             \n",
       "                         </a>\n",
       " </li>\n",
       " </ul></li>\n",
       " </ul>]"
      ]
     },
     "execution_count": 323,
     "metadata": {},
     "output_type": "execute_result"
    }
   ],
   "source": [
    "category = data.find_all(class_ = 'nav nav-list')\n",
    "category"
   ]
  },
  {
   "cell_type": "markdown",
   "id": "8019540f",
   "metadata": {},
   "source": [
    "### Link for all the pages"
   ]
  },
  {
   "cell_type": "code",
   "execution_count": 326,
   "id": "06946da9",
   "metadata": {},
   "outputs": [
    {
     "name": "stdout",
     "output_type": "stream",
     "text": [
      "https://books.toscrape.com/catalogue/page-2.html\n",
      "https://books.toscrape.com/catalogue/page-3.html\n",
      "https://books.toscrape.com/catalogue/page-4.html\n",
      "https://books.toscrape.com/catalogue/page-5.html\n",
      "https://books.toscrape.com/catalogue/page-6.html\n",
      "https://books.toscrape.com/catalogue/page-7.html\n",
      "https://books.toscrape.com/catalogue/page-8.html\n",
      "https://books.toscrape.com/catalogue/page-9.html\n",
      "https://books.toscrape.com/catalogue/page-10.html\n",
      "https://books.toscrape.com/catalogue/page-11.html\n",
      "https://books.toscrape.com/catalogue/page-12.html\n",
      "https://books.toscrape.com/catalogue/page-13.html\n",
      "https://books.toscrape.com/catalogue/page-14.html\n",
      "https://books.toscrape.com/catalogue/page-15.html\n",
      "https://books.toscrape.com/catalogue/page-16.html\n",
      "https://books.toscrape.com/catalogue/page-17.html\n",
      "https://books.toscrape.com/catalogue/page-18.html\n",
      "https://books.toscrape.com/catalogue/page-19.html\n",
      "https://books.toscrape.com/catalogue/page-20.html\n",
      "https://books.toscrape.com/catalogue/page-21.html\n",
      "https://books.toscrape.com/catalogue/page-22.html\n",
      "https://books.toscrape.com/catalogue/page-23.html\n",
      "https://books.toscrape.com/catalogue/page-24.html\n",
      "https://books.toscrape.com/catalogue/page-25.html\n",
      "https://books.toscrape.com/catalogue/page-26.html\n",
      "https://books.toscrape.com/catalogue/page-27.html\n",
      "https://books.toscrape.com/catalogue/page-28.html\n",
      "https://books.toscrape.com/catalogue/page-29.html\n",
      "https://books.toscrape.com/catalogue/page-30.html\n",
      "https://books.toscrape.com/catalogue/page-31.html\n",
      "https://books.toscrape.com/catalogue/page-32.html\n",
      "https://books.toscrape.com/catalogue/page-33.html\n",
      "https://books.toscrape.com/catalogue/page-34.html\n",
      "https://books.toscrape.com/catalogue/page-35.html\n",
      "https://books.toscrape.com/catalogue/page-36.html\n",
      "https://books.toscrape.com/catalogue/page-37.html\n",
      "https://books.toscrape.com/catalogue/page-38.html\n",
      "https://books.toscrape.com/catalogue/page-39.html\n",
      "https://books.toscrape.com/catalogue/page-40.html\n",
      "https://books.toscrape.com/catalogue/page-41.html\n",
      "https://books.toscrape.com/catalogue/page-42.html\n",
      "https://books.toscrape.com/catalogue/page-43.html\n",
      "https://books.toscrape.com/catalogue/page-44.html\n",
      "https://books.toscrape.com/catalogue/page-45.html\n",
      "https://books.toscrape.com/catalogue/page-46.html\n",
      "https://books.toscrape.com/catalogue/page-47.html\n",
      "https://books.toscrape.com/catalogue/page-48.html\n",
      "https://books.toscrape.com/catalogue/page-49.html\n",
      "https://books.toscrape.com/catalogue/page-50.html\n"
     ]
    }
   ],
   "source": [
    "all_urls = ['https://books.toscrape.com/catalogue/page-1.html']\n",
    "current_page = 'https://books.toscrape.com/catalogue/page-1.html'\n",
    "\n",
    "base_url = \"https://books.toscrape.com/catalogue/\"\n",
    "response = requests.get(current_page)\n",
    "while response.status_code == 200:\n",
    "    data = BeautifulSoup(response.text,'html.parser')\n",
    "    next_page = data.find(class_ = 'next')\n",
    "    if next_page is None:\n",
    "        break\n",
    "    next_page_url = base_url + next_page.a['href']\n",
    "    print(next_page_url)\n",
    "    all_urls.append(next_page_url)\n",
    "    \n",
    "    current_page = next_page_url\n",
    "    response = requests.get(current_page)"
   ]
  },
  {
   "cell_type": "markdown",
   "id": "61b20fd6",
   "metadata": {},
   "source": [
    "### All Books Name"
   ]
  },
  {
   "cell_type": "code",
   "execution_count": 327,
   "id": "5a35e652",
   "metadata": {},
   "outputs": [
    {
     "name": "stdout",
     "output_type": "stream",
     "text": [
      "A Light in the Attic\n",
      "Tipping the Velvet\n",
      "Soumission\n",
      "Sharp Objects\n",
      "Sapiens: A Brief History of Humankind\n",
      "The Requiem Red\n",
      "The Dirty Little Secrets of Getting Your Dream Job\n",
      "The Coming Woman: A Novel Based on the Life of the Infamous Feminist, Victoria Woodhull\n",
      "The Boys in the Boat: Nine Americans and Their Epic Quest for Gold at the 1936 Berlin Olympics\n",
      "The Black Maria\n",
      "Starving Hearts (Triangular Trade Trilogy, #1)\n",
      "Shakespeare's Sonnets\n",
      "Set Me Free\n",
      "Scott Pilgrim's Precious Little Life (Scott Pilgrim #1)\n",
      "Rip it Up and Start Again\n",
      "Our Band Could Be Your Life: Scenes from the American Indie Underground, 1981-1991\n",
      "Olio\n",
      "Mesaerion: The Best Science Fiction Stories 1800-1849\n",
      "Libertarianism for Beginners\n",
      "It's Only the Himalayas\n",
      "In Her Wake\n",
      "How Music Works\n",
      "Foolproof Preserving: A Guide to Small Batch Jams, Jellies, Pickles, Condiments, and More: A Foolproof Guide to Making Small Batch Jams, Jellies, Pickles, Condiments, and More\n",
      "Chase Me (Paris Nights #2)\n",
      "Black Dust\n",
      "Birdsong: A Story in Pictures\n",
      "America's Cradle of Quarterbacks: Western Pennsylvania's Football Factory from Johnny Unitas to Joe Montana\n",
      "Aladdin and His Wonderful Lamp\n",
      "Worlds Elsewhere: Journeys Around Shakespeareâs Globe\n",
      "Wall and Piece\n",
      "The Four Agreements: A Practical Guide to Personal Freedom\n",
      "The Five Love Languages: How to Express Heartfelt Commitment to Your Mate\n",
      "The Elephant Tree\n",
      "The Bear and the Piano\n",
      "Sophie's World\n",
      "Penny Maybe\n",
      "Maude (1883-1993):She Grew Up with the country\n",
      "In a Dark, Dark Wood\n",
      "Behind Closed Doors\n",
      "You can't bury them all: Poems\n",
      "Slow States of Collapse: Poems\n",
      "Reasons to Stay Alive\n",
      "Private Paris (Private #10)\n",
      "#HigherSelfie: Wake Up Your Life. Free Your Soul. Find Your Tribe.\n",
      "Without Borders (Wanderlove #1)\n",
      "When We Collided\n",
      "We Love You, Charlie Freeman\n",
      "Untitled Collection: Sabbath Poems 2014\n",
      "Unseen City: The Majesty of Pigeons, the Discreet Charm of Snails & Other Wonders of the Urban Wilderness\n",
      "Unicorn Tracks\n",
      "Unbound: How Eight Technologies Made Us Human, Transformed Society, and Brought Our World to the Brink\n",
      "Tsubasa: WoRLD CHRoNiCLE 2 (Tsubasa WoRLD CHRoNiCLE #2)\n",
      "Throwing Rocks at the Google Bus: How Growth Became the Enemy of Prosperity\n",
      "This One Summer\n",
      "Thirst\n",
      "The Torch Is Passed: A Harding Family Story\n",
      "The Secret of Dreadwillow Carse\n",
      "The Pioneer Woman Cooks: Dinnertime: Comfort Classics, Freezer Food, 16-Minute Meals, and Other Delicious Ways to Solve Supper!\n",
      "The Past Never Ends\n",
      "The Natural History of Us (The Fine Art of Pretending #2)\n",
      "The Nameless City (The Nameless City #1)\n",
      "The Murder That Never Was (Forensic Instincts #5)\n",
      "The Most Perfect Thing: Inside (and Outside) a Bird's Egg\n",
      "The Mindfulness and Acceptance Workbook for Anxiety: A Guide to Breaking Free from Anxiety, Phobias, and Worry Using Acceptance and Commitment Therapy\n",
      "The Life-Changing Magic of Tidying Up: The Japanese Art of Decluttering and Organizing\n",
      "The Inefficiency Assassin: Time Management Tactics for Working Smarter, Not Longer\n",
      "The Gutsy Girl: Escapades for Your Life of Epic Adventure\n",
      "The Electric Pencil: Drawings from Inside State Hospital No. 3\n",
      "The Death of Humanity: and the Case for Life\n",
      "The Bulletproof Diet: Lose up to a Pound a Day, Reclaim Energy and Focus, Upgrade Your Life\n",
      "The Art Forger\n",
      "The Age of Genius: The Seventeenth Century and the Birth of the Modern Mind\n",
      "The Activist's Tao Te Ching: Ancient Advice for a Modern Revolution\n",
      "Spark Joy: An Illustrated Master Class on the Art of Organizing and Tidying Up\n",
      "Soul Reader\n",
      "Security\n",
      "Saga, Volume 6 (Saga (Collected Editions) #6)\n",
      "Saga, Volume 5 (Saga (Collected Editions) #5)\n",
      "Reskilling America: Learning to Labor in the Twenty-First Century\n",
      "Rat Queens, Vol. 3: Demons (Rat Queens (Collected Editions) #11-15)\n",
      "Princess Jellyfish 2-in-1 Omnibus, Vol. 01 (Princess Jellyfish 2-in-1 Omnibus #1)\n",
      "Princess Between Worlds (Wide-Awake Princess #5)\n",
      "Pop Gun War, Volume 1: Gift\n",
      "Political Suicide: Missteps, Peccadilloes, Bad Calls, Backroom Hijinx, Sordid Pasts, Rotten Breaks, and Just Plain Dumb Mistakes in the Annals of American Politics\n",
      "Patience\n",
      "Outcast, Vol. 1: A Darkness Surrounds Him (Outcast #1)\n",
      "orange: The Complete Collection 1 (orange: The Complete Collection #1)\n",
      "Online Marketing for Busy Authors: A Step-By-Step Guide\n",
      "On a Midnight Clear\n",
      "Obsidian (Lux #1)\n",
      "My Paris Kitchen: Recipes and Stories\n",
      "Masks and Shadows\n",
      "Mama Tried: Traditional Italian Cooking for the Screwed, Crude, Vegan, and Tattooed\n",
      "Lumberjanes, Vol. 2: Friendship to the Max (Lumberjanes #5-8)\n",
      "Lumberjanes, Vol. 1: Beware the Kitten Holy (Lumberjanes #1-4)\n",
      "Lumberjanes Vol. 3: A Terrible Plan (Lumberjanes #9-12)\n",
      "Layered: Baking, Building, and Styling Spectacular Cakes\n",
      "Judo: Seven Steps to Black Belt (an Introductory Guide for Beginners)\n",
      "Join\n",
      "In the Country We Love: My Family Divided\n",
      "Immunity: How Elie Metchnikoff Changed the Course of Modern Medicine\n",
      "I Hate Fairyland, Vol. 1: Madly Ever After (I Hate Fairyland (Compilations) #1-5)\n",
      "I am a Hero Omnibus Volume 1\n",
      "How to Be Miserable: 40 Strategies You Already Use\n",
      "Her Backup Boyfriend (The Sorensen Family #1)\n",
      "Giant Days, Vol. 2 (Giant Days #5-8)\n",
      "Forever and Forever: The Courtship of Henry Longfellow and Fanny Appleton\n",
      "First and First (Five Boroughs #3)\n",
      "Fifty Shades Darker (Fifty Shades #2)\n",
      "Everydata: The Misinformation Hidden in the Little Data You Consume Every Day\n",
      "Don't Be a Jerk: And Other Practical Advice from Dogen, Japan's Greatest Zen Master\n",
      "Danganronpa Volume 1\n",
      "Crown of Midnight (Throne of Glass #2)\n",
      "Codename Baboushka, Volume 1: The Conclave of Death\n",
      "Camp Midnight\n",
      "Call the Nurse: True Stories of a Country Nurse on a Scottish Isle\n",
      "Burning\n",
      "Bossypants\n",
      "Bitch Planet, Vol. 1: Extraordinary Machine (Bitch Planet (Collected Editions))\n",
      "Avatar: The Last Airbender: Smoke and Shadow, Part 3 (Smoke and Shadow #3)\n",
      "Algorithms to Live By: The Computer Science of Human Decisions\n",
      "A World of Flavor: Your Gluten Free Passport\n",
      "A Piece of Sky, a Grain of Rice: A Memoir in Four Meditations\n",
      "A Murder in Time\n",
      "A Flight of Arrows (The Pathfinders #2)\n",
      "A Fierce and Subtle Poison\n",
      "A Court of Thorns and Roses (A Court of Thorns and Roses #1)\n",
      "(Un)Qualified: How God Uses Broken People to Do Big Things\n",
      "You Are What You Love: The Spiritual Power of Habit\n",
      "William Shakespeare's Star Wars: Verily, A New Hope (William Shakespeare's Star Wars #4)\n",
      "Tuesday Nights in 1980\n",
      "Tracing Numbers on a Train\n",
      "Throne of Glass (Throne of Glass #1)\n",
      "Thomas Jefferson and the Tripoli Pirates: The Forgotten War That Changed American History\n",
      "Thirteen Reasons Why\n",
      "The White Cat and the Monk: A Retelling of the Poem âPangur BÃ¡nâ\n",
      "The Wedding Dress\n",
      "The Vacationers\n",
      "The Third Wave: An Entrepreneurâs Vision of the Future\n",
      "The Stranger\n",
      "The Shadow Hero (The Shadow Hero)\n",
      "The Secret (The Secret #1)\n",
      "The Regional Office Is Under Attack!\n",
      "The Psychopath Test: A Journey Through the Madness Industry\n",
      "The Project\n",
      "The Power of Now: A Guide to Spiritual Enlightenment\n",
      "The Omnivore's Dilemma: A Natural History of Four Meals\n",
      "The Nerdy Nummies Cookbook: Sweet Treats for the Geek in All of Us\n",
      "The Murder of Roger Ackroyd (Hercule Poirot #4)\n",
      "The Mistake (Off-Campus #2)\n",
      "The Matchmaker's Playbook (Wingmen Inc. #1)\n",
      "The Love and Lemons Cookbook: An Apple-to-Zucchini Celebration of Impromptu Cooking\n",
      "The Long Shadow of Small Ghosts: Murder and Memory in an American City\n",
      "The Kite Runner\n",
      "The House by the Lake\n",
      "The Glittering Court (The Glittering Court #1)\n",
      "The Girl on the Train\n",
      "The Genius of Birds\n",
      "The Emerald Mystery\n",
      "The Cookies & Cups Cookbook: 125+ sweet & savory recipes reminding you to Always Eat Dessert First\n",
      "The Bridge to Consciousness: I'm Writing the Bridge Between Science and Our Old and New Beliefs.\n",
      "The Artist's Way: A Spiritual Path to Higher Creativity\n",
      "The Art of War\n",
      "The Argonauts\n",
      "The 10% Entrepreneur: Live Your Startup Dream Without Quitting Your Day Job\n",
      "Suddenly in Love (Lake Haven #1)\n",
      "Something More Than This\n",
      "Soft Apocalypse\n",
      "So You've Been Publicly Shamed\n",
      "Shoe Dog: A Memoir by the Creator of NIKE\n",
      "Shobu Samurai, Project Aryoku (#3)\n",
      "Secrets and Lace (Fatal Hearts #1)\n",
      "Scarlett Epstein Hates It Here\n",
      "Romero and Juliet: A Tragic Tale of Love and Zombies\n",
      "Redeeming Love\n",
      "Poses for Artists Volume 1 - Dynamic and Sitting Poses: An Essential Reference for Figure Drawing and the Human Form\n",
      "Poems That Make Grown Women Cry\n",
      "Nightingale, Sing\n",
      "Night Sky with Exit Wounds\n",
      "Mrs. Houdini\n"
     ]
    },
    {
     "name": "stdout",
     "output_type": "stream",
     "text": [
      "Modern Romance\n",
      "Miss Peregrineâs Home for Peculiar Children (Miss Peregrineâs Peculiar Children #1)\n",
      "Louisa: The Extraordinary Life of Mrs. Adams\n",
      "Little Red\n",
      "Library of Souls (Miss Peregrineâs Peculiar Children #3)\n",
      "Large Print Heart of the Pride\n",
      "I Had a Nice Time And Other Lies...: How to find love & sh*t like that\n",
      "Hollow City (Miss Peregrineâs Peculiar Children #2)\n",
      "Grumbles\n",
      "Full Moon over Noahâs Ark: An Odyssey to Mount Ararat and Beyond\n",
      "Frostbite (Vampire Academy #2)\n",
      "Follow You Home\n",
      "First Steps for New Christians (Print Edition)\n",
      "Finders Keepers (Bill Hodges Trilogy #2)\n",
      "Fables, Vol. 1: Legends in Exile (Fables #1)\n",
      "Eureka Trivia 6.0\n",
      "Drive: The Surprising Truth About What Motivates Us\n",
      "Done Rubbed Out (Reightman & Bailey #1)\n",
      "Doing It Over (Most Likely To #1)\n",
      "Deliciously Ella Every Day: Quick and Easy Recipes for Gluten-Free Snacks, Packed Lunches, and Simple Meals\n"
     ]
    }
   ],
   "source": [
    "## Print the required output in given format\n",
    "## You are given page links in variable allPages, use this\n",
    "\n",
    "allPages = ['http://books.toscrape.com/catalogue/page-1.html',\n",
    "            'http://books.toscrape.com/catalogue/page-2.html',\n",
    "            'http://books.toscrape.com/catalogue/page-3.html',\n",
    "            'http://books.toscrape.com/catalogue/page-4.html',\n",
    "            'http://books.toscrape.com/catalogue/page-5.html',\n",
    "            'http://books.toscrape.com/catalogue/page-6.html',\n",
    "            'http://books.toscrape.com/catalogue/page-7.html',\n",
    "            'http://books.toscrape.com/catalogue/page-8.html',\n",
    "            'http://books.toscrape.com/catalogue/page-9.html',\n",
    "            'http://books.toscrape.com/catalogue/page-10.html']\n",
    "\n",
    "for i in allPages:\n",
    "    response = requests.get(i)\n",
    "    data = BeautifulSoup(response.text,'html.parser')\n",
    "    names = data.find_all(class_ = 'product_pod')\n",
    "    for i in names:\n",
    "        print(i.img['alt'])"
   ]
  },
  {
   "cell_type": "markdown",
   "id": "b7211e99",
   "metadata": {},
   "source": [
    "### Save Data to CSV"
   ]
  },
  {
   "cell_type": "code",
   "execution_count": 328,
   "id": "ba0a0ce5",
   "metadata": {},
   "outputs": [],
   "source": [
    "import requests\n",
    "from bs4 import BeautifulSoup"
   ]
  },
  {
   "cell_type": "code",
   "execution_count": 336,
   "id": "69b5abdc",
   "metadata": {},
   "outputs": [
    {
     "name": "stdout",
     "output_type": "stream",
     "text": [
      "https://books.toscrape.com/catalogue/a-light-in-the-attic_1000/index.html\n"
     ]
    }
   ],
   "source": [
    "base_url = 'https://books.toscrape.com/'\n",
    "response = requests.get(base_url)\n",
    "data = BeautifulSoup(response.text,'html.parser')\n",
    "b1 = data.find(class_ = 'product_pod')\n",
    "b1_url = base_url + b1.h3.a['href']\n",
    "print(b1_url)"
   ]
  },
  {
   "cell_type": "code",
   "execution_count": 337,
   "id": "2a7b2ca0",
   "metadata": {},
   "outputs": [
    {
     "ename": "ConnectionError",
     "evalue": "HTTPSConnectionPool(host='books.toscrape.com', port=443): Max retries exceeded with url: /catalogue/a-light-in-the-attic_1000/index.html (Caused by NewConnectionError('<urllib3.connection.HTTPSConnection object at 0x00000213B6A46D00>: Failed to establish a new connection: [Errno 11002] getaddrinfo failed'))",
     "output_type": "error",
     "traceback": [
      "\u001b[1;31m---------------------------------------------------------------------------\u001b[0m",
      "\u001b[1;31mgaierror\u001b[0m                                  Traceback (most recent call last)",
      "\u001b[1;32mF:\\anaconda\\lib\\site-packages\\urllib3\\connection.py\u001b[0m in \u001b[0;36m_new_conn\u001b[1;34m(self)\u001b[0m\n\u001b[0;32m    168\u001b[0m         \u001b[1;32mtry\u001b[0m\u001b[1;33m:\u001b[0m\u001b[1;33m\u001b[0m\u001b[1;33m\u001b[0m\u001b[0m\n\u001b[1;32m--> 169\u001b[1;33m             conn = connection.create_connection(\n\u001b[0m\u001b[0;32m    170\u001b[0m                 \u001b[1;33m(\u001b[0m\u001b[0mself\u001b[0m\u001b[1;33m.\u001b[0m\u001b[0m_dns_host\u001b[0m\u001b[1;33m,\u001b[0m \u001b[0mself\u001b[0m\u001b[1;33m.\u001b[0m\u001b[0mport\u001b[0m\u001b[1;33m)\u001b[0m\u001b[1;33m,\u001b[0m \u001b[0mself\u001b[0m\u001b[1;33m.\u001b[0m\u001b[0mtimeout\u001b[0m\u001b[1;33m,\u001b[0m \u001b[1;33m**\u001b[0m\u001b[0mextra_kw\u001b[0m\u001b[1;33m\u001b[0m\u001b[1;33m\u001b[0m\u001b[0m\n",
      "\u001b[1;32mF:\\anaconda\\lib\\site-packages\\urllib3\\util\\connection.py\u001b[0m in \u001b[0;36mcreate_connection\u001b[1;34m(address, timeout, source_address, socket_options)\u001b[0m\n\u001b[0;32m     72\u001b[0m \u001b[1;33m\u001b[0m\u001b[0m\n\u001b[1;32m---> 73\u001b[1;33m     \u001b[1;32mfor\u001b[0m \u001b[0mres\u001b[0m \u001b[1;32min\u001b[0m \u001b[0msocket\u001b[0m\u001b[1;33m.\u001b[0m\u001b[0mgetaddrinfo\u001b[0m\u001b[1;33m(\u001b[0m\u001b[0mhost\u001b[0m\u001b[1;33m,\u001b[0m \u001b[0mport\u001b[0m\u001b[1;33m,\u001b[0m \u001b[0mfamily\u001b[0m\u001b[1;33m,\u001b[0m \u001b[0msocket\u001b[0m\u001b[1;33m.\u001b[0m\u001b[0mSOCK_STREAM\u001b[0m\u001b[1;33m)\u001b[0m\u001b[1;33m:\u001b[0m\u001b[1;33m\u001b[0m\u001b[1;33m\u001b[0m\u001b[0m\n\u001b[0m\u001b[0;32m     74\u001b[0m         \u001b[0maf\u001b[0m\u001b[1;33m,\u001b[0m \u001b[0msocktype\u001b[0m\u001b[1;33m,\u001b[0m \u001b[0mproto\u001b[0m\u001b[1;33m,\u001b[0m \u001b[0mcanonname\u001b[0m\u001b[1;33m,\u001b[0m \u001b[0msa\u001b[0m \u001b[1;33m=\u001b[0m \u001b[0mres\u001b[0m\u001b[1;33m\u001b[0m\u001b[1;33m\u001b[0m\u001b[0m\n",
      "\u001b[1;32mF:\\anaconda\\lib\\socket.py\u001b[0m in \u001b[0;36mgetaddrinfo\u001b[1;34m(host, port, family, type, proto, flags)\u001b[0m\n\u001b[0;32m    917\u001b[0m     \u001b[0maddrlist\u001b[0m \u001b[1;33m=\u001b[0m \u001b[1;33m[\u001b[0m\u001b[1;33m]\u001b[0m\u001b[1;33m\u001b[0m\u001b[1;33m\u001b[0m\u001b[0m\n\u001b[1;32m--> 918\u001b[1;33m     \u001b[1;32mfor\u001b[0m \u001b[0mres\u001b[0m \u001b[1;32min\u001b[0m \u001b[0m_socket\u001b[0m\u001b[1;33m.\u001b[0m\u001b[0mgetaddrinfo\u001b[0m\u001b[1;33m(\u001b[0m\u001b[0mhost\u001b[0m\u001b[1;33m,\u001b[0m \u001b[0mport\u001b[0m\u001b[1;33m,\u001b[0m \u001b[0mfamily\u001b[0m\u001b[1;33m,\u001b[0m \u001b[0mtype\u001b[0m\u001b[1;33m,\u001b[0m \u001b[0mproto\u001b[0m\u001b[1;33m,\u001b[0m \u001b[0mflags\u001b[0m\u001b[1;33m)\u001b[0m\u001b[1;33m:\u001b[0m\u001b[1;33m\u001b[0m\u001b[1;33m\u001b[0m\u001b[0m\n\u001b[0m\u001b[0;32m    919\u001b[0m         \u001b[0maf\u001b[0m\u001b[1;33m,\u001b[0m \u001b[0msocktype\u001b[0m\u001b[1;33m,\u001b[0m \u001b[0mproto\u001b[0m\u001b[1;33m,\u001b[0m \u001b[0mcanonname\u001b[0m\u001b[1;33m,\u001b[0m \u001b[0msa\u001b[0m \u001b[1;33m=\u001b[0m \u001b[0mres\u001b[0m\u001b[1;33m\u001b[0m\u001b[1;33m\u001b[0m\u001b[0m\n",
      "\u001b[1;31mgaierror\u001b[0m: [Errno 11002] getaddrinfo failed",
      "\nDuring handling of the above exception, another exception occurred:\n",
      "\u001b[1;31mNewConnectionError\u001b[0m                        Traceback (most recent call last)",
      "\u001b[1;32mF:\\anaconda\\lib\\site-packages\\urllib3\\connectionpool.py\u001b[0m in \u001b[0;36murlopen\u001b[1;34m(self, method, url, body, headers, retries, redirect, assert_same_host, timeout, pool_timeout, release_conn, chunked, body_pos, **response_kw)\u001b[0m\n\u001b[0;32m    698\u001b[0m             \u001b[1;31m# Make the request on the httplib connection object.\u001b[0m\u001b[1;33m\u001b[0m\u001b[1;33m\u001b[0m\u001b[1;33m\u001b[0m\u001b[0m\n\u001b[1;32m--> 699\u001b[1;33m             httplib_response = self._make_request(\n\u001b[0m\u001b[0;32m    700\u001b[0m                 \u001b[0mconn\u001b[0m\u001b[1;33m,\u001b[0m\u001b[1;33m\u001b[0m\u001b[1;33m\u001b[0m\u001b[0m\n",
      "\u001b[1;32mF:\\anaconda\\lib\\site-packages\\urllib3\\connectionpool.py\u001b[0m in \u001b[0;36m_make_request\u001b[1;34m(self, conn, method, url, timeout, chunked, **httplib_request_kw)\u001b[0m\n\u001b[0;32m    381\u001b[0m         \u001b[1;32mtry\u001b[0m\u001b[1;33m:\u001b[0m\u001b[1;33m\u001b[0m\u001b[1;33m\u001b[0m\u001b[0m\n\u001b[1;32m--> 382\u001b[1;33m             \u001b[0mself\u001b[0m\u001b[1;33m.\u001b[0m\u001b[0m_validate_conn\u001b[0m\u001b[1;33m(\u001b[0m\u001b[0mconn\u001b[0m\u001b[1;33m)\u001b[0m\u001b[1;33m\u001b[0m\u001b[1;33m\u001b[0m\u001b[0m\n\u001b[0m\u001b[0;32m    383\u001b[0m         \u001b[1;32mexcept\u001b[0m \u001b[1;33m(\u001b[0m\u001b[0mSocketTimeout\u001b[0m\u001b[1;33m,\u001b[0m \u001b[0mBaseSSLError\u001b[0m\u001b[1;33m)\u001b[0m \u001b[1;32mas\u001b[0m \u001b[0me\u001b[0m\u001b[1;33m:\u001b[0m\u001b[1;33m\u001b[0m\u001b[1;33m\u001b[0m\u001b[0m\n",
      "\u001b[1;32mF:\\anaconda\\lib\\site-packages\\urllib3\\connectionpool.py\u001b[0m in \u001b[0;36m_validate_conn\u001b[1;34m(self, conn)\u001b[0m\n\u001b[0;32m   1009\u001b[0m         \u001b[1;32mif\u001b[0m \u001b[1;32mnot\u001b[0m \u001b[0mgetattr\u001b[0m\u001b[1;33m(\u001b[0m\u001b[0mconn\u001b[0m\u001b[1;33m,\u001b[0m \u001b[1;34m\"sock\"\u001b[0m\u001b[1;33m,\u001b[0m \u001b[1;32mNone\u001b[0m\u001b[1;33m)\u001b[0m\u001b[1;33m:\u001b[0m  \u001b[1;31m# AppEngine might not have  `.sock`\u001b[0m\u001b[1;33m\u001b[0m\u001b[1;33m\u001b[0m\u001b[0m\n\u001b[1;32m-> 1010\u001b[1;33m             \u001b[0mconn\u001b[0m\u001b[1;33m.\u001b[0m\u001b[0mconnect\u001b[0m\u001b[1;33m(\u001b[0m\u001b[1;33m)\u001b[0m\u001b[1;33m\u001b[0m\u001b[1;33m\u001b[0m\u001b[0m\n\u001b[0m\u001b[0;32m   1011\u001b[0m \u001b[1;33m\u001b[0m\u001b[0m\n",
      "\u001b[1;32mF:\\anaconda\\lib\\site-packages\\urllib3\\connection.py\u001b[0m in \u001b[0;36mconnect\u001b[1;34m(self)\u001b[0m\n\u001b[0;32m    352\u001b[0m         \u001b[1;31m# Add certificate verification\u001b[0m\u001b[1;33m\u001b[0m\u001b[1;33m\u001b[0m\u001b[1;33m\u001b[0m\u001b[0m\n\u001b[1;32m--> 353\u001b[1;33m         \u001b[0mconn\u001b[0m \u001b[1;33m=\u001b[0m \u001b[0mself\u001b[0m\u001b[1;33m.\u001b[0m\u001b[0m_new_conn\u001b[0m\u001b[1;33m(\u001b[0m\u001b[1;33m)\u001b[0m\u001b[1;33m\u001b[0m\u001b[1;33m\u001b[0m\u001b[0m\n\u001b[0m\u001b[0;32m    354\u001b[0m         \u001b[0mhostname\u001b[0m \u001b[1;33m=\u001b[0m \u001b[0mself\u001b[0m\u001b[1;33m.\u001b[0m\u001b[0mhost\u001b[0m\u001b[1;33m\u001b[0m\u001b[1;33m\u001b[0m\u001b[0m\n",
      "\u001b[1;32mF:\\anaconda\\lib\\site-packages\\urllib3\\connection.py\u001b[0m in \u001b[0;36m_new_conn\u001b[1;34m(self)\u001b[0m\n\u001b[0;32m    180\u001b[0m         \u001b[1;32mexcept\u001b[0m \u001b[0mSocketError\u001b[0m \u001b[1;32mas\u001b[0m \u001b[0me\u001b[0m\u001b[1;33m:\u001b[0m\u001b[1;33m\u001b[0m\u001b[1;33m\u001b[0m\u001b[0m\n\u001b[1;32m--> 181\u001b[1;33m             raise NewConnectionError(\n\u001b[0m\u001b[0;32m    182\u001b[0m                 \u001b[0mself\u001b[0m\u001b[1;33m,\u001b[0m \u001b[1;34m\"Failed to establish a new connection: %s\"\u001b[0m \u001b[1;33m%\u001b[0m \u001b[0me\u001b[0m\u001b[1;33m\u001b[0m\u001b[1;33m\u001b[0m\u001b[0m\n",
      "\u001b[1;31mNewConnectionError\u001b[0m: <urllib3.connection.HTTPSConnection object at 0x00000213B6A46D00>: Failed to establish a new connection: [Errno 11002] getaddrinfo failed",
      "\nDuring handling of the above exception, another exception occurred:\n",
      "\u001b[1;31mMaxRetryError\u001b[0m                             Traceback (most recent call last)",
      "\u001b[1;32mF:\\anaconda\\lib\\site-packages\\requests\\adapters.py\u001b[0m in \u001b[0;36msend\u001b[1;34m(self, request, stream, timeout, verify, cert, proxies)\u001b[0m\n\u001b[0;32m    438\u001b[0m             \u001b[1;32mif\u001b[0m \u001b[1;32mnot\u001b[0m \u001b[0mchunked\u001b[0m\u001b[1;33m:\u001b[0m\u001b[1;33m\u001b[0m\u001b[1;33m\u001b[0m\u001b[0m\n\u001b[1;32m--> 439\u001b[1;33m                 resp = conn.urlopen(\n\u001b[0m\u001b[0;32m    440\u001b[0m                     \u001b[0mmethod\u001b[0m\u001b[1;33m=\u001b[0m\u001b[0mrequest\u001b[0m\u001b[1;33m.\u001b[0m\u001b[0mmethod\u001b[0m\u001b[1;33m,\u001b[0m\u001b[1;33m\u001b[0m\u001b[1;33m\u001b[0m\u001b[0m\n",
      "\u001b[1;32mF:\\anaconda\\lib\\site-packages\\urllib3\\connectionpool.py\u001b[0m in \u001b[0;36murlopen\u001b[1;34m(self, method, url, body, headers, retries, redirect, assert_same_host, timeout, pool_timeout, release_conn, chunked, body_pos, **response_kw)\u001b[0m\n\u001b[0;32m    754\u001b[0m \u001b[1;33m\u001b[0m\u001b[0m\n\u001b[1;32m--> 755\u001b[1;33m             retries = retries.increment(\n\u001b[0m\u001b[0;32m    756\u001b[0m                 \u001b[0mmethod\u001b[0m\u001b[1;33m,\u001b[0m \u001b[0murl\u001b[0m\u001b[1;33m,\u001b[0m \u001b[0merror\u001b[0m\u001b[1;33m=\u001b[0m\u001b[0me\u001b[0m\u001b[1;33m,\u001b[0m \u001b[0m_pool\u001b[0m\u001b[1;33m=\u001b[0m\u001b[0mself\u001b[0m\u001b[1;33m,\u001b[0m \u001b[0m_stacktrace\u001b[0m\u001b[1;33m=\u001b[0m\u001b[0msys\u001b[0m\u001b[1;33m.\u001b[0m\u001b[0mexc_info\u001b[0m\u001b[1;33m(\u001b[0m\u001b[1;33m)\u001b[0m\u001b[1;33m[\u001b[0m\u001b[1;36m2\u001b[0m\u001b[1;33m]\u001b[0m\u001b[1;33m\u001b[0m\u001b[1;33m\u001b[0m\u001b[0m\n",
      "\u001b[1;32mF:\\anaconda\\lib\\site-packages\\urllib3\\util\\retry.py\u001b[0m in \u001b[0;36mincrement\u001b[1;34m(self, method, url, response, error, _pool, _stacktrace)\u001b[0m\n\u001b[0;32m    573\u001b[0m         \u001b[1;32mif\u001b[0m \u001b[0mnew_retry\u001b[0m\u001b[1;33m.\u001b[0m\u001b[0mis_exhausted\u001b[0m\u001b[1;33m(\u001b[0m\u001b[1;33m)\u001b[0m\u001b[1;33m:\u001b[0m\u001b[1;33m\u001b[0m\u001b[1;33m\u001b[0m\u001b[0m\n\u001b[1;32m--> 574\u001b[1;33m             \u001b[1;32mraise\u001b[0m \u001b[0mMaxRetryError\u001b[0m\u001b[1;33m(\u001b[0m\u001b[0m_pool\u001b[0m\u001b[1;33m,\u001b[0m \u001b[0murl\u001b[0m\u001b[1;33m,\u001b[0m \u001b[0merror\u001b[0m \u001b[1;32mor\u001b[0m \u001b[0mResponseError\u001b[0m\u001b[1;33m(\u001b[0m\u001b[0mcause\u001b[0m\u001b[1;33m)\u001b[0m\u001b[1;33m)\u001b[0m\u001b[1;33m\u001b[0m\u001b[1;33m\u001b[0m\u001b[0m\n\u001b[0m\u001b[0;32m    575\u001b[0m \u001b[1;33m\u001b[0m\u001b[0m\n",
      "\u001b[1;31mMaxRetryError\u001b[0m: HTTPSConnectionPool(host='books.toscrape.com', port=443): Max retries exceeded with url: /catalogue/a-light-in-the-attic_1000/index.html (Caused by NewConnectionError('<urllib3.connection.HTTPSConnection object at 0x00000213B6A46D00>: Failed to establish a new connection: [Errno 11002] getaddrinfo failed'))",
      "\nDuring handling of the above exception, another exception occurred:\n",
      "\u001b[1;31mConnectionError\u001b[0m                           Traceback (most recent call last)",
      "\u001b[1;32m<ipython-input-337-7dc085c9fd42>\u001b[0m in \u001b[0;36m<module>\u001b[1;34m\u001b[0m\n\u001b[1;32m----> 1\u001b[1;33m \u001b[0mresponse\u001b[0m \u001b[1;33m=\u001b[0m \u001b[0mrequests\u001b[0m\u001b[1;33m.\u001b[0m\u001b[0mget\u001b[0m\u001b[1;33m(\u001b[0m\u001b[0mb1_url\u001b[0m\u001b[1;33m)\u001b[0m\u001b[1;33m\u001b[0m\u001b[1;33m\u001b[0m\u001b[0m\n\u001b[0m\u001b[0;32m      2\u001b[0m \u001b[0mdata\u001b[0m \u001b[1;33m=\u001b[0m \u001b[0mBeautifulSoup\u001b[0m\u001b[1;33m(\u001b[0m\u001b[1;33m)\u001b[0m\u001b[1;33m\u001b[0m\u001b[1;33m\u001b[0m\u001b[0m\n",
      "\u001b[1;32mF:\\anaconda\\lib\\site-packages\\requests\\api.py\u001b[0m in \u001b[0;36mget\u001b[1;34m(url, params, **kwargs)\u001b[0m\n\u001b[0;32m     74\u001b[0m \u001b[1;33m\u001b[0m\u001b[0m\n\u001b[0;32m     75\u001b[0m     \u001b[0mkwargs\u001b[0m\u001b[1;33m.\u001b[0m\u001b[0msetdefault\u001b[0m\u001b[1;33m(\u001b[0m\u001b[1;34m'allow_redirects'\u001b[0m\u001b[1;33m,\u001b[0m \u001b[1;32mTrue\u001b[0m\u001b[1;33m)\u001b[0m\u001b[1;33m\u001b[0m\u001b[1;33m\u001b[0m\u001b[0m\n\u001b[1;32m---> 76\u001b[1;33m     \u001b[1;32mreturn\u001b[0m \u001b[0mrequest\u001b[0m\u001b[1;33m(\u001b[0m\u001b[1;34m'get'\u001b[0m\u001b[1;33m,\u001b[0m \u001b[0murl\u001b[0m\u001b[1;33m,\u001b[0m \u001b[0mparams\u001b[0m\u001b[1;33m=\u001b[0m\u001b[0mparams\u001b[0m\u001b[1;33m,\u001b[0m \u001b[1;33m**\u001b[0m\u001b[0mkwargs\u001b[0m\u001b[1;33m)\u001b[0m\u001b[1;33m\u001b[0m\u001b[1;33m\u001b[0m\u001b[0m\n\u001b[0m\u001b[0;32m     77\u001b[0m \u001b[1;33m\u001b[0m\u001b[0m\n\u001b[0;32m     78\u001b[0m \u001b[1;33m\u001b[0m\u001b[0m\n",
      "\u001b[1;32mF:\\anaconda\\lib\\site-packages\\requests\\api.py\u001b[0m in \u001b[0;36mrequest\u001b[1;34m(method, url, **kwargs)\u001b[0m\n\u001b[0;32m     59\u001b[0m     \u001b[1;31m# cases, and look like a memory leak in others.\u001b[0m\u001b[1;33m\u001b[0m\u001b[1;33m\u001b[0m\u001b[1;33m\u001b[0m\u001b[0m\n\u001b[0;32m     60\u001b[0m     \u001b[1;32mwith\u001b[0m \u001b[0msessions\u001b[0m\u001b[1;33m.\u001b[0m\u001b[0mSession\u001b[0m\u001b[1;33m(\u001b[0m\u001b[1;33m)\u001b[0m \u001b[1;32mas\u001b[0m \u001b[0msession\u001b[0m\u001b[1;33m:\u001b[0m\u001b[1;33m\u001b[0m\u001b[1;33m\u001b[0m\u001b[0m\n\u001b[1;32m---> 61\u001b[1;33m         \u001b[1;32mreturn\u001b[0m \u001b[0msession\u001b[0m\u001b[1;33m.\u001b[0m\u001b[0mrequest\u001b[0m\u001b[1;33m(\u001b[0m\u001b[0mmethod\u001b[0m\u001b[1;33m=\u001b[0m\u001b[0mmethod\u001b[0m\u001b[1;33m,\u001b[0m \u001b[0murl\u001b[0m\u001b[1;33m=\u001b[0m\u001b[0murl\u001b[0m\u001b[1;33m,\u001b[0m \u001b[1;33m**\u001b[0m\u001b[0mkwargs\u001b[0m\u001b[1;33m)\u001b[0m\u001b[1;33m\u001b[0m\u001b[1;33m\u001b[0m\u001b[0m\n\u001b[0m\u001b[0;32m     62\u001b[0m \u001b[1;33m\u001b[0m\u001b[0m\n\u001b[0;32m     63\u001b[0m \u001b[1;33m\u001b[0m\u001b[0m\n",
      "\u001b[1;32mF:\\anaconda\\lib\\site-packages\\requests\\sessions.py\u001b[0m in \u001b[0;36mrequest\u001b[1;34m(self, method, url, params, data, headers, cookies, files, auth, timeout, allow_redirects, proxies, hooks, stream, verify, cert, json)\u001b[0m\n\u001b[0;32m    540\u001b[0m         }\n\u001b[0;32m    541\u001b[0m         \u001b[0msend_kwargs\u001b[0m\u001b[1;33m.\u001b[0m\u001b[0mupdate\u001b[0m\u001b[1;33m(\u001b[0m\u001b[0msettings\u001b[0m\u001b[1;33m)\u001b[0m\u001b[1;33m\u001b[0m\u001b[1;33m\u001b[0m\u001b[0m\n\u001b[1;32m--> 542\u001b[1;33m         \u001b[0mresp\u001b[0m \u001b[1;33m=\u001b[0m \u001b[0mself\u001b[0m\u001b[1;33m.\u001b[0m\u001b[0msend\u001b[0m\u001b[1;33m(\u001b[0m\u001b[0mprep\u001b[0m\u001b[1;33m,\u001b[0m \u001b[1;33m**\u001b[0m\u001b[0msend_kwargs\u001b[0m\u001b[1;33m)\u001b[0m\u001b[1;33m\u001b[0m\u001b[1;33m\u001b[0m\u001b[0m\n\u001b[0m\u001b[0;32m    543\u001b[0m \u001b[1;33m\u001b[0m\u001b[0m\n\u001b[0;32m    544\u001b[0m         \u001b[1;32mreturn\u001b[0m \u001b[0mresp\u001b[0m\u001b[1;33m\u001b[0m\u001b[1;33m\u001b[0m\u001b[0m\n",
      "\u001b[1;32mF:\\anaconda\\lib\\site-packages\\requests\\sessions.py\u001b[0m in \u001b[0;36msend\u001b[1;34m(self, request, **kwargs)\u001b[0m\n\u001b[0;32m    653\u001b[0m \u001b[1;33m\u001b[0m\u001b[0m\n\u001b[0;32m    654\u001b[0m         \u001b[1;31m# Send the request\u001b[0m\u001b[1;33m\u001b[0m\u001b[1;33m\u001b[0m\u001b[1;33m\u001b[0m\u001b[0m\n\u001b[1;32m--> 655\u001b[1;33m         \u001b[0mr\u001b[0m \u001b[1;33m=\u001b[0m \u001b[0madapter\u001b[0m\u001b[1;33m.\u001b[0m\u001b[0msend\u001b[0m\u001b[1;33m(\u001b[0m\u001b[0mrequest\u001b[0m\u001b[1;33m,\u001b[0m \u001b[1;33m**\u001b[0m\u001b[0mkwargs\u001b[0m\u001b[1;33m)\u001b[0m\u001b[1;33m\u001b[0m\u001b[1;33m\u001b[0m\u001b[0m\n\u001b[0m\u001b[0;32m    656\u001b[0m \u001b[1;33m\u001b[0m\u001b[0m\n\u001b[0;32m    657\u001b[0m         \u001b[1;31m# Total elapsed time of the request (approximately)\u001b[0m\u001b[1;33m\u001b[0m\u001b[1;33m\u001b[0m\u001b[1;33m\u001b[0m\u001b[0m\n",
      "\u001b[1;32mF:\\anaconda\\lib\\site-packages\\requests\\adapters.py\u001b[0m in \u001b[0;36msend\u001b[1;34m(self, request, stream, timeout, verify, cert, proxies)\u001b[0m\n\u001b[0;32m    514\u001b[0m                 \u001b[1;32mraise\u001b[0m \u001b[0mSSLError\u001b[0m\u001b[1;33m(\u001b[0m\u001b[0me\u001b[0m\u001b[1;33m,\u001b[0m \u001b[0mrequest\u001b[0m\u001b[1;33m=\u001b[0m\u001b[0mrequest\u001b[0m\u001b[1;33m)\u001b[0m\u001b[1;33m\u001b[0m\u001b[1;33m\u001b[0m\u001b[0m\n\u001b[0;32m    515\u001b[0m \u001b[1;33m\u001b[0m\u001b[0m\n\u001b[1;32m--> 516\u001b[1;33m             \u001b[1;32mraise\u001b[0m \u001b[0mConnectionError\u001b[0m\u001b[1;33m(\u001b[0m\u001b[0me\u001b[0m\u001b[1;33m,\u001b[0m \u001b[0mrequest\u001b[0m\u001b[1;33m=\u001b[0m\u001b[0mrequest\u001b[0m\u001b[1;33m)\u001b[0m\u001b[1;33m\u001b[0m\u001b[1;33m\u001b[0m\u001b[0m\n\u001b[0m\u001b[0;32m    517\u001b[0m \u001b[1;33m\u001b[0m\u001b[0m\n\u001b[0;32m    518\u001b[0m         \u001b[1;32mexcept\u001b[0m \u001b[0mClosedPoolError\u001b[0m \u001b[1;32mas\u001b[0m \u001b[0me\u001b[0m\u001b[1;33m:\u001b[0m\u001b[1;33m\u001b[0m\u001b[1;33m\u001b[0m\u001b[0m\n",
      "\u001b[1;31mConnectionError\u001b[0m: HTTPSConnectionPool(host='books.toscrape.com', port=443): Max retries exceeded with url: /catalogue/a-light-in-the-attic_1000/index.html (Caused by NewConnectionError('<urllib3.connection.HTTPSConnection object at 0x00000213B6A46D00>: Failed to establish a new connection: [Errno 11002] getaddrinfo failed'))"
     ]
    }
   ],
   "source": [
    "response = requests.get(b1_url)\n",
    "data = BeautifulSoup()"
   ]
  },
  {
   "cell_type": "code",
   "execution_count": null,
   "id": "1d522a52",
   "metadata": {},
   "outputs": [],
   "source": []
  },
  {
   "cell_type": "code",
   "execution_count": null,
   "id": "651757a9",
   "metadata": {},
   "outputs": [],
   "source": []
  },
  {
   "cell_type": "markdown",
   "id": "b5f9f714",
   "metadata": {},
   "source": [
    "### Print the data of first 3 movies"
   ]
  },
  {
   "cell_type": "code",
   "execution_count": 338,
   "id": "a06c0a24",
   "metadata": {},
   "outputs": [],
   "source": [
    "from bs4 import BeautifulSoup\n",
    "import requests\n",
    "response = requests.get('https://www.imdb.com/search/title/?release_date=2018&sort=num_votes,desc&page=1&ref_=adv_nxt')\n",
    "data = BeautifulSoup(response.text,'html.parser')\n"
   ]
  },
  {
   "cell_type": "code",
   "execution_count": null,
   "id": "16df09c8",
   "metadata": {},
   "outputs": [],
   "source": []
  },
  {
   "cell_type": "code",
   "execution_count": null,
   "id": "4c201f5b",
   "metadata": {},
   "outputs": [],
   "source": []
  },
  {
   "cell_type": "markdown",
   "id": "57adea82",
   "metadata": {},
   "source": [
    "### First 5 Blogs"
   ]
  },
  {
   "cell_type": "code",
   "execution_count": 346,
   "id": "829f77ad",
   "metadata": {},
   "outputs": [
    {
     "name": "stdout",
     "output_type": "stream",
     "text": [
      "Web Development Trends to watch out for in 2020\n",
      "Web Development: Interviews and You!\n",
      "Get equipped for the Technical Interviews\n",
      "Explore more about the projects in Web Development\n",
      "5G to be a major gamechanger for Edu-tech platforms\n"
     ]
    }
   ],
   "source": [
    "from bs4 import BeautifulSoup\n",
    "import requests\n",
    "response = requests.get('https://medium.com/codingninjas-blog')\n",
    "data = BeautifulSoup(response.text,'html.parser')\n",
    "blogs = data.find_all(class_ = \"u-paddingBottom25 u-paddingTop20 js-trackPostPresentation u-borderBottomLight\")\n",
    "count = 0\n",
    "for i in blogs:\n",
    "    print(i.h3.string)\n",
    "    count += 1\n",
    "    if count == 5:\n",
    "        break"
   ]
  },
  {
   "cell_type": "code",
   "execution_count": 347,
   "id": "ceb1a4d4",
   "metadata": {},
   "outputs": [
    {
     "data": {
      "text/plain": [
       "405"
      ]
     },
     "execution_count": 347,
     "metadata": {},
     "output_type": "execute_result"
    }
   ],
   "source": []
  },
  {
   "cell_type": "code",
   "execution_count": 348,
   "id": "a04154ac",
   "metadata": {},
   "outputs": [
    {
     "data": {
      "text/plain": [
       "429"
      ]
     },
     "execution_count": 348,
     "metadata": {},
     "output_type": "execute_result"
    }
   ],
   "source": []
  },
  {
   "cell_type": "code",
   "execution_count": null,
   "id": "76287a84",
   "metadata": {},
   "outputs": [],
   "source": []
  }
 ],
 "metadata": {
  "kernelspec": {
   "display_name": "Python 3",
   "language": "python",
   "name": "python3"
  },
  "language_info": {
   "codemirror_mode": {
    "name": "ipython",
    "version": 3
   },
   "file_extension": ".py",
   "mimetype": "text/x-python",
   "name": "python",
   "nbconvert_exporter": "python",
   "pygments_lexer": "ipython3",
   "version": "3.8.8"
  }
 },
 "nbformat": 4,
 "nbformat_minor": 5
}
