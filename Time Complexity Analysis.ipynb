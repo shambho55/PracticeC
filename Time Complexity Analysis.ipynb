{
 "cells": [
  {
   "cell_type": "code",
   "execution_count": 12,
   "id": "664dd3d1",
   "metadata": {},
   "outputs": [
    {
     "data": {
      "text/plain": [
       "[0, 1, 2, 2, 3, 4]"
      ]
     },
     "execution_count": 12,
     "metadata": {},
     "output_type": "execute_result"
    }
   ],
   "source": [
    "def merge(arr1,arr2,arr):\n",
    "    i = 0\n",
    "    j = 0\n",
    "    k = 0\n",
    "    while i < len(arr1) and j < len(arr2):\n",
    "        if arr1[i] < arr2[j]:\n",
    "            arr[k] = arr1[i]\n",
    "            i = i + 1\n",
    "            k = k + 1\n",
    "        else :\n",
    "            arr[k] = arr2[j]\n",
    "            k = k + 1\n",
    "            j = j + 1\n",
    "    while i < len(arr1):\n",
    "        arr[k] = arr1[i]\n",
    "        k = k + 1\n",
    "        i = i + 1\n",
    "    while j < len(arr2):\n",
    "        arr[k] = arr2[j]\n",
    "        k = k + 1\n",
    "        j = j + 1\n",
    "        \n",
    "def mergeSort(arr):\n",
    "    if len(arr) == 0 or len(arr) == 1:\n",
    "        return \n",
    "    mid = len(arr) // 2\n",
    "    arr1 = arr[0:mid]\n",
    "    arr2 = arr[mid:]\n",
    "    mergeSort(arr1)\n",
    "    mergeSort(arr2)\n",
    "    merge(arr1,arr2,arr)\n",
    "li = [0,2,3,4,1,2]\n",
    "mergeSort(li)\n",
    "li"
   ]
  },
  {
   "cell_type": "code",
   "execution_count": 17,
   "id": "2f549a6f",
   "metadata": {},
   "outputs": [
    {
     "data": {
      "text/plain": [
       "88"
      ]
     },
     "execution_count": 17,
     "metadata": {},
     "output_type": "execute_result"
    }
   ],
   "source": [
    "i = abs(88)\n",
    "i"
   ]
  }
 ],
 "metadata": {
  "kernelspec": {
   "display_name": "Python 3",
   "language": "python",
   "name": "python3"
  },
  "language_info": {
   "codemirror_mode": {
    "name": "ipython",
    "version": 3
   },
   "file_extension": ".py",
   "mimetype": "text/x-python",
   "name": "python",
   "nbconvert_exporter": "python",
   "pygments_lexer": "ipython3",
   "version": "3.8.8"
  }
 },
 "nbformat": 4,
 "nbformat_minor": 5
}
