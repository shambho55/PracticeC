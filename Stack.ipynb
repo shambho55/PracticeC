{
 "cells": [
  {
   "cell_type": "markdown",
   "id": "0c413bc3",
   "metadata": {},
   "source": [
    "### Stack Using Array"
   ]
  },
  {
   "cell_type": "code",
   "execution_count": 38,
   "id": "e988e928",
   "metadata": {},
   "outputs": [],
   "source": [
    "class Stack:\n",
    "    def __init__(self):\n",
    "        self.__data = []\n",
    "    def push(self,item):\n",
    "        self.__data.append(item)\n",
    "    def size(self):\n",
    "        return len(self.__data)\n",
    "    def isEmpty(self):\n",
    "        return self.size == 0\n",
    "    def pop(self):\n",
    "        if self.isEmpty():\n",
    "            print(\"Hey!Stack is Empty\")\n",
    "            return\n",
    "        return self.__data.pop()\n",
    "    def top(self):\n",
    "        if self.isEmpty():\n",
    "            print(\"Hey!Stack is Empty!!\")\n",
    "            return\n",
    "        return self.__data[len(self.__data) - 1]"
   ]
  },
  {
   "cell_type": "code",
   "execution_count": 46,
   "id": "0fcafc98",
   "metadata": {
    "scrolled": true
   },
   "outputs": [
    {
     "name": "stdout",
     "output_type": "stream",
     "text": [
      "15->13->12->-1\n"
     ]
    }
   ],
   "source": [
    "s = Stack()\n",
    "s.push(12)\n",
    "s.push(13)\n",
    "s.push(15)\n",
    "while s.isEmpty() is False:\n",
    "    print(s.pop(), end = '->')\n",
    "print(s.top())"
   ]
  },
  {
   "cell_type": "markdown",
   "id": "ca614815",
   "metadata": {},
   "source": [
    "### Stack Using LL"
   ]
  },
  {
   "cell_type": "code",
   "execution_count": 44,
   "id": "2de1f524",
   "metadata": {},
   "outputs": [],
   "source": [
    "class Node:\n",
    "    def __init__(self,data):\n",
    "        self.data = data\n",
    "        self.next = None\n",
    "    \n",
    "class Stack:\n",
    "    def __init__(self):\n",
    "        self.__head = None\n",
    "        self.__count = 0\n",
    "    def push(self,data):\n",
    "        newNode = Node(data)\n",
    "        newNode.next = self.__head\n",
    "        self.__head = newNode\n",
    "        self.__count += 1\n",
    "    def pop(self):\n",
    "        if self.__count == 0:\n",
    "            return -1\n",
    "        ans = self.__head.data\n",
    "        self.__head = self.__head.next\n",
    "        self.__count -= 1\n",
    "        return ans\n",
    "    def top(self):\n",
    "        if self.__count == 0:\n",
    "            return -1\n",
    "        ans = self.__head.data\n",
    "        return ans\n",
    "    def size(self):\n",
    "        return self.__count\n",
    "    def isEmpty(self):\n",
    "        return self.size() == 0"
   ]
  },
  {
   "cell_type": "code",
   "execution_count": 47,
   "id": "b35d37cb",
   "metadata": {},
   "outputs": [
    {
     "name": "stdout",
     "output_type": "stream",
     "text": [
      "14\n",
      "13\n",
      "12\n"
     ]
    },
    {
     "data": {
      "text/plain": [
       "-1"
      ]
     },
     "execution_count": 47,
     "metadata": {},
     "output_type": "execute_result"
    }
   ],
   "source": [
    "s = Stack()\n",
    "s.push(12)\n",
    "s.push(13)\n",
    "s.push(14)\n",
    "\n",
    "while s.isEmpty() is False:\n",
    "    print(s.pop())\n",
    "s.top()"
   ]
  },
  {
   "cell_type": "markdown",
   "id": "3ec7be3e",
   "metadata": {},
   "source": [
    "### Inbuilt Stack and Queue"
   ]
  },
  {
   "cell_type": "code",
   "execution_count": 1,
   "id": "9ee5061f",
   "metadata": {},
   "outputs": [
    {
     "name": "stdout",
     "output_type": "stream",
     "text": [
      "5\n",
      "4\n",
      "3\n",
      "2\n",
      "1\n"
     ]
    }
   ],
   "source": [
    "import queue\n",
    "\n",
    "# s = [1,2,3]\n",
    "# s.append(4)\n",
    "# s.append(5)\n",
    "\n",
    "# print(s.pop())\n",
    "# print(s.pop())\n",
    "\n",
    "# q = queue.Queue()\n",
    "\n",
    "# q.put(1)\n",
    "# q.put(2)\n",
    "# q.put(3)\n",
    "# q.put(4)\n",
    "# q.put(5)\n",
    "\n",
    "# while not q.empty():\n",
    "#     print(q.get())\n",
    "\n",
    "q = queue.LifoQueue()\n",
    "\n",
    "q.put(1)\n",
    "q.put(2)\n",
    "q.put(3)\n",
    "q.put(4)\n",
    "q.put(5)\n",
    "\n",
    "while not q.empty():\n",
    "    print(q.get())\n",
    "\n",
    "    "
   ]
  },
  {
   "cell_type": "code",
   "execution_count": 8,
   "id": "a8e59e1e",
   "metadata": {},
   "outputs": [
    {
     "ename": "IndexError",
     "evalue": "list index out of range",
     "output_type": "error",
     "traceback": [
      "\u001b[1;31m---------------------------------------------------------------------------\u001b[0m",
      "\u001b[1;31mIndexError\u001b[0m                                Traceback (most recent call last)",
      "\u001b[1;32m<ipython-input-8-12ac17152291>\u001b[0m in \u001b[0;36m<module>\u001b[1;34m\u001b[0m\n\u001b[0;32m     23\u001b[0m         \u001b[1;32mreturn\u001b[0m \u001b[0mcount\u001b[0m\u001b[1;33m\u001b[0m\u001b[1;33m\u001b[0m\u001b[0m\n\u001b[0;32m     24\u001b[0m \u001b[1;31m#main\u001b[0m\u001b[1;33m\u001b[0m\u001b[1;33m\u001b[0m\u001b[1;33m\u001b[0m\u001b[0m\n\u001b[1;32m---> 25\u001b[1;33m \u001b[0mprint\u001b[0m\u001b[1;33m(\u001b[0m\u001b[0mcountBracketReversals\u001b[0m\u001b[1;33m(\u001b[0m\u001b[0mstdin\u001b[0m\u001b[1;33m.\u001b[0m\u001b[0mreadline\u001b[0m\u001b[1;33m(\u001b[0m\u001b[1;33m)\u001b[0m\u001b[1;33m.\u001b[0m\u001b[0mstrip\u001b[0m\u001b[1;33m(\u001b[0m\u001b[1;33m)\u001b[0m\u001b[1;33m)\u001b[0m\u001b[1;33m)\u001b[0m\u001b[1;33m\u001b[0m\u001b[1;33m\u001b[0m\u001b[0m\n\u001b[0m",
      "\u001b[1;32m<ipython-input-8-12ac17152291>\u001b[0m in \u001b[0;36mcountBracketReversals\u001b[1;34m(inputString)\u001b[0m\n\u001b[0;32m     13\u001b[0m                                 \u001b[0mstack\u001b[0m\u001b[1;33m.\u001b[0m\u001b[0mpop\u001b[0m\u001b[1;33m(\u001b[0m\u001b[1;33m)\u001b[0m\u001b[1;33m\u001b[0m\u001b[1;33m\u001b[0m\u001b[0m\n\u001b[0;32m     14\u001b[0m         \u001b[1;32mwhile\u001b[0m \u001b[1;32mnot\u001b[0m \u001b[0mstack\u001b[0m\u001b[1;33m:\u001b[0m\u001b[1;33m\u001b[0m\u001b[1;33m\u001b[0m\u001b[0m\n\u001b[1;32m---> 15\u001b[1;33m                 \u001b[1;32mif\u001b[0m \u001b[0mstack\u001b[0m\u001b[1;33m[\u001b[0m\u001b[1;33m-\u001b[0m\u001b[1;36m2\u001b[0m\u001b[1;33m]\u001b[0m \u001b[1;33m==\u001b[0m \u001b[0mstack\u001b[0m\u001b[1;33m[\u001b[0m\u001b[1;33m-\u001b[0m\u001b[1;36m1\u001b[0m\u001b[1;33m]\u001b[0m\u001b[1;33m:\u001b[0m\u001b[1;33m\u001b[0m\u001b[1;33m\u001b[0m\u001b[0m\n\u001b[0m\u001b[0;32m     16\u001b[0m                         \u001b[0mstack\u001b[0m\u001b[1;33m.\u001b[0m\u001b[0mpop\u001b[0m\u001b[1;33m(\u001b[0m\u001b[1;33m)\u001b[0m\u001b[1;33m\u001b[0m\u001b[1;33m\u001b[0m\u001b[0m\n\u001b[0;32m     17\u001b[0m                         \u001b[0mstack\u001b[0m\u001b[1;33m.\u001b[0m\u001b[0mpop\u001b[0m\u001b[1;33m(\u001b[0m\u001b[1;33m)\u001b[0m\u001b[1;33m\u001b[0m\u001b[1;33m\u001b[0m\u001b[0m\n",
      "\u001b[1;31mIndexError\u001b[0m: list index out of range"
     ]
    }
   ],
   "source": [
    "from sys import stdin\n",
    "def countBracketReversals(inputString) :\n",
    "    # Your code goes here\n",
    "\tif len(inputString) % 2 != 0:\n",
    "\t\treturn -1\n",
    "\tstack = []\n",
    "\tcount = 0\n",
    "\tfor i in inputString:\n",
    "\t\tstack.append(i)\n",
    "\t\tif i == '}':\n",
    "\t\t\tif (not stack) and stack[-2] == '{':\n",
    "\t\t\t\tstack.pop()\n",
    "\t\t\t\tstack.pop()\n",
    "\twhile not stack:\n",
    "\t\tif stack[-2] == stack[-1]:\n",
    "\t\t\tstack.pop()\n",
    "\t\t\tstack.pop()\n",
    "\t\t\tcount += 1\n",
    "\t\telse:\n",
    "\t\t\tstack.pop()\n",
    "\t\t\tstack.pop()\n",
    "\t\t\tcount += 2\n",
    "\treturn count\n",
    "#main\n",
    "print(countBracketReversals(stdin.readline().strip()))\n"
   ]
  },
  {
   "cell_type": "code",
   "execution_count": null,
   "id": "cf00b229",
   "metadata": {},
   "outputs": [],
   "source": [
    "\n",
    "from sys import stdin\n",
    "\n",
    "def countBracketReversals(inputString) :\n",
    "    # Your code goes here\n",
    "\tif len(inputString) % 2 != 0:\n",
    "\t\treturn -1\n",
    "\tstack = []\n",
    "\tcount = 0\n",
    "\tfor i in inputString:\n",
    "\t\tif i != '}':\n",
    "\t\t\tstack.append(i)\n",
    "\t\telif i == '}':\n",
    "\t\t\tif len(stack) != 0 and stack[-1] == '{':\n",
    "\t\t\t\tstack.pop()\n",
    "\t\telse:\n",
    "\t\t\tstack.append(i)\n",
    "\twhile len(stack) != 0:\n",
    "\t\tc1 = stack.pop()\n",
    "\t\tif len(stack) != 0:\n",
    "\t\t\tc2 = stack.pop()\n",
    "\t\t\tif c1 == c2:\n",
    "\t\t\t\tcount += 1\n",
    "\t\t\telse:\n",
    "\t\t\t\tcount += 2\n",
    "\treturn count\n",
    "#main\n",
    "print(countBracketReversals(stdin.readline().strip()))\n"
   ]
  }
 ],
 "metadata": {
  "kernelspec": {
   "display_name": "Python 3",
   "language": "python",
   "name": "python3"
  },
  "language_info": {
   "codemirror_mode": {
    "name": "ipython",
    "version": 3
   },
   "file_extension": ".py",
   "mimetype": "text/x-python",
   "name": "python",
   "nbconvert_exporter": "python",
   "pygments_lexer": "ipython3",
   "version": "3.8.8"
  }
 },
 "nbformat": 4,
 "nbformat_minor": 5
}
