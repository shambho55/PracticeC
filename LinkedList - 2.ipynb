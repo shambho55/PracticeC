{
 "cells": [
  {
   "cell_type": "code",
   "execution_count": 3,
   "id": "0b8b76b5",
   "metadata": {},
   "outputs": [],
   "source": [
    "def reverse2(head):\n",
    "    if head is None or head.next is None:\n",
    "        return head,head\n",
    "    smallHead,smallTail = reverse2(head.next)\n",
    "    smallTail.next = head\n",
    "    head.next = None\n",
    "    return smallHead,head"
   ]
  },
  {
   "cell_type": "code",
   "execution_count": 5,
   "id": "40f0e24b",
   "metadata": {},
   "outputs": [],
   "source": [
    "def reverse1(head):\n",
    "    if head is None or head.next is None:\n",
    "        return head\n",
    "    smallHead = reverse1(head.next)\n",
    "    curr = smallHead\n",
    "    while curr is not None:\n",
    "        curr = curr.next\n",
    "    curr.next = head\n",
    "    head.next = None\n",
    "    return smallHead"
   ]
  },
  {
   "cell_type": "code",
   "execution_count": 6,
   "id": "b43686a8",
   "metadata": {},
   "outputs": [],
   "source": [
    "def reverse3(head):\n",
    "    if head is None or head.next is None:\n",
    "        return head\n",
    "    smallHead = reverse3(head)\n",
    "    tail = head.next\n",
    "    tail.next = head\n",
    "    head.next = None\n",
    "    return smallHead"
   ]
  }
 ],
 "metadata": {
  "kernelspec": {
   "display_name": "Python 3",
   "language": "python",
   "name": "python3"
  },
  "language_info": {
   "codemirror_mode": {
    "name": "ipython",
    "version": 3
   },
   "file_extension": ".py",
   "mimetype": "text/x-python",
   "name": "python",
   "nbconvert_exporter": "python",
   "pygments_lexer": "ipython3",
   "version": "3.8.8"
  }
 },
 "nbformat": 4,
 "nbformat_minor": 5
}
