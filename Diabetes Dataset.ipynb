{
 "cells": [
  {
   "cell_type": "code",
   "execution_count": 2,
   "id": "640cdbbe",
   "metadata": {},
   "outputs": [],
   "source": [
    "from sklearn import datasets"
   ]
  },
  {
   "cell_type": "code",
   "execution_count": 3,
   "id": "47dfbcc2",
   "metadata": {},
   "outputs": [],
   "source": [
    "from sklearn import model_selection"
   ]
  },
  {
   "cell_type": "code",
   "execution_count": 4,
   "id": "e91c64bd",
   "metadata": {},
   "outputs": [],
   "source": [
    "from sklearn.linear_model import LinearRegression"
   ]
  },
  {
   "cell_type": "code",
   "execution_count": 5,
   "id": "c370ea43",
   "metadata": {},
   "outputs": [],
   "source": [
    "diabetes = datasets.load_diabetes()"
   ]
  },
  {
   "cell_type": "code",
   "execution_count": 6,
   "id": "6e0d4638",
   "metadata": {},
   "outputs": [],
   "source": [
    "x = diabetes.data"
   ]
  },
  {
   "cell_type": "code",
   "execution_count": 7,
   "id": "bf17f740",
   "metadata": {},
   "outputs": [
    {
     "data": {
      "text/plain": [
       "array([[ 0.03807591,  0.05068012,  0.06169621, ..., -0.00259226,\n",
       "         0.01990842, -0.01764613],\n",
       "       [-0.00188202, -0.04464164, -0.05147406, ..., -0.03949338,\n",
       "        -0.06832974, -0.09220405],\n",
       "       [ 0.08529891,  0.05068012,  0.04445121, ..., -0.00259226,\n",
       "         0.00286377, -0.02593034],\n",
       "       ...,\n",
       "       [ 0.04170844,  0.05068012, -0.01590626, ..., -0.01107952,\n",
       "        -0.04687948,  0.01549073],\n",
       "       [-0.04547248, -0.04464164,  0.03906215, ...,  0.02655962,\n",
       "         0.04452837, -0.02593034],\n",
       "       [-0.04547248, -0.04464164, -0.0730303 , ..., -0.03949338,\n",
       "        -0.00421986,  0.00306441]])"
      ]
     },
     "execution_count": 7,
     "metadata": {},
     "output_type": "execute_result"
    }
   ],
   "source": [
    "x"
   ]
  },
  {
   "cell_type": "code",
   "execution_count": 8,
   "id": "348c0a9e",
   "metadata": {},
   "outputs": [
    {
     "data": {
      "text/plain": [
       "{'data': array([[ 0.03807591,  0.05068012,  0.06169621, ..., -0.00259226,\n",
       "          0.01990842, -0.01764613],\n",
       "        [-0.00188202, -0.04464164, -0.05147406, ..., -0.03949338,\n",
       "         -0.06832974, -0.09220405],\n",
       "        [ 0.08529891,  0.05068012,  0.04445121, ..., -0.00259226,\n",
       "          0.00286377, -0.02593034],\n",
       "        ...,\n",
       "        [ 0.04170844,  0.05068012, -0.01590626, ..., -0.01107952,\n",
       "         -0.04687948,  0.01549073],\n",
       "        [-0.04547248, -0.04464164,  0.03906215, ...,  0.02655962,\n",
       "          0.04452837, -0.02593034],\n",
       "        [-0.04547248, -0.04464164, -0.0730303 , ..., -0.03949338,\n",
       "         -0.00421986,  0.00306441]]),\n",
       " 'target': array([151.,  75., 141., 206., 135.,  97., 138.,  63., 110., 310., 101.,\n",
       "         69., 179., 185., 118., 171., 166., 144.,  97., 168.,  68.,  49.,\n",
       "         68., 245., 184., 202., 137.,  85., 131., 283., 129.,  59., 341.,\n",
       "         87.,  65., 102., 265., 276., 252.,  90., 100.,  55.,  61.,  92.,\n",
       "        259.,  53., 190., 142.,  75., 142., 155., 225.,  59., 104., 182.,\n",
       "        128.,  52.,  37., 170., 170.,  61., 144.,  52., 128.,  71., 163.,\n",
       "        150.,  97., 160., 178.,  48., 270., 202., 111.,  85.,  42., 170.,\n",
       "        200., 252., 113., 143.,  51.,  52., 210.,  65., 141.,  55., 134.,\n",
       "         42., 111.,  98., 164.,  48.,  96.,  90., 162., 150., 279.,  92.,\n",
       "         83., 128., 102., 302., 198.,  95.,  53., 134., 144., 232.,  81.,\n",
       "        104.,  59., 246., 297., 258., 229., 275., 281., 179., 200., 200.,\n",
       "        173., 180.,  84., 121., 161.,  99., 109., 115., 268., 274., 158.,\n",
       "        107.,  83., 103., 272.,  85., 280., 336., 281., 118., 317., 235.,\n",
       "         60., 174., 259., 178., 128.,  96., 126., 288.,  88., 292.,  71.,\n",
       "        197., 186.,  25.,  84.,  96., 195.,  53., 217., 172., 131., 214.,\n",
       "         59.,  70., 220., 268., 152.,  47.,  74., 295., 101., 151., 127.,\n",
       "        237., 225.,  81., 151., 107.,  64., 138., 185., 265., 101., 137.,\n",
       "        143., 141.,  79., 292., 178.,  91., 116.,  86., 122.,  72., 129.,\n",
       "        142.,  90., 158.,  39., 196., 222., 277.,  99., 196., 202., 155.,\n",
       "         77., 191.,  70.,  73.,  49.,  65., 263., 248., 296., 214., 185.,\n",
       "         78.,  93., 252., 150.,  77., 208.,  77., 108., 160.,  53., 220.,\n",
       "        154., 259.,  90., 246., 124.,  67.,  72., 257., 262., 275., 177.,\n",
       "         71.,  47., 187., 125.,  78.,  51., 258., 215., 303., 243.,  91.,\n",
       "        150., 310., 153., 346.,  63.,  89.,  50.,  39., 103., 308., 116.,\n",
       "        145.,  74.,  45., 115., 264.,  87., 202., 127., 182., 241.,  66.,\n",
       "         94., 283.,  64., 102., 200., 265.,  94., 230., 181., 156., 233.,\n",
       "         60., 219.,  80.,  68., 332., 248.,  84., 200.,  55.,  85.,  89.,\n",
       "         31., 129.,  83., 275.,  65., 198., 236., 253., 124.,  44., 172.,\n",
       "        114., 142., 109., 180., 144., 163., 147.,  97., 220., 190., 109.,\n",
       "        191., 122., 230., 242., 248., 249., 192., 131., 237.,  78., 135.,\n",
       "        244., 199., 270., 164.,  72.,  96., 306.,  91., 214.,  95., 216.,\n",
       "        263., 178., 113., 200., 139., 139.,  88., 148.,  88., 243.,  71.,\n",
       "         77., 109., 272.,  60.,  54., 221.,  90., 311., 281., 182., 321.,\n",
       "         58., 262., 206., 233., 242., 123., 167.,  63., 197.,  71., 168.,\n",
       "        140., 217., 121., 235., 245.,  40.,  52., 104., 132.,  88.,  69.,\n",
       "        219.,  72., 201., 110.,  51., 277.,  63., 118.,  69., 273., 258.,\n",
       "         43., 198., 242., 232., 175.,  93., 168., 275., 293., 281.,  72.,\n",
       "        140., 189., 181., 209., 136., 261., 113., 131., 174., 257.,  55.,\n",
       "         84.,  42., 146., 212., 233.,  91., 111., 152., 120.,  67., 310.,\n",
       "         94., 183.,  66., 173.,  72.,  49.,  64.,  48., 178., 104., 132.,\n",
       "        220.,  57.]),\n",
       " 'frame': None,\n",
       " 'DESCR': '.. _diabetes_dataset:\\n\\nDiabetes dataset\\n----------------\\n\\nTen baseline variables, age, sex, body mass index, average blood\\npressure, and six blood serum measurements were obtained for each of n =\\n442 diabetes patients, as well as the response of interest, a\\nquantitative measure of disease progression one year after baseline.\\n\\n**Data Set Characteristics:**\\n\\n  :Number of Instances: 442\\n\\n  :Number of Attributes: First 10 columns are numeric predictive values\\n\\n  :Target: Column 11 is a quantitative measure of disease progression one year after baseline\\n\\n  :Attribute Information:\\n      - age     age in years\\n      - sex\\n      - bmi     body mass index\\n      - bp      average blood pressure\\n      - s1      tc, T-Cells (a type of white blood cells)\\n      - s2      ldl, low-density lipoproteins\\n      - s3      hdl, high-density lipoproteins\\n      - s4      tch, thyroid stimulating hormone\\n      - s5      ltg, lamotrigine\\n      - s6      glu, blood sugar level\\n\\nNote: Each of these 10 feature variables have been mean centered and scaled by the standard deviation times `n_samples` (i.e. the sum of squares of each column totals 1).\\n\\nSource URL:\\nhttps://www4.stat.ncsu.edu/~boos/var.select/diabetes.html\\n\\nFor more information see:\\nBradley Efron, Trevor Hastie, Iain Johnstone and Robert Tibshirani (2004) \"Least Angle Regression,\" Annals of Statistics (with discussion), 407-499.\\n(https://web.stanford.edu/~hastie/Papers/LARS/LeastAngle_2002.pdf)',\n",
       " 'feature_names': ['age',\n",
       "  'sex',\n",
       "  'bmi',\n",
       "  'bp',\n",
       "  's1',\n",
       "  's2',\n",
       "  's3',\n",
       "  's4',\n",
       "  's5',\n",
       "  's6'],\n",
       " 'data_filename': 'F:\\\\anaconda\\\\lib\\\\site-packages\\\\sklearn\\\\datasets\\\\data\\\\diabetes_data.csv.gz',\n",
       " 'target_filename': 'F:\\\\anaconda\\\\lib\\\\site-packages\\\\sklearn\\\\datasets\\\\data\\\\diabetes_target.csv.gz'}"
      ]
     },
     "execution_count": 8,
     "metadata": {},
     "output_type": "execute_result"
    }
   ],
   "source": [
    "diabetes"
   ]
  },
  {
   "cell_type": "code",
   "execution_count": 9,
   "id": "370e55f3",
   "metadata": {},
   "outputs": [],
   "source": [
    "y = diabetes.target"
   ]
  },
  {
   "cell_type": "code",
   "execution_count": 11,
   "id": "f322dcbd",
   "metadata": {},
   "outputs": [
    {
     "data": {
      "text/plain": [
       "array([151.,  75., 141., 206., 135.,  97., 138.,  63., 110., 310., 101.,\n",
       "        69., 179., 185., 118., 171., 166., 144.,  97., 168.,  68.,  49.,\n",
       "        68., 245., 184., 202., 137.,  85., 131., 283., 129.,  59., 341.,\n",
       "        87.,  65., 102., 265., 276., 252.,  90., 100.,  55.,  61.,  92.,\n",
       "       259.,  53., 190., 142.,  75., 142., 155., 225.,  59., 104., 182.,\n",
       "       128.,  52.,  37., 170., 170.,  61., 144.,  52., 128.,  71., 163.,\n",
       "       150.,  97., 160., 178.,  48., 270., 202., 111.,  85.,  42., 170.,\n",
       "       200., 252., 113., 143.,  51.,  52., 210.,  65., 141.,  55., 134.,\n",
       "        42., 111.,  98., 164.,  48.,  96.,  90., 162., 150., 279.,  92.,\n",
       "        83., 128., 102., 302., 198.,  95.,  53., 134., 144., 232.,  81.,\n",
       "       104.,  59., 246., 297., 258., 229., 275., 281., 179., 200., 200.,\n",
       "       173., 180.,  84., 121., 161.,  99., 109., 115., 268., 274., 158.,\n",
       "       107.,  83., 103., 272.,  85., 280., 336., 281., 118., 317., 235.,\n",
       "        60., 174., 259., 178., 128.,  96., 126., 288.,  88., 292.,  71.,\n",
       "       197., 186.,  25.,  84.,  96., 195.,  53., 217., 172., 131., 214.,\n",
       "        59.,  70., 220., 268., 152.,  47.,  74., 295., 101., 151., 127.,\n",
       "       237., 225.,  81., 151., 107.,  64., 138., 185., 265., 101., 137.,\n",
       "       143., 141.,  79., 292., 178.,  91., 116.,  86., 122.,  72., 129.,\n",
       "       142.,  90., 158.,  39., 196., 222., 277.,  99., 196., 202., 155.,\n",
       "        77., 191.,  70.,  73.,  49.,  65., 263., 248., 296., 214., 185.,\n",
       "        78.,  93., 252., 150.,  77., 208.,  77., 108., 160.,  53., 220.,\n",
       "       154., 259.,  90., 246., 124.,  67.,  72., 257., 262., 275., 177.,\n",
       "        71.,  47., 187., 125.,  78.,  51., 258., 215., 303., 243.,  91.,\n",
       "       150., 310., 153., 346.,  63.,  89.,  50.,  39., 103., 308., 116.,\n",
       "       145.,  74.,  45., 115., 264.,  87., 202., 127., 182., 241.,  66.,\n",
       "        94., 283.,  64., 102., 200., 265.,  94., 230., 181., 156., 233.,\n",
       "        60., 219.,  80.,  68., 332., 248.,  84., 200.,  55.,  85.,  89.,\n",
       "        31., 129.,  83., 275.,  65., 198., 236., 253., 124.,  44., 172.,\n",
       "       114., 142., 109., 180., 144., 163., 147.,  97., 220., 190., 109.,\n",
       "       191., 122., 230., 242., 248., 249., 192., 131., 237.,  78., 135.,\n",
       "       244., 199., 270., 164.,  72.,  96., 306.,  91., 214.,  95., 216.,\n",
       "       263., 178., 113., 200., 139., 139.,  88., 148.,  88., 243.,  71.,\n",
       "        77., 109., 272.,  60.,  54., 221.,  90., 311., 281., 182., 321.,\n",
       "        58., 262., 206., 233., 242., 123., 167.,  63., 197.,  71., 168.,\n",
       "       140., 217., 121., 235., 245.,  40.,  52., 104., 132.,  88.,  69.,\n",
       "       219.,  72., 201., 110.,  51., 277.,  63., 118.,  69., 273., 258.,\n",
       "        43., 198., 242., 232., 175.,  93., 168., 275., 293., 281.,  72.,\n",
       "       140., 189., 181., 209., 136., 261., 113., 131., 174., 257.,  55.,\n",
       "        84.,  42., 146., 212., 233.,  91., 111., 152., 120.,  67., 310.,\n",
       "        94., 183.,  66., 173.,  72.,  49.,  64.,  48., 178., 104., 132.,\n",
       "       220.,  57.])"
      ]
     },
     "execution_count": 11,
     "metadata": {},
     "output_type": "execute_result"
    }
   ],
   "source": [
    "y"
   ]
  },
  {
   "cell_type": "code",
   "execution_count": 12,
   "id": "c93cb47a",
   "metadata": {},
   "outputs": [
    {
     "data": {
      "text/plain": [
       "['age', 'sex', 'bmi', 'bp', 's1', 's2', 's3', 's4', 's5', 's6']"
      ]
     },
     "execution_count": 12,
     "metadata": {},
     "output_type": "execute_result"
    }
   ],
   "source": [
    "diabetes.feature_names"
   ]
  },
  {
   "cell_type": "code",
   "execution_count": 16,
   "id": "f1a3a21d",
   "metadata": {},
   "outputs": [],
   "source": [
    "import pandas as pd"
   ]
  },
  {
   "cell_type": "code",
   "execution_count": 18,
   "id": "71269257",
   "metadata": {},
   "outputs": [],
   "source": [
    "df = pd.DataFrame(x)"
   ]
  },
  {
   "cell_type": "code",
   "execution_count": 19,
   "id": "c4f10db9",
   "metadata": {},
   "outputs": [],
   "source": [
    "df.columns = diabetes.feature_names"
   ]
  },
  {
   "cell_type": "code",
   "execution_count": 22,
   "id": "dc66d1f5",
   "metadata": {},
   "outputs": [
    {
     "data": {
      "text/html": [
       "<div>\n",
       "<style scoped>\n",
       "    .dataframe tbody tr th:only-of-type {\n",
       "        vertical-align: middle;\n",
       "    }\n",
       "\n",
       "    .dataframe tbody tr th {\n",
       "        vertical-align: top;\n",
       "    }\n",
       "\n",
       "    .dataframe thead th {\n",
       "        text-align: right;\n",
       "    }\n",
       "</style>\n",
       "<table border=\"1\" class=\"dataframe\">\n",
       "  <thead>\n",
       "    <tr style=\"text-align: right;\">\n",
       "      <th></th>\n",
       "      <th>age</th>\n",
       "      <th>sex</th>\n",
       "      <th>bmi</th>\n",
       "      <th>bp</th>\n",
       "      <th>s1</th>\n",
       "      <th>s2</th>\n",
       "      <th>s3</th>\n",
       "      <th>s4</th>\n",
       "      <th>s5</th>\n",
       "      <th>s6</th>\n",
       "    </tr>\n",
       "  </thead>\n",
       "  <tbody>\n",
       "    <tr>\n",
       "      <th>count</th>\n",
       "      <td>4.420000e+02</td>\n",
       "      <td>4.420000e+02</td>\n",
       "      <td>4.420000e+02</td>\n",
       "      <td>4.420000e+02</td>\n",
       "      <td>4.420000e+02</td>\n",
       "      <td>4.420000e+02</td>\n",
       "      <td>4.420000e+02</td>\n",
       "      <td>4.420000e+02</td>\n",
       "      <td>4.420000e+02</td>\n",
       "      <td>4.420000e+02</td>\n",
       "    </tr>\n",
       "    <tr>\n",
       "      <th>mean</th>\n",
       "      <td>-3.634285e-16</td>\n",
       "      <td>1.308343e-16</td>\n",
       "      <td>-8.045349e-16</td>\n",
       "      <td>1.281655e-16</td>\n",
       "      <td>-8.835316e-17</td>\n",
       "      <td>1.327024e-16</td>\n",
       "      <td>-4.574646e-16</td>\n",
       "      <td>3.777301e-16</td>\n",
       "      <td>-3.830854e-16</td>\n",
       "      <td>-3.412882e-16</td>\n",
       "    </tr>\n",
       "    <tr>\n",
       "      <th>std</th>\n",
       "      <td>4.761905e-02</td>\n",
       "      <td>4.761905e-02</td>\n",
       "      <td>4.761905e-02</td>\n",
       "      <td>4.761905e-02</td>\n",
       "      <td>4.761905e-02</td>\n",
       "      <td>4.761905e-02</td>\n",
       "      <td>4.761905e-02</td>\n",
       "      <td>4.761905e-02</td>\n",
       "      <td>4.761905e-02</td>\n",
       "      <td>4.761905e-02</td>\n",
       "    </tr>\n",
       "    <tr>\n",
       "      <th>min</th>\n",
       "      <td>-1.072256e-01</td>\n",
       "      <td>-4.464164e-02</td>\n",
       "      <td>-9.027530e-02</td>\n",
       "      <td>-1.123996e-01</td>\n",
       "      <td>-1.267807e-01</td>\n",
       "      <td>-1.156131e-01</td>\n",
       "      <td>-1.023071e-01</td>\n",
       "      <td>-7.639450e-02</td>\n",
       "      <td>-1.260974e-01</td>\n",
       "      <td>-1.377672e-01</td>\n",
       "    </tr>\n",
       "    <tr>\n",
       "      <th>25%</th>\n",
       "      <td>-3.729927e-02</td>\n",
       "      <td>-4.464164e-02</td>\n",
       "      <td>-3.422907e-02</td>\n",
       "      <td>-3.665645e-02</td>\n",
       "      <td>-3.424784e-02</td>\n",
       "      <td>-3.035840e-02</td>\n",
       "      <td>-3.511716e-02</td>\n",
       "      <td>-3.949338e-02</td>\n",
       "      <td>-3.324879e-02</td>\n",
       "      <td>-3.317903e-02</td>\n",
       "    </tr>\n",
       "    <tr>\n",
       "      <th>50%</th>\n",
       "      <td>5.383060e-03</td>\n",
       "      <td>-4.464164e-02</td>\n",
       "      <td>-7.283766e-03</td>\n",
       "      <td>-5.670611e-03</td>\n",
       "      <td>-4.320866e-03</td>\n",
       "      <td>-3.819065e-03</td>\n",
       "      <td>-6.584468e-03</td>\n",
       "      <td>-2.592262e-03</td>\n",
       "      <td>-1.947634e-03</td>\n",
       "      <td>-1.077698e-03</td>\n",
       "    </tr>\n",
       "    <tr>\n",
       "      <th>75%</th>\n",
       "      <td>3.807591e-02</td>\n",
       "      <td>5.068012e-02</td>\n",
       "      <td>3.124802e-02</td>\n",
       "      <td>3.564384e-02</td>\n",
       "      <td>2.835801e-02</td>\n",
       "      <td>2.984439e-02</td>\n",
       "      <td>2.931150e-02</td>\n",
       "      <td>3.430886e-02</td>\n",
       "      <td>3.243323e-02</td>\n",
       "      <td>2.791705e-02</td>\n",
       "    </tr>\n",
       "    <tr>\n",
       "      <th>max</th>\n",
       "      <td>1.107267e-01</td>\n",
       "      <td>5.068012e-02</td>\n",
       "      <td>1.705552e-01</td>\n",
       "      <td>1.320442e-01</td>\n",
       "      <td>1.539137e-01</td>\n",
       "      <td>1.987880e-01</td>\n",
       "      <td>1.811791e-01</td>\n",
       "      <td>1.852344e-01</td>\n",
       "      <td>1.335990e-01</td>\n",
       "      <td>1.356118e-01</td>\n",
       "    </tr>\n",
       "  </tbody>\n",
       "</table>\n",
       "</div>"
      ],
      "text/plain": [
       "                age           sex           bmi            bp            s1  \\\n",
       "count  4.420000e+02  4.420000e+02  4.420000e+02  4.420000e+02  4.420000e+02   \n",
       "mean  -3.634285e-16  1.308343e-16 -8.045349e-16  1.281655e-16 -8.835316e-17   \n",
       "std    4.761905e-02  4.761905e-02  4.761905e-02  4.761905e-02  4.761905e-02   \n",
       "min   -1.072256e-01 -4.464164e-02 -9.027530e-02 -1.123996e-01 -1.267807e-01   \n",
       "25%   -3.729927e-02 -4.464164e-02 -3.422907e-02 -3.665645e-02 -3.424784e-02   \n",
       "50%    5.383060e-03 -4.464164e-02 -7.283766e-03 -5.670611e-03 -4.320866e-03   \n",
       "75%    3.807591e-02  5.068012e-02  3.124802e-02  3.564384e-02  2.835801e-02   \n",
       "max    1.107267e-01  5.068012e-02  1.705552e-01  1.320442e-01  1.539137e-01   \n",
       "\n",
       "                 s2            s3            s4            s5            s6  \n",
       "count  4.420000e+02  4.420000e+02  4.420000e+02  4.420000e+02  4.420000e+02  \n",
       "mean   1.327024e-16 -4.574646e-16  3.777301e-16 -3.830854e-16 -3.412882e-16  \n",
       "std    4.761905e-02  4.761905e-02  4.761905e-02  4.761905e-02  4.761905e-02  \n",
       "min   -1.156131e-01 -1.023071e-01 -7.639450e-02 -1.260974e-01 -1.377672e-01  \n",
       "25%   -3.035840e-02 -3.511716e-02 -3.949338e-02 -3.324879e-02 -3.317903e-02  \n",
       "50%   -3.819065e-03 -6.584468e-03 -2.592262e-03 -1.947634e-03 -1.077698e-03  \n",
       "75%    2.984439e-02  2.931150e-02  3.430886e-02  3.243323e-02  2.791705e-02  \n",
       "max    1.987880e-01  1.811791e-01  1.852344e-01  1.335990e-01  1.356118e-01  "
      ]
     },
     "execution_count": 22,
     "metadata": {},
     "output_type": "execute_result"
    }
   ],
   "source": [
    "df.describe()"
   ]
  },
  {
   "cell_type": "code",
   "execution_count": 23,
   "id": "669048ef",
   "metadata": {},
   "outputs": [
    {
     "data": {
      "text/plain": [
       "'.. _diabetes_dataset:\\n\\nDiabetes dataset\\n----------------\\n\\nTen baseline variables, age, sex, body mass index, average blood\\npressure, and six blood serum measurements were obtained for each of n =\\n442 diabetes patients, as well as the response of interest, a\\nquantitative measure of disease progression one year after baseline.\\n\\n**Data Set Characteristics:**\\n\\n  :Number of Instances: 442\\n\\n  :Number of Attributes: First 10 columns are numeric predictive values\\n\\n  :Target: Column 11 is a quantitative measure of disease progression one year after baseline\\n\\n  :Attribute Information:\\n      - age     age in years\\n      - sex\\n      - bmi     body mass index\\n      - bp      average blood pressure\\n      - s1      tc, T-Cells (a type of white blood cells)\\n      - s2      ldl, low-density lipoproteins\\n      - s3      hdl, high-density lipoproteins\\n      - s4      tch, thyroid stimulating hormone\\n      - s5      ltg, lamotrigine\\n      - s6      glu, blood sugar level\\n\\nNote: Each of these 10 feature variables have been mean centered and scaled by the standard deviation times `n_samples` (i.e. the sum of squares of each column totals 1).\\n\\nSource URL:\\nhttps://www4.stat.ncsu.edu/~boos/var.select/diabetes.html\\n\\nFor more information see:\\nBradley Efron, Trevor Hastie, Iain Johnstone and Robert Tibshirani (2004) \"Least Angle Regression,\" Annals of Statistics (with discussion), 407-499.\\n(https://web.stanford.edu/~hastie/Papers/LARS/LeastAngle_2002.pdf)'"
      ]
     },
     "execution_count": 23,
     "metadata": {},
     "output_type": "execute_result"
    }
   ],
   "source": [
    "diabetes.DESCR"
   ]
  },
  {
   "cell_type": "code",
   "execution_count": 24,
   "id": "41d98c64",
   "metadata": {},
   "outputs": [],
   "source": [
    "x_train, x_test, y_train, y_test = model_selection.train_test_split(x,y)"
   ]
  },
  {
   "cell_type": "code",
   "execution_count": 25,
   "id": "4247b0b9",
   "metadata": {},
   "outputs": [],
   "source": [
    "algorithm = LinearRegression()"
   ]
  },
  {
   "cell_type": "code",
   "execution_count": 26,
   "id": "7a8291b6",
   "metadata": {},
   "outputs": [
    {
     "data": {
      "text/plain": [
       "LinearRegression()"
      ]
     },
     "execution_count": 26,
     "metadata": {},
     "output_type": "execute_result"
    }
   ],
   "source": [
    "algorithm.fit(x_train,y_train)"
   ]
  },
  {
   "cell_type": "code",
   "execution_count": 29,
   "id": "68d5db62",
   "metadata": {},
   "outputs": [],
   "source": [
    "y_pred = algorithm.predict(x_test)"
   ]
  },
  {
   "cell_type": "code",
   "execution_count": 30,
   "id": "56791275",
   "metadata": {},
   "outputs": [
    {
     "data": {
      "text/plain": [
       "array([ 87.93379073,  82.7739893 , 134.16368951, 172.49036687,\n",
       "       111.03872211, 114.75357832, 192.53321332, 158.55574015,\n",
       "       227.85789681, 217.93553231, 261.22570613, 150.12291474,\n",
       "       184.57592575, 111.20889524, 204.56109148, 135.95150264,\n",
       "       107.76789918,  65.84794771, 201.80167612, 171.50834014,\n",
       "       190.62651363, 119.54314967, 198.02282692, 123.46729104,\n",
       "       172.63032886, 233.05818584, 165.44030647, 149.6711059 ,\n",
       "        99.64152838, 179.07239931, 106.39681391,  74.49877582,\n",
       "       160.46779474, 173.20474829, 256.82213287, 190.0684683 ,\n",
       "       204.36867268, 168.25643009, 178.8996176 , 126.62046851,\n",
       "        96.4661695 , 174.7518372 , 162.73973926, 112.99609737,\n",
       "       169.2232807 , 144.08900562, 167.80359948, 123.03801793,\n",
       "        84.39309244, 217.9710208 , 167.09907716, 191.79896821,\n",
       "       149.66910527,  73.95869488, 232.19235441, 120.08458439,\n",
       "       211.66773017,  84.42852416, 104.93952003, 134.58553121,\n",
       "       159.66870673, 118.46392097, 147.21369552, 132.87092344,\n",
       "       169.96531023,  74.98387168, 178.80738104, 168.90893464,\n",
       "       185.69448128, 125.51214679,  90.59787179,  87.22892322,\n",
       "       164.17647192, 173.9414561 , 152.76698847, 194.53163645,\n",
       "        70.14930981, 162.07524941, 169.75355342, 108.35614979,\n",
       "       190.47169941, 183.4642314 , 261.93959384, 205.9297635 ,\n",
       "        91.80282962, 233.68280906, 133.57247612, 116.9907162 ,\n",
       "        70.47600691,  80.85995031, 206.70611141, 234.51400273,\n",
       "       192.72159284, 197.63365572, 236.21420941, 152.50915153,\n",
       "       114.63749157, 196.68977272, 119.9194849 , 196.79518304,\n",
       "       197.71096053,  79.93240302, 161.45130903, 261.42390392,\n",
       "       230.43303998,  85.09120636, 210.37049076, 119.07349618,\n",
       "        49.35751039, 136.15846478, 246.77842215])"
      ]
     },
     "execution_count": 30,
     "metadata": {},
     "output_type": "execute_result"
    }
   ],
   "source": [
    "y_pred"
   ]
  },
  {
   "cell_type": "code",
   "execution_count": 31,
   "id": "f79bf0e4",
   "metadata": {},
   "outputs": [],
   "source": [
    "import matplotlib.pyplot as plt"
   ]
  },
  {
   "cell_type": "code",
   "execution_count": 32,
   "id": "6810b93f",
   "metadata": {},
   "outputs": [
    {
     "data": {
      "text/plain": [
       "<matplotlib.collections.PathCollection at 0x2321da3d4c0>"
      ]
     },
     "execution_count": 32,
     "metadata": {},
     "output_type": "execute_result"
    },
    {
     "data": {
      "image/png": "[encoded data removed]",
      "text/plain": [
       "<Figure size 432x288 with 1 Axes>"
      ]
     },
     "metadata": {
      "needs_background": "light"
     },
     "output_type": "display_data"
    }
   ],
   "source": [
    "plt.scatter(y_pred,y_test)"
   ]
  },
  {
   "cell_type": "code",
   "execution_count": 33,
   "id": "ad3ca1bd",
   "metadata": {},
   "outputs": [
    {
     "data": {
      "text/plain": [
       "(0.0, 400.0, 0.0, 400.0)"
      ]
     },
     "execution_count": 33,
     "metadata": {},
     "output_type": "execute_result"
    },
    {
     "data": {
      "image/png": "[encoded data removed]",
      "text/plain": [
       "<Figure size 432x288 with 1 Axes>"
      ]
     },
     "metadata": {
      "needs_background": "light"
     },
     "output_type": "display_data"
    }
   ],
   "source": [
    "plt.axis([0,400,0,400])"
   ]
  },
  {
   "cell_type": "code",
   "execution_count": 35,
   "id": "faac5acf",
   "metadata": {},
   "outputs": [],
   "source": [
    "plt.show()"
   ]
  },
  {
   "cell_type": "code",
   "execution_count": 42,
   "id": "dad636ad",
   "metadata": {},
   "outputs": [
    {
     "data": {
      "image/png": "[encoded data removed]",
      "text/plain": [
       "<Figure size 432x288 with 1 Axes>"
      ]
     },
     "metadata": {
      "needs_background": "light"
     },
     "output_type": "display_data"
    }
   ],
   "source": [
    "plt.scatter(y_pred,y_test)\n",
    "plt.axis([0,400,0,400])\n",
    "plt.show()"
   ]
  },
  {
   "cell_type": "code",
   "execution_count": 43,
   "id": "8fc49622",
   "metadata": {},
   "outputs": [],
   "source": [
    "import numpy as np"
   ]
  },
  {
   "cell_type": "code",
   "execution_count": 44,
   "id": "33da29f2",
   "metadata": {},
   "outputs": [],
   "source": [
    "data = np.genfromtxt(\"x_y_train.csv\",delimiter = \",\")"
   ]
  },
  {
   "cell_type": "code",
   "execution_count": 48,
   "id": "d335496b",
   "metadata": {},
   "outputs": [
    {
     "data": {
      "text/plain": [
       "(331, 11)"
      ]
     },
     "execution_count": 48,
     "metadata": {},
     "output_type": "execute_result"
    }
   ],
   "source": [
    "data.shape"
   ]
  },
  {
   "cell_type": "code",
   "execution_count": 46,
   "id": "1ba94b7a",
   "metadata": {},
   "outputs": [
    {
     "data": {
      "text/plain": [
       "array([[-4.91050164e-02, -4.46416365e-02,  1.60854917e-01, ...,\n",
       "         2.80165065e-02,  1.13486232e-02,  3.46000000e+02],\n",
       "       [-7.09002471e-02,  5.06801187e-02, -8.91974838e-02, ...,\n",
       "        -1.29079423e-02, -5.49250874e-02,  1.04000000e+02],\n",
       "       [ 1.75052192e-03, -4.46416365e-02, -7.08746786e-02, ...,\n",
       "        -2.25121719e-02,  7.20651633e-03,  4.90000000e+01],\n",
       "       ...,\n",
       "       [ 2.35457526e-02, -4.46416365e-02,  7.03187031e-02, ...,\n",
       "        -1.91970476e-02, -9.36191133e-03,  2.88000000e+02],\n",
       "       [ 1.62806757e-02,  5.06801187e-02,  7.24743273e-02, ...,\n",
       "        -2.36445576e-02,  6.10539062e-02,  1.31000000e+02],\n",
       "       [-9.14709343e-03,  5.06801187e-02, -3.09956318e-02, ...,\n",
       "         6.20931562e-03,  2.79170509e-02,  4.20000000e+01]])"
      ]
     },
     "execution_count": 46,
     "metadata": {},
     "output_type": "execute_result"
    }
   ],
   "source": [
    "data"
   ]
  },
  {
   "cell_type": "code",
   "execution_count": 49,
   "id": "6f2bcbe3",
   "metadata": {},
   "outputs": [],
   "source": [
    "x = data[:,0]"
   ]
  },
  {
   "cell_type": "code",
   "execution_count": 50,
   "id": "c6183d65",
   "metadata": {},
   "outputs": [
    {
     "data": {
      "text/plain": [
       "array([-0.04910502, -0.07090025,  0.00175052,  0.04897352,  0.04170844,\n",
       "       -0.06000263, -0.07453279, -0.01641217,  0.02354575,  0.07440129,\n",
       "        0.03081083,  0.00538306, -0.03457486, -0.01641217,  0.00538306,\n",
       "        0.06350368, -0.04183994, -0.02730979,  0.01628068, -0.07816532,\n",
       "       -0.00914709,  0.01628068, -0.09632802, -0.10359309, -0.00188202,\n",
       "        0.06713621, -0.02730979,  0.04170844,  0.04534098,  0.0090156 ,\n",
       "       -0.0854304 , -0.07453279, -0.04547248,  0.08166637, -0.0382074 ,\n",
       "        0.05987114,  0.04534098,  0.01628068, -0.00551455,  0.0562386 ,\n",
       "        0.03444337, -0.06000263, -0.07090025,  0.04534098,  0.02717829,\n",
       "        0.04897352, -0.01277963, -0.05273755,  0.04170844,  0.01628068,\n",
       "        0.01628068, -0.01277963,  0.03081083, -0.04910502,  0.03444337,\n",
       "        0.06350368,  0.04534098, -0.05637009,  0.04897352, -0.07090025,\n",
       "        0.04897352,  0.08166637, -0.09632802,  0.04897352, -0.0854304 ,\n",
       "        0.04170844, -0.09269548,  0.00538306,  0.0562386 ,  0.01264814,\n",
       "        0.04170844, -0.00914709, -0.07453279, -0.02730979, -0.04910502,\n",
       "       -0.02730979,  0.07076875,  0.07440129, -0.00188202,  0.01628068,\n",
       "       -0.04547248,  0.00538306,  0.06713621,  0.07076875, -0.09996055,\n",
       "        0.00538306, -0.09632802, -0.03457486, -0.01641217, -0.08906294,\n",
       "       -0.04183994,  0.01991321, -0.02367725, -0.00188202,  0.03444337,\n",
       "       -0.0854304 , -0.06363517, -0.02730979,  0.07440129,  0.11072668,\n",
       "       -0.06726771, -0.01277963, -0.01641217,  0.11072668, -0.03094232,\n",
       "       -0.02730979, -0.02367725,  0.03444337, -0.06726771,  0.00175052,\n",
       "       -0.03094232, -0.05637009, -0.03094232,  0.01264814, -0.06000263,\n",
       "       -0.00188202, -0.00188202, -0.02367725,  0.00175052,  0.02354575,\n",
       "        0.01991321,  0.01991321,  0.02717829, -0.07816532,  0.00175052,\n",
       "        0.03081083,  0.00175052,  0.0090156 , -0.08179786,  0.01628068,\n",
       "       -0.0382074 , -0.10722563,  0.00538306,  0.02354575, -0.00551455,\n",
       "        0.01991321, -0.02730979, -0.02367725,  0.0562386 , -0.07453279,\n",
       "       -0.04547248,  0.04170844, -0.00188202, -0.02730979,  0.01264814,\n",
       "        0.03444337,  0.06713621, -0.02367725,  0.01264814,  0.04170844,\n",
       "       -0.05273755, -0.00188202,  0.03807591,  0.04534098, -0.04910502,\n",
       "       -0.04910502, -0.0382074 , -0.0382074 ,  0.03807591,  0.02717829,\n",
       "        0.01264814, -0.00914709,  0.05987114,  0.06713621, -0.00188202,\n",
       "       -0.05273755,  0.04170844,  0.00538306,  0.04534098,  0.07440129,\n",
       "       -0.10359309, -0.07090025, -0.0382074 ,  0.05260606,  0.05987114,\n",
       "        0.01628068, -0.00188202, -0.04183994,  0.06713621,  0.04897352,\n",
       "       -0.04183994,  0.02717829,  0.02354575,  0.00538306, -0.04910502,\n",
       "        0.03081083,  0.07076875,  0.04170844, -0.06363517,  0.03807591,\n",
       "        0.07076875, -0.00188202,  0.01264814, -0.02367725, -0.05273755,\n",
       "       -0.02730979,  0.04897352, -0.06000263,  0.00175052, -0.04547248,\n",
       "       -0.04183994,  0.00538306,  0.00538306, -0.00551455, -0.00551455,\n",
       "        0.03807591, -0.02004471,  0.01628068,  0.00538306, -0.02004471,\n",
       "       -0.07453279, -0.01641217, -0.10722563,  0.02354575,  0.0562386 ,\n",
       "        0.03081083,  0.07076875,  0.04170844,  0.06713621,  0.04897352,\n",
       "       -0.04547248,  0.01628068, -0.06726771,  0.01628068,  0.07076875,\n",
       "        0.04534098,  0.03081083,  0.01264814, -0.08906294, -0.06000263,\n",
       "        0.09619652,  0.03444337,  0.02354575,  0.05260606,  0.08529891,\n",
       "        0.07803383, -0.04183994, -0.02367725,  0.0090156 ,  0.03444337,\n",
       "        0.01628068, -0.00551455, -0.02730979, -0.00551455, -0.01277963,\n",
       "        0.02354575,  0.00175052,  0.03081083, -0.05637009,  0.0090156 ,\n",
       "        0.04534098, -0.02004471,  0.01628068,  0.01264814,  0.07440129,\n",
       "       -0.02367725, -0.03094232, -0.02004471,  0.08893144, -0.00914709,\n",
       "       -0.05273755,  0.05260606, -0.05637009, -0.02730979, -0.00188202,\n",
       "        0.05987114, -0.00914709,  0.01264814, -0.00914709, -0.04910502,\n",
       "        0.04170844, -0.07090025,  0.05987114, -0.02004471, -0.10722563,\n",
       "       -0.05273755,  0.03807591, -0.05637009, -0.00551455,  0.04897352,\n",
       "       -0.00188202, -0.00551455,  0.01991321, -0.05273755,  0.06713621,\n",
       "        0.06713621, -0.00914709,  0.0090156 ,  0.06713621,  0.01991321,\n",
       "        0.00538306, -0.09632802, -0.04547248, -0.02367725,  0.03807591,\n",
       "       -0.04183994, -0.00551455, -0.05273755,  0.06350368, -0.05637009,\n",
       "       -0.07090025, -0.05273755, -0.05273755,  0.04170844, -0.02004471,\n",
       "        0.04534098,  0.03807591, -0.03457486,  0.0562386 ,  0.04170844,\n",
       "        0.0090156 ,  0.01628068,  0.03081083, -0.02730979,  0.06713621,\n",
       "        0.04534098,  0.04534098,  0.02717829,  0.01628068, -0.02730979,\n",
       "        0.03807591,  0.00175052, -0.09269548, -0.00551455, -0.00914709,\n",
       "        0.01628068,  0.01264814,  0.01991321,  0.02354575,  0.01628068,\n",
       "       -0.00914709])"
      ]
     },
     "execution_count": 50,
     "metadata": {},
     "output_type": "execute_result"
    }
   ],
   "source": [
    "x"
   ]
  },
  {
   "cell_type": "code",
   "execution_count": 51,
   "id": "d960df3d",
   "metadata": {},
   "outputs": [],
   "source": [
    "x1 = data[:,0].reshape(-1,1)"
   ]
  },
  {
   "cell_type": "code",
   "execution_count": 54,
   "id": "2e5c8db1",
   "metadata": {},
   "outputs": [
    {
     "data": {
      "text/plain": [
       "array([[-0.04910502],\n",
       "       [-0.07090025],\n",
       "       [ 0.00175052],\n",
       "       [ 0.04897352],\n",
       "       [ 0.04170844],\n",
       "       [-0.06000263],\n",
       "       [-0.07453279],\n",
       "       [-0.01641217],\n",
       "       [ 0.02354575],\n",
       "       [ 0.07440129],\n",
       "       [ 0.03081083],\n",
       "       [ 0.00538306],\n",
       "       [-0.03457486],\n",
       "       [-0.01641217],\n",
       "       [ 0.00538306],\n",
       "       [ 0.06350368],\n",
       "       [-0.04183994],\n",
       "       [-0.02730979],\n",
       "       [ 0.01628068],\n",
       "       [-0.07816532],\n",
       "       [-0.00914709],\n",
       "       [ 0.01628068],\n",
       "       [-0.09632802],\n",
       "       [-0.10359309],\n",
       "       [-0.00188202],\n",
       "       [ 0.06713621],\n",
       "       [-0.02730979],\n",
       "       [ 0.04170844],\n",
       "       [ 0.04534098],\n",
       "       [ 0.0090156 ],\n",
       "       [-0.0854304 ],\n",
       "       [-0.07453279],\n",
       "       [-0.04547248],\n",
       "       [ 0.08166637],\n",
       "       [-0.0382074 ],\n",
       "       [ 0.05987114],\n",
       "       [ 0.04534098],\n",
       "       [ 0.01628068],\n",
       "       [-0.00551455],\n",
       "       [ 0.0562386 ],\n",
       "       [ 0.03444337],\n",
       "       [-0.06000263],\n",
       "       [-0.07090025],\n",
       "       [ 0.04534098],\n",
       "       [ 0.02717829],\n",
       "       [ 0.04897352],\n",
       "       [-0.01277963],\n",
       "       [-0.05273755],\n",
       "       [ 0.04170844],\n",
       "       [ 0.01628068],\n",
       "       [ 0.01628068],\n",
       "       [-0.01277963],\n",
       "       [ 0.03081083],\n",
       "       [-0.04910502],\n",
       "       [ 0.03444337],\n",
       "       [ 0.06350368],\n",
       "       [ 0.04534098],\n",
       "       [-0.05637009],\n",
       "       [ 0.04897352],\n",
       "       [-0.07090025],\n",
       "       [ 0.04897352],\n",
       "       [ 0.08166637],\n",
       "       [-0.09632802],\n",
       "       [ 0.04897352],\n",
       "       [-0.0854304 ],\n",
       "       [ 0.04170844],\n",
       "       [-0.09269548],\n",
       "       [ 0.00538306],\n",
       "       [ 0.0562386 ],\n",
       "       [ 0.01264814],\n",
       "       [ 0.04170844],\n",
       "       [-0.00914709],\n",
       "       [-0.07453279],\n",
       "       [-0.02730979],\n",
       "       [-0.04910502],\n",
       "       [-0.02730979],\n",
       "       [ 0.07076875],\n",
       "       [ 0.07440129],\n",
       "       [-0.00188202],\n",
       "       [ 0.01628068],\n",
       "       [-0.04547248],\n",
       "       [ 0.00538306],\n",
       "       [ 0.06713621],\n",
       "       [ 0.07076875],\n",
       "       [-0.09996055],\n",
       "       [ 0.00538306],\n",
       "       [-0.09632802],\n",
       "       [-0.03457486],\n",
       "       [-0.01641217],\n",
       "       [-0.08906294],\n",
       "       [-0.04183994],\n",
       "       [ 0.01991321],\n",
       "       [-0.02367725],\n",
       "       [-0.00188202],\n",
       "       [ 0.03444337],\n",
       "       [-0.0854304 ],\n",
       "       [-0.06363517],\n",
       "       [-0.02730979],\n",
       "       [ 0.07440129],\n",
       "       [ 0.11072668],\n",
       "       [-0.06726771],\n",
       "       [-0.01277963],\n",
       "       [-0.01641217],\n",
       "       [ 0.11072668],\n",
       "       [-0.03094232],\n",
       "       [-0.02730979],\n",
       "       [-0.02367725],\n",
       "       [ 0.03444337],\n",
       "       [-0.06726771],\n",
       "       [ 0.00175052],\n",
       "       [-0.03094232],\n",
       "       [-0.05637009],\n",
       "       [-0.03094232],\n",
       "       [ 0.01264814],\n",
       "       [-0.06000263],\n",
       "       [-0.00188202],\n",
       "       [-0.00188202],\n",
       "       [-0.02367725],\n",
       "       [ 0.00175052],\n",
       "       [ 0.02354575],\n",
       "       [ 0.01991321],\n",
       "       [ 0.01991321],\n",
       "       [ 0.02717829],\n",
       "       [-0.07816532],\n",
       "       [ 0.00175052],\n",
       "       [ 0.03081083],\n",
       "       [ 0.00175052],\n",
       "       [ 0.0090156 ],\n",
       "       [-0.08179786],\n",
       "       [ 0.01628068],\n",
       "       [-0.0382074 ],\n",
       "       [-0.10722563],\n",
       "       [ 0.00538306],\n",
       "       [ 0.02354575],\n",
       "       [-0.00551455],\n",
       "       [ 0.01991321],\n",
       "       [-0.02730979],\n",
       "       [-0.02367725],\n",
       "       [ 0.0562386 ],\n",
       "       [-0.07453279],\n",
       "       [-0.04547248],\n",
       "       [ 0.04170844],\n",
       "       [-0.00188202],\n",
       "       [-0.02730979],\n",
       "       [ 0.01264814],\n",
       "       [ 0.03444337],\n",
       "       [ 0.06713621],\n",
       "       [-0.02367725],\n",
       "       [ 0.01264814],\n",
       "       [ 0.04170844],\n",
       "       [-0.05273755],\n",
       "       [-0.00188202],\n",
       "       [ 0.03807591],\n",
       "       [ 0.04534098],\n",
       "       [-0.04910502],\n",
       "       [-0.04910502],\n",
       "       [-0.0382074 ],\n",
       "       [-0.0382074 ],\n",
       "       [ 0.03807591],\n",
       "       [ 0.02717829],\n",
       "       [ 0.01264814],\n",
       "       [-0.00914709],\n",
       "       [ 0.05987114],\n",
       "       [ 0.06713621],\n",
       "       [-0.00188202],\n",
       "       [-0.05273755],\n",
       "       [ 0.04170844],\n",
       "       [ 0.00538306],\n",
       "       [ 0.04534098],\n",
       "       [ 0.07440129],\n",
       "       [-0.10359309],\n",
       "       [-0.07090025],\n",
       "       [-0.0382074 ],\n",
       "       [ 0.05260606],\n",
       "       [ 0.05987114],\n",
       "       [ 0.01628068],\n",
       "       [-0.00188202],\n",
       "       [-0.04183994],\n",
       "       [ 0.06713621],\n",
       "       [ 0.04897352],\n",
       "       [-0.04183994],\n",
       "       [ 0.02717829],\n",
       "       [ 0.02354575],\n",
       "       [ 0.00538306],\n",
       "       [-0.04910502],\n",
       "       [ 0.03081083],\n",
       "       [ 0.07076875],\n",
       "       [ 0.04170844],\n",
       "       [-0.06363517],\n",
       "       [ 0.03807591],\n",
       "       [ 0.07076875],\n",
       "       [-0.00188202],\n",
       "       [ 0.01264814],\n",
       "       [-0.02367725],\n",
       "       [-0.05273755],\n",
       "       [-0.02730979],\n",
       "       [ 0.04897352],\n",
       "       [-0.06000263],\n",
       "       [ 0.00175052],\n",
       "       [-0.04547248],\n",
       "       [-0.04183994],\n",
       "       [ 0.00538306],\n",
       "       [ 0.00538306],\n",
       "       [-0.00551455],\n",
       "       [-0.00551455],\n",
       "       [ 0.03807591],\n",
       "       [-0.02004471],\n",
       "       [ 0.01628068],\n",
       "       [ 0.00538306],\n",
       "       [-0.02004471],\n",
       "       [-0.07453279],\n",
       "       [-0.01641217],\n",
       "       [-0.10722563],\n",
       "       [ 0.02354575],\n",
       "       [ 0.0562386 ],\n",
       "       [ 0.03081083],\n",
       "       [ 0.07076875],\n",
       "       [ 0.04170844],\n",
       "       [ 0.06713621],\n",
       "       [ 0.04897352],\n",
       "       [-0.04547248],\n",
       "       [ 0.01628068],\n",
       "       [-0.06726771],\n",
       "       [ 0.01628068],\n",
       "       [ 0.07076875],\n",
       "       [ 0.04534098],\n",
       "       [ 0.03081083],\n",
       "       [ 0.01264814],\n",
       "       [-0.08906294],\n",
       "       [-0.06000263],\n",
       "       [ 0.09619652],\n",
       "       [ 0.03444337],\n",
       "       [ 0.02354575],\n",
       "       [ 0.05260606],\n",
       "       [ 0.08529891],\n",
       "       [ 0.07803383],\n",
       "       [-0.04183994],\n",
       "       [-0.02367725],\n",
       "       [ 0.0090156 ],\n",
       "       [ 0.03444337],\n",
       "       [ 0.01628068],\n",
       "       [-0.00551455],\n",
       "       [-0.02730979],\n",
       "       [-0.00551455],\n",
       "       [-0.01277963],\n",
       "       [ 0.02354575],\n",
       "       [ 0.00175052],\n",
       "       [ 0.03081083],\n",
       "       [-0.05637009],\n",
       "       [ 0.0090156 ],\n",
       "       [ 0.04534098],\n",
       "       [-0.02004471],\n",
       "       [ 0.01628068],\n",
       "       [ 0.01264814],\n",
       "       [ 0.07440129],\n",
       "       [-0.02367725],\n",
       "       [-0.03094232],\n",
       "       [-0.02004471],\n",
       "       [ 0.08893144],\n",
       "       [-0.00914709],\n",
       "       [-0.05273755],\n",
       "       [ 0.05260606],\n",
       "       [-0.05637009],\n",
       "       [-0.02730979],\n",
       "       [-0.00188202],\n",
       "       [ 0.05987114],\n",
       "       [-0.00914709],\n",
       "       [ 0.01264814],\n",
       "       [-0.00914709],\n",
       "       [-0.04910502],\n",
       "       [ 0.04170844],\n",
       "       [-0.07090025],\n",
       "       [ 0.05987114],\n",
       "       [-0.02004471],\n",
       "       [-0.10722563],\n",
       "       [-0.05273755],\n",
       "       [ 0.03807591],\n",
       "       [-0.05637009],\n",
       "       [-0.00551455],\n",
       "       [ 0.04897352],\n",
       "       [-0.00188202],\n",
       "       [-0.00551455],\n",
       "       [ 0.01991321],\n",
       "       [-0.05273755],\n",
       "       [ 0.06713621],\n",
       "       [ 0.06713621],\n",
       "       [-0.00914709],\n",
       "       [ 0.0090156 ],\n",
       "       [ 0.06713621],\n",
       "       [ 0.01991321],\n",
       "       [ 0.00538306],\n",
       "       [-0.09632802],\n",
       "       [-0.04547248],\n",
       "       [-0.02367725],\n",
       "       [ 0.03807591],\n",
       "       [-0.04183994],\n",
       "       [-0.00551455],\n",
       "       [-0.05273755],\n",
       "       [ 0.06350368],\n",
       "       [-0.05637009],\n",
       "       [-0.07090025],\n",
       "       [-0.05273755],\n",
       "       [-0.05273755],\n",
       "       [ 0.04170844],\n",
       "       [-0.02004471],\n",
       "       [ 0.04534098],\n",
       "       [ 0.03807591],\n",
       "       [-0.03457486],\n",
       "       [ 0.0562386 ],\n",
       "       [ 0.04170844],\n",
       "       [ 0.0090156 ],\n",
       "       [ 0.01628068],\n",
       "       [ 0.03081083],\n",
       "       [-0.02730979],\n",
       "       [ 0.06713621],\n",
       "       [ 0.04534098],\n",
       "       [ 0.04534098],\n",
       "       [ 0.02717829],\n",
       "       [ 0.01628068],\n",
       "       [-0.02730979],\n",
       "       [ 0.03807591],\n",
       "       [ 0.00175052],\n",
       "       [-0.09269548],\n",
       "       [-0.00551455],\n",
       "       [-0.00914709],\n",
       "       [ 0.01628068],\n",
       "       [ 0.01264814],\n",
       "       [ 0.01991321],\n",
       "       [ 0.02354575],\n",
       "       [ 0.01628068],\n",
       "       [-0.00914709]])"
      ]
     },
     "execution_count": 54,
     "metadata": {},
     "output_type": "execute_result"
    }
   ],
   "source": [
    "x1"
   ]
  },
  {
   "cell_type": "code",
   "execution_count": 55,
   "id": "18766986",
   "metadata": {},
   "outputs": [],
   "source": [
    "x = x1"
   ]
  },
  {
   "cell_type": "code",
   "execution_count": 56,
   "id": "77bd11a5",
   "metadata": {},
   "outputs": [],
   "source": [
    "y = data[:,1]"
   ]
  },
  {
   "cell_type": "code",
   "execution_count": 57,
   "id": "54d7fb17",
   "metadata": {},
   "outputs": [
    {
     "data": {
      "text/plain": [
       "array([-0.04464164,  0.05068012, -0.04464164,  0.05068012,  0.05068012,\n",
       "        0.05068012,  0.05068012, -0.04464164,  0.05068012, -0.04464164,\n",
       "       -0.04464164, -0.04464164,  0.05068012, -0.04464164,  0.05068012,\n",
       "        0.05068012, -0.04464164,  0.05068012, -0.04464164, -0.04464164,\n",
       "        0.05068012,  0.05068012, -0.04464164, -0.04464164, -0.04464164,\n",
       "        0.05068012,  0.05068012,  0.05068012,  0.05068012,  0.05068012,\n",
       "        0.05068012,  0.05068012, -0.04464164,  0.05068012,  0.05068012,\n",
       "       -0.04464164,  0.05068012, -0.04464164, -0.04464164,  0.05068012,\n",
       "       -0.04464164,  0.05068012,  0.05068012, -0.04464164,  0.05068012,\n",
       "        0.05068012, -0.04464164, -0.04464164, -0.04464164, -0.04464164,\n",
       "       -0.04464164, -0.04464164, -0.04464164, -0.04464164, -0.04464164,\n",
       "        0.05068012, -0.04464164,  0.05068012, -0.04464164, -0.04464164,\n",
       "       -0.04464164,  0.05068012, -0.04464164,  0.05068012, -0.04464164,\n",
       "        0.05068012, -0.04464164, -0.04464164,  0.05068012,  0.05068012,\n",
       "       -0.04464164, -0.04464164, -0.04464164, -0.04464164, -0.04464164,\n",
       "        0.05068012, -0.04464164,  0.05068012, -0.04464164,  0.05068012,\n",
       "       -0.04464164, -0.04464164, -0.04464164,  0.05068012, -0.04464164,\n",
       "       -0.04464164, -0.04464164,  0.05068012, -0.04464164, -0.04464164,\n",
       "       -0.04464164, -0.04464164, -0.04464164, -0.04464164,  0.05068012,\n",
       "       -0.04464164,  0.05068012, -0.04464164, -0.04464164,  0.05068012,\n",
       "       -0.04464164,  0.05068012,  0.05068012,  0.05068012, -0.04464164,\n",
       "       -0.04464164, -0.04464164,  0.05068012, -0.04464164,  0.05068012,\n",
       "       -0.04464164, -0.04464164,  0.05068012, -0.04464164, -0.04464164,\n",
       "       -0.04464164, -0.04464164,  0.05068012, -0.04464164, -0.04464164,\n",
       "        0.05068012, -0.04464164, -0.04464164,  0.05068012,  0.05068012,\n",
       "        0.05068012, -0.04464164, -0.04464164,  0.05068012, -0.04464164,\n",
       "       -0.04464164, -0.04464164, -0.04464164,  0.05068012,  0.05068012,\n",
       "        0.05068012, -0.04464164, -0.04464164, -0.04464164, -0.04464164,\n",
       "        0.05068012,  0.05068012,  0.05068012,  0.05068012, -0.04464164,\n",
       "        0.05068012, -0.04464164,  0.05068012,  0.05068012,  0.05068012,\n",
       "        0.05068012, -0.04464164,  0.05068012,  0.05068012,  0.05068012,\n",
       "       -0.04464164, -0.04464164,  0.05068012,  0.05068012,  0.05068012,\n",
       "       -0.04464164,  0.05068012,  0.05068012,  0.05068012, -0.04464164,\n",
       "       -0.04464164, -0.04464164,  0.05068012,  0.05068012, -0.04464164,\n",
       "        0.05068012, -0.04464164, -0.04464164, -0.04464164,  0.05068012,\n",
       "        0.05068012,  0.05068012,  0.05068012,  0.05068012, -0.04464164,\n",
       "        0.05068012, -0.04464164, -0.04464164,  0.05068012, -0.04464164,\n",
       "       -0.04464164,  0.05068012, -0.04464164, -0.04464164,  0.05068012,\n",
       "       -0.04464164,  0.05068012, -0.04464164, -0.04464164, -0.04464164,\n",
       "        0.05068012,  0.05068012, -0.04464164, -0.04464164, -0.04464164,\n",
       "       -0.04464164, -0.04464164,  0.05068012,  0.05068012,  0.05068012,\n",
       "        0.05068012, -0.04464164,  0.05068012,  0.05068012, -0.04464164,\n",
       "       -0.04464164,  0.05068012, -0.04464164,  0.05068012, -0.04464164,\n",
       "        0.05068012,  0.05068012, -0.04464164, -0.04464164, -0.04464164,\n",
       "       -0.04464164, -0.04464164,  0.05068012, -0.04464164,  0.05068012,\n",
       "        0.05068012,  0.05068012,  0.05068012, -0.04464164,  0.05068012,\n",
       "       -0.04464164,  0.05068012,  0.05068012, -0.04464164,  0.05068012,\n",
       "        0.05068012, -0.04464164, -0.04464164,  0.05068012,  0.05068012,\n",
       "        0.05068012, -0.04464164, -0.04464164,  0.05068012, -0.04464164,\n",
       "        0.05068012,  0.05068012,  0.05068012, -0.04464164,  0.05068012,\n",
       "       -0.04464164, -0.04464164, -0.04464164, -0.04464164, -0.04464164,\n",
       "       -0.04464164,  0.05068012, -0.04464164, -0.04464164,  0.05068012,\n",
       "       -0.04464164,  0.05068012, -0.04464164, -0.04464164,  0.05068012,\n",
       "       -0.04464164, -0.04464164,  0.05068012, -0.04464164,  0.05068012,\n",
       "        0.05068012, -0.04464164,  0.05068012, -0.04464164, -0.04464164,\n",
       "        0.05068012,  0.05068012, -0.04464164, -0.04464164,  0.05068012,\n",
       "       -0.04464164, -0.04464164,  0.05068012, -0.04464164,  0.05068012,\n",
       "        0.05068012, -0.04464164, -0.04464164,  0.05068012,  0.05068012,\n",
       "        0.05068012, -0.04464164,  0.05068012, -0.04464164,  0.05068012,\n",
       "       -0.04464164,  0.05068012, -0.04464164, -0.04464164,  0.05068012,\n",
       "       -0.04464164,  0.05068012, -0.04464164,  0.05068012, -0.04464164,\n",
       "        0.05068012,  0.05068012,  0.05068012,  0.05068012,  0.05068012,\n",
       "       -0.04464164, -0.04464164, -0.04464164, -0.04464164,  0.05068012,\n",
       "       -0.04464164, -0.04464164,  0.05068012, -0.04464164,  0.05068012,\n",
       "        0.05068012,  0.05068012,  0.05068012, -0.04464164, -0.04464164,\n",
       "       -0.04464164, -0.04464164, -0.04464164, -0.04464164,  0.05068012,\n",
       "        0.05068012])"
      ]
     },
     "execution_count": 57,
     "metadata": {},
     "output_type": "execute_result"
    }
   ],
   "source": [
    "y"
   ]
  },
  {
   "cell_type": "code",
   "execution_count": 58,
   "id": "be8986be",
   "metadata": {},
   "outputs": [
    {
     "data": {
      "text/plain": [
       "array([ -14.92205976, -213.78614033,  518.97993988,  273.80058249,\n",
       "       -722.50197771,  378.21658976,  135.45988744,  198.35655963,\n",
       "        803.96727038,   74.3144168 ])"
      ]
     },
     "execution_count": 58,
     "metadata": {},
     "output_type": "execute_result"
    }
   ],
   "source": [
    "algorithm.coef_"
   ]
  },
  {
   "cell_type": "code",
   "execution_count": 59,
   "id": "7d34f216",
   "metadata": {},
   "outputs": [
    {
     "data": {
      "text/plain": [
       "153.2562462660846"
      ]
     },
     "execution_count": 59,
     "metadata": {},
     "output_type": "execute_result"
    }
   ],
   "source": [
    "algorithm.intercept_"
   ]
  },
  {
   "cell_type": "code",
   "execution_count": 60,
   "id": "0a19ffe5",
   "metadata": {},
   "outputs": [],
   "source": [
    "m = algorithm.coef_[0]"
   ]
  },
  {
   "cell_type": "code",
   "execution_count": 61,
   "id": "9a808ad6",
   "metadata": {},
   "outputs": [],
   "source": [
    "c = algorithm.intercept_"
   ]
  },
  {
   "cell_type": "code",
   "execution_count": 62,
   "id": "4af727fe",
   "metadata": {},
   "outputs": [],
   "source": [
    "x_line = np.arange(0,100,0.1)"
   ]
  },
  {
   "cell_type": "code",
   "execution_count": 63,
   "id": "0b6c9105",
   "metadata": {},
   "outputs": [],
   "source": [
    "y_line = m*x_line + c"
   ]
  },
  {
   "cell_type": "code",
   "execution_count": 66,
   "id": "56c73d33",
   "metadata": {},
   "outputs": [
    {
     "data": {
      "text/plain": [
       "[<matplotlib.lines.Line2D at 0x2321db1f280>]"
      ]
     },
     "execution_count": 66,
     "metadata": {},
     "output_type": "execute_result"
    },
    {
     "data": {
      "image/png": "[encoded data removed]",
      "text/plain": [
       "<Figure size 432x288 with 1 Axes>"
      ]
     },
     "metadata": {
      "needs_background": "light"
     },
     "output_type": "display_data"
    }
   ],
   "source": [
    "plt.plot(x_line,y_line,\"r\")"
   ]
  },
  {
   "cell_type": "code",
   "execution_count": 92,
   "id": "0718e70d",
   "metadata": {},
   "outputs": [
    {
     "data": {
      "text/plain": [
       "0.4462394209412932"
      ]
     },
     "execution_count": 92,
     "metadata": {},
     "output_type": "execute_result"
    }
   ],
   "source": [
    "score_test = algorithm.score(x_test,y_test)\n",
    "score_test"
   ]
  },
  {
   "cell_type": "code",
   "execution_count": 93,
   "id": "1f47126f",
   "metadata": {},
   "outputs": [
    {
     "data": {
      "text/plain": [
       "0.5351614849650608"
      ]
     },
     "execution_count": 93,
     "metadata": {},
     "output_type": "execute_result"
    }
   ],
   "source": [
    "score_training = algorithm.score(x_train,y_train)\n",
    "score_training"
   ]
  },
  {
   "cell_type": "code",
   "execution_count": 101,
   "id": "94636749",
   "metadata": {},
   "outputs": [],
   "source": [
    "def fit(x_train,y_train):\n",
    "    num = (x_train*y_train).mean() - x_train.mean()*y_train.mean()\n",
    "    deno = (x_train ** 2).mean() - x_train.mean()*x_train.mean()\n",
    "    m = num / deno\n",
    "    c = y_train.mean() - m * x_train.mean()\n",
    "    return m,c"
   ]
  },
  {
   "cell_type": "code",
   "execution_count": 95,
   "id": "9ff51ce4",
   "metadata": {},
   "outputs": [],
   "source": [
    "def predict(x_train,m,c):\n",
    "    y_pred = m * x_train + c\n",
    "    return y_pred"
   ]
  },
  {
   "cell_type": "code",
   "execution_count": 96,
   "id": "cdd084d8",
   "metadata": {},
   "outputs": [],
   "source": [
    "def score(y_truth,y_predict):\n",
    "    u = ((y_truth - y_predict) ** 2),sum()\n",
    "    v = ((y_truth - y_truth.mean())**2).sum()\n",
    "    ans = 1 - u / v\n",
    "    return ans"
   ]
  },
  {
   "cell_type": "code",
   "execution_count": 97,
   "id": "bde992d7",
   "metadata": {},
   "outputs": [],
   "source": [
    "def cost(x,y,m,c):\n",
    "    return ((y - m*x - c)**2).mean()"
   ]
  },
  {
   "cell_type": "code",
   "execution_count": 102,
   "id": "10811f70",
   "metadata": {},
   "outputs": [
    {
     "ename": "ValueError",
     "evalue": "operands could not be broadcast together with shapes (331,10) (331,) ",
     "output_type": "error",
     "traceback": [
      "\u001b[1;31m---------------------------------------------------------------------------\u001b[0m",
      "\u001b[1;31mValueError\u001b[0m                                Traceback (most recent call last)",
      "\u001b[1;32m<ipython-input-102-89d6146f8802>\u001b[0m in \u001b[0;36m<module>\u001b[1;34m\u001b[0m\n\u001b[1;32m----> 1\u001b[1;33m \u001b[0mm\u001b[0m \u001b[1;33m,\u001b[0m \u001b[0mc\u001b[0m \u001b[1;33m=\u001b[0m \u001b[0mfit\u001b[0m\u001b[1;33m(\u001b[0m\u001b[0mx_train\u001b[0m\u001b[1;33m,\u001b[0m\u001b[0my_train\u001b[0m\u001b[1;33m)\u001b[0m\u001b[1;33m\u001b[0m\u001b[1;33m\u001b[0m\u001b[0m\n\u001b[0m\u001b[0;32m      2\u001b[0m \u001b[0my_test_pred\u001b[0m \u001b[1;33m=\u001b[0m \u001b[0mpredict\u001b[0m\u001b[1;33m(\u001b[0m\u001b[0mx_test\u001b[0m\u001b[1;33m,\u001b[0m\u001b[0mm\u001b[0m\u001b[1;33m,\u001b[0m\u001b[0mc\u001b[0m\u001b[1;33m)\u001b[0m\u001b[1;33m\u001b[0m\u001b[1;33m\u001b[0m\u001b[0m\n\u001b[0;32m      3\u001b[0m \u001b[0mprint\u001b[0m\u001b[1;33m(\u001b[0m\u001b[1;34m\"Test Score : \"\u001b[0m\u001b[1;33m,\u001b[0m\u001b[0mscore\u001b[0m\u001b[1;33m(\u001b[0m\u001b[0my_test\u001b[0m\u001b[1;33m,\u001b[0m\u001b[0my_test_pred\u001b[0m\u001b[1;33m)\u001b[0m\u001b[1;33m)\u001b[0m\u001b[1;33m\u001b[0m\u001b[1;33m\u001b[0m\u001b[0m\n\u001b[0;32m      4\u001b[0m \u001b[0my_train_pred\u001b[0m \u001b[1;33m=\u001b[0m \u001b[0mpredict\u001b[0m\u001b[1;33m(\u001b[0m\u001b[0mx_train\u001b[0m\u001b[1;33m,\u001b[0m\u001b[0mm\u001b[0m\u001b[1;33m,\u001b[0m\u001b[0mc\u001b[0m\u001b[1;33m)\u001b[0m\u001b[1;33m\u001b[0m\u001b[1;33m\u001b[0m\u001b[0m\n\u001b[0;32m      5\u001b[0m \u001b[0mprint\u001b[0m\u001b[1;33m(\u001b[0m\u001b[1;34m\"Train Score : \"\u001b[0m\u001b[1;33m,\u001b[0m\u001b[0mscore\u001b[0m\u001b[1;33m(\u001b[0m\u001b[0my_train\u001b[0m\u001b[1;33m,\u001b[0m\u001b[0my_train_pred\u001b[0m\u001b[1;33m)\u001b[0m\u001b[1;33m)\u001b[0m\u001b[1;33m\u001b[0m\u001b[1;33m\u001b[0m\u001b[0m\n",
      "\u001b[1;32m<ipython-input-101-38e174cb6b2e>\u001b[0m in \u001b[0;36mfit\u001b[1;34m(x_train, y_train)\u001b[0m\n\u001b[0;32m      1\u001b[0m \u001b[1;32mdef\u001b[0m \u001b[0mfit\u001b[0m\u001b[1;33m(\u001b[0m\u001b[0mx_train\u001b[0m\u001b[1;33m,\u001b[0m\u001b[0my_train\u001b[0m\u001b[1;33m)\u001b[0m\u001b[1;33m:\u001b[0m\u001b[1;33m\u001b[0m\u001b[1;33m\u001b[0m\u001b[0m\n\u001b[1;32m----> 2\u001b[1;33m     \u001b[0mnum\u001b[0m \u001b[1;33m=\u001b[0m \u001b[1;33m(\u001b[0m\u001b[0mx_train\u001b[0m\u001b[1;33m*\u001b[0m\u001b[0my_train\u001b[0m\u001b[1;33m)\u001b[0m\u001b[1;33m.\u001b[0m\u001b[0mmean\u001b[0m\u001b[1;33m(\u001b[0m\u001b[1;33m)\u001b[0m \u001b[1;33m-\u001b[0m \u001b[0mx_train\u001b[0m\u001b[1;33m.\u001b[0m\u001b[0mmean\u001b[0m\u001b[1;33m(\u001b[0m\u001b[1;33m)\u001b[0m\u001b[1;33m*\u001b[0m\u001b[0my_train\u001b[0m\u001b[1;33m.\u001b[0m\u001b[0mmean\u001b[0m\u001b[1;33m(\u001b[0m\u001b[1;33m)\u001b[0m\u001b[1;33m\u001b[0m\u001b[1;33m\u001b[0m\u001b[0m\n\u001b[0m\u001b[0;32m      3\u001b[0m     \u001b[0mdeno\u001b[0m \u001b[1;33m=\u001b[0m \u001b[1;33m(\u001b[0m\u001b[0mx_train\u001b[0m \u001b[1;33m**\u001b[0m \u001b[1;36m2\u001b[0m\u001b[1;33m)\u001b[0m\u001b[1;33m.\u001b[0m\u001b[0mmean\u001b[0m\u001b[1;33m(\u001b[0m\u001b[1;33m)\u001b[0m \u001b[1;33m-\u001b[0m \u001b[0mx_train\u001b[0m\u001b[1;33m.\u001b[0m\u001b[0mmean\u001b[0m\u001b[1;33m(\u001b[0m\u001b[1;33m)\u001b[0m\u001b[1;33m*\u001b[0m\u001b[0mx_train\u001b[0m\u001b[1;33m.\u001b[0m\u001b[0mmean\u001b[0m\u001b[1;33m(\u001b[0m\u001b[1;33m)\u001b[0m\u001b[1;33m\u001b[0m\u001b[1;33m\u001b[0m\u001b[0m\n\u001b[0;32m      4\u001b[0m     \u001b[0mm\u001b[0m \u001b[1;33m=\u001b[0m \u001b[0mnum\u001b[0m \u001b[1;33m/\u001b[0m \u001b[0mdeno\u001b[0m\u001b[1;33m\u001b[0m\u001b[1;33m\u001b[0m\u001b[0m\n\u001b[0;32m      5\u001b[0m     \u001b[0mc\u001b[0m \u001b[1;33m=\u001b[0m \u001b[0my_train\u001b[0m\u001b[1;33m.\u001b[0m\u001b[0mmean\u001b[0m\u001b[1;33m(\u001b[0m\u001b[1;33m)\u001b[0m \u001b[1;33m-\u001b[0m \u001b[0mm\u001b[0m \u001b[1;33m*\u001b[0m \u001b[0mx_train\u001b[0m\u001b[1;33m.\u001b[0m\u001b[0mmean\u001b[0m\u001b[1;33m(\u001b[0m\u001b[1;33m)\u001b[0m\u001b[1;33m\u001b[0m\u001b[1;33m\u001b[0m\u001b[0m\n",
      "\u001b[1;31mValueError\u001b[0m: operands could not be broadcast together with shapes (331,10) (331,) "
     ]
    }
   ],
   "source": [
    "m , c = fit(x_train,y_train)\n",
    "y_test_pred = predict(x_test,m,c)\n",
    "print(\"Test Score : \",score(y_test,y_test_pred))\n",
    "y_train_pred = predict(x_train,m,c)\n",
    "print(\"Train Score : \",score(y_train,y_train_pred))\n",
    "print(\"cost : \",cost(x_train,y_train,m,c))\n",
    "print(\"m : \",m,\" c : \",c)"
   ]
  },
  {
   "cell_type": "code",
   "execution_count": 103,
   "id": "b75b7e24",
   "metadata": {},
   "outputs": [
    {
     "data": {
      "text/plain": [
       "array([[ 0.02354575,  0.05068012, -0.0374625 , ..., -0.03949338,\n",
       "        -0.03075121, -0.01350402],\n",
       "       [-0.07816532, -0.04464164, -0.0730303 , ..., -0.03949338,\n",
       "        -0.01811827, -0.08391984],\n",
       "       [-0.03094232,  0.05068012,  0.00133873, ...,  0.1081111 ,\n",
       "         0.08379677,  0.00306441],\n",
       "       ...,\n",
       "       [ 0.0090156 , -0.04464164, -0.01267283, ...,  0.03430886,\n",
       "         0.02337484, -0.0052198 ],\n",
       "       [ 0.01991321, -0.04464164, -0.03422907, ...,  0.03283281,\n",
       "         0.02472532,  0.06933812],\n",
       "       [ 0.01628068,  0.05068012,  0.00996123, ..., -0.03949338,\n",
       "         0.01703713,  0.00720652]])"
      ]
     },
     "execution_count": 103,
     "metadata": {},
     "output_type": "execute_result"
    }
   ],
   "source": [
    "data1 = np.genfromtxt(\"x_test.csv\",delimiter = \",\")\n",
    "data1"
   ]
  },
  {
   "cell_type": "code",
   "execution_count": 104,
   "id": "cc830575",
   "metadata": {},
   "outputs": [
    {
     "data": {
      "text/plain": [
       "(111, 10)"
      ]
     },
     "execution_count": 104,
     "metadata": {},
     "output_type": "execute_result"
    }
   ],
   "source": [
    "data1.shape"
   ]
  },
  {
   "cell_type": "code",
   "execution_count": 105,
   "id": "15f54c95",
   "metadata": {},
   "outputs": [
    {
     "data": {
      "text/plain": [
       "array([-0.04910502, -0.07090025,  0.00175052,  0.04897352,  0.04170844,\n",
       "       -0.06000263, -0.07453279, -0.01641217,  0.02354575,  0.07440129,\n",
       "        0.03081083,  0.00538306, -0.03457486, -0.01641217,  0.00538306,\n",
       "        0.06350368, -0.04183994, -0.02730979,  0.01628068, -0.07816532,\n",
       "       -0.00914709,  0.01628068, -0.09632802, -0.10359309, -0.00188202,\n",
       "        0.06713621, -0.02730979,  0.04170844,  0.04534098,  0.0090156 ,\n",
       "       -0.0854304 , -0.07453279, -0.04547248,  0.08166637, -0.0382074 ,\n",
       "        0.05987114,  0.04534098,  0.01628068, -0.00551455,  0.0562386 ,\n",
       "        0.03444337, -0.06000263, -0.07090025,  0.04534098,  0.02717829,\n",
       "        0.04897352, -0.01277963, -0.05273755,  0.04170844,  0.01628068,\n",
       "        0.01628068, -0.01277963,  0.03081083, -0.04910502,  0.03444337,\n",
       "        0.06350368,  0.04534098, -0.05637009,  0.04897352, -0.07090025,\n",
       "        0.04897352,  0.08166637, -0.09632802,  0.04897352, -0.0854304 ,\n",
       "        0.04170844, -0.09269548,  0.00538306,  0.0562386 ,  0.01264814,\n",
       "        0.04170844, -0.00914709, -0.07453279, -0.02730979, -0.04910502,\n",
       "       -0.02730979,  0.07076875,  0.07440129, -0.00188202,  0.01628068,\n",
       "       -0.04547248,  0.00538306,  0.06713621,  0.07076875, -0.09996055,\n",
       "        0.00538306, -0.09632802, -0.03457486, -0.01641217, -0.08906294,\n",
       "       -0.04183994,  0.01991321, -0.02367725, -0.00188202,  0.03444337,\n",
       "       -0.0854304 , -0.06363517, -0.02730979,  0.07440129,  0.11072668,\n",
       "       -0.06726771, -0.01277963, -0.01641217,  0.11072668, -0.03094232,\n",
       "       -0.02730979, -0.02367725,  0.03444337, -0.06726771,  0.00175052,\n",
       "       -0.03094232, -0.05637009, -0.03094232,  0.01264814, -0.06000263,\n",
       "       -0.00188202, -0.00188202, -0.02367725,  0.00175052,  0.02354575,\n",
       "        0.01991321,  0.01991321,  0.02717829, -0.07816532,  0.00175052,\n",
       "        0.03081083,  0.00175052,  0.0090156 , -0.08179786,  0.01628068,\n",
       "       -0.0382074 , -0.10722563,  0.00538306,  0.02354575, -0.00551455,\n",
       "        0.01991321, -0.02730979, -0.02367725,  0.0562386 , -0.07453279,\n",
       "       -0.04547248,  0.04170844, -0.00188202, -0.02730979,  0.01264814,\n",
       "        0.03444337,  0.06713621, -0.02367725,  0.01264814,  0.04170844,\n",
       "       -0.05273755, -0.00188202,  0.03807591,  0.04534098, -0.04910502,\n",
       "       -0.04910502, -0.0382074 , -0.0382074 ,  0.03807591,  0.02717829,\n",
       "        0.01264814, -0.00914709,  0.05987114,  0.06713621, -0.00188202,\n",
       "       -0.05273755,  0.04170844,  0.00538306,  0.04534098,  0.07440129,\n",
       "       -0.10359309, -0.07090025, -0.0382074 ,  0.05260606,  0.05987114,\n",
       "        0.01628068, -0.00188202, -0.04183994,  0.06713621,  0.04897352,\n",
       "       -0.04183994,  0.02717829,  0.02354575,  0.00538306, -0.04910502,\n",
       "        0.03081083,  0.07076875,  0.04170844, -0.06363517,  0.03807591,\n",
       "        0.07076875, -0.00188202,  0.01264814, -0.02367725, -0.05273755,\n",
       "       -0.02730979,  0.04897352, -0.06000263,  0.00175052, -0.04547248,\n",
       "       -0.04183994,  0.00538306,  0.00538306, -0.00551455, -0.00551455,\n",
       "        0.03807591, -0.02004471,  0.01628068,  0.00538306, -0.02004471,\n",
       "       -0.07453279, -0.01641217, -0.10722563,  0.02354575,  0.0562386 ,\n",
       "        0.03081083,  0.07076875,  0.04170844,  0.06713621,  0.04897352,\n",
       "       -0.04547248,  0.01628068, -0.06726771,  0.01628068,  0.07076875,\n",
       "        0.04534098,  0.03081083,  0.01264814, -0.08906294, -0.06000263,\n",
       "        0.09619652,  0.03444337,  0.02354575,  0.05260606,  0.08529891,\n",
       "        0.07803383, -0.04183994, -0.02367725,  0.0090156 ,  0.03444337,\n",
       "        0.01628068, -0.00551455, -0.02730979, -0.00551455, -0.01277963,\n",
       "        0.02354575,  0.00175052,  0.03081083, -0.05637009,  0.0090156 ,\n",
       "        0.04534098, -0.02004471,  0.01628068,  0.01264814,  0.07440129,\n",
       "       -0.02367725, -0.03094232, -0.02004471,  0.08893144, -0.00914709,\n",
       "       -0.05273755,  0.05260606, -0.05637009, -0.02730979, -0.00188202,\n",
       "        0.05987114, -0.00914709,  0.01264814, -0.00914709, -0.04910502,\n",
       "        0.04170844, -0.07090025,  0.05987114, -0.02004471, -0.10722563,\n",
       "       -0.05273755,  0.03807591, -0.05637009, -0.00551455,  0.04897352,\n",
       "       -0.00188202, -0.00551455,  0.01991321, -0.05273755,  0.06713621,\n",
       "        0.06713621, -0.00914709,  0.0090156 ,  0.06713621,  0.01991321,\n",
       "        0.00538306, -0.09632802, -0.04547248, -0.02367725,  0.03807591,\n",
       "       -0.04183994, -0.00551455, -0.05273755,  0.06350368, -0.05637009,\n",
       "       -0.07090025, -0.05273755, -0.05273755,  0.04170844, -0.02004471,\n",
       "        0.04534098,  0.03807591, -0.03457486,  0.0562386 ,  0.04170844,\n",
       "        0.0090156 ,  0.01628068,  0.03081083, -0.02730979,  0.06713621,\n",
       "        0.04534098,  0.04534098,  0.02717829,  0.01628068, -0.02730979,\n",
       "        0.03807591,  0.00175052, -0.09269548, -0.00551455, -0.00914709,\n",
       "        0.01628068,  0.01264814,  0.01991321,  0.02354575,  0.01628068,\n",
       "       -0.00914709])"
      ]
     },
     "execution_count": 105,
     "metadata": {},
     "output_type": "execute_result"
    }
   ],
   "source": [
    "x_test_1 = data[:,0]\n",
    "x_test_1"
   ]
  },
  {
   "cell_type": "code",
   "execution_count": 106,
   "id": "bcd13ccd",
   "metadata": {},
   "outputs": [
    {
     "data": {
      "text/plain": [
       "array([153.98899426, 154.31422399, 153.23012487, 152.52546045,\n",
       "       152.63387036, 154.15160912, 154.36842895, 153.50114965,\n",
       "       152.90489514, 152.14602576, 152.79648523, 153.17591992,\n",
       "       153.77217443, 153.50114965, 153.17591992, 152.30864062,\n",
       "       153.88058434, 153.66376452, 153.01330505, 154.4226339 ,\n",
       "       153.39273974, 153.01330505, 154.69365868, 154.80206859,\n",
       "       153.28432983, 152.25443567, 153.66376452, 152.63387036,\n",
       "       152.5796654 , 153.12171496, 154.53104381, 154.36842895,\n",
       "       153.9347893 , 152.03761584, 153.82637939, 152.36284558,\n",
       "       152.5796654 , 153.01330505, 153.33853479, 152.41705054,\n",
       "       152.74228027, 154.15160912, 154.31422399, 152.5796654 ,\n",
       "       152.85069018, 152.52546045, 153.4469447 , 154.04319921,\n",
       "       152.63387036, 153.01330505, 153.01330505, 153.4469447 ,\n",
       "       152.79648523, 153.98899426, 152.74228027, 152.30864062,\n",
       "       152.5796654 , 154.09740417, 152.52546045, 154.31422399,\n",
       "       152.52546045, 152.03761584, 154.69365868, 152.52546045,\n",
       "       154.53104381, 152.63387036, 154.63945373, 153.17591992,\n",
       "       152.41705054, 153.06751001, 152.63387036, 153.39273974,\n",
       "       154.36842895, 153.66376452, 153.98899426, 153.66376452,\n",
       "       152.20023071, 152.14602576, 153.28432983, 153.01330505,\n",
       "       153.9347893 , 153.17591992, 152.25443567, 152.20023071,\n",
       "       154.74786364, 153.17591992, 154.69365868, 153.77217443,\n",
       "       153.50114965, 154.58524877, 153.88058434, 152.95910009,\n",
       "       153.60955956, 153.28432983, 152.74228027, 154.53104381,\n",
       "       154.20581408, 153.66376452, 152.14602576, 151.6039762 ,\n",
       "       154.26001903, 153.4469447 , 153.50114965, 151.6039762 ,\n",
       "       153.71796948, 153.66376452, 153.60955956, 152.74228027,\n",
       "       154.26001903, 153.23012487, 153.71796948, 154.09740417,\n",
       "       153.71796948, 153.06751001, 154.15160912, 153.28432983,\n",
       "       153.28432983, 153.60955956, 153.23012487, 152.90489514,\n",
       "       152.95910009, 152.95910009, 152.85069018, 154.4226339 ,\n",
       "       153.23012487, 152.79648523, 153.23012487, 153.12171496,\n",
       "       154.47683886, 153.01330505, 153.82637939, 154.85627355,\n",
       "       153.17591992, 152.90489514, 153.33853479, 152.95910009,\n",
       "       153.66376452, 153.60955956, 152.41705054, 154.36842895,\n",
       "       153.9347893 , 152.63387036, 153.28432983, 153.66376452,\n",
       "       153.06751001, 152.74228027, 152.25443567, 153.60955956,\n",
       "       153.06751001, 152.63387036, 154.04319921, 153.28432983,\n",
       "       152.68807531, 152.5796654 , 153.98899426, 153.98899426,\n",
       "       153.82637939, 153.82637939, 152.68807531, 152.85069018,\n",
       "       153.06751001, 153.39273974, 152.36284558, 152.25443567,\n",
       "       153.28432983, 154.04319921, 152.63387036, 153.17591992,\n",
       "       152.5796654 , 152.14602576, 154.80206859, 154.31422399,\n",
       "       153.82637939, 152.47125549, 152.36284558, 153.01330505,\n",
       "       153.28432983, 153.88058434, 152.25443567, 152.52546045,\n",
       "       153.88058434, 152.85069018, 152.90489514, 153.17591992,\n",
       "       153.98899426, 152.79648523, 152.20023071, 152.63387036,\n",
       "       154.20581408, 152.68807531, 152.20023071, 153.28432983,\n",
       "       153.06751001, 153.60955956, 154.04319921, 153.66376452,\n",
       "       152.52546045, 154.15160912, 153.23012487, 153.9347893 ,\n",
       "       153.88058434, 153.17591992, 153.17591992, 153.33853479,\n",
       "       153.33853479, 152.68807531, 153.55535461, 153.01330505,\n",
       "       153.17591992, 153.55535461, 154.36842895, 153.50114965,\n",
       "       154.85627355, 152.90489514, 152.41705054, 152.79648523,\n",
       "       152.20023071, 152.63387036, 152.25443567, 152.52546045,\n",
       "       153.9347893 , 153.01330505, 154.26001903, 153.01330505,\n",
       "       152.20023071, 152.5796654 , 152.79648523, 153.06751001,\n",
       "       154.58524877, 154.15160912, 151.82079602, 152.74228027,\n",
       "       152.90489514, 152.47125549, 151.98341089, 152.0918208 ,\n",
       "       153.88058434, 153.60955956, 153.12171496, 152.74228027,\n",
       "       153.01330505, 153.33853479, 153.66376452, 153.33853479,\n",
       "       153.4469447 , 152.90489514, 153.23012487, 152.79648523,\n",
       "       154.09740417, 153.12171496, 152.5796654 , 153.55535461,\n",
       "       153.01330505, 153.06751001, 152.14602576, 153.60955956,\n",
       "       153.71796948, 153.55535461, 151.92920593, 153.39273974,\n",
       "       154.04319921, 152.47125549, 154.09740417, 153.66376452,\n",
       "       153.28432983, 152.36284558, 153.39273974, 153.06751001,\n",
       "       153.39273974, 153.98899426, 152.63387036, 154.31422399,\n",
       "       152.36284558, 153.55535461, 154.85627355, 154.04319921,\n",
       "       152.68807531, 154.09740417, 153.33853479, 152.52546045,\n",
       "       153.28432983, 153.33853479, 152.95910009, 154.04319921,\n",
       "       152.25443567, 152.25443567, 153.39273974, 153.12171496,\n",
       "       152.25443567, 152.95910009, 153.17591992, 154.69365868,\n",
       "       153.9347893 , 153.60955956, 152.68807531, 153.88058434,\n",
       "       153.33853479, 154.04319921, 152.30864062, 154.09740417,\n",
       "       154.31422399, 154.04319921, 154.04319921, 152.63387036,\n",
       "       153.55535461, 152.5796654 , 152.68807531, 153.77217443,\n",
       "       152.41705054, 152.63387036, 153.12171496, 153.01330505,\n",
       "       152.79648523, 153.66376452, 152.25443567, 152.5796654 ,\n",
       "       152.5796654 , 152.85069018, 153.01330505, 153.66376452,\n",
       "       152.68807531, 153.23012487, 154.63945373, 153.33853479,\n",
       "       153.39273974, 153.01330505, 153.06751001, 152.95910009,\n",
       "       152.90489514, 153.01330505, 153.39273974])"
      ]
     },
     "execution_count": 106,
     "metadata": {},
     "output_type": "execute_result"
    }
   ],
   "source": [
    "ans = predict(x_test_1,m,c)\n",
    "ans"
   ]
  },
  {
   "cell_type": "code",
   "execution_count": 109,
   "id": "94205083",
   "metadata": {},
   "outputs": [
    {
     "ename": "TypeError",
     "evalue": "sum() takes at least 1 positional argument (0 given)",
     "output_type": "error",
     "traceback": [
      "\u001b[1;31m---------------------------------------------------------------------------\u001b[0m",
      "\u001b[1;31mTypeError\u001b[0m                                 Traceback (most recent call last)",
      "\u001b[1;32m<ipython-input-109-189003c679f1>\u001b[0m in \u001b[0;36m<module>\u001b[1;34m\u001b[0m\n\u001b[1;32m----> 1\u001b[1;33m \u001b[0mscore_ans\u001b[0m \u001b[1;33m=\u001b[0m \u001b[0mscore\u001b[0m\u001b[1;33m(\u001b[0m\u001b[0mx_test_1\u001b[0m\u001b[1;33m,\u001b[0m\u001b[0mans\u001b[0m\u001b[1;33m)\u001b[0m\u001b[1;33m\u001b[0m\u001b[1;33m\u001b[0m\u001b[0m\n\u001b[0m\u001b[0;32m      2\u001b[0m \u001b[0mscore_ans\u001b[0m\u001b[1;33m\u001b[0m\u001b[1;33m\u001b[0m\u001b[0m\n",
      "\u001b[1;32m<ipython-input-96-46acd3a3ce2a>\u001b[0m in \u001b[0;36mscore\u001b[1;34m(y_truth, y_predict)\u001b[0m\n\u001b[0;32m      1\u001b[0m \u001b[1;32mdef\u001b[0m \u001b[0mscore\u001b[0m\u001b[1;33m(\u001b[0m\u001b[0my_truth\u001b[0m\u001b[1;33m,\u001b[0m\u001b[0my_predict\u001b[0m\u001b[1;33m)\u001b[0m\u001b[1;33m:\u001b[0m\u001b[1;33m\u001b[0m\u001b[1;33m\u001b[0m\u001b[0m\n\u001b[1;32m----> 2\u001b[1;33m     \u001b[0mu\u001b[0m \u001b[1;33m=\u001b[0m \u001b[1;33m(\u001b[0m\u001b[1;33m(\u001b[0m\u001b[0my_truth\u001b[0m \u001b[1;33m-\u001b[0m \u001b[0my_predict\u001b[0m\u001b[1;33m)\u001b[0m \u001b[1;33m**\u001b[0m \u001b[1;36m2\u001b[0m\u001b[1;33m)\u001b[0m\u001b[1;33m,\u001b[0m\u001b[0msum\u001b[0m\u001b[1;33m(\u001b[0m\u001b[1;33m)\u001b[0m\u001b[1;33m\u001b[0m\u001b[1;33m\u001b[0m\u001b[0m\n\u001b[0m\u001b[0;32m      3\u001b[0m     \u001b[0mv\u001b[0m \u001b[1;33m=\u001b[0m \u001b[1;33m(\u001b[0m\u001b[1;33m(\u001b[0m\u001b[0my_truth\u001b[0m \u001b[1;33m-\u001b[0m \u001b[0my_truth\u001b[0m\u001b[1;33m.\u001b[0m\u001b[0mmean\u001b[0m\u001b[1;33m(\u001b[0m\u001b[1;33m)\u001b[0m\u001b[1;33m)\u001b[0m\u001b[1;33m**\u001b[0m\u001b[1;36m2\u001b[0m\u001b[1;33m)\u001b[0m\u001b[1;33m.\u001b[0m\u001b[0msum\u001b[0m\u001b[1;33m(\u001b[0m\u001b[1;33m)\u001b[0m\u001b[1;33m\u001b[0m\u001b[1;33m\u001b[0m\u001b[0m\n\u001b[0;32m      4\u001b[0m     \u001b[0mans\u001b[0m \u001b[1;33m=\u001b[0m \u001b[1;36m1\u001b[0m \u001b[1;33m-\u001b[0m \u001b[0mu\u001b[0m \u001b[1;33m/\u001b[0m \u001b[0mv\u001b[0m\u001b[1;33m\u001b[0m\u001b[1;33m\u001b[0m\u001b[0m\n\u001b[0;32m      5\u001b[0m     \u001b[1;32mreturn\u001b[0m \u001b[0mans\u001b[0m\u001b[1;33m\u001b[0m\u001b[1;33m\u001b[0m\u001b[0m\n",
      "\u001b[1;31mTypeError\u001b[0m: sum() takes at least 1 positional argument (0 given)"
     ]
    }
   ],
   "source": [
    "score_ans = score(x_test_1,ans)\n",
    "score_ans"
   ]
  },
  {
   "cell_type": "code",
   "execution_count": null,
   "id": "3dabb4d7",
   "metadata": {},
   "outputs": [],
   "source": []
  }
 ],
 "metadata": {
  "kernelspec": {
   "display_name": "Python 3",
   "language": "python",
   "name": "python3"
  },
  "language_info": {
   "codemirror_mode": {
    "name": "ipython",
    "version": 3
   },
   "file_extension": ".py",
   "mimetype": "text/x-python",
   "name": "python",
   "nbconvert_exporter": "python",
   "pygments_lexer": "ipython3",
   "version": "3.8.8"
  }
 },
 "nbformat": 4,
 "nbformat_minor": 5
}
